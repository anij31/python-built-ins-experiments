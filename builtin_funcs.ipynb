{
 "cells": [
  {
   "cell_type": "markdown",
   "id": "0889f1bc",
   "metadata": {},
   "source": [
    "##### abs()\n",
    "\n",
    "- Input: Takes in integer, float, complex or any obj with __abs__()\n",
    "- Output: Returns absolute value of a number\n",
    "- Notice abs() returns the magnitude of complex number"
   ]
  },
  {
   "cell_type": "code",
   "execution_count": null,
   "id": "c3bddb00",
   "metadata": {},
   "outputs": [
    {
     "name": "stdout",
     "output_type": "stream",
     "text": [
      "absolute value of integer -12 is 12\n",
      "absolute value of float -12.008 is 12.008\n",
      "absolute value of complex 3 + 2j is 3.605551275463989\n"
     ]
    }
   ],
   "source": [
    "print(f\"absolute value of integer -12 is {abs(-12)}\")\n",
    "print(f\"absolute value of float -12.008 is {abs(-12.008)}\")\n",
    "print(f\"absolute value of complex 3 + 2j is {abs(3 + 2j)}\")"
   ]
  },
  {
   "cell_type": "markdown",
   "id": "7d2d3997",
   "metadata": {},
   "source": [
    "##### ascii()\n",
    "- Input: string\n",
    "- Output: string, but converted to ascii version like é becomes \\xe9"
   ]
  },
  {
   "cell_type": "code",
   "execution_count": 10,
   "id": "e224920f",
   "metadata": {},
   "outputs": [
    {
     "name": "stdout",
     "output_type": "stream",
     "text": [
      "'caf\\xe9'\n"
     ]
    }
   ],
   "source": [
    "print(ascii('café'))"
   ]
  },
  {
   "cell_type": "markdown",
   "id": "829b386d",
   "metadata": {},
   "source": [
    "##### bin()\n",
    "- Input: integer\n",
    "- Output: binary with 0b or -0b prefix for sign"
   ]
  },
  {
   "cell_type": "code",
   "execution_count": 11,
   "id": "076feee1",
   "metadata": {},
   "outputs": [
    {
     "data": {
      "text/plain": [
       "'-0b1011'"
      ]
     },
     "execution_count": 11,
     "metadata": {},
     "output_type": "execute_result"
    }
   ],
   "source": [
    "bin(-11)"
   ]
  },
  {
   "cell_type": "markdown",
   "id": "853795de",
   "metadata": {},
   "source": [
    "##### bool()\n",
    "- Input: Takes in many different types of objects\n",
    "- Output: Returns truthy or falsiness of the object \n",
    "- Documentation is confusing"
   ]
  },
  {
   "cell_type": "code",
   "execution_count": 18,
   "id": "f3672a65",
   "metadata": {},
   "outputs": [
    {
     "name": "stdout",
     "output_type": "stream",
     "text": [
      "in: 1, out: True\n",
      "in: 0, out: False\n",
      "in: 2, out: True\n",
      "in: -4, out: True\n",
      "in: '', out: False\n",
      "in: [12], out: True\n",
      "in: [], out: False\n",
      "in: throwaway, out: True\n"
     ]
    }
   ],
   "source": [
    "print(f\"in: 1, out: {bool(1)}\")\n",
    "print(f\"in: 0, out: {bool(0)}\")\n",
    "print(f\"in: 2, out: {bool(2)}\")\n",
    "print(f\"in: -4, out: {bool(-4)}\")\n",
    "print(f\"in: '', out: {bool('')}\")\n",
    "print(f\"in: [12], out: {bool([12])}\")\n",
    "print(f\"in: [], out: {bool([])}\")\n",
    "\n",
    "throwaway = lambda x: x * 2\n",
    "print(f\"in: throwaway, out: {bool(throwaway)}\")"
   ]
  },
  {
   "cell_type": "markdown",
   "id": "d5ce4fe8",
   "metadata": {},
   "source": []
  },
  {
   "cell_type": "markdown",
   "id": "b540b99a",
   "metadata": {},
   "source": [
    "##### bytes()\n",
    "- Input: Integer, iterable of ints in [0, 255], string + encoding=utf-8\n",
    "- Output: representation"
   ]
  },
  {
   "cell_type": "code",
   "execution_count": 30,
   "id": "cb54ea58",
   "metadata": {},
   "outputs": [
    {
     "name": "stdout",
     "output_type": "stream",
     "text": [
      "int -> b'\\x00\\x00\\x00\\x00'\n",
      "iterable -> b'ABC'\n",
      "string -> b'hello'\n"
     ]
    }
   ],
   "source": [
    "print(f\"int -> {bytes(4)}\")\n",
    "print(f\"iterable -> {bytes([65, 66, 67])}\")\n",
    "print(f\"string -> {bytes(\"hello\", \"utf-8\")}\")"
   ]
  },
  {
   "cell_type": "markdown",
   "id": "0614a470",
   "metadata": {},
   "source": [
    "##### bytearray()\n",
    "- Input: similar as above\n",
    "- Output: Returns a bytearray object"
   ]
  },
  {
   "cell_type": "code",
   "execution_count": 33,
   "id": "f2ed8a1c",
   "metadata": {},
   "outputs": [
    {
     "name": "stdout",
     "output_type": "stream",
     "text": [
      "int array -> bytearray(b'ABC')\n",
      "string -> bytearray(b'loop')\n"
     ]
    }
   ],
   "source": [
    "print(f\"int array -> {bytearray([65, 66, 67])}\")\n",
    "print(f\"string -> {bytearray(\"loop\", 'utf-8')}\")"
   ]
  },
  {
   "cell_type": "markdown",
   "id": "d3f1763f",
   "metadata": {},
   "source": [
    "##### chr()\n",
    "- Input: Integers representing unicode in range 0 through 1,114,111\n",
    "- Output: Gives the actual character\n",
    "- Note: I did not see anything printed between 0 and 33"
   ]
  },
  {
   "cell_type": "code",
   "execution_count": 52,
   "id": "2b225656",
   "metadata": {},
   "outputs": [
    {
     "name": "stdout",
     "output_type": "stream",
     "text": [
      "1 is !\n",
      "100 is d\n",
      "1800 is ܈\n",
      "1114111 is ⮅\n"
     ]
    }
   ],
   "source": [
    "print(f\"1 is {chr(33)}\")\n",
    "print(f\"100 is {chr(100)}\")\n",
    "print(f\"1800 is {chr(1800)}\")\n",
    "print(f\"1114111 is {chr(11141)}\")"
   ]
  },
  {
   "cell_type": "markdown",
   "id": "3e65f169",
   "metadata": {},
   "source": [
    "##### ord()\n",
    "- Input: character string\n",
    "- Ouput: number\n",
    "- Note: opposite of the above"
   ]
  },
  {
   "cell_type": "code",
   "execution_count": 57,
   "id": "2c0ec736",
   "metadata": {},
   "outputs": [
    {
     "name": "stdout",
     "output_type": "stream",
     "text": [
      "b -> 98\n",
      "é -> 233\n",
      "! -> 33\n"
     ]
    }
   ],
   "source": [
    "print(f\"b -> {ord('b')}\")\n",
    "print(f\"é -> {ord('é')}\")\n",
    "print(f\"! -> {ord('!')}\")"
   ]
  },
  {
   "cell_type": "markdown",
   "id": "edd389bc",
   "metadata": {},
   "source": [
    "##### complex()\n",
    "- Input: See the below\n",
    "- Output: Documentation says \"convert a single string or number to a complex number, or create a complex number from real and imaginary parts.\""
   ]
  },
  {
   "cell_type": "code",
   "execution_count": 59,
   "id": "27431eb6",
   "metadata": {},
   "outputs": [
    {
     "name": "stdout",
     "output_type": "stream",
     "text": [
      "(1.23+0j)\n",
      "-4.5j\n",
      "(-1.23+4.5j)\n",
      "(-1.23+4.5j)\n",
      "(-inf+nanj)\n",
      "(1.23+0j)\n",
      "-4.5j\n",
      "(-1.23+4.5j)\n"
     ]
    }
   ],
   "source": [
    "print(f\"{complex('+1.23')}\")\n",
    "print(f\"{complex('-4.5j')}\")\n",
    "print(f\"{complex('-1.23+4.5j')}\")\n",
    "print(f\"{complex('\\t( -1.23+4.5J )\\n')}\")\n",
    "print(f\"{complex('-Infinity+NaNj')}\")\n",
    "\n",
    "print(f\"{complex(1.23)}\")\n",
    "print(f\"{complex(imag=-4.5)}\")\n",
    "print(f\"{complex(-1.23, 4.5)}\")"
   ]
  },
  {
   "cell_type": "markdown",
   "id": "6ab19831",
   "metadata": {},
   "source": [
    "##### dict()\n",
    "- Input: **kwargs, (mapping, **kwargs), and (iterable, **kwarg)\n",
    "- Output: A python dictionary"
   ]
  },
  {
   "cell_type": "code",
   "execution_count": 64,
   "id": "29a151b3",
   "metadata": {},
   "outputs": [
    {
     "name": "stdout",
     "output_type": "stream",
     "text": [
      "empty dictionary -> {}\n",
      "from **kwargs -> {'a': 1, 'b': 2, 'c': 3}\n",
      "from mapping -> {'a': 1, 'b': 2, 'c': 3}\n",
      "from mapping, **kwargs -> dict({'a': 1}, b=2, c=3)\n",
      "from iterable -> {'a': 1, 'b': 2}\n",
      "from iterable, **kwarg -> {'a': 1, 'b': 2, 'c': 3}\n",
      "from iterable using zip -> {'a': 1, 'b': 2}\n",
      "config -> {'host': 'localhost', 'port': 8080}\n"
     ]
    }
   ],
   "source": [
    "print(f\"empty dictionary -> {dict()}\")\n",
    "print(f\"from **kwargs -> {dict(a=1, b=2, c=3)}\")\n",
    "print(f\"from mapping -> {dict({'a': 1, 'b': 2, 'c': 3})}\")\n",
    "print(f\"from mapping, **kwargs -> dict({{'a': 1}}, b=2, c=3)\")\n",
    "\n",
    "print(f\"from iterable -> {dict([('a', 1), ('b', 2)])}\")\n",
    "print(f\"from iterable, **kwarg -> {dict([('a', 1), ('b', 2)], c=3)}\")\n",
    "print(f\"from iterable using zip -> {dict(zip(['a', 'b'], [1, 2]))}\")\n",
    "\n",
    "# Example\n",
    "keys = ['host', 'port']\n",
    "values = ['localhost', 8080]\n",
    "config = dict(zip(keys, values))\n",
    "print(f\"config -> {config}\")"
   ]
  },
  {
   "cell_type": "markdown",
   "id": "a8d2a2fd",
   "metadata": {},
   "source": [
    "##### dir()\n",
    "- Input: Either no input or object like str, module, variable\n",
    "- Output: A list of string of attributes and methods\n",
    "- Note: List attributes and methods of objects"
   ]
  },
  {
   "cell_type": "code",
   "execution_count": 67,
   "id": "1be5124d",
   "metadata": {},
   "outputs": [
    {
     "name": "stdout",
     "output_type": "stream",
     "text": [
      "empty -> ['In', 'Out', '_', '_1', '_11', '_12', '_13', '_16', '_19', '_20', '_21', '_23', '_24', '_25', '_26', '_27', '_31', '_53', '_56', '_6', '_7', '_8', '__', '___', '__builtin__', '__builtins__', '__doc__', '__loader__', '__name__', '__package__', '__spec__', '__vsc_ipynb_file__', '_dh', '_i', '_i1', '_i10', '_i11', '_i12', '_i13', '_i14', '_i15', '_i16', '_i17', '_i18', '_i19', '_i2', '_i20', '_i21', '_i22', '_i23', '_i24', '_i25', '_i26', '_i27', '_i28', '_i29', '_i3', '_i30', '_i31', '_i32', '_i33', '_i34', '_i35', '_i36', '_i37', '_i38', '_i39', '_i4', '_i40', '_i41', '_i42', '_i43', '_i44', '_i45', '_i46', '_i47', '_i48', '_i49', '_i5', '_i50', '_i51', '_i52', '_i53', '_i54', '_i55', '_i56', '_i57', '_i58', '_i59', '_i6', '_i60', '_i61', '_i62', '_i63', '_i64', '_i65', '_i66', '_i67', '_i7', '_i8', '_i9', '_ih', '_ii', '_iii', '_oh', 'config', 'exit', 'get_ipython', 'keys', 'open', 'quit', 'throwaway', 'values']\n",
      "str -> ['__add__', '__class__', '__contains__', '__delattr__', '__dir__', '__doc__', '__eq__', '__format__', '__ge__', '__getattribute__', '__getitem__', '__getnewargs__', '__getstate__', '__gt__', '__hash__', '__init__', '__init_subclass__', '__iter__', '__le__', '__len__', '__lt__', '__mod__', '__mul__', '__ne__', '__new__', '__reduce__', '__reduce_ex__', '__repr__', '__rmod__', '__rmul__', '__setattr__', '__sizeof__', '__str__', '__subclasshook__', 'capitalize', 'casefold', 'center', 'count', 'encode', 'endswith', 'expandtabs', 'find', 'format', 'format_map', 'index', 'isalnum', 'isalpha', 'isascii', 'isdecimal', 'isdigit', 'isidentifier', 'islower', 'isnumeric', 'isprintable', 'isspace', 'istitle', 'isupper', 'join', 'ljust', 'lower', 'lstrip', 'maketrans', 'partition', 'removeprefix', 'removesuffix', 'replace', 'rfind', 'rindex', 'rjust', 'rpartition', 'rsplit', 'rstrip', 'split', 'splitlines', 'startswith', 'strip', 'swapcase', 'title', 'translate', 'upper', 'zfill']\n",
      "int -> ['__abs__', '__add__', '__and__', '__bool__', '__ceil__', '__class__', '__delattr__', '__dir__', '__divmod__', '__doc__', '__eq__', '__float__', '__floor__', '__floordiv__', '__format__', '__ge__', '__getattribute__', '__getnewargs__', '__getstate__', '__gt__', '__hash__', '__index__', '__init__', '__init_subclass__', '__int__', '__invert__', '__le__', '__lshift__', '__lt__', '__mod__', '__mul__', '__ne__', '__neg__', '__new__', '__or__', '__pos__', '__pow__', '__radd__', '__rand__', '__rdivmod__', '__reduce__', '__reduce_ex__', '__repr__', '__rfloordiv__', '__rlshift__', '__rmod__', '__rmul__', '__ror__', '__round__', '__rpow__', '__rrshift__', '__rshift__', '__rsub__', '__rtruediv__', '__rxor__', '__setattr__', '__sizeof__', '__str__', '__sub__', '__subclasshook__', '__truediv__', '__trunc__', '__xor__', 'as_integer_ratio', 'bit_count', 'bit_length', 'conjugate', 'denominator', 'from_bytes', 'imag', 'is_integer', 'numerator', 'real', 'to_bytes']\n",
      "1 -> ['__abs__', '__add__', '__and__', '__bool__', '__ceil__', '__class__', '__delattr__', '__dir__', '__divmod__', '__doc__', '__eq__', '__float__', '__floor__', '__floordiv__', '__format__', '__ge__', '__getattribute__', '__getnewargs__', '__getstate__', '__gt__', '__hash__', '__index__', '__init__', '__init_subclass__', '__int__', '__invert__', '__le__', '__lshift__', '__lt__', '__mod__', '__mul__', '__ne__', '__neg__', '__new__', '__or__', '__pos__', '__pow__', '__radd__', '__rand__', '__rdivmod__', '__reduce__', '__reduce_ex__', '__repr__', '__rfloordiv__', '__rlshift__', '__rmod__', '__rmul__', '__ror__', '__round__', '__rpow__', '__rrshift__', '__rshift__', '__rsub__', '__rtruediv__', '__rxor__', '__setattr__', '__sizeof__', '__str__', '__sub__', '__subclasshook__', '__truediv__', '__trunc__', '__xor__', 'as_integer_ratio', 'bit_count', 'bit_length', 'conjugate', 'denominator', 'from_bytes', 'imag', 'is_integer', 'numerator', 'real', 'to_bytes']\n",
      "something -> ['__add__', '__class__', '__contains__', '__delattr__', '__dir__', '__doc__', '__eq__', '__format__', '__ge__', '__getattribute__', '__getitem__', '__getnewargs__', '__getstate__', '__gt__', '__hash__', '__init__', '__init_subclass__', '__iter__', '__le__', '__len__', '__lt__', '__mod__', '__mul__', '__ne__', '__new__', '__reduce__', '__reduce_ex__', '__repr__', '__rmod__', '__rmul__', '__setattr__', '__sizeof__', '__str__', '__subclasshook__', 'capitalize', 'casefold', 'center', 'count', 'encode', 'endswith', 'expandtabs', 'find', 'format', 'format_map', 'index', 'isalnum', 'isalpha', 'isascii', 'isdecimal', 'isdigit', 'isidentifier', 'islower', 'isnumeric', 'isprintable', 'isspace', 'istitle', 'isupper', 'join', 'ljust', 'lower', 'lstrip', 'maketrans', 'partition', 'removeprefix', 'removesuffix', 'replace', 'rfind', 'rindex', 'rjust', 'rpartition', 'rsplit', 'rstrip', 'split', 'splitlines', 'startswith', 'strip', 'swapcase', 'title', 'translate', 'upper', 'zfill']\n",
      "[] -> ['__add__', '__class__', '__class_getitem__', '__contains__', '__delattr__', '__delitem__', '__dir__', '__doc__', '__eq__', '__format__', '__ge__', '__getattribute__', '__getitem__', '__getstate__', '__gt__', '__hash__', '__iadd__', '__imul__', '__init__', '__init_subclass__', '__iter__', '__le__', '__len__', '__lt__', '__mul__', '__ne__', '__new__', '__reduce__', '__reduce_ex__', '__repr__', '__reversed__', '__rmul__', '__setattr__', '__setitem__', '__sizeof__', '__str__', '__subclasshook__', 'append', 'clear', 'copy', 'count', 'extend', 'index', 'insert', 'pop', 'remove', 'reverse', 'sort']\n"
     ]
    }
   ],
   "source": [
    "print(f\"empty -> {dir()}\")\n",
    "print(f\"str -> {dir(str)}\")\n",
    "print(f\"int -> {dir(int)}\")\n",
    "print(f\"1 -> {dir(1)}\")\n",
    "print(f\"something -> {dir(\"something\")}\")\n",
    "print(f\"[] -> {dir([])}\")"
   ]
  },
  {
   "cell_type": "markdown",
   "id": "3d31a210",
   "metadata": {},
   "source": [
    "##### divmod()\n",
    "- Input: takes two numbers of types integer or float\n",
    "- Output: pair of number representing quotient and remainder"
   ]
  },
  {
   "cell_type": "code",
   "execution_count": 69,
   "id": "5258f927",
   "metadata": {},
   "outputs": [
    {
     "name": "stdout",
     "output_type": "stream",
     "text": [
      "(first, second) - first divided by second -> (quotient, remainder)\n",
      "12, 6 -> (6, 0)\n",
      "199, 11 -> (18, 1)\n",
      "12, 3.4 -> (3.0, 1.8000000000000003)\n",
      "1024, 2 -> (512, 0)\n"
     ]
    }
   ],
   "source": [
    "print(f\"(first, second) - first divided by second -> (quotient, remainder)\")\n",
    "print(f\"12, 6 -> {divmod(12, 2)}\")\n",
    "print(f\"199, 11 -> {divmod(199, 11)}\")\n",
    "print(f\"12, 3.4 -> {divmod(12, 3.4)}\")\n",
    "print(f\"1024, 2 -> {divmod(1024, 2)}\")"
   ]
  },
  {
   "cell_type": "markdown",
   "id": "db1243a8",
   "metadata": {},
   "source": [
    "##### float()\n",
    "- Input: number encased in a string or a number\n",
    "- Ouput: returns a float"
   ]
  },
  {
   "cell_type": "code",
   "execution_count": 74,
   "id": "ae87988e",
   "metadata": {},
   "outputs": [
    {
     "name": "stdout",
     "output_type": "stream",
     "text": [
      "'-0.12' -> -0.12\n",
      "'-12345' -> -12345.0\n",
      "'1e-003' -> 0.001\n",
      "'1e-3' -> 0.001\n",
      "'+1E6' -> 1000000.0\n",
      "'-inf' -> -inf\n",
      "+Infinity -> inf\n",
      "nan -> nan\n",
      "1 -> 1.0\n"
     ]
    }
   ],
   "source": [
    "print(f\"'-0.12' -> {float('-0.12')}\")\n",
    "print(f\"'-12345' -> {float('-12345')}\")\n",
    "print(f\"'1e-003' -> {float('1e-003')}\")\n",
    "print(f\"'1e-3' -> {float('1e-3')}\")\n",
    "print(f\"'+1E6' -> {float('+1E6')}\")\n",
    "print(f\"'-inf' -> {float('-inf')}\")\n",
    "print(f\"+Infinity -> {float('+Infinity')}\")\n",
    "print(f\"nan -> {float('nan')}\")\n",
    "print(f\"1 -> {float(1)}\")"
   ]
  },
  {
   "cell_type": "markdown",
   "id": "fe79827f",
   "metadata": {},
   "source": [
    "##### str()\n",
    "- Input: any object empty or non-empty\n",
    "- Output: returns a string representation of the object"
   ]
  },
  {
   "cell_type": "code",
   "execution_count": 76,
   "id": "646d688b",
   "metadata": {},
   "outputs": [
    {
     "name": "stdout",
     "output_type": "stream",
     "text": [
      "[] -> []\n",
      "[12] -> [12]\n",
      "a -> a\n",
      "1 -> 1\n",
      "None -> None\n"
     ]
    }
   ],
   "source": [
    "print(f\"[] -> {str([])}\")\n",
    "print(f\"[12] -> {str([12])}\")\n",
    "print(f\"a -> {str('a')}\")\n",
    "print(f\"1 -> {str(1)}\")\n",
    "print(f\"None -> {str(None)}\")"
   ]
  },
  {
   "cell_type": "markdown",
   "id": "65eb82f5",
   "metadata": {},
   "source": [
    "##### int()\n",
    "- Input: string, int, float, binary with base, hexa with base\n",
    "- Output: integer"
   ]
  },
  {
   "cell_type": "code",
   "execution_count": 78,
   "id": "df5cb284",
   "metadata": {},
   "outputs": [
    {
     "name": "stdout",
     "output_type": "stream",
     "text": [
      "1.23 -> 1\n",
      "'123' -> 123\n",
      "'FACE' -> 64206\n",
      "'0xFACE' -> 64206\n",
      "'01110011 -> 115'\n"
     ]
    }
   ],
   "source": [
    "print(f\"1.23 -> {int(1.23)}\")\n",
    "print(f\"'123' -> {int('123')}\")\n",
    "print(f\"'FACE' -> {int('FACE', 16)}\")\n",
    "print(f\"'0xFACE' -> {int('0xFACE', 0)}\")\n",
    "print(f\"'01110011 -> {int('01110011', base=2)}'\")"
   ]
  },
  {
   "cell_type": "markdown",
   "id": "c208e41b",
   "metadata": {},
   "source": [
    "##### id()\n",
    "- Input: object\n",
    "- Output: Returns an integer equivalent to a unique memory address of obj"
   ]
  },
  {
   "cell_type": "code",
   "execution_count": 1,
   "id": "9f19ba48",
   "metadata": {},
   "outputs": [
    {
     "data": {
      "text/plain": [
       "140459409199664"
      ]
     },
     "execution_count": 1,
     "metadata": {},
     "output_type": "execute_result"
    }
   ],
   "source": [
    "num = 42\n",
    "id(num)"
   ]
  },
  {
   "cell_type": "markdown",
   "id": "36af2c28",
   "metadata": {},
   "source": [
    "##### min()\n",
    "- Input: iterable with key or not or (arg1, arg2). Keys are callables.\n",
    "- Ouput: whatever satisfies the criteria for minimum"
   ]
  },
  {
   "cell_type": "code",
   "execution_count": 6,
   "id": "c65eabd0",
   "metadata": {},
   "outputs": [
    {
     "name": "stdout",
     "output_type": "stream",
     "text": [
      "min of 5 and 2: 2\n",
      "min of [5, 7, -2, 1]: -2\n",
      "min of (5, 7, -2, 1): -2\n",
      "min of 'a' and  'b': a\n",
      "min of ['apple', 'banana']: apple\n",
      "min default: 0\n"
     ]
    }
   ],
   "source": [
    "print(f\"min of 5 and 2: {min(5, 2)}\")\n",
    "print(f\"min of [5, 7, -2, 1]: {min([5, 7, -2, 1])}\")\n",
    "print(f\"min of (5, 7, -2, 1): {min((5, 7, -2, 1))}\")\n",
    "print(f\"min of 'a' and  'b': {min('a', 'b')}\")\n",
    "print(f\"min of ['apple', 'banana']: {min(['apple', 'banana'], key=len)}\")\n",
    "print(f\"min default: {min([], default=0)}\")"
   ]
  },
  {
   "cell_type": "markdown",
   "id": "a7fcb252",
   "metadata": {},
   "source": [
    "##### max()\n",
    "- Input: iterable with key or not or (arg1, arg2). Keys are callables.\n",
    "- Ouput: whatever satisfies the criteria for minimum"
   ]
  },
  {
   "cell_type": "code",
   "execution_count": 7,
   "id": "41ffbfeb",
   "metadata": {},
   "outputs": [
    {
     "name": "stdout",
     "output_type": "stream",
     "text": [
      "max of 5 and 2: 5\n",
      "max of [5, 7, -2, 1]: 7\n",
      "max of (5, 7, -2, 1): 7\n",
      "max of 'a' and  'b': b\n",
      "max of ['apple', 'banana']: banana\n",
      "max default: 0\n"
     ]
    }
   ],
   "source": [
    "print(f\"max of 5 and 2: {max(5, 2)}\")\n",
    "print(f\"max of [5, 7, -2, 1]: {max([5, 7, -2, 1])}\")\n",
    "print(f\"max of (5, 7, -2, 1): {max((5, 7, -2, 1))}\")\n",
    "print(f\"max of 'a' and  'b': {max('a', 'b')}\")\n",
    "print(f\"max of ['apple', 'banana']: {max(['apple', 'banana'], key=len)}\")\n",
    "print(f\"max default: {max([], default=0)}\")"
   ]
  },
  {
   "cell_type": "code",
   "execution_count": null,
   "id": "be7cf49d",
   "metadata": {},
   "outputs": [],
   "source": []
  }
 ],
 "metadata": {
  "kernelspec": {
   "display_name": ".venv",
   "language": "python",
   "name": "python3"
  },
  "language_info": {
   "codemirror_mode": {
    "name": "ipython",
    "version": 3
   },
   "file_extension": ".py",
   "mimetype": "text/x-python",
   "name": "python",
   "nbconvert_exporter": "python",
   "pygments_lexer": "ipython3",
   "version": "3.13.5"
  }
 },
 "nbformat": 4,
 "nbformat_minor": 5
}
