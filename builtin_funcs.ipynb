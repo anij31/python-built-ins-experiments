{
 "cells": [
  {
   "cell_type": "markdown",
   "id": "0889f1bc",
   "metadata": {},
   "source": [
    "##### abs()\n",
    "\n",
    "- Input: Takes in integer, float, complex or any obj with __abs__()\n",
    "- Output: Returns absolute value of a number\n",
    "- Notice abs() returns the magnitude of complex number"
   ]
  },
  {
   "cell_type": "code",
   "execution_count": null,
   "id": "c3bddb00",
   "metadata": {},
   "outputs": [
    {
     "name": "stdout",
     "output_type": "stream",
     "text": [
      "absolute value of integer -12 is 12\n",
      "absolute value of float -12.008 is 12.008\n",
      "absolute value of complex 3 + 2j is 3.605551275463989\n"
     ]
    }
   ],
   "source": [
    "print(f\"absolute value of integer -12 is {abs(-12)}\")\n",
    "print(f\"absolute value of float -12.008 is {abs(-12.008)}\")\n",
    "print(f\"absolute value of complex 3 + 2j is {abs(3 + 2j)}\")"
   ]
  },
  {
   "cell_type": "markdown",
   "id": "7d2d3997",
   "metadata": {},
   "source": [
    "##### ascii()\n",
    "- Input: string\n",
    "- Output: string, but converted to ascii version like é becomes \\xe9"
   ]
  },
  {
   "cell_type": "code",
   "execution_count": 10,
   "id": "e224920f",
   "metadata": {},
   "outputs": [
    {
     "name": "stdout",
     "output_type": "stream",
     "text": [
      "'caf\\xe9'\n"
     ]
    }
   ],
   "source": [
    "print(ascii('café'))"
   ]
  },
  {
   "cell_type": "markdown",
   "id": "829b386d",
   "metadata": {},
   "source": [
    "##### bin()\n",
    "- Input: integer\n",
    "- Output: binary with 0b or -0b prefix for sign"
   ]
  },
  {
   "cell_type": "code",
   "execution_count": 11,
   "id": "076feee1",
   "metadata": {},
   "outputs": [
    {
     "data": {
      "text/plain": [
       "'-0b1011'"
      ]
     },
     "execution_count": 11,
     "metadata": {},
     "output_type": "execute_result"
    }
   ],
   "source": [
    "bin(-11)"
   ]
  },
  {
   "cell_type": "markdown",
   "id": "853795de",
   "metadata": {},
   "source": [
    "##### bool()\n",
    "- Input: Takes in many different types of objects\n",
    "- Output: Returns truthy or falsiness of the object \n",
    "- Documentation is confusing"
   ]
  },
  {
   "cell_type": "code",
   "execution_count": 18,
   "id": "f3672a65",
   "metadata": {},
   "outputs": [
    {
     "name": "stdout",
     "output_type": "stream",
     "text": [
      "in: 1, out: True\n",
      "in: 0, out: False\n",
      "in: 2, out: True\n",
      "in: -4, out: True\n",
      "in: '', out: False\n",
      "in: [12], out: True\n",
      "in: [], out: False\n",
      "in: throwaway, out: True\n"
     ]
    }
   ],
   "source": [
    "print(f\"in: 1, out: {bool(1)}\")\n",
    "print(f\"in: 0, out: {bool(0)}\")\n",
    "print(f\"in: 2, out: {bool(2)}\")\n",
    "print(f\"in: -4, out: {bool(-4)}\")\n",
    "print(f\"in: '', out: {bool('')}\")\n",
    "print(f\"in: [12], out: {bool([12])}\")\n",
    "print(f\"in: [], out: {bool([])}\")\n",
    "\n",
    "throwaway = lambda x: x * 2\n",
    "print(f\"in: throwaway, out: {bool(throwaway)}\")"
   ]
  },
  {
   "cell_type": "markdown",
   "id": "d5ce4fe8",
   "metadata": {},
   "source": []
  },
  {
   "cell_type": "markdown",
   "id": "b540b99a",
   "metadata": {},
   "source": [
    "##### bytes()\n",
    "- Input: Integer, iterable of ints in [0, 255], string + encoding=utf-8\n",
    "- Output: representation"
   ]
  },
  {
   "cell_type": "code",
   "execution_count": 30,
   "id": "cb54ea58",
   "metadata": {},
   "outputs": [
    {
     "name": "stdout",
     "output_type": "stream",
     "text": [
      "int -> b'\\x00\\x00\\x00\\x00'\n",
      "iterable -> b'ABC'\n",
      "string -> b'hello'\n"
     ]
    }
   ],
   "source": [
    "print(f\"int -> {bytes(4)}\")\n",
    "print(f\"iterable -> {bytes([65, 66, 67])}\")\n",
    "print(f\"string -> {bytes(\"hello\", \"utf-8\")}\")"
   ]
  },
  {
   "cell_type": "code",
   "execution_count": null,
   "id": "f2ed8a1c",
   "metadata": {},
   "outputs": [],
   "source": []
  },
  {
   "cell_type": "code",
   "execution_count": null,
   "id": "2b225656",
   "metadata": {},
   "outputs": [],
   "source": []
  }
 ],
 "metadata": {
  "kernelspec": {
   "display_name": ".venv",
   "language": "python",
   "name": "python3"
  },
  "language_info": {
   "codemirror_mode": {
    "name": "ipython",
    "version": 3
   },
   "file_extension": ".py",
   "mimetype": "text/x-python",
   "name": "python",
   "nbconvert_exporter": "python",
   "pygments_lexer": "ipython3",
   "version": "3.13.5"
  }
 },
 "nbformat": 4,
 "nbformat_minor": 5
}
