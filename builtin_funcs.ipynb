{
 "cells": [
  {
   "cell_type": "markdown",
   "id": "0889f1bc",
   "metadata": {},
   "source": [
    "##### abs()\n",
    "\n",
    "- Input: Takes in integer, float, complex or any obj with __abs__()\n",
    "- Output: Returns absolute value of a number\n",
    "- Notice abs() returns the magnitude of complex number"
   ]
  },
  {
   "cell_type": "code",
   "execution_count": null,
   "id": "c3bddb00",
   "metadata": {},
   "outputs": [
    {
     "name": "stdout",
     "output_type": "stream",
     "text": [
      "absolute value of integer -12 is 12\n",
      "absolute value of float -12.008 is 12.008\n",
      "absolute value of complex 3 + 2j is 3.605551275463989\n"
     ]
    }
   ],
   "source": [
    "print(f\"absolute value of integer -12 is {abs(-12)}\")\n",
    "print(f\"absolute value of float -12.008 is {abs(-12.008)}\")\n",
    "print(f\"absolute value of complex 3 + 2j is {abs(3 + 2j)}\")"
   ]
  },
  {
   "cell_type": "markdown",
   "id": "7d2d3997",
   "metadata": {},
   "source": [
    "##### ascii()\n",
    "- Input: string\n",
    "- Output: string, but converted to ascii version like é becomes \\xe9"
   ]
  },
  {
   "cell_type": "code",
   "execution_count": 10,
   "id": "e224920f",
   "metadata": {},
   "outputs": [
    {
     "name": "stdout",
     "output_type": "stream",
     "text": [
      "'caf\\xe9'\n"
     ]
    }
   ],
   "source": [
    "print(ascii('café'))"
   ]
  },
  {
   "cell_type": "markdown",
   "id": "829b386d",
   "metadata": {},
   "source": [
    "##### bin()\n",
    "- Input: integer\n",
    "- Output: binary with 0b or -0b prefix for sign"
   ]
  },
  {
   "cell_type": "code",
   "execution_count": 11,
   "id": "076feee1",
   "metadata": {},
   "outputs": [
    {
     "data": {
      "text/plain": [
       "'-0b1011'"
      ]
     },
     "execution_count": 11,
     "metadata": {},
     "output_type": "execute_result"
    }
   ],
   "source": [
    "bin(-11)"
   ]
  },
  {
   "cell_type": "markdown",
   "id": "853795de",
   "metadata": {},
   "source": [
    "##### bool()\n",
    "- Input: Takes in many different types of objects\n",
    "- Output: Returns truthy or falsiness of the object \n",
    "- Documentation is confusing"
   ]
  },
  {
   "cell_type": "code",
   "execution_count": 18,
   "id": "f3672a65",
   "metadata": {},
   "outputs": [
    {
     "name": "stdout",
     "output_type": "stream",
     "text": [
      "in: 1, out: True\n",
      "in: 0, out: False\n",
      "in: 2, out: True\n",
      "in: -4, out: True\n",
      "in: '', out: False\n",
      "in: [12], out: True\n",
      "in: [], out: False\n",
      "in: throwaway, out: True\n"
     ]
    }
   ],
   "source": [
    "print(f\"in: 1, out: {bool(1)}\")\n",
    "print(f\"in: 0, out: {bool(0)}\")\n",
    "print(f\"in: 2, out: {bool(2)}\")\n",
    "print(f\"in: -4, out: {bool(-4)}\")\n",
    "print(f\"in: '', out: {bool('')}\")\n",
    "print(f\"in: [12], out: {bool([12])}\")\n",
    "print(f\"in: [], out: {bool([])}\")\n",
    "\n",
    "throwaway = lambda x: x * 2\n",
    "print(f\"in: throwaway, out: {bool(throwaway)}\")"
   ]
  },
  {
   "cell_type": "markdown",
   "id": "d5ce4fe8",
   "metadata": {},
   "source": []
  },
  {
   "cell_type": "markdown",
   "id": "b540b99a",
   "metadata": {},
   "source": [
    "##### bytes()\n",
    "- Input: Integer, iterable of ints in [0, 255], string + encoding=utf-8\n",
    "- Output: representation"
   ]
  },
  {
   "cell_type": "code",
   "execution_count": 30,
   "id": "cb54ea58",
   "metadata": {},
   "outputs": [
    {
     "name": "stdout",
     "output_type": "stream",
     "text": [
      "int -> b'\\x00\\x00\\x00\\x00'\n",
      "iterable -> b'ABC'\n",
      "string -> b'hello'\n"
     ]
    }
   ],
   "source": [
    "print(f\"int -> {bytes(4)}\")\n",
    "print(f\"iterable -> {bytes([65, 66, 67])}\")\n",
    "print(f\"string -> {bytes(\"hello\", \"utf-8\")}\")"
   ]
  },
  {
   "cell_type": "markdown",
   "id": "0614a470",
   "metadata": {},
   "source": [
    "##### bytearray()\n",
    "- Input: similar as above\n",
    "- Output: Returns a bytearray object"
   ]
  },
  {
   "cell_type": "code",
   "execution_count": 33,
   "id": "f2ed8a1c",
   "metadata": {},
   "outputs": [
    {
     "name": "stdout",
     "output_type": "stream",
     "text": [
      "int array -> bytearray(b'ABC')\n",
      "string -> bytearray(b'loop')\n"
     ]
    }
   ],
   "source": [
    "print(f\"int array -> {bytearray([65, 66, 67])}\")\n",
    "print(f\"string -> {bytearray(\"loop\", 'utf-8')}\")"
   ]
  },
  {
   "cell_type": "markdown",
   "id": "d3f1763f",
   "metadata": {},
   "source": [
    "##### chr()\n",
    "- Input: Integers representing unicode in range 0 through 1,114,111\n",
    "- Output: Gives the actual character\n",
    "- Note: I did not see anything printed between 0 and 33"
   ]
  },
  {
   "cell_type": "code",
   "execution_count": 52,
   "id": "2b225656",
   "metadata": {},
   "outputs": [
    {
     "name": "stdout",
     "output_type": "stream",
     "text": [
      "1 is !\n",
      "100 is d\n",
      "1800 is ܈\n",
      "1114111 is ⮅\n"
     ]
    }
   ],
   "source": [
    "print(f\"1 is {chr(33)}\")\n",
    "print(f\"100 is {chr(100)}\")\n",
    "print(f\"1800 is {chr(1800)}\")\n",
    "print(f\"1114111 is {chr(11141)}\")"
   ]
  },
  {
   "cell_type": "markdown",
   "id": "3e65f169",
   "metadata": {},
   "source": [
    "##### ord()\n",
    "- Input: character string\n",
    "- Ouput: number\n",
    "- Note: opposite of the above"
   ]
  },
  {
   "cell_type": "code",
   "execution_count": 57,
   "id": "2c0ec736",
   "metadata": {},
   "outputs": [
    {
     "name": "stdout",
     "output_type": "stream",
     "text": [
      "b -> 98\n",
      "é -> 233\n",
      "! -> 33\n"
     ]
    }
   ],
   "source": [
    "print(f\"b -> {ord('b')}\")\n",
    "print(f\"é -> {ord('é')}\")\n",
    "print(f\"! -> {ord('!')}\")"
   ]
  },
  {
   "cell_type": "markdown",
   "id": "edd389bc",
   "metadata": {},
   "source": [
    "##### complex()\n",
    "- Input: See the below\n",
    "- Output: Documentation says \"convert a single string or number to a complex number, or create a complex number from real and imaginary parts.\""
   ]
  },
  {
   "cell_type": "code",
   "execution_count": 59,
   "id": "27431eb6",
   "metadata": {},
   "outputs": [
    {
     "name": "stdout",
     "output_type": "stream",
     "text": [
      "(1.23+0j)\n",
      "-4.5j\n",
      "(-1.23+4.5j)\n",
      "(-1.23+4.5j)\n",
      "(-inf+nanj)\n",
      "(1.23+0j)\n",
      "-4.5j\n",
      "(-1.23+4.5j)\n"
     ]
    }
   ],
   "source": [
    "print(f\"{complex('+1.23')}\")\n",
    "print(f\"{complex('-4.5j')}\")\n",
    "print(f\"{complex('-1.23+4.5j')}\")\n",
    "print(f\"{complex('\\t( -1.23+4.5J )\\n')}\")\n",
    "print(f\"{complex('-Infinity+NaNj')}\")\n",
    "\n",
    "print(f\"{complex(1.23)}\")\n",
    "print(f\"{complex(imag=-4.5)}\")\n",
    "print(f\"{complex(-1.23, 4.5)}\")"
   ]
  },
  {
   "cell_type": "markdown",
   "id": "6ab19831",
   "metadata": {},
   "source": [
    "##### dict()\n",
    "- Input: **kwargs, (mapping, **kwargs), and (iterable, **kwarg)\n",
    "- Output: A python dictionary"
   ]
  },
  {
   "cell_type": "code",
   "execution_count": 64,
   "id": "29a151b3",
   "metadata": {},
   "outputs": [
    {
     "name": "stdout",
     "output_type": "stream",
     "text": [
      "empty dictionary -> {}\n",
      "from **kwargs -> {'a': 1, 'b': 2, 'c': 3}\n",
      "from mapping -> {'a': 1, 'b': 2, 'c': 3}\n",
      "from mapping, **kwargs -> dict({'a': 1}, b=2, c=3)\n",
      "from iterable -> {'a': 1, 'b': 2}\n",
      "from iterable, **kwarg -> {'a': 1, 'b': 2, 'c': 3}\n",
      "from iterable using zip -> {'a': 1, 'b': 2}\n",
      "config -> {'host': 'localhost', 'port': 8080}\n"
     ]
    }
   ],
   "source": [
    "print(f\"empty dictionary -> {dict()}\")\n",
    "print(f\"from **kwargs -> {dict(a=1, b=2, c=3)}\")\n",
    "print(f\"from mapping -> {dict({'a': 1, 'b': 2, 'c': 3})}\")\n",
    "print(f\"from mapping, **kwargs -> dict({{'a': 1}}, b=2, c=3)\")\n",
    "\n",
    "print(f\"from iterable -> {dict([('a', 1), ('b', 2)])}\")\n",
    "print(f\"from iterable, **kwarg -> {dict([('a', 1), ('b', 2)], c=3)}\")\n",
    "print(f\"from iterable using zip -> {dict(zip(['a', 'b'], [1, 2]))}\")\n",
    "\n",
    "# Example\n",
    "keys = ['host', 'port']\n",
    "values = ['localhost', 8080]\n",
    "config = dict(zip(keys, values))\n",
    "print(f\"config -> {config}\")"
   ]
  },
  {
   "cell_type": "markdown",
   "id": "a8d2a2fd",
   "metadata": {},
   "source": [
    "##### dir()\n",
    "- Input: Either no input or object like str, module, variable\n",
    "- Output: A list of string of attributes and methods\n",
    "- Note: List attributes and methods of objects"
   ]
  },
  {
   "cell_type": "code",
   "execution_count": 67,
   "id": "1be5124d",
   "metadata": {},
   "outputs": [
    {
     "name": "stdout",
     "output_type": "stream",
     "text": [
      "empty -> ['In', 'Out', '_', '_1', '_11', '_12', '_13', '_16', '_19', '_20', '_21', '_23', '_24', '_25', '_26', '_27', '_31', '_53', '_56', '_6', '_7', '_8', '__', '___', '__builtin__', '__builtins__', '__doc__', '__loader__', '__name__', '__package__', '__spec__', '__vsc_ipynb_file__', '_dh', '_i', '_i1', '_i10', '_i11', '_i12', '_i13', '_i14', '_i15', '_i16', '_i17', '_i18', '_i19', '_i2', '_i20', '_i21', '_i22', '_i23', '_i24', '_i25', '_i26', '_i27', '_i28', '_i29', '_i3', '_i30', '_i31', '_i32', '_i33', '_i34', '_i35', '_i36', '_i37', '_i38', '_i39', '_i4', '_i40', '_i41', '_i42', '_i43', '_i44', '_i45', '_i46', '_i47', '_i48', '_i49', '_i5', '_i50', '_i51', '_i52', '_i53', '_i54', '_i55', '_i56', '_i57', '_i58', '_i59', '_i6', '_i60', '_i61', '_i62', '_i63', '_i64', '_i65', '_i66', '_i67', '_i7', '_i8', '_i9', '_ih', '_ii', '_iii', '_oh', 'config', 'exit', 'get_ipython', 'keys', 'open', 'quit', 'throwaway', 'values']\n",
      "str -> ['__add__', '__class__', '__contains__', '__delattr__', '__dir__', '__doc__', '__eq__', '__format__', '__ge__', '__getattribute__', '__getitem__', '__getnewargs__', '__getstate__', '__gt__', '__hash__', '__init__', '__init_subclass__', '__iter__', '__le__', '__len__', '__lt__', '__mod__', '__mul__', '__ne__', '__new__', '__reduce__', '__reduce_ex__', '__repr__', '__rmod__', '__rmul__', '__setattr__', '__sizeof__', '__str__', '__subclasshook__', 'capitalize', 'casefold', 'center', 'count', 'encode', 'endswith', 'expandtabs', 'find', 'format', 'format_map', 'index', 'isalnum', 'isalpha', 'isascii', 'isdecimal', 'isdigit', 'isidentifier', 'islower', 'isnumeric', 'isprintable', 'isspace', 'istitle', 'isupper', 'join', 'ljust', 'lower', 'lstrip', 'maketrans', 'partition', 'removeprefix', 'removesuffix', 'replace', 'rfind', 'rindex', 'rjust', 'rpartition', 'rsplit', 'rstrip', 'split', 'splitlines', 'startswith', 'strip', 'swapcase', 'title', 'translate', 'upper', 'zfill']\n",
      "int -> ['__abs__', '__add__', '__and__', '__bool__', '__ceil__', '__class__', '__delattr__', '__dir__', '__divmod__', '__doc__', '__eq__', '__float__', '__floor__', '__floordiv__', '__format__', '__ge__', '__getattribute__', '__getnewargs__', '__getstate__', '__gt__', '__hash__', '__index__', '__init__', '__init_subclass__', '__int__', '__invert__', '__le__', '__lshift__', '__lt__', '__mod__', '__mul__', '__ne__', '__neg__', '__new__', '__or__', '__pos__', '__pow__', '__radd__', '__rand__', '__rdivmod__', '__reduce__', '__reduce_ex__', '__repr__', '__rfloordiv__', '__rlshift__', '__rmod__', '__rmul__', '__ror__', '__round__', '__rpow__', '__rrshift__', '__rshift__', '__rsub__', '__rtruediv__', '__rxor__', '__setattr__', '__sizeof__', '__str__', '__sub__', '__subclasshook__', '__truediv__', '__trunc__', '__xor__', 'as_integer_ratio', 'bit_count', 'bit_length', 'conjugate', 'denominator', 'from_bytes', 'imag', 'is_integer', 'numerator', 'real', 'to_bytes']\n",
      "1 -> ['__abs__', '__add__', '__and__', '__bool__', '__ceil__', '__class__', '__delattr__', '__dir__', '__divmod__', '__doc__', '__eq__', '__float__', '__floor__', '__floordiv__', '__format__', '__ge__', '__getattribute__', '__getnewargs__', '__getstate__', '__gt__', '__hash__', '__index__', '__init__', '__init_subclass__', '__int__', '__invert__', '__le__', '__lshift__', '__lt__', '__mod__', '__mul__', '__ne__', '__neg__', '__new__', '__or__', '__pos__', '__pow__', '__radd__', '__rand__', '__rdivmod__', '__reduce__', '__reduce_ex__', '__repr__', '__rfloordiv__', '__rlshift__', '__rmod__', '__rmul__', '__ror__', '__round__', '__rpow__', '__rrshift__', '__rshift__', '__rsub__', '__rtruediv__', '__rxor__', '__setattr__', '__sizeof__', '__str__', '__sub__', '__subclasshook__', '__truediv__', '__trunc__', '__xor__', 'as_integer_ratio', 'bit_count', 'bit_length', 'conjugate', 'denominator', 'from_bytes', 'imag', 'is_integer', 'numerator', 'real', 'to_bytes']\n",
      "something -> ['__add__', '__class__', '__contains__', '__delattr__', '__dir__', '__doc__', '__eq__', '__format__', '__ge__', '__getattribute__', '__getitem__', '__getnewargs__', '__getstate__', '__gt__', '__hash__', '__init__', '__init_subclass__', '__iter__', '__le__', '__len__', '__lt__', '__mod__', '__mul__', '__ne__', '__new__', '__reduce__', '__reduce_ex__', '__repr__', '__rmod__', '__rmul__', '__setattr__', '__sizeof__', '__str__', '__subclasshook__', 'capitalize', 'casefold', 'center', 'count', 'encode', 'endswith', 'expandtabs', 'find', 'format', 'format_map', 'index', 'isalnum', 'isalpha', 'isascii', 'isdecimal', 'isdigit', 'isidentifier', 'islower', 'isnumeric', 'isprintable', 'isspace', 'istitle', 'isupper', 'join', 'ljust', 'lower', 'lstrip', 'maketrans', 'partition', 'removeprefix', 'removesuffix', 'replace', 'rfind', 'rindex', 'rjust', 'rpartition', 'rsplit', 'rstrip', 'split', 'splitlines', 'startswith', 'strip', 'swapcase', 'title', 'translate', 'upper', 'zfill']\n",
      "[] -> ['__add__', '__class__', '__class_getitem__', '__contains__', '__delattr__', '__delitem__', '__dir__', '__doc__', '__eq__', '__format__', '__ge__', '__getattribute__', '__getitem__', '__getstate__', '__gt__', '__hash__', '__iadd__', '__imul__', '__init__', '__init_subclass__', '__iter__', '__le__', '__len__', '__lt__', '__mul__', '__ne__', '__new__', '__reduce__', '__reduce_ex__', '__repr__', '__reversed__', '__rmul__', '__setattr__', '__setitem__', '__sizeof__', '__str__', '__subclasshook__', 'append', 'clear', 'copy', 'count', 'extend', 'index', 'insert', 'pop', 'remove', 'reverse', 'sort']\n"
     ]
    }
   ],
   "source": [
    "print(f\"empty -> {dir()}\")\n",
    "print(f\"str -> {dir(str)}\")\n",
    "print(f\"int -> {dir(int)}\")\n",
    "print(f\"1 -> {dir(1)}\")\n",
    "print(f\"something -> {dir(\"something\")}\")\n",
    "print(f\"[] -> {dir([])}\")"
   ]
  },
  {
   "cell_type": "markdown",
   "id": "3d31a210",
   "metadata": {},
   "source": [
    "##### divmod()\n",
    "- Input: takes two numbers of types integer or float\n",
    "- Output: pair of number representing quotient and remainder"
   ]
  },
  {
   "cell_type": "code",
   "execution_count": 69,
   "id": "5258f927",
   "metadata": {},
   "outputs": [
    {
     "name": "stdout",
     "output_type": "stream",
     "text": [
      "(first, second) - first divided by second -> (quotient, remainder)\n",
      "12, 6 -> (6, 0)\n",
      "199, 11 -> (18, 1)\n",
      "12, 3.4 -> (3.0, 1.8000000000000003)\n",
      "1024, 2 -> (512, 0)\n"
     ]
    }
   ],
   "source": [
    "print(f\"(first, second) - first divided by second -> (quotient, remainder)\")\n",
    "print(f\"12, 6 -> {divmod(12, 2)}\")\n",
    "print(f\"199, 11 -> {divmod(199, 11)}\")\n",
    "print(f\"12, 3.4 -> {divmod(12, 3.4)}\")\n",
    "print(f\"1024, 2 -> {divmod(1024, 2)}\")"
   ]
  },
  {
   "cell_type": "markdown",
   "id": "db1243a8",
   "metadata": {},
   "source": [
    "##### float()\n",
    "- Input: number encased in a string or a number\n",
    "- Ouput: returns a float"
   ]
  },
  {
   "cell_type": "code",
   "execution_count": 74,
   "id": "ae87988e",
   "metadata": {},
   "outputs": [
    {
     "name": "stdout",
     "output_type": "stream",
     "text": [
      "'-0.12' -> -0.12\n",
      "'-12345' -> -12345.0\n",
      "'1e-003' -> 0.001\n",
      "'1e-3' -> 0.001\n",
      "'+1E6' -> 1000000.0\n",
      "'-inf' -> -inf\n",
      "+Infinity -> inf\n",
      "nan -> nan\n",
      "1 -> 1.0\n"
     ]
    }
   ],
   "source": [
    "print(f\"'-0.12' -> {float('-0.12')}\")\n",
    "print(f\"'-12345' -> {float('-12345')}\")\n",
    "print(f\"'1e-003' -> {float('1e-003')}\")\n",
    "print(f\"'1e-3' -> {float('1e-3')}\")\n",
    "print(f\"'+1E6' -> {float('+1E6')}\")\n",
    "print(f\"'-inf' -> {float('-inf')}\")\n",
    "print(f\"+Infinity -> {float('+Infinity')}\")\n",
    "print(f\"nan -> {float('nan')}\")\n",
    "print(f\"1 -> {float(1)}\")"
   ]
  },
  {
   "cell_type": "markdown",
   "id": "fe79827f",
   "metadata": {},
   "source": [
    "##### str()\n",
    "- Input: any object empty or non-empty\n",
    "- Output: returns a string representation of the object"
   ]
  },
  {
   "cell_type": "code",
   "execution_count": 76,
   "id": "646d688b",
   "metadata": {},
   "outputs": [
    {
     "name": "stdout",
     "output_type": "stream",
     "text": [
      "[] -> []\n",
      "[12] -> [12]\n",
      "a -> a\n",
      "1 -> 1\n",
      "None -> None\n"
     ]
    }
   ],
   "source": [
    "print(f\"[] -> {str([])}\")\n",
    "print(f\"[12] -> {str([12])}\")\n",
    "print(f\"a -> {str('a')}\")\n",
    "print(f\"1 -> {str(1)}\")\n",
    "print(f\"None -> {str(None)}\")"
   ]
  },
  {
   "cell_type": "markdown",
   "id": "65eb82f5",
   "metadata": {},
   "source": [
    "##### int()\n",
    "- Input: string, int, float, binary with base, hexa with base\n",
    "- Output: integer"
   ]
  },
  {
   "cell_type": "code",
   "execution_count": 78,
   "id": "df5cb284",
   "metadata": {},
   "outputs": [
    {
     "name": "stdout",
     "output_type": "stream",
     "text": [
      "1.23 -> 1\n",
      "'123' -> 123\n",
      "'FACE' -> 64206\n",
      "'0xFACE' -> 64206\n",
      "'01110011 -> 115'\n"
     ]
    }
   ],
   "source": [
    "print(f\"1.23 -> {int(1.23)}\")\n",
    "print(f\"'123' -> {int('123')}\")\n",
    "print(f\"'FACE' -> {int('FACE', 16)}\")\n",
    "print(f\"'0xFACE' -> {int('0xFACE', 0)}\")\n",
    "print(f\"'01110011 -> {int('01110011', base=2)}'\")"
   ]
  },
  {
   "cell_type": "markdown",
   "id": "c208e41b",
   "metadata": {},
   "source": [
    "##### id()\n",
    "- Input: object\n",
    "- Output: Returns an integer equivalent to a unique memory address of obj"
   ]
  },
  {
   "cell_type": "code",
   "execution_count": 1,
   "id": "9f19ba48",
   "metadata": {},
   "outputs": [
    {
     "data": {
      "text/plain": [
       "140459409199664"
      ]
     },
     "execution_count": 1,
     "metadata": {},
     "output_type": "execute_result"
    }
   ],
   "source": [
    "num = 42\n",
    "id(num)"
   ]
  },
  {
   "cell_type": "markdown",
   "id": "36af2c28",
   "metadata": {},
   "source": [
    "##### min()\n",
    "- Input: iterable with key or not or (arg1, arg2). Keys are callables.\n",
    "- Ouput: whatever satisfies the criteria for minimum"
   ]
  },
  {
   "cell_type": "code",
   "execution_count": 6,
   "id": "c65eabd0",
   "metadata": {},
   "outputs": [
    {
     "name": "stdout",
     "output_type": "stream",
     "text": [
      "min of 5 and 2: 2\n",
      "min of [5, 7, -2, 1]: -2\n",
      "min of (5, 7, -2, 1): -2\n",
      "min of 'a' and  'b': a\n",
      "min of ['apple', 'banana']: apple\n",
      "min default: 0\n"
     ]
    }
   ],
   "source": [
    "print(f\"min of 5 and 2: {min(5, 2)}\")\n",
    "print(f\"min of [5, 7, -2, 1]: {min([5, 7, -2, 1])}\")\n",
    "print(f\"min of (5, 7, -2, 1): {min((5, 7, -2, 1))}\")\n",
    "print(f\"min of 'a' and  'b': {min('a', 'b')}\")\n",
    "print(f\"min of ['apple', 'banana']: {min(['apple', 'banana'], key=len)}\")\n",
    "print(f\"min default: {min([], default=0)}\")"
   ]
  },
  {
   "cell_type": "markdown",
   "id": "a7fcb252",
   "metadata": {},
   "source": [
    "##### max()\n",
    "- Input: iterable with key or not or (arg1, arg2). Keys are callables.\n",
    "- Ouput: whatever satisfies the criteria for minimum"
   ]
  },
  {
   "cell_type": "code",
   "execution_count": 7,
   "id": "41ffbfeb",
   "metadata": {},
   "outputs": [
    {
     "name": "stdout",
     "output_type": "stream",
     "text": [
      "max of 5 and 2: 5\n",
      "max of [5, 7, -2, 1]: 7\n",
      "max of (5, 7, -2, 1): 7\n",
      "max of 'a' and  'b': b\n",
      "max of ['apple', 'banana']: banana\n",
      "max default: 0\n"
     ]
    }
   ],
   "source": [
    "print(f\"max of 5 and 2: {max(5, 2)}\")\n",
    "print(f\"max of [5, 7, -2, 1]: {max([5, 7, -2, 1])}\")\n",
    "print(f\"max of (5, 7, -2, 1): {max((5, 7, -2, 1))}\")\n",
    "print(f\"max of 'a' and  'b': {max('a', 'b')}\")\n",
    "print(f\"max of ['apple', 'banana']: {max(['apple', 'banana'], key=len)}\")\n",
    "print(f\"max default: {max([], default=0)}\")"
   ]
  },
  {
   "cell_type": "markdown",
   "id": "afa1ad87",
   "metadata": {},
   "source": [
    "##### sum()\n",
    "- Input: iterable of numbers, optional start param for starting sum not at 0, but another number (but very prone to buugs)\n",
    "- Output: sum of numbers in an iterable"
   ]
  },
  {
   "cell_type": "code",
   "execution_count": 3,
   "id": "be7cf49d",
   "metadata": {},
   "outputs": [
    {
     "name": "stdout",
     "output_type": "stream",
     "text": [
      "sum of [1, 2, 3]: 6\n",
      "sum of [1,2, 3] with sum start = 1: 7\n"
     ]
    }
   ],
   "source": [
    "print(f\"sum of [1, 2, 3]: {sum([1, 2, 3])}\")\n",
    "print(f\"sum of [1,2, 3] with sum start = 1: {sum([1, 2, 3], start=1)}\")"
   ]
  },
  {
   "cell_type": "markdown",
   "id": "5e2ca2e5",
   "metadata": {},
   "source": [
    "##### set()\n",
    "- Input: Takes in an interable\n",
    "- Ouput: returns a set of the iterable"
   ]
  },
  {
   "cell_type": "code",
   "execution_count": 1,
   "id": "0529490c",
   "metadata": {},
   "outputs": [
    {
     "name": "stdout",
     "output_type": "stream",
     "text": [
      "set of [1, 2]: {1, 2}\n",
      "set of (1, 2): {1, 2}\n"
     ]
    }
   ],
   "source": [
    "print(f\"set of [1, 2]: {set([1, 2])}\")\n",
    "print(f\"set of (1, 2): {set((1, 2))}\")"
   ]
  },
  {
   "cell_type": "markdown",
   "id": "c93c7424",
   "metadata": {},
   "source": [
    "##### print()\n",
    "- Input: *objects, sep=' ', end='\\n', file=None, flush=False\n",
    "- Output: written to the text stream (screen or any file)"
   ]
  },
  {
   "cell_type": "code",
   "execution_count": 11,
   "id": "d0419292",
   "metadata": {},
   "outputs": [
    {
     "name": "stdout",
     "output_type": "stream",
     "text": [
      "Hello   World\n",
      "HelloWorld\n",
      "Hello World\n",
      "0123456789\n",
      "0 1 2 3 4 5 6 7 8 9 \n",
      "0\t1\t2\t3\t4\t5\t6\t7\t8\t9\t\n",
      "0---1---2---3---4---5---6---7---8---9---"
     ]
    }
   ],
   "source": [
    "print(\"Hello\", \"World\", sep='   ')\n",
    "print(\"Hello\", \"World\", sep='')\n",
    "print(\"Hello\", \"World\")\n",
    "\n",
    "for i in range(10):\n",
    "    print(i, end='')\n",
    "print()\n",
    "for i in range(10):\n",
    "    print(i, sep='  ', end=' ')\n",
    "print()\n",
    "for i in range(10):\n",
    "    print(i, end='\\t')\n",
    "print()\n",
    "for i in range(10):\n",
    "    print(i, end='---')\n",
    "\n",
    "filename = 'log.txt'\n",
    "with open(filename, 'w') as f:\n",
    "    print(\"Hello, World!\", file=f)\n"
   ]
  },
  {
   "cell_type": "markdown",
   "id": "18253ff3",
   "metadata": {},
   "source": [
    "##### tuple()\n",
    "- Input: any iterable\n",
    "- Ouput: creates tuple"
   ]
  },
  {
   "cell_type": "code",
   "execution_count": 13,
   "id": "dbb335f6",
   "metadata": {},
   "outputs": [
    {
     "name": "stdout",
     "output_type": "stream",
     "text": [
      "tuple this: (1, 3, 5)\n",
      "tuple set: (1, 3, 5, 8, 11)\n"
     ]
    }
   ],
   "source": [
    "print(f\"tuple this: {tuple([1, 3, 5])}\")\n",
    "print(f\"tuple set: {tuple({1, 3, 5, 8, 11})}\")"
   ]
  },
  {
   "cell_type": "markdown",
   "id": "32408d25",
   "metadata": {},
   "source": [
    "##### type()\n",
    "- Input: object\n",
    "- Ouput: the type of object"
   ]
  },
  {
   "cell_type": "code",
   "execution_count": 14,
   "id": "731a5620",
   "metadata": {},
   "outputs": [
    {
     "name": "stdout",
     "output_type": "stream",
     "text": [
      "type of 2: <class 'int'>\n",
      "type of '2': <class 'str'>\n",
      "type of (2, 3): <class 'tuple'>\n",
      "type of set (2, 3): <class 'set'>\n"
     ]
    }
   ],
   "source": [
    "print(f\"type of 2: {type(2)}\")\n",
    "print(f\"type of '2': {type('2')}\")\n",
    "print(f\"type of (2, 3): {type((2, 3))}\")\n",
    "print(f\"type of set (2, 3): {type({2, 3})}\")"
   ]
  },
  {
   "cell_type": "markdown",
   "id": "f8bef36e",
   "metadata": {},
   "source": [
    "##### help()\n",
    "- Input: blank or 'topic', where topic in {module, function, class, keyword, etc}\n",
    "- Output: helpful documentation on the topic or general interactive help"
   ]
  },
  {
   "cell_type": "code",
   "execution_count": 16,
   "id": "45b38e50",
   "metadata": {},
   "outputs": [
    {
     "name": "stdout",
     "output_type": "stream",
     "text": [
      "Help on built-in function isinstance in module builtins:\n",
      "\n",
      "isinstance(obj, class_or_tuple, /)\n",
      "    Return whether an object is an instance of a class or of a subclass thereof.\n",
      "\n",
      "    A tuple, as in ``isinstance(x, (A, B, ...))``, may be given as the target to\n",
      "    check against. This is equivalent to ``isinstance(x, A) or isinstance(x, B)\n",
      "    or ...`` etc.\n",
      "\n",
      "Welcome to Python 3.13's help utility! If this is your first time using\n",
      "Python, you should definitely check out the tutorial at\n",
      "https://docs.python.org/3.13/tutorial/.\n",
      "\n",
      "Enter the name of any module, keyword, or topic to get help on writing\n",
      "Python programs and using Python modules.  To get a list of available\n",
      "modules, keywords, symbols, or topics, enter \"modules\", \"keywords\",\n",
      "\"symbols\", or \"topics\".\n",
      "\n",
      "Each module also comes with a one-line summary of what it does; to list\n",
      "the modules whose name or summary contain a given string such as \"spam\",\n",
      "enter \"modules spam\".\n",
      "\n",
      "To quit this help utility and return to the interpreter,\n",
      "enter \"q\", \"quit\" or \"exit\".\n",
      "\n",
      "\n",
      "You are now leaving help and returning to the Python interpreter.\n",
      "If you want to ask for help on a particular object directly from the\n",
      "interpreter, you can type \"help(object)\".  Executing \"help('string')\"\n",
      "has the same effect as typing a particular string at the help> prompt.\n"
     ]
    }
   ],
   "source": [
    "help('isinstance')\n",
    "help()"
   ]
  },
  {
   "cell_type": "markdown",
   "id": "a8149022",
   "metadata": {},
   "source": [
    "##### input()\n",
    "- Input: blank or some prompt which will be written to the standard output/screen\n",
    "- Output: store it in a variable"
   ]
  },
  {
   "cell_type": "code",
   "execution_count": null,
   "id": "9f063516",
   "metadata": {},
   "outputs": [],
   "source": [
    "# interactive session warning!\n",
    "username = input(\"Username: \")"
   ]
  },
  {
   "cell_type": "markdown",
   "id": "0959f095",
   "metadata": {},
   "source": [
    "##### hex()\n",
    "- Input: integer\n",
    "- Output: hex value"
   ]
  },
  {
   "cell_type": "code",
   "execution_count": 1,
   "id": "99c24c7c",
   "metadata": {},
   "outputs": [
    {
     "name": "stdout",
     "output_type": "stream",
     "text": [
      "0x2a\n",
      "-0x2a\n"
     ]
    }
   ],
   "source": [
    "print(f\"{hex(42)}\")\n",
    "print(f\"{hex(-42)}\")"
   ]
  },
  {
   "cell_type": "markdown",
   "id": "4be0d90e",
   "metadata": {},
   "source": [
    "##### oct()\n",
    "- Input: int\n",
    "- Output: octal value"
   ]
  },
  {
   "cell_type": "code",
   "execution_count": 2,
   "id": "f3851afa",
   "metadata": {},
   "outputs": [
    {
     "name": "stdout",
     "output_type": "stream",
     "text": [
      "0o10\n",
      "0o20\n"
     ]
    }
   ],
   "source": [
    "print(f\"{oct(8)}\")\n",
    "print(f\"{oct(16)}\")"
   ]
  },
  {
   "cell_type": "markdown",
   "id": "922a73aa",
   "metadata": {},
   "source": [
    "##### pow()\n",
    "- Input: base, exponent, mod\n",
    "- Output: int"
   ]
  },
  {
   "cell_type": "code",
   "execution_count": null,
   "id": "48f70e4f",
   "metadata": {},
   "outputs": [
    {
     "name": "stdout",
     "output_type": "stream",
     "text": [
      "32\n",
      "100\n",
      "0\n"
     ]
    }
   ],
   "source": [
    "print(f\"{pow(2, 5)}\")\n",
    "print(f\"{pow(10, 2)}\")\n",
    "print(f\"{pow(10, 2, 2)}\") # 10 ** 2 = 100, 100 % 2 == 0"
   ]
  },
  {
   "cell_type": "markdown",
   "id": "42efe173",
   "metadata": {},
   "source": [
    "##### hash()\n",
    "- Input: immutable objects\n",
    "- Output: integer hash value"
   ]
  },
  {
   "cell_type": "code",
   "execution_count": 7,
   "id": "231f4110",
   "metadata": {},
   "outputs": [
    {
     "name": "stdout",
     "output_type": "stream",
     "text": [
      "42\n",
      "6944024096207336743\n",
      "-1440771752368011620\n"
     ]
    }
   ],
   "source": [
    "print(f\"{hash(42)}\")\n",
    "print(f\"{hash('a')}\")\n",
    "print(f\"{hash((1, 3))}\")"
   ]
  },
  {
   "cell_type": "markdown",
   "id": "f4831ef4",
   "metadata": {},
   "source": [
    "##### map()\n",
    "- Input: apply function to iterable - function, iterable, *iterables\n",
    "- Ouput: iterator"
   ]
  },
  {
   "cell_type": "code",
   "execution_count": 9,
   "id": "027d6a39",
   "metadata": {},
   "outputs": [
    {
     "name": "stdout",
     "output_type": "stream",
     "text": [
      "[1, 4, 9]\n"
     ]
    }
   ],
   "source": [
    "print(f\"{list(map(lambda x: x * x, [1, 2, 3]))}\")"
   ]
  },
  {
   "cell_type": "markdown",
   "id": "6dfb3437",
   "metadata": {},
   "source": [
    "##### type()\n",
    "- Input: object, (class creation type(name, base, dict)) - very strange!\n",
    "- Output: type of object"
   ]
  },
  {
   "cell_type": "code",
   "execution_count": 10,
   "id": "411cd2f6",
   "metadata": {},
   "outputs": [
    {
     "name": "stdout",
     "output_type": "stream",
     "text": [
      "<class 'int'>\n"
     ]
    }
   ],
   "source": [
    "print(type(2))"
   ]
  },
  {
   "cell_type": "markdown",
   "id": "f4ef8d43",
   "metadata": {},
   "source": [
    "#### sorted()\n",
    "- Input: iterable, key, reverse=False\n",
    "- Ouput: sorted list"
   ]
  },
  {
   "cell_type": "code",
   "execution_count": 11,
   "id": "96cea196",
   "metadata": {},
   "outputs": [
    {
     "data": {
      "text/plain": [
       "[1, 3, 6]"
      ]
     },
     "execution_count": 11,
     "metadata": {},
     "output_type": "execute_result"
    }
   ],
   "source": [
    "sorted((3, 6, 1))"
   ]
  },
  {
   "cell_type": "markdown",
   "id": "33c82487",
   "metadata": {},
   "source": [
    "##### filter()\n",
    "- Input: function, iterable\n",
    "- Output: iterator for which a function is true"
   ]
  },
  {
   "cell_type": "code",
   "execution_count": null,
   "id": "46ae8853",
   "metadata": {},
   "outputs": [
    {
     "name": "stdout",
     "output_type": "stream",
     "text": [
      "[2, 4]\n"
     ]
    }
   ],
   "source": [
    "print(f\"{list(filter(lambda x: x % 2 == 0, [1, 2, 3, 4]))}\") # prints evens"
   ]
  },
  {
   "cell_type": "markdown",
   "id": "750cca25",
   "metadata": {},
   "source": [
    "##### hasattr()\n",
    "- Input: object, attribute_name: str\n",
    "- Ouput: boolean"
   ]
  },
  {
   "cell_type": "code",
   "execution_count": 13,
   "id": "986e5846",
   "metadata": {},
   "outputs": [
    {
     "name": "stdout",
     "output_type": "stream",
     "text": [
      "True\n",
      "False\n"
     ]
    }
   ],
   "source": [
    "class A:\n",
    "    x = 5\n",
    "\n",
    "a = A()\n",
    "print(hasattr(a, 'x'))\n",
    "print(hasattr(a, 'y'))"
   ]
  },
  {
   "cell_type": "markdown",
   "id": "ece6f8a8",
   "metadata": {},
   "source": [
    "##### getattr()\n",
    "- Input: object, attribute_name: str, default=None\n",
    "- Output: value"
   ]
  },
  {
   "cell_type": "code",
   "execution_count": 14,
   "id": "a2556ba1",
   "metadata": {},
   "outputs": [
    {
     "name": "stdout",
     "output_type": "stream",
     "text": [
      "5\n",
      "N/A\n"
     ]
    }
   ],
   "source": [
    "print(getattr(a, 'x'))\n",
    "print(getattr(a, 'y', 'N/A'))"
   ]
  },
  {
   "cell_type": "markdown",
   "id": "25210269",
   "metadata": {},
   "source": [
    "##### setattr()\n",
    "- Input: object, attribute_name, value (sets or creates the attribute)\n",
    "- Output: returns None"
   ]
  },
  {
   "cell_type": "code",
   "execution_count": 15,
   "id": "6e1169d2",
   "metadata": {},
   "outputs": [
    {
     "name": "stdout",
     "output_type": "stream",
     "text": [
      "None\n",
      "10\n"
     ]
    }
   ],
   "source": [
    "print(setattr(a, 'x', 10))\n",
    "print(getattr(a, 'x'))"
   ]
  },
  {
   "cell_type": "markdown",
   "id": "364e80ab",
   "metadata": {},
   "source": [
    "##### delattr()\n",
    "- Input: object, attribute_name: str\n",
    "- Output: None"
   ]
  },
  {
   "cell_type": "code",
   "execution_count": 16,
   "id": "3b632254",
   "metadata": {},
   "outputs": [
    {
     "name": "stdout",
     "output_type": "stream",
     "text": [
      "None\n"
     ]
    }
   ],
   "source": [
    "print(delattr(a, 'x'))"
   ]
  },
  {
   "cell_type": "markdown",
   "id": "ac703ffa",
   "metadata": {},
   "source": [
    "##### object()\n",
    "- Input: nothing\n",
    "- Output: creates the most minimal possible object in python"
   ]
  },
  {
   "cell_type": "code",
   "execution_count": 17,
   "id": "fd18811b",
   "metadata": {},
   "outputs": [
    {
     "name": "stdout",
     "output_type": "stream",
     "text": [
      "<class 'object'>\n"
     ]
    }
   ],
   "source": [
    "obj = object()\n",
    "print(type(obj))"
   ]
  },
  {
   "cell_type": "markdown",
   "id": "9c046a09",
   "metadata": {},
   "source": [
    "##### iter()\n",
    "- Input: object\n",
    "- Output: returns an iterator object"
   ]
  },
  {
   "cell_type": "code",
   "execution_count": 18,
   "id": "131af730",
   "metadata": {},
   "outputs": [],
   "source": [
    "lst = [1, 2, 3]\n",
    "it = iter(lst)"
   ]
  },
  {
   "cell_type": "markdown",
   "id": "5baf7d0f",
   "metadata": {},
   "source": [
    "##### next()\n",
    "- Input: iterator object, default (if reaching exhaustion)\n",
    "- Output: the next element"
   ]
  },
  {
   "cell_type": "code",
   "execution_count": 20,
   "id": "4ebee001",
   "metadata": {},
   "outputs": [
    {
     "name": "stdout",
     "output_type": "stream",
     "text": [
      "2\n",
      "3\n"
     ]
    }
   ],
   "source": [
    "print(next(it))\n",
    "print(next(it, 'End'))"
   ]
  },
  {
   "cell_type": "markdown",
   "id": "4245a51e",
   "metadata": {},
   "source": [
    "##### property()\n",
    "- Input: see the example below\n",
    "- Ouput: "
   ]
  },
  {
   "cell_type": "code",
   "execution_count": 22,
   "id": "fe1f6fa8",
   "metadata": {},
   "outputs": [
    {
     "name": "stdout",
     "output_type": "stream",
     "text": [
      "10\n"
     ]
    }
   ],
   "source": [
    "class Sample:\n",
    "    def __init__(self):\n",
    "        self._x = 0\n",
    "\n",
    "    def get_x(self):\n",
    "        return self._x\n",
    "    \n",
    "    def set_x(self, value):\n",
    "        self._x = value\n",
    "\n",
    "    x = property(get_x, set_x)\n",
    "\n",
    "c = Sample()\n",
    "c.x = 10 \n",
    "print(c.x)"
   ]
  },
  {
   "cell_type": "markdown",
   "id": "e2c55ff0",
   "metadata": {},
   "source": [
    "##### callable()\n",
    "- Input: params: object, checks whether an object can be called like a function\n",
    "- Output: boolean"
   ]
  },
  {
   "cell_type": "code",
   "execution_count": 23,
   "id": "01f4aa12",
   "metadata": {},
   "outputs": [
    {
     "name": "stdout",
     "output_type": "stream",
     "text": [
      "True\n",
      "False\n",
      "True\n"
     ]
    }
   ],
   "source": [
    "def foo():\n",
    "    pass\n",
    "\n",
    "print(callable(foo))\n",
    "\n",
    "x = 5\n",
    "print(callable(x))\n",
    "\n",
    "class A:\n",
    "    def __call__(self):\n",
    "        pass\n",
    "\n",
    "a = A()\n",
    "print(callable(a))"
   ]
  },
  {
   "cell_type": "markdown",
   "id": "3e591f88",
   "metadata": {},
   "source": [
    "##### issubclass()\n",
    "- Input: checks if a class is a subclass of another, params: class, parentclass\n",
    "- Output: boolean"
   ]
  },
  {
   "cell_type": "code",
   "execution_count": 25,
   "id": "9b3bd09b",
   "metadata": {},
   "outputs": [
    {
     "name": "stdout",
     "output_type": "stream",
     "text": [
      "True\n",
      "False\n"
     ]
    }
   ],
   "source": [
    "class A:\n",
    "    pass\n",
    "\n",
    "class B(A):\n",
    "    pass\n",
    "\n",
    "print(issubclass(B, A))\n",
    "print(issubclass(A, B))"
   ]
  },
  {
   "cell_type": "markdown",
   "id": "9bc25e45",
   "metadata": {},
   "source": [
    "##### globals()\n",
    "- Input: nothing\n",
    "- Output: returns a dictionary of current module namespace"
   ]
  },
  {
   "cell_type": "code",
   "execution_count": 26,
   "id": "cc109b77",
   "metadata": {},
   "outputs": [
    {
     "data": {
      "text/plain": [
       "{'__name__': '__main__',\n",
       " '__doc__': 'Automatically created module for IPython interactive environment',\n",
       " '__package__': None,\n",
       " '__loader__': None,\n",
       " '__spec__': None,\n",
       " '__builtin__': <module 'builtins' (built-in)>,\n",
       " '__builtins__': <module 'builtins' (built-in)>,\n",
       " '_ih': ['',\n",
       "  'print(f\"{hex(42)}\")\\nprint(f\"{hex(-42)}\")',\n",
       "  'print(f\"{oct(8)}\")\\nprint(f\"{oct(16)}\")',\n",
       "  'print(f\"{pow(2, 5)}\")',\n",
       "  'print(f\"{pow(2, 5)}\")\\nprint(f\"{pow(10, 2)}\")',\n",
       "  'print(f\"{pow(2, 5)}\")\\nprint(f\"{pow(10, 2)}\")\\nprint(f\"{pow(10, 2, 2)}\")',\n",
       "  'print(f\"{hash(42)}\")\\nprint(f\"{hash(\\'a\\')}\")\\nprint(f\"{hash([1, 3])}\")',\n",
       "  'print(f\"{hash(42)}\")\\nprint(f\"{hash(\\'a\\')}\")\\nprint(f\"{hash((1, 3))}\")',\n",
       "  'print(f\"{map(lambda x: x * x, [1, 2, 3])}\")',\n",
       "  'print(f\"{list(map(lambda x: x * x, [1, 2, 3]))}\")',\n",
       "  'print(type(2))',\n",
       "  'sorted((3, 6, 1))',\n",
       "  'print(f\"{list(filter(lambda x: x % 2 == 0, [1, 2, 3, 4]))}\")',\n",
       "  \"class A:\\n    x = 5\\n\\na = A()\\nprint(hasattr(a, 'x'))\\nprint(hasattr(a, 'y'))\",\n",
       "  \"print(getattr(a, 'x'))\\nprint(getattr(a, 'y', 'N/A'))\",\n",
       "  \"print(setattr(a, 'x', 10))\\nprint(getattr(a, 'x'))\",\n",
       "  \"print(delattr(a, 'x'))\",\n",
       "  'obj = object()\\nprint(type(obj))',\n",
       "  'lst = [1, 2, 3]\\nit = iter(lst)',\n",
       "  'print(next(it))',\n",
       "  \"print(next(it))\\nprint(next(it, 'End'))\",\n",
       "  'class c:\\n    def __init__(self):\\n        self._x = 0\\n\\n    def get_x(self):\\n        return self._x\\n\\n    def set_x(self, value):\\n        self._x = value\\n\\n    x = property(get_x, set_x)\\n\\nc = C()\\nc.x = 10 \\nprint(c.x)',\n",
       "  'class Sample:\\n    def __init__(self):\\n        self._x = 0\\n\\n    def get_x(self):\\n        return self._x\\n\\n    def set_x(self, value):\\n        self._x = value\\n\\n    x = property(get_x, set_x)\\n\\nc = Sample()\\nc.x = 10 \\nprint(c.x)',\n",
       "  'def foo():\\n    pass\\n\\nprint(callable(foo))\\n\\nx = 5\\nprint(callable(x))\\n\\nclass A:\\n    def __call__(self):\\n        pass\\n\\na = A()\\nprint(callable(a))',\n",
       "  'class A:\\n    pass\\n\\nclass B(A):\\n    pass\\n\\nprint(issubclass(B, A))',\n",
       "  'class A:\\n    pass\\n\\nclass B(A):\\n    pass\\n\\nprint(issubclass(B, A))\\nprint(issubclass(A, B))',\n",
       "  'globals()'],\n",
       " '_oh': {11: [1, 3, 6]},\n",
       " '_dh': [PosixPath('/home/ani/dev/projects/python-built-ins-experiments')],\n",
       " 'In': ['',\n",
       "  'print(f\"{hex(42)}\")\\nprint(f\"{hex(-42)}\")',\n",
       "  'print(f\"{oct(8)}\")\\nprint(f\"{oct(16)}\")',\n",
       "  'print(f\"{pow(2, 5)}\")',\n",
       "  'print(f\"{pow(2, 5)}\")\\nprint(f\"{pow(10, 2)}\")',\n",
       "  'print(f\"{pow(2, 5)}\")\\nprint(f\"{pow(10, 2)}\")\\nprint(f\"{pow(10, 2, 2)}\")',\n",
       "  'print(f\"{hash(42)}\")\\nprint(f\"{hash(\\'a\\')}\")\\nprint(f\"{hash([1, 3])}\")',\n",
       "  'print(f\"{hash(42)}\")\\nprint(f\"{hash(\\'a\\')}\")\\nprint(f\"{hash((1, 3))}\")',\n",
       "  'print(f\"{map(lambda x: x * x, [1, 2, 3])}\")',\n",
       "  'print(f\"{list(map(lambda x: x * x, [1, 2, 3]))}\")',\n",
       "  'print(type(2))',\n",
       "  'sorted((3, 6, 1))',\n",
       "  'print(f\"{list(filter(lambda x: x % 2 == 0, [1, 2, 3, 4]))}\")',\n",
       "  \"class A:\\n    x = 5\\n\\na = A()\\nprint(hasattr(a, 'x'))\\nprint(hasattr(a, 'y'))\",\n",
       "  \"print(getattr(a, 'x'))\\nprint(getattr(a, 'y', 'N/A'))\",\n",
       "  \"print(setattr(a, 'x', 10))\\nprint(getattr(a, 'x'))\",\n",
       "  \"print(delattr(a, 'x'))\",\n",
       "  'obj = object()\\nprint(type(obj))',\n",
       "  'lst = [1, 2, 3]\\nit = iter(lst)',\n",
       "  'print(next(it))',\n",
       "  \"print(next(it))\\nprint(next(it, 'End'))\",\n",
       "  'class c:\\n    def __init__(self):\\n        self._x = 0\\n\\n    def get_x(self):\\n        return self._x\\n\\n    def set_x(self, value):\\n        self._x = value\\n\\n    x = property(get_x, set_x)\\n\\nc = C()\\nc.x = 10 \\nprint(c.x)',\n",
       "  'class Sample:\\n    def __init__(self):\\n        self._x = 0\\n\\n    def get_x(self):\\n        return self._x\\n\\n    def set_x(self, value):\\n        self._x = value\\n\\n    x = property(get_x, set_x)\\n\\nc = Sample()\\nc.x = 10 \\nprint(c.x)',\n",
       "  'def foo():\\n    pass\\n\\nprint(callable(foo))\\n\\nx = 5\\nprint(callable(x))\\n\\nclass A:\\n    def __call__(self):\\n        pass\\n\\na = A()\\nprint(callable(a))',\n",
       "  'class A:\\n    pass\\n\\nclass B(A):\\n    pass\\n\\nprint(issubclass(B, A))',\n",
       "  'class A:\\n    pass\\n\\nclass B(A):\\n    pass\\n\\nprint(issubclass(B, A))\\nprint(issubclass(A, B))',\n",
       "  'globals()'],\n",
       " 'Out': {11: [1, 3, 6]},\n",
       " 'get_ipython': <bound method InteractiveShell.get_ipython of <ipykernel.zmqshell.ZMQInteractiveShell object at 0x7f953831ecf0>>,\n",
       " 'exit': <IPython.core.autocall.ZMQExitAutocall at 0x7f95383b6120>,\n",
       " 'quit': <IPython.core.autocall.ZMQExitAutocall at 0x7f95383b6120>,\n",
       " 'open': <function _io.open(file, mode='r', buffering=-1, encoding=None, errors=None, newline=None, closefd=True, opener=None)>,\n",
       " '_': [1, 3, 6],\n",
       " '__': '',\n",
       " '___': '',\n",
       " '__vsc_ipynb_file__': '/home/ani/dev/projects/python-built-ins-experiments/builtin_funcs.ipynb',\n",
       " '_i': 'class A:\\n    pass\\n\\nclass B(A):\\n    pass\\n\\nprint(issubclass(B, A))\\nprint(issubclass(A, B))',\n",
       " '_ii': 'class A:\\n    pass\\n\\nclass B(A):\\n    pass\\n\\nprint(issubclass(B, A))',\n",
       " '_iii': 'def foo():\\n    pass\\n\\nprint(callable(foo))\\n\\nx = 5\\nprint(callable(x))\\n\\nclass A:\\n    def __call__(self):\\n        pass\\n\\na = A()\\nprint(callable(a))',\n",
       " '_i1': 'print(f\"{hex(42)}\")\\nprint(f\"{hex(-42)}\")',\n",
       " '_i2': 'print(f\"{oct(8)}\")\\nprint(f\"{oct(16)}\")',\n",
       " '_i3': 'print(f\"{pow(2, 5)}\")',\n",
       " '_i4': 'print(f\"{pow(2, 5)}\")\\nprint(f\"{pow(10, 2)}\")',\n",
       " '_i5': 'print(f\"{pow(2, 5)}\")\\nprint(f\"{pow(10, 2)}\")\\nprint(f\"{pow(10, 2, 2)}\")',\n",
       " '_i6': 'print(f\"{hash(42)}\")\\nprint(f\"{hash(\\'a\\')}\")\\nprint(f\"{hash([1, 3])}\")',\n",
       " '_i7': 'print(f\"{hash(42)}\")\\nprint(f\"{hash(\\'a\\')}\")\\nprint(f\"{hash((1, 3))}\")',\n",
       " '_i8': 'print(f\"{map(lambda x: x * x, [1, 2, 3])}\")',\n",
       " '_i9': 'print(f\"{list(map(lambda x: x * x, [1, 2, 3]))}\")',\n",
       " '_i10': 'print(type(2))',\n",
       " '_i11': 'sorted((3, 6, 1))',\n",
       " '_11': [1, 3, 6],\n",
       " '_i12': 'print(f\"{list(filter(lambda x: x % 2 == 0, [1, 2, 3, 4]))}\")',\n",
       " '_i13': \"class A:\\n    x = 5\\n\\na = A()\\nprint(hasattr(a, 'x'))\\nprint(hasattr(a, 'y'))\",\n",
       " 'A': __main__.A,\n",
       " 'a': <__main__.A at 0x7f951aa94050>,\n",
       " '_i14': \"print(getattr(a, 'x'))\\nprint(getattr(a, 'y', 'N/A'))\",\n",
       " '_i15': \"print(setattr(a, 'x', 10))\\nprint(getattr(a, 'x'))\",\n",
       " '_i16': \"print(delattr(a, 'x'))\",\n",
       " '_i17': 'obj = object()\\nprint(type(obj))',\n",
       " 'obj': <object at 0x7f951ac0aaa0>,\n",
       " '_i18': 'lst = [1, 2, 3]\\nit = iter(lst)',\n",
       " 'lst': [1, 2, 3],\n",
       " 'it': <list_iterator at 0x7f951af22e60>,\n",
       " '_i19': 'print(next(it))',\n",
       " '_i20': \"print(next(it))\\nprint(next(it, 'End'))\",\n",
       " '_i21': 'class c:\\n    def __init__(self):\\n        self._x = 0\\n\\n    def get_x(self):\\n        return self._x\\n    \\n    def set_x(self, value):\\n        self._x = value\\n\\n    x = property(get_x, set_x)\\n\\nc = C()\\nc.x = 10 \\nprint(c.x)',\n",
       " 'c': <__main__.Sample at 0x7f953814fcb0>,\n",
       " '_i22': 'class Sample:\\n    def __init__(self):\\n        self._x = 0\\n\\n    def get_x(self):\\n        return self._x\\n    \\n    def set_x(self, value):\\n        self._x = value\\n\\n    x = property(get_x, set_x)\\n\\nc = Sample()\\nc.x = 10 \\nprint(c.x)',\n",
       " 'Sample': __main__.Sample,\n",
       " '_i23': 'def foo():\\n    pass\\n\\nprint(callable(foo))\\n\\nx = 5\\nprint(callable(x))\\n\\nclass A:\\n    def __call__(self):\\n        pass\\n\\na = A()\\nprint(callable(a))',\n",
       " 'foo': <function __main__.foo()>,\n",
       " 'x': 5,\n",
       " '_i24': 'class A:\\n    pass\\n\\nclass B(A):\\n    pass\\n\\nprint(issubclass(B, A))',\n",
       " 'B': __main__.B,\n",
       " '_i25': 'class A:\\n    pass\\n\\nclass B(A):\\n    pass\\n\\nprint(issubclass(B, A))\\nprint(issubclass(A, B))',\n",
       " '_i26': 'globals()'}"
      ]
     },
     "execution_count": 26,
     "metadata": {},
     "output_type": "execute_result"
    }
   ],
   "source": [
    "globals()"
   ]
  },
  {
   "cell_type": "markdown",
   "id": "61555b63",
   "metadata": {},
   "source": [
    "##### format()\n",
    "- Input: value, format_specifier\n",
    "- Output: string with placeholder values"
   ]
  },
  {
   "cell_type": "code",
   "execution_count": 28,
   "id": "1cc19eca",
   "metadata": {},
   "outputs": [
    {
     "name": "stdout",
     "output_type": "stream",
     "text": [
      "name: Alice, age: 30\n",
      "3.14\n",
      "000042\n"
     ]
    }
   ],
   "source": [
    "name = 'Alice'\n",
    "age = 30\n",
    "s = \"name: {name}, age: {age}\".format(name=name, age=age)\n",
    "print(s)\n",
    "\n",
    "num = 3.14159\n",
    "print(\"{:.2f}\".format(num))   # 2 decimal places\n",
    "print(\"{:06d}\".format(42))    # zero padded with width of 6"
   ]
  },
  {
   "cell_type": "markdown",
   "id": "da610cf9",
   "metadata": {},
   "source": [
    "##### range()\n",
    "- Input: start, stop, step=1\n",
    "- Output: sequence type"
   ]
  },
  {
   "cell_type": "code",
   "execution_count": 29,
   "id": "41ffcf07",
   "metadata": {},
   "outputs": [
    {
     "name": "stdout",
     "output_type": "stream",
     "text": [
      "range(0, 10)\n",
      "range(1, 10)\n",
      "range(1, 10, 2)\n"
     ]
    }
   ],
   "source": [
    "print(range(10))\n",
    "print(range(1, 10))\n",
    "print(range(1, 10, 2))"
   ]
  },
  {
   "cell_type": "markdown",
   "id": "4e402aee",
   "metadata": {},
   "source": [
    "##### super()\n",
    "- Input: nothing\n",
    "- Output: None"
   ]
  },
  {
   "cell_type": "code",
   "execution_count": 30,
   "id": "ccb1edd2",
   "metadata": {},
   "outputs": [
    {
     "name": "stdout",
     "output_type": "stream",
     "text": [
      "Hello from A\n",
      "Hello from B\n"
     ]
    }
   ],
   "source": [
    "class A:\n",
    "    def greet(self):\n",
    "        print(\"Hello from A\")\n",
    "\n",
    "class B(A):\n",
    "    def greet(self):\n",
    "        super().greet()\n",
    "        print(\"Hello from B\")\n",
    "\n",
    "b = B()\n",
    "b.greet()\n"
   ]
  },
  {
   "cell_type": "markdown",
   "id": "3465f0d2",
   "metadata": {},
   "source": [
    "##### repr()\n",
    "- Input: object \n",
    "- Output: string"
   ]
  },
  {
   "cell_type": "code",
   "execution_count": 31,
   "id": "46d2d405",
   "metadata": {},
   "outputs": [
    {
     "data": {
      "text/plain": [
       "\"'hello'\""
      ]
     },
     "execution_count": 31,
     "metadata": {},
     "output_type": "execute_result"
    }
   ],
   "source": [
    "s = \"hello\"\n",
    "repr(s)"
   ]
  },
  {
   "cell_type": "markdown",
   "id": "fd1c61ec",
   "metadata": {},
   "source": [
    "##### round()\n",
    "- Input: number, ndigits\n",
    "- Output: rounds a number to a given precision (default 0)"
   ]
  },
  {
   "cell_type": "code",
   "execution_count": 32,
   "id": "c34b1288",
   "metadata": {},
   "outputs": [
    {
     "name": "stdout",
     "output_type": "stream",
     "text": [
      "3.14\n",
      "5\n"
     ]
    }
   ],
   "source": [
    "print(round(3.14159, 2))\n",
    "print(round(5))"
   ]
  },
  {
   "cell_type": "markdown",
   "id": "910a190a",
   "metadata": {},
   "source": [
    "##### breakpoint()\n",
    "\n",
    "Inserts a debugging pause in your code, launching the debugger.\n",
    "\n",
    "- Input: nothing\n",
    "- Output: pauses"
   ]
  },
  {
   "cell_type": "code",
   "execution_count": 33,
   "id": "fbcf0d40",
   "metadata": {},
   "outputs": [
    {
     "name": "stdout",
     "output_type": "stream",
     "text": [
      "5\n"
     ]
    }
   ],
   "source": [
    "x = 5\n",
    "breakpoint()\n",
    "print(x)"
   ]
  },
  {
   "cell_type": "markdown",
   "id": "4e66138d",
   "metadata": {},
   "source": [
    "##### slice()\n",
    "\n",
    "Create a slice object to specify start, stop and step for indexing\n",
    "\n",
    "- Input: start, stop, step\n",
    "- Output: slice object"
   ]
  },
  {
   "cell_type": "code",
   "execution_count": 34,
   "id": "95d1e374",
   "metadata": {},
   "outputs": [
    {
     "name": "stdout",
     "output_type": "stream",
     "text": [
      "hello\n"
     ]
    }
   ],
   "source": [
    "s = \"hello world\"\n",
    "my_slice = slice(0, 5)\n",
    "print(s[my_slice])"
   ]
  },
  {
   "cell_type": "markdown",
   "id": "8a6ec120",
   "metadata": {},
   "source": [
    "##### list()\n",
    "\n",
    "- Input: iterable\n",
    "- Output: a list"
   ]
  },
  {
   "cell_type": "code",
   "execution_count": 36,
   "id": "b4d72b5c",
   "metadata": {},
   "outputs": [
    {
     "name": "stdout",
     "output_type": "stream",
     "text": [
      "[1, 3, 8]\n",
      "[8, 1, 3, 9]\n"
     ]
    }
   ],
   "source": [
    "print(list((1, 3, 8)))\n",
    "print(list({1, 3, 8, 9}))"
   ]
  },
  {
   "cell_type": "markdown",
   "id": "29d5f8e3",
   "metadata": {},
   "source": [
    "##### locals()\n",
    "\n",
    "returns a dictionary of current local symbol table (local variables)\n",
    "\n",
    "- Input: nothing\n",
    "- Output: dictionary"
   ]
  },
  {
   "cell_type": "code",
   "execution_count": 37,
   "id": "7c349698",
   "metadata": {},
   "outputs": [
    {
     "name": "stdout",
     "output_type": "stream",
     "text": [
      "{'a': 10, 'b': 20}\n"
     ]
    }
   ],
   "source": [
    "def func():\n",
    "    a = 10\n",
    "    b = 20\n",
    "    print(locals())\n",
    "\n",
    "func()"
   ]
  },
  {
   "cell_type": "markdown",
   "id": "6025e88c",
   "metadata": {},
   "source": [
    "##### len()\n",
    "\n",
    "Returns the length of an object\n",
    "\n",
    "- Input: object\n",
    "- Output: integer 0 and above"
   ]
  },
  {
   "cell_type": "code",
   "execution_count": 38,
   "id": "0105b845",
   "metadata": {},
   "outputs": [
    {
     "name": "stdout",
     "output_type": "stream",
     "text": [
      "3\n",
      "6\n"
     ]
    }
   ],
   "source": [
    "print(len([1, 3, 9]))\n",
    "print(len('abcsed'))"
   ]
  },
  {
   "cell_type": "markdown",
   "id": "51f39e53",
   "metadata": {},
   "source": [
    "##### reversed()\n",
    "\n",
    "Returns a reverse iterator for given sequence\n",
    "\n",
    "- Input: object sequence\n",
    "- Output: iterator"
   ]
  },
  {
   "cell_type": "code",
   "execution_count": 39,
   "id": "5513c621",
   "metadata": {},
   "outputs": [
    {
     "data": {
      "text/plain": [
       "[9, 3, 2, 1]"
      ]
     },
     "execution_count": 39,
     "metadata": {},
     "output_type": "execute_result"
    }
   ],
   "source": [
    "list(reversed((1, 2, 3, 9)))"
   ]
  },
  {
   "cell_type": "markdown",
   "id": "c54e9fa6",
   "metadata": {},
   "source": [
    "##### frozenset()\n",
    "\n",
    "Creates an immutable set\n",
    "\n",
    "- Input: iterable\n",
    "- Output: immutable set"
   ]
  },
  {
   "cell_type": "code",
   "execution_count": 40,
   "id": "49a3ee49",
   "metadata": {},
   "outputs": [
    {
     "data": {
      "text/plain": [
       "frozenset({1, 2, 3})"
      ]
     },
     "execution_count": 40,
     "metadata": {},
     "output_type": "execute_result"
    }
   ],
   "source": [
    "fs = frozenset([1, 2, 3])\n",
    "fs"
   ]
  },
  {
   "cell_type": "markdown",
   "id": "bcfed886",
   "metadata": {},
   "source": [
    "##### zip()\n",
    "\n",
    "Aggregate elements from multiple iterables into tuples\n",
    "\n",
    "- Input: iterables, strict=False\n",
    "- Output: zip object that can be converted to list using list(zip object)"
   ]
  },
  {
   "cell_type": "code",
   "execution_count": 41,
   "id": "644d1ed3",
   "metadata": {},
   "outputs": [
    {
     "name": "stdout",
     "output_type": "stream",
     "text": [
      "[('Alice', 10, 'F'), ('Bob', 20, 'M')]\n"
     ]
    }
   ],
   "source": [
    "names = [\"Alice\", \"Bob\"]\n",
    "ages = [10, 20]\n",
    "sexes = ['F', 'M']\n",
    "\n",
    "z = zip(names, ages, sexes)\n",
    "print(list(z))"
   ]
  },
  {
   "cell_type": "markdown",
   "id": "5d8fb2c5",
   "metadata": {},
   "source": [
    "##### vars()\n",
    "\n",
    "Returns an attribute dictionary of an object\n",
    "\n",
    "- Input: object\n",
    "- Output: dictionary"
   ]
  },
  {
   "cell_type": "code",
   "execution_count": 42,
   "id": "5d2824d9",
   "metadata": {},
   "outputs": [
    {
     "name": "stdout",
     "output_type": "stream",
     "text": [
      "{'x': 5}\n"
     ]
    }
   ],
   "source": [
    "class A:\n",
    "    def __init__(self):\n",
    "        self.x = 5\n",
    "\n",
    "a = A()\n",
    "print(vars(a))"
   ]
  },
  {
   "cell_type": "markdown",
   "id": "bee03a2b",
   "metadata": {},
   "source": [
    "##### __import__()\n",
    "\n",
    "Dynamically imports a module by name (used internally by import)\n",
    "\n",
    "- Input: module_name: str\n",
    "- Output: None"
   ]
  },
  {
   "cell_type": "code",
   "execution_count": 43,
   "id": "39e4f79d",
   "metadata": {},
   "outputs": [
    {
     "name": "stdout",
     "output_type": "stream",
     "text": [
      "4.0\n"
     ]
    }
   ],
   "source": [
    "math = __import__('math')\n",
    "print(math.sqrt(16))"
   ]
  },
  {
   "cell_type": "markdown",
   "id": "4cc88528",
   "metadata": {},
   "source": [
    "##### staticmethod()\n",
    "\n",
    "Creates a method that does not receive cls or self - behaves like a regular function\n",
    "\n",
    "- Input: the function\n",
    "- Output: the function"
   ]
  },
  {
   "cell_type": "code",
   "execution_count": 44,
   "id": "85176e09",
   "metadata": {},
   "outputs": [
    {
     "name": "stdout",
     "output_type": "stream",
     "text": [
      "hello\n"
     ]
    }
   ],
   "source": [
    "class A:\n",
    "    @staticmethod\n",
    "    def greet():\n",
    "        print(\"hello\")\n",
    "\n",
    "A.greet()"
   ]
  },
  {
   "cell_type": "markdown",
   "id": "b2895c72",
   "metadata": {},
   "source": [
    "##### classmethod()\n",
    "\n",
    "Defines a method that receives the cls as the first argument\n",
    "\n",
    "- Input: function/method\n",
    "- Output: function/method"
   ]
  },
  {
   "cell_type": "code",
   "execution_count": 45,
   "id": "527d7d60",
   "metadata": {},
   "outputs": [
    {
     "name": "stdout",
     "output_type": "stream",
     "text": [
      "1\n"
     ]
    }
   ],
   "source": [
    "class A:\n",
    "    count = 0\n",
    "\n",
    "    @classmethod\n",
    "    def increment(cls):\n",
    "        cls.count += 1\n",
    "\n",
    "A.increment()\n",
    "print(A.count)"
   ]
  },
  {
   "cell_type": "markdown",
   "id": "4ef251de",
   "metadata": {},
   "source": [
    "##### compile()\n",
    "\n",
    "Compiles source code into a code object that can be executed\n",
    "\n",
    "- Input: source, filename, mode (all string type)\n",
    "- Output: compiled code"
   ]
  },
  {
   "cell_type": "code",
   "execution_count": 46,
   "id": "8fe2e0fc",
   "metadata": {},
   "outputs": [
    {
     "name": "stdout",
     "output_type": "stream",
     "text": [
      "Hi\n"
     ]
    }
   ],
   "source": [
    "code = compile('print(\"Hi\")', '<string>', 'exec')\n",
    "exec(code)"
   ]
  },
  {
   "cell_type": "markdown",
   "id": "96265373",
   "metadata": {},
   "source": [
    "##### enumerate()\n",
    "\n",
    "Adds a counter to an iterable, returning pairs of (index, value)\n",
    "\n",
    "- Input: iterable\n",
    "- Output: enumerated"
   ]
  },
  {
   "cell_type": "code",
   "execution_count": 47,
   "id": "c520202b",
   "metadata": {},
   "outputs": [
    {
     "name": "stdout",
     "output_type": "stream",
     "text": [
      "0 a\n",
      "1 b\n",
      "2 c\n"
     ]
    }
   ],
   "source": [
    "lst = ['a', 'b', 'c']\n",
    "for index, value in enumerate(lst):\n",
    "    print(index, value)"
   ]
  },
  {
   "cell_type": "markdown",
   "id": "2478dac5",
   "metadata": {},
   "source": [
    "##### eval()\n",
    "\n",
    "Evaluates a string as a python expression and returns the result\n",
    "\n",
    "- Input: string\n",
    "- Output: value"
   ]
  },
  {
   "cell_type": "code",
   "execution_count": 48,
   "id": "c525f1c2",
   "metadata": {},
   "outputs": [
    {
     "name": "stdout",
     "output_type": "stream",
     "text": [
      "20\n"
     ]
    }
   ],
   "source": [
    "x = 10\n",
    "result = eval('x + 10')\n",
    "print(result)"
   ]
  },
  {
   "cell_type": "markdown",
   "id": "566359ff",
   "metadata": {},
   "source": [
    "##### anext()\n",
    "\n",
    "asynchronously gets the next item from an async iterator\n",
    "\n",
    "- Input: \n",
    "- Output: "
   ]
  },
  {
   "cell_type": "code",
   "execution_count": 51,
   "id": "894cb7ae",
   "metadata": {},
   "outputs": [
    {
     "name": "stdout",
     "output_type": "stream",
     "text": [
      "0\n",
      "1\n"
     ]
    }
   ],
   "source": [
    "import asyncio\n",
    "\n",
    "async def gen():\n",
    "    for i in range(3):\n",
    "        yield i\n",
    "\n",
    "async def main():\n",
    "    agen = gen().__aiter__()\n",
    "    print(await anext(agen))  # 0\n",
    "    print(await anext(agen))  # 1\n",
    "\n",
    "# For Jupyter or running inside another event loop:\n",
    "await main()\n"
   ]
  },
  {
   "cell_type": "markdown",
   "id": "c4f0ef47",
   "metadata": {},
   "source": [
    "##### memoryview()\n",
    "\n",
    "creates a view of a bytes-like object without copying it, allowing efficient access to data.\n",
    "\n",
    "- Input: bytearray data\n",
    "- Output: "
   ]
  },
  {
   "cell_type": "code",
   "execution_count": 50,
   "id": "a6152ec4",
   "metadata": {},
   "outputs": [
    {
     "name": "stdout",
     "output_type": "stream",
     "text": [
      "104\n",
      "bytearray(b'Hello')\n"
     ]
    }
   ],
   "source": [
    "data = bytearray(b'hello')\n",
    "mv = memoryview(data)\n",
    "print(mv[0])        # 104 (ASCII of 'h')\n",
    "mv[0] = 72          # modify underlying data\n",
    "print(data)         # bytearray(b'Hello')\n"
   ]
  },
  {
   "cell_type": "code",
   "execution_count": null,
   "id": "9db8d74b",
   "metadata": {},
   "outputs": [],
   "source": []
  }
 ],
 "metadata": {
  "kernelspec": {
   "display_name": ".venv",
   "language": "python",
   "name": "python3"
  },
  "language_info": {
   "codemirror_mode": {
    "name": "ipython",
    "version": 3
   },
   "file_extension": ".py",
   "mimetype": "text/x-python",
   "name": "python",
   "nbconvert_exporter": "python",
   "pygments_lexer": "ipython3",
   "version": "3.13.5"
  }
 },
 "nbformat": 4,
 "nbformat_minor": 5
}
