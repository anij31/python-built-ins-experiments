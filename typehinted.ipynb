{
 "cells": [
  {
   "cell_type": "code",
   "execution_count": 1,
   "id": "89dcdca8",
   "metadata": {},
   "outputs": [],
   "source": [
    "# Following PEP-585, this is the acceptable modern standard"
   ]
  },
  {
   "cell_type": "code",
   "execution_count": 4,
   "id": "7554bc18",
   "metadata": {},
   "outputs": [
    {
     "data": {
      "text/plain": [
       "[]"
      ]
     },
     "execution_count": 4,
     "metadata": {},
     "output_type": "execute_result"
    }
   ],
   "source": [
    "# Empty list creation\n",
    "my_list: list[int] = []\n",
    "my_list"
   ]
  },
  {
   "cell_type": "code",
   "execution_count": 5,
   "id": "04bcc9a9",
   "metadata": {},
   "outputs": [],
   "source": [
    "# tuple\n",
    "my_tuple: tuple[str, int] = (\"Alice\", 30)"
   ]
  },
  {
   "cell_type": "code",
   "execution_count": 6,
   "id": "69bd1834",
   "metadata": {},
   "outputs": [],
   "source": [
    "# set\n",
    "my_set: set[int] = {1, 2, 3}"
   ]
  },
  {
   "cell_type": "code",
   "execution_count": 7,
   "id": "ab732ecc",
   "metadata": {},
   "outputs": [],
   "source": [
    "# dictionary\n",
    "my_dict: dict[str, int] = {\"apples\": 3, \"oranges\": 1}"
   ]
  },
  {
   "cell_type": "code",
   "execution_count": 8,
   "id": "03fa884b",
   "metadata": {},
   "outputs": [],
   "source": [
    "# integer\n",
    "my_int: int = 42"
   ]
  },
  {
   "cell_type": "code",
   "execution_count": 9,
   "id": "28c51222",
   "metadata": {},
   "outputs": [],
   "source": [
    "# float\n",
    "my_float: float = 3.14159"
   ]
  },
  {
   "cell_type": "code",
   "execution_count": 10,
   "id": "a1c6c38e",
   "metadata": {},
   "outputs": [],
   "source": [
    "# string\n",
    "my_string: str = \"Hello, World\""
   ]
  },
  {
   "cell_type": "code",
   "execution_count": 11,
   "id": "6c5fb031",
   "metadata": {},
   "outputs": [],
   "source": [
    "# frozenset\n",
    "MY_SET: frozenset[int] = frozenset({1, 2, 3})"
   ]
  },
  {
   "cell_type": "code",
   "execution_count": 14,
   "id": "e01b91ff",
   "metadata": {},
   "outputs": [
    {
     "name": "stdout",
     "output_type": "stream",
     "text": [
      "3\n"
     ]
    },
    {
     "ename": "TypeError",
     "evalue": "'mappingproxy' object does not support item assignment",
     "output_type": "error",
     "traceback": [
      "\u001b[31m---------------------------------------------------------------------------\u001b[39m",
      "\u001b[31mTypeError\u001b[39m                                 Traceback (most recent call last)",
      "\u001b[36mCell\u001b[39m\u001b[36m \u001b[39m\u001b[32mIn[14]\u001b[39m\u001b[32m, line 8\u001b[39m\n\u001b[32m      5\u001b[39m readonly_data = MappingProxyType(data)\n\u001b[32m      7\u001b[39m \u001b[38;5;28mprint\u001b[39m(readonly_data[\u001b[33m\"\u001b[39m\u001b[33mapples\u001b[39m\u001b[33m\"\u001b[39m])\n\u001b[32m----> \u001b[39m\u001b[32m8\u001b[39m \u001b[43mreadonly_data\u001b[49m\u001b[43m[\u001b[49m\u001b[33;43m\"\u001b[39;49m\u001b[33;43mapples\u001b[39;49m\u001b[33;43m\"\u001b[39;49m\u001b[43m]\u001b[49m = \u001b[32m10\u001b[39m \u001b[38;5;66;03m# Error because we have made it readonly\u001b[39;00m\n\u001b[32m      9\u001b[39m \u001b[38;5;66;03m# It will reflect changes if we modify the original dictionary\u001b[39;00m\n",
      "\u001b[31mTypeError\u001b[39m: 'mappingproxy' object does not support item assignment"
     ]
    }
   ],
   "source": [
    "# READ_ONLY Dictionary\n",
    "from types import MappingProxyType\n",
    "\n",
    "data = {\"apples\": 3, \"oranges\": 1}\n",
    "readonly_data = MappingProxyType(data)\n",
    "\n",
    "print(readonly_data[\"apples\"])\n",
    "readonly_data[\"apples\"] = 10 # Error because we have made it readonly\n",
    "# It will reflect changes if we modify the original dictionary"
   ]
  },
  {
   "cell_type": "code",
   "execution_count": 16,
   "id": "6f2190e6",
   "metadata": {},
   "outputs": [
    {
     "name": "stdout",
     "output_type": "stream",
     "text": [
      "localhost\n"
     ]
    },
    {
     "ename": "TypeError",
     "evalue": "'mappingproxy' object does not support item assignment",
     "output_type": "error",
     "traceback": [
      "\u001b[31m---------------------------------------------------------------------------\u001b[39m",
      "\u001b[31mTypeError\u001b[39m                                 Traceback (most recent call last)",
      "\u001b[36mCell\u001b[39m\u001b[36m \u001b[39m\u001b[32mIn[16]\u001b[39m\u001b[32m, line 21\u001b[39m\n\u001b[32m     17\u001b[39m CONFIG = MappingProxyType(_config)\n\u001b[32m     20\u001b[39m \u001b[38;5;28mprint\u001b[39m(CONFIG[\u001b[33m\"\u001b[39m\u001b[33mhost\u001b[39m\u001b[33m\"\u001b[39m])\n\u001b[32m---> \u001b[39m\u001b[32m21\u001b[39m \u001b[43mCONFIG\u001b[49m\u001b[43m[\u001b[49m\u001b[33;43m\"\u001b[39;49m\u001b[33;43mhost\u001b[39;49m\u001b[33;43m\"\u001b[39;49m\u001b[43m]\u001b[49m = \u001b[33m\"\u001b[39m\u001b[33m127.0.0.1\u001b[39m\u001b[33m\"\u001b[39m\n",
      "\u001b[31mTypeError\u001b[39m: 'mappingproxy' object does not support item assignment"
     ]
    }
   ],
   "source": [
    "# The nearly prod-ready dictionary\n",
    "from typing import TypedDict\n",
    "from types import MappingProxyType\n",
    "\n",
    "# Define the schema\n",
    "class ServerConfig(TypedDict):\n",
    "    host: str\n",
    "    port: int\n",
    "\n",
    "# Create the dictionary with type checking\n",
    "_config: ServerConfig = {\n",
    "    \"host\": \"localhost\",\n",
    "    \"port\": 8080\n",
    "}\n",
    "\n",
    "# Freeze the dictionary with runtime safety\n",
    "CONFIG = MappingProxyType(_config)\n",
    "\n",
    "\n",
    "print(CONFIG[\"host\"])\n",
    "CONFIG[\"host\"] = \"127.0.0.1\""
   ]
  },
  {
   "cell_type": "code",
   "execution_count": 17,
   "id": "cc4067ac",
   "metadata": {},
   "outputs": [
    {
     "name": "stdout",
     "output_type": "stream",
     "text": [
      "localhost\n"
     ]
    },
    {
     "ename": "TypeError",
     "evalue": "'mappingproxy' object does not support item assignment",
     "output_type": "error",
     "traceback": [
      "\u001b[31m---------------------------------------------------------------------------\u001b[39m",
      "\u001b[31mTypeError\u001b[39m                                 Traceback (most recent call last)",
      "\u001b[36mCell\u001b[39m\u001b[36m \u001b[39m\u001b[32mIn[17]\u001b[39m\u001b[32m, line 26\u001b[39m\n\u001b[32m     24\u001b[39m CONFIG = build_config()\n\u001b[32m     25\u001b[39m \u001b[38;5;28mprint\u001b[39m(CONFIG[\u001b[33m\"\u001b[39m\u001b[33mhost\u001b[39m\u001b[33m\"\u001b[39m])\n\u001b[32m---> \u001b[39m\u001b[32m26\u001b[39m \u001b[43mCONFIG\u001b[49m\u001b[43m[\u001b[49m\u001b[33;43m\"\u001b[39;49m\u001b[33;43mhost\u001b[39;49m\u001b[33;43m\"\u001b[39;49m\u001b[43m]\u001b[49m = \u001b[33m\"\u001b[39m\u001b[33m127.0.0.1\u001b[39m\u001b[33m\"\u001b[39m\n",
      "\u001b[31mTypeError\u001b[39m: 'mappingproxy' object does not support item assignment"
     ]
    }
   ],
   "source": [
    "# Bulletproof dictionary?\n",
    "from typing import TypedDict\n",
    "from types import MappingProxyType\n",
    "\n",
    "class ServerConfig(TypedDict):\n",
    "    host: str\n",
    "    port: int\n",
    "\n",
    "def build_config() -> MappingProxyType:\n",
    "    # Build a temp dictionary \n",
    "    temp_config: ServerConfig = {\n",
    "        \"host\": \"localhost\",\n",
    "        \"port\": 8080\n",
    "    }\n",
    "\n",
    "    # read-only\n",
    "    frozen_config = MappingProxyType(temp_config)\n",
    "\n",
    "    # del the temp (mutable reference)\n",
    "    del temp_config\n",
    "\n",
    "    return frozen_config\n",
    "\n",
    "CONFIG = build_config()\n",
    "print(CONFIG[\"host\"])\n",
    "CONFIG[\"host\"] = \"127.0.0.1\""
   ]
  },
  {
   "cell_type": "code",
   "execution_count": null,
   "id": "8fad909b",
   "metadata": {},
   "outputs": [],
   "source": []
  }
 ],
 "metadata": {
  "kernelspec": {
   "display_name": ".venv",
   "language": "python",
   "name": "python3"
  },
  "language_info": {
   "codemirror_mode": {
    "name": "ipython",
    "version": 3
   },
   "file_extension": ".py",
   "mimetype": "text/x-python",
   "name": "python",
   "nbconvert_exporter": "python",
   "pygments_lexer": "ipython3",
   "version": "3.13.5"
  }
 },
 "nbformat": 4,
 "nbformat_minor": 5
}
