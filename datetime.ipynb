{
 "cells": [
  {
   "cell_type": "markdown",
   "id": "3ceb0df9",
   "metadata": {},
   "source": [
    "# from datetime import\n",
    "- date\n",
    "- time\n",
    "- datetime\n",
    "- timedelta\n",
    "- tzinfo\n",
    "- timezone\n",
    "- MINYEAR\n",
    "- MAXYEAR"
   ]
  },
  {
   "cell_type": "code",
   "execution_count": 4,
   "id": "c97a9393",
   "metadata": {},
   "outputs": [
    {
     "name": "stdout",
     "output_type": "stream",
     "text": [
      "deadline upcoming\n",
      "2025-08-12\n"
     ]
    }
   ],
   "source": [
    "from datetime import date\n",
    "\n",
    "# Create a date object for today\n",
    "today = date.today()\n",
    "\n",
    "# Create a specific date\n",
    "deadline = date(2025, 12, 31)\n",
    "\n",
    "# Compare dates\n",
    "if today > deadline:\n",
    "    print(\"you are screwed!\")\n",
    "else:\n",
    "    print(\"deadline upcoming\")\n",
    "\n",
    "\n",
    "# Output the date in ISO format (for DB and APIs)\n",
    "iso_date = today.isoformat()\n",
    "print(iso_date)"
   ]
  },
  {
   "cell_type": "code",
   "execution_count": 5,
   "id": "9311d740",
   "metadata": {},
   "outputs": [
    {
     "name": "stdout",
     "output_type": "stream",
     "text": [
      "Hour:  9\n",
      "Minute:  30\n",
      "Second:  15\n",
      "Microsecond:  500000\n",
      "you are screwed\n"
     ]
    }
   ],
   "source": [
    "from datetime import time\n",
    "\n",
    "# Create a time object\n",
    "meeting_time = time(9, 30, 15, 500_000)\n",
    "\n",
    "# Access components of time\n",
    "print(\"Hour: \", meeting_time.hour)\n",
    "print(\"Minute: \", meeting_time.minute)\n",
    "print(\"Second: \", meeting_time.second)\n",
    "print(\"Microsecond: \", meeting_time.microsecond)\n",
    "\n",
    "# Compare times to check if current time is after meeting time\n",
    "current_time = time(10, 0, 0)\n",
    "if current_time > meeting_time:\n",
    "    print(\"you are screwed\")\n",
    "else:\n",
    "    print(\"hurry up\")"
   ]
  },
  {
   "cell_type": "code",
   "execution_count": 7,
   "id": "85d77faa",
   "metadata": {},
   "outputs": [
    {
     "name": "stdout",
     "output_type": "stream",
     "text": [
      "time until event: 19 days, 15:37:36.573784\n",
      "2025-08-12 17:22:23.427039\n"
     ]
    },
    {
     "name": "stderr",
     "output_type": "stream",
     "text": [
      "/tmp/ipykernel_823349/2913008030.py:13: DeprecationWarning: datetime.datetime.utcnow() is deprecated and scheduled for removal in a future version. Use timezone-aware objects to represent datetimes in UTC: datetime.datetime.now(datetime.UTC).\n",
      "  print(datetime.utcnow())\n"
     ]
    }
   ],
   "source": [
    "from datetime import datetime\n",
    "\n",
    "# Current date and time\n",
    "now = datetime.now()\n",
    "\n",
    "# Create a specific datetime (event start)\n",
    "event_start = datetime(2025, 9, 1, 14, 30)\n",
    "\n",
    "# Calculate duration until event\n",
    "time_until_event = event_start - now\n",
    "\n",
    "print(f\"time until event: {time_until_event}\")\n",
    "print(datetime.utcnow())"
   ]
  },
  {
   "cell_type": "code",
   "execution_count": 8,
   "id": "a8110cb8",
   "metadata": {},
   "outputs": [
    {
     "name": "stdout",
     "output_type": "stream",
     "text": [
      "Now: 2025-08-12 22:57:19.013728\n",
      "After duration: 2025-08-20 01:57:19.013728\n",
      "Days between start and end: 14 days, 0:00:00\n"
     ]
    }
   ],
   "source": [
    "from datetime import timedelta\n",
    "\n",
    "# Define a duration of 7 days and 3 hours\n",
    "duration = timedelta(days=7, hours=3)\n",
    "\n",
    "# current datetime\n",
    "now = datetime.now()\n",
    "\n",
    "# Calculate future datetime by adding now and timedelta\n",
    "future_date = now + duration\n",
    "\n",
    "print(f\"Now: {now}\")\n",
    "print(f\"After duration: {future_date}\")\n",
    "\n",
    "# Subtract two datetimes to get a timedelta\n",
    "start = datetime(2025, 8, 1)\n",
    "end = datetime(2025, 8, 15)\n",
    "diff = end - start\n",
    "\n",
    "print(f\"Days between start and end: {diff}\")"
   ]
  },
  {
   "cell_type": "code",
   "execution_count": 9,
   "id": "6a047238",
   "metadata": {},
   "outputs": [
    {
     "name": "stdout",
     "output_type": "stream",
     "text": [
      "UTC time: 2025-08-12 17:31:53.741791+00:00\n",
      "India Standard Time:  2025-08-12 23:01:53.742163+05:30\n"
     ]
    }
   ],
   "source": [
    "from datetime import timezone\n",
    "\n",
    "# UTC timezone\n",
    "utc = timezone.utc\n",
    "\n",
    "\n",
    "# Create datetime in UTC\n",
    "now_utc = datetime.now(tz=utc)\n",
    "print(f\"UTC time: {now_utc}\")\n",
    "\n",
    "# Create fixed offset timezone\n",
    "ist = timezone(timedelta(hours=5, minutes=30))\n",
    "\n",
    "now_ist = datetime.now(tz=ist)\n",
    "print(\"India Standard Time: \", now_ist)"
   ]
  },
  {
   "cell_type": "code",
   "execution_count": 10,
   "id": "b0b837df",
   "metadata": {},
   "outputs": [
    {
     "name": "stdout",
     "output_type": "stream",
     "text": [
      "Minimum year allowed: 1\n",
      "Maximum year allowed: 9999\n",
      "2025-08-12\n"
     ]
    }
   ],
   "source": [
    "from datetime import MINYEAR, MAXYEAR\n",
    "\n",
    "print(f\"Minimum year allowed: {MINYEAR}\")\n",
    "print(f\"Maximum year allowed: {MAXYEAR}\")\n",
    "\n",
    "# Validate input year before creating date\n",
    "def safe_create_date(year, month, day):\n",
    "    if not (MINYEAR <= year <= MAXYEAR):\n",
    "        raise ValueError(f\"Year {year} is out of range.\")\n",
    "    return date(year, month, day)\n",
    "\n",
    "d = safe_create_date(2025, 8, 12)\n",
    "print(d)"
   ]
  },
  {
   "cell_type": "code",
   "execution_count": 11,
   "id": "d37a295e",
   "metadata": {},
   "outputs": [
    {
     "name": "stdout",
     "output_type": "stream",
     "text": [
      "UTC time:  2025-08-12T17:41:55.341175+00:00\n",
      "NY time:  2025-08-12T13:41:55.341175-04:00\n",
      "Event time (London):  2025-12-15T10:00:00+00:00\n"
     ]
    }
   ],
   "source": [
    "from zoneinfo import ZoneInfo\n",
    "\n",
    "# Current UTC time\n",
    "now_utc = datetime.now(tz=ZoneInfo(\"UTC\"))\n",
    "\n",
    "\n",
    "# Convert to New york Time\n",
    "now_ny = now_utc.astimezone(ZoneInfo(\"America/New_York\"))\n",
    "\n",
    "print(\"UTC time: \", now_utc.isoformat())\n",
    "print(\"NY time: \", now_ny.isoformat())\n",
    "\n",
    "# Schedule event in a specific timezone\n",
    "event_time = datetime(2025, 12, 15, 10, 0, tzinfo=ZoneInfo(\"Europe/London\"))\n",
    "print(\"Event time (London): \", event_time.isoformat())"
   ]
  },
  {
   "cell_type": "code",
   "execution_count": null,
   "id": "cf2b4850",
   "metadata": {},
   "outputs": [],
   "source": []
  }
 ],
 "metadata": {
  "kernelspec": {
   "display_name": ".venv",
   "language": "python",
   "name": "python3"
  },
  "language_info": {
   "codemirror_mode": {
    "name": "ipython",
    "version": 3
   },
   "file_extension": ".py",
   "mimetype": "text/x-python",
   "name": "python",
   "nbconvert_exporter": "python",
   "pygments_lexer": "ipython3",
   "version": "3.13.5"
  }
 },
 "nbformat": 4,
 "nbformat_minor": 5
}
