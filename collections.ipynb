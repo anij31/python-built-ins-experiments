{
 "cells": [
  {
   "cell_type": "markdown",
   "id": "f81f3ac9",
   "metadata": {},
   "source": [
    "# Things to import\n",
    "- Counter\n",
    "- OrderedDict\n",
    "- defaultdict\n",
    "- deque\n",
    "- ChainMap\n",
    "- UserDict\n",
    "- UserList\n",
    "- UserList\n",
    "- UserString\n",
    "- namedtuple"
   ]
  },
  {
   "cell_type": "code",
   "execution_count": null,
   "id": "926a0bbd",
   "metadata": {},
   "outputs": [
    {
     "data": {
      "text/plain": [
       "Counter({'apple': 3, 'banana': 1, 'orange': 1, 'pineapple': 1})"
      ]
     },
     "execution_count": 1,
     "metadata": {},
     "output_type": "execute_result"
    }
   ],
   "source": [
    "# Counter\n",
    "\n",
    "from collections import Counter\n",
    "words = ['apple', 'banana', 'apple', 'orange', 'pineapple', 'apple']\n",
    "word_counts = Counter(words)\n",
    "\n",
    "word_counts"
   ]
  },
  {
   "cell_type": "code",
   "execution_count": 2,
   "id": "98ed4b9c",
   "metadata": {},
   "outputs": [
    {
     "data": {
      "text/plain": [
       "defaultdict(list, {'fruits': ['apple', 'banana'], 'vegatables': ['carrot']})"
      ]
     },
     "execution_count": 2,
     "metadata": {},
     "output_type": "execute_result"
    }
   ],
   "source": [
    "# defaultdict\n",
    "\n",
    "from collections import defaultdict\n",
    "\n",
    "dd = defaultdict(list) # Gives me a default dictionary where values are lists\n",
    "\n",
    "dd['fruits'].append('apple')\n",
    "dd['fruits'].append('banana')\n",
    "dd['vegatables'].append('carrot')\n",
    "\n",
    "dd"
   ]
  },
  {
   "cell_type": "code",
   "execution_count": null,
   "id": "b1ddf336",
   "metadata": {},
   "outputs": [
    {
     "data": {
      "text/plain": [
       "['a', 'b', 'c']"
      ]
     },
     "execution_count": 3,
     "metadata": {},
     "output_type": "execute_result"
    }
   ],
   "source": [
    "# OrderedDict\n",
    "\n",
    "from collections import OrderedDict\n",
    "\n",
    "# This dictionary will remember the insertion order\n",
    "od = OrderedDict()\n",
    "od['a'] = 1\n",
    "od['b'] = 2\n",
    "od['c'] = 3\n",
    "\n",
    "list(od.keys())"
   ]
  },
  {
   "cell_type": "code",
   "execution_count": 6,
   "id": "bb595cf4",
   "metadata": {},
   "outputs": [
    {
     "name": "stdout",
     "output_type": "stream",
     "text": [
      "deque([2, 3, 4], maxlen=3)\n"
     ]
    },
    {
     "data": {
      "text/plain": [
       "deque([3, 4], maxlen=3)"
      ]
     },
     "execution_count": 6,
     "metadata": {},
     "output_type": "execute_result"
    }
   ],
   "source": [
    "# deque\n",
    "\n",
    "from collections import deque\n",
    "\n",
    "# Double-ended queue with fast append and pop operations from both ends\n",
    "dq = deque(maxlen=3)\n",
    "dq.append(1)\n",
    "dq.append(2)\n",
    "dq.append(3)\n",
    "dq.append(4)\n",
    "\n",
    "print(dq)\n",
    "dq.popleft()\n",
    "dq"
   ]
  },
  {
   "cell_type": "code",
   "execution_count": 7,
   "id": "f2db287d",
   "metadata": {},
   "outputs": [
    {
     "name": "stdout",
     "output_type": "stream",
     "text": [
      "red\n",
      "admin\n"
     ]
    }
   ],
   "source": [
    "# ChainMap\n",
    "\n",
    "# combine multiple dictionaries or mapping to search them as one\n",
    "\n",
    "from collections import ChainMap\n",
    "defaults = {'color': 'red', 'user': 'guest'}\n",
    "overrides = {'user': 'admin'}\n",
    "\n",
    "combined = ChainMap(overrides, defaults)\n",
    "\n",
    "print(combined['color'])\n",
    "print(combined['user'])"
   ]
  },
  {
   "cell_type": "code",
   "execution_count": 9,
   "id": "6848b41c",
   "metadata": {},
   "outputs": [
    {
     "name": "stdout",
     "output_type": "stream",
     "text": [
      "value\n"
     ]
    }
   ],
   "source": [
    "# UserDict\n",
    "\n",
    "from collections import UserDict\n",
    "\n",
    "class CaseInsensitiveDict(UserDict):\n",
    "    def __setitem__(self, key, value):\n",
    "        super().__setitem__(key.lower(), value)\n",
    "    def __getitem__(self, key):\n",
    "        return super().__getitem__(key.lower())\n",
    "    \n",
    "d = CaseInsensitiveDict()\n",
    "d['Key'] = 'value'\n",
    "print(d['key'])\n",
    "\n",
    "# Notice we still got value when key passed a lowercase 'key'"
   ]
  },
  {
   "cell_type": "code",
   "execution_count": 10,
   "id": "f17c1103",
   "metadata": {},
   "outputs": [
    {
     "name": "stdout",
     "output_type": "stream",
     "text": [
      "[2]\n"
     ]
    },
    {
     "ename": "ValueError",
     "evalue": "Only even number allowed",
     "output_type": "error",
     "traceback": [
      "\u001b[31m---------------------------------------------------------------------------\u001b[39m",
      "\u001b[31mValueError\u001b[39m                                Traceback (most recent call last)",
      "\u001b[36mCell\u001b[39m\u001b[36m \u001b[39m\u001b[32mIn[10]\u001b[39m\u001b[32m, line 15\u001b[39m\n\u001b[32m     13\u001b[39m lst.append(\u001b[32m2\u001b[39m)\n\u001b[32m     14\u001b[39m \u001b[38;5;28mprint\u001b[39m(lst)\n\u001b[32m---> \u001b[39m\u001b[32m15\u001b[39m \u001b[43mlst\u001b[49m\u001b[43m.\u001b[49m\u001b[43mappend\u001b[49m\u001b[43m(\u001b[49m\u001b[32;43m3\u001b[39;49m\u001b[43m)\u001b[49m \u001b[38;5;66;03m# raises error\u001b[39;00m\n",
      "\u001b[36mCell\u001b[39m\u001b[36m \u001b[39m\u001b[32mIn[10]\u001b[39m\u001b[32m, line 10\u001b[39m, in \u001b[36mEvenOnlyList.append\u001b[39m\u001b[34m(self, item)\u001b[39m\n\u001b[32m      8\u001b[39m     \u001b[38;5;28msuper\u001b[39m().append(item)\n\u001b[32m      9\u001b[39m \u001b[38;5;28;01melse\u001b[39;00m:\n\u001b[32m---> \u001b[39m\u001b[32m10\u001b[39m     \u001b[38;5;28;01mraise\u001b[39;00m \u001b[38;5;167;01mValueError\u001b[39;00m(\u001b[33m\"\u001b[39m\u001b[33mOnly even number allowed\u001b[39m\u001b[33m\"\u001b[39m)\n",
      "\u001b[31mValueError\u001b[39m: Only even number allowed"
     ]
    }
   ],
   "source": [
    "# UserList\n",
    "\n",
    "from collections import UserList\n",
    "\n",
    "class EvenOnlyList(UserList):\n",
    "    def append(self, item):\n",
    "        if item % 2 == 0:\n",
    "            super().append(item)\n",
    "        else:\n",
    "            raise ValueError(\"Only even number allowed\")\n",
    "        \n",
    "lst = EvenOnlyList()\n",
    "lst.append(2)\n",
    "print(lst)\n",
    "lst.append(3) # raises error"
   ]
  },
  {
   "cell_type": "code",
   "execution_count": 11,
   "id": "88873c18",
   "metadata": {},
   "outputs": [
    {
     "name": "stdout",
     "output_type": "stream",
     "text": [
      "hello\n"
     ]
    }
   ],
   "source": [
    "# UserString\n",
    "\n",
    "from collections import UserString\n",
    "\n",
    "class LowercaseString(UserString):\n",
    "    def __init__(self, seq):\n",
    "        super().__init__(seq.lower())\n",
    "\n",
    "s = LowercaseString(\"heLLo\")\n",
    "print(s)\n"
   ]
  },
  {
   "cell_type": "code",
   "execution_count": 12,
   "id": "e90e1aa3",
   "metadata": {},
   "outputs": [
    {
     "name": "stdout",
     "output_type": "stream",
     "text": [
      "10 20\n"
     ]
    }
   ],
   "source": [
    "# namedtuple\n",
    "\n",
    "from collections import namedtuple\n",
    "\n",
    "Point = namedtuple('Point', ['X', 'Y'])\n",
    "p = Point(10, 20)\n",
    "print(p.X, p.Y)"
   ]
  },
  {
   "cell_type": "code",
   "execution_count": null,
   "id": "8c4d6e4b",
   "metadata": {},
   "outputs": [],
   "source": []
  }
 ],
 "metadata": {
  "kernelspec": {
   "display_name": ".venv",
   "language": "python",
   "name": "python3"
  },
  "language_info": {
   "codemirror_mode": {
    "name": "ipython",
    "version": 3
   },
   "file_extension": ".py",
   "mimetype": "text/x-python",
   "name": "python",
   "nbconvert_exporter": "python",
   "pygments_lexer": "ipython3",
   "version": "3.13.5"
  }
 },
 "nbformat": 4,
 "nbformat_minor": 5
}
