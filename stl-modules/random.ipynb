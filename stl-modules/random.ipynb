{
 "cells": [
  {
   "cell_type": "markdown",
   "id": "bdf3064d",
   "metadata": {},
   "source": [
    "### random module basics (not exhaustive)"
   ]
  },
  {
   "cell_type": "code",
   "execution_count": 1,
   "id": "dbeb984f",
   "metadata": {},
   "outputs": [],
   "source": [
    "import random"
   ]
  },
  {
   "cell_type": "code",
   "execution_count": 4,
   "id": "81dc6dae",
   "metadata": {},
   "outputs": [
    {
     "data": {
      "text/plain": [
       "0.08357375599866701"
      ]
     },
     "execution_count": 4,
     "metadata": {},
     "output_type": "execute_result"
    }
   ],
   "source": [
    "# generate a random float between [0.0 and 1.0)\n",
    "rain_probability = random.random()\n",
    "rain_probability"
   ]
  },
  {
   "cell_type": "code",
   "execution_count": 5,
   "id": "1c295bac",
   "metadata": {},
   "outputs": [
    {
     "data": {
      "text/plain": [
       "9348"
      ]
     },
     "execution_count": 5,
     "metadata": {},
     "output_type": "execute_result"
    }
   ],
   "source": [
    "# random integer between two integers inclusive\n",
    "user_id = random.randint(1000, 9999)\n",
    "user_id"
   ]
  },
  {
   "cell_type": "code",
   "execution_count": 6,
   "id": "93e2c4b8",
   "metadata": {},
   "outputs": [
    {
     "data": {
      "text/plain": [
       "'red'"
      ]
     },
     "execution_count": 6,
     "metadata": {},
     "output_type": "execute_result"
    }
   ],
   "source": [
    "# select a random element from a sequence\n",
    "colors = ['red', 'green', 'blue']\n",
    "favorite = random.choice(colors)\n",
    "favorite"
   ]
  },
  {
   "cell_type": "code",
   "execution_count": 7,
   "id": "2ff0e3d3",
   "metadata": {},
   "outputs": [
    {
     "data": {
      "text/plain": [
       "5"
      ]
     },
     "execution_count": 7,
     "metadata": {},
     "output_type": "execute_result"
    }
   ],
   "source": [
    "# shuffle list in-place\n",
    "deck = list(range(1, 53))\n",
    "random.shuffle(deck)\n",
    "deck[0]"
   ]
  },
  {
   "cell_type": "code",
   "execution_count": 8,
   "id": "488782db",
   "metadata": {},
   "outputs": [
    {
     "data": {
      "text/plain": [
       "['Emilia', 'Hal']"
      ]
     },
     "execution_count": 8,
     "metadata": {},
     "output_type": "execute_result"
    }
   ],
   "source": [
    "# get a sample of k unique from population\n",
    "winners = random.sample([\"Alice\", \"Bob\", \"Emilia\", \"Dave\", \"Hal\"], k=2)\n",
    "winners"
   ]
  },
  {
   "cell_type": "code",
   "execution_count": 13,
   "id": "7a6c9c7a",
   "metadata": {},
   "outputs": [
    {
     "data": {
      "text/plain": [
       "23.0"
      ]
     },
     "execution_count": 13,
     "metadata": {},
     "output_type": "execute_result"
    }
   ],
   "source": [
    "# get a random float between a and b\n",
    "temp = random.uniform(20.0, 30.0)\n",
    "round(temp, 1)"
   ]
  },
  {
   "cell_type": "code",
   "execution_count": null,
   "id": "18ba4755",
   "metadata": {},
   "outputs": [
    {
     "data": {
      "text/plain": [
       "13"
      ]
     },
     "execution_count": 14,
     "metadata": {},
     "output_type": "execute_result"
    }
   ],
   "source": [
    "# randrange like randint\n",
    "hour = random.randrange(9, 18)\n",
    "hour"
   ]
  },
  {
   "cell_type": "code",
   "execution_count": 15,
   "id": "c6dc5f64",
   "metadata": {},
   "outputs": [],
   "source": [
    "# set seed for reproducible results\n",
    "set_seed = random.seed(42)\n",
    "set_seed"
   ]
  },
  {
   "cell_type": "code",
   "execution_count": 17,
   "id": "a47bfe26",
   "metadata": {},
   "outputs": [
    {
     "data": {
      "text/plain": [
       "70"
      ]
     },
     "execution_count": 17,
     "metadata": {},
     "output_type": "execute_result"
    }
   ],
   "source": [
    "# random integer with k random bits\n",
    "token = random.getrandbits(8)\n",
    "token"
   ]
  },
  {
   "cell_type": "code",
   "execution_count": 19,
   "id": "a7adc029",
   "metadata": {},
   "outputs": [
    {
     "data": {
      "text/plain": [
       "['banana']"
      ]
     },
     "execution_count": 19,
     "metadata": {},
     "output_type": "execute_result"
    }
   ],
   "source": [
    "# random elements with weighted sampling \n",
    "items = ['apple', 'banana', 'cherry']\n",
    "weights = [0.1, 0.8, 0.2]\n",
    "selected = random.choices(items, weights=weights)\n",
    "selected"
   ]
  },
  {
   "cell_type": "code",
   "execution_count": null,
   "id": "e3f0aeff",
   "metadata": {},
   "outputs": [],
   "source": []
  }
 ],
 "metadata": {
  "kernelspec": {
   "display_name": ".venv",
   "language": "python",
   "name": "python3"
  },
  "language_info": {
   "codemirror_mode": {
    "name": "ipython",
    "version": 3
   },
   "file_extension": ".py",
   "mimetype": "text/x-python",
   "name": "python",
   "nbconvert_exporter": "python",
   "pygments_lexer": "ipython3",
   "version": "3.13.5"
  }
 },
 "nbformat": 4,
 "nbformat_minor": 5
}
