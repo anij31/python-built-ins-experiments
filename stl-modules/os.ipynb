{
 "cells": [
  {
   "cell_type": "markdown",
   "id": "1d151fa9",
   "metadata": {},
   "source": [
    "An exploration of the os module"
   ]
  },
  {
   "cell_type": "code",
   "execution_count": 1,
   "id": "d4c13402",
   "metadata": {},
   "outputs": [],
   "source": [
    "import os"
   ]
  },
  {
   "cell_type": "code",
   "execution_count": 4,
   "id": "333cb87d",
   "metadata": {},
   "outputs": [
    {
     "name": "stdout",
     "output_type": "stream",
     "text": [
      "/home/ani/dev/projects/python-built-ins-experiments/stl-modules\n"
     ]
    }
   ],
   "source": [
    "# Use the getcwd method to get the current working directory\n",
    "current_directory = os.getcwd()\n",
    "print(current_directory)"
   ]
  },
  {
   "cell_type": "code",
   "execution_count": 5,
   "id": "06910381",
   "metadata": {},
   "outputs": [
    {
     "data": {
      "text/plain": [
       "['collections.ipynb',\n",
       " 'datetime.ipynb',\n",
       " 'random.ipynb',\n",
       " 'string.ipynb',\n",
       " 'typehinted.ipynb',\n",
       " 'log.txt',\n",
       " 'csv',\n",
       " 'file-io',\n",
       " 'os.ipynb']"
      ]
     },
     "execution_count": 5,
     "metadata": {},
     "output_type": "execute_result"
    }
   ],
   "source": [
    "# List the contents of the current directory\n",
    "os.listdir(\".\")"
   ]
  },
  {
   "cell_type": "code",
   "execution_count": 6,
   "id": "07ed53ee",
   "metadata": {},
   "outputs": [
    {
     "data": {
      "text/plain": [
       "['.git', 'LICENSE', 'README.md', '.venv', 'builtin-functions', 'stl-modules']"
      ]
     },
     "execution_count": 6,
     "metadata": {},
     "output_type": "execute_result"
    }
   ],
   "source": [
    "# Show contents of the parent directory\n",
    "os.listdir(\"../\")"
   ]
  },
  {
   "cell_type": "code",
   "execution_count": 7,
   "id": "a3e32814",
   "metadata": {},
   "outputs": [],
   "source": [
    "# Create a directory\n",
    "os.mkdir(\"test_dir\")"
   ]
  },
  {
   "cell_type": "code",
   "execution_count": 8,
   "id": "7a74b67c",
   "metadata": {},
   "outputs": [],
   "source": [
    "# Rename the test_dir directory \n",
    "os.rename(\"test_dir\", \"renamed_dir\")"
   ]
  },
  {
   "cell_type": "code",
   "execution_count": 9,
   "id": "547de134",
   "metadata": {},
   "outputs": [],
   "source": [
    "# Remove the renamed_dir\n",
    "os.rmdir(\"renamed_dir\")"
   ]
  },
  {
   "cell_type": "code",
   "execution_count": 10,
   "id": "06b7f3c9",
   "metadata": {},
   "outputs": [],
   "source": [
    "# Create a file \n",
    "with open(\"test_file.txt\", 'w'):\n",
    "    pass"
   ]
  },
  {
   "cell_type": "code",
   "execution_count": 12,
   "id": "d1f92d85",
   "metadata": {},
   "outputs": [],
   "source": [
    "# rename the test_file\n",
    "os.rename(\"test_file.txt\", \"renamed_file.txt\")"
   ]
  },
  {
   "cell_type": "code",
   "execution_count": 14,
   "id": "2ca2d79f",
   "metadata": {},
   "outputs": [],
   "source": [
    "# remove the renamed_file\n",
    "os.remove(\"renamed_file.txt\")"
   ]
  },
  {
   "cell_type": "code",
   "execution_count": 15,
   "id": "5f8a316c",
   "metadata": {},
   "outputs": [
    {
     "data": {
      "text/plain": [
       "'/home/ani/dev/projects/python-built-ins-experiments'"
      ]
     },
     "execution_count": 15,
     "metadata": {},
     "output_type": "execute_result"
    }
   ],
   "source": [
    "# Change the current working directory\n",
    "os.chdir(\"../\")\n",
    "os.getcwd()"
   ]
  },
  {
   "cell_type": "code",
   "execution_count": 17,
   "id": "10a5f7e9",
   "metadata": {},
   "outputs": [
    {
     "data": {
      "text/plain": [
       "'/home/ani/dev/projects/python-built-ins-experiments/stl-modules'"
      ]
     },
     "execution_count": 17,
     "metadata": {},
     "output_type": "execute_result"
    }
   ],
   "source": [
    "# Go back to previous directory\n",
    "os.chdir(\"stl-modules\")\n",
    "os.getcwd()"
   ]
  },
  {
   "cell_type": "code",
   "execution_count": 19,
   "id": "1e1b36d3",
   "metadata": {},
   "outputs": [
    {
     "name": "stdout",
     "output_type": "stream",
     "text": [
      "True\n",
      "True\n",
      "True\n",
      "True\n"
     ]
    }
   ],
   "source": [
    "# Check if the path exists or not\n",
    "print(os.path.exists(\"/home\"))\n",
    "print(os.path.exists(\"/home/\"))\n",
    "print(os.path.exists(\"/home/ani\"))\n",
    "print(os.path.exists(\".\"))"
   ]
  },
  {
   "cell_type": "code",
   "execution_count": 22,
   "id": "faeaa011",
   "metadata": {},
   "outputs": [
    {
     "name": "stdout",
     "output_type": "stream",
     "text": [
      "True\n",
      "False\n",
      "True\n",
      "True\n",
      "True\n",
      "False\n"
     ]
    }
   ],
   "source": [
    "# Check if a path is a file, a directory or a symlink\n",
    "print(os.path.isfile(\"collections.ipynb\"))\n",
    "print(os.path.isfile(\".\"))\n",
    "print(os.path.isdir(\".\"))\n",
    "print(os.path.isdir(\"../\"))\n",
    "print(os.path.isdir(\"/home\"))\n",
    "print(os.path.islink(\"os.ipynb\"))"
   ]
  },
  {
   "cell_type": "code",
   "execution_count": 23,
   "id": "a29012ef",
   "metadata": {},
   "outputs": [
    {
     "name": "stdout",
     "output_type": "stream",
     "text": [
      "../ ['.git', '.venv', 'builtin-functions', 'stl-modules'] ['LICENSE', 'README.md']\n",
      "../.git ['hooks', 'info', 'objects', 'refs', 'logs'] ['description', 'packed-refs', 'HEAD', 'config', 'COMMIT_EDITMSG', 'index']\n",
      "../.git/hooks [] ['applypatch-msg.sample', 'commit-msg.sample', 'post-update.sample', 'pre-applypatch.sample', 'pre-commit.sample', 'pre-merge-commit.sample', 'pre-push.sample', 'pre-receive.sample', 'push-to-checkout.sample', 'sendemail-validate.sample', 'update.sample', 'fsmonitor-watchman.sample', 'pre-rebase.sample', 'prepare-commit-msg.sample']\n",
      "../.git/info [] ['exclude']\n",
      "../.git/objects ['pack', 'info', '3b', '80', 'cd', 'a6', '4e', 'fd', 'a7', 'da', '82', '6c', '68', 'ff', 'd1', '8a', 'e8', 'c9', '1d', '3f', '46', '08', '14', 'e5', '64', '77', '25', '42', '58', '78', 'cc', 'e0', 'f7', '8b', 'ba', 'dc', '59', 'be', '97'] []\n",
      "../.git/objects/pack [] ['pack-ee1089f1d267ec26bbf95bf57d668a5e2e3d9a3d.pack', 'pack-ee1089f1d267ec26bbf95bf57d668a5e2e3d9a3d.rev', 'pack-ee1089f1d267ec26bbf95bf57d668a5e2e3d9a3d.idx']\n",
      "../.git/objects/info [] []\n",
      "../.git/objects/3b [] ['d29bfe0e42d33917126b14fa5b2cdc42d61913']\n",
      "../.git/objects/80 [] ['305cd1cab1a644ab022bc6b960e764c3522270', '45cdded3f66f19a85355d874225ebd07b92288']\n",
      "../.git/objects/cd [] ['02a0d6527ad975ad0c7e464bd29e41aa2e83ef']\n",
      "../.git/objects/a6 [] ['feb08a8b3c8a4f41a4fc3d8fcf9ba676cdff6d']\n",
      "../.git/objects/4e [] ['571dcf8aba825833f231c6c18311b8c42ae900']\n",
      "../.git/objects/fd [] ['4cc9b49b49c38e5b75f110de9138779206c539']\n",
      "../.git/objects/a7 [] ['0a37afac12220917dbdce46bb216f1cb2b8550']\n",
      "../.git/objects/da [] ['d422999f53d9cf6712348e6492b2cbb430d246', '96be41f36e6c1d83db021815cb8d634ebc2c44']\n",
      "../.git/objects/82 [] ['29e65c9134510fbe8c0105475cb200493da111', 'cc29f86c079c45ebf0bb125198b8397a612f68']\n",
      "../.git/objects/6c [] ['92848111a5fe2d22de5b837908a2f8b2eeaf3f']\n",
      "../.git/objects/68 [] ['ebc5a77955ceea2c30a8fd63bf619f92930208']\n",
      "../.git/objects/ff [] ['077fdff8acc4c73e977ccfca821940fbd10de2']\n",
      "../.git/objects/d1 [] ['f7aebd5924cef8633c839b7ea2015c5d7a037d']\n",
      "../.git/objects/8a [] ['b686eafeb1f44702738c8b0f24f2567c36da6d']\n",
      "../.git/objects/e8 [] ['66848c4729e92a83f0acac1948af59af22862b']\n",
      "../.git/objects/c9 [] ['3426d93365f858f665b1d4b5888f952217cd31']\n",
      "../.git/objects/1d [] ['874e1b284a8d5eb3ef7e9e66556ea33090ec91', '65b6ba28c70560cc34d57b9d4be0db97125a05']\n",
      "../.git/objects/3f [] ['6946fdb1f2c4f6ea4f7befce127c3ac032644a', 'f944e09139ddcd7755234b8e7bcb13256a144a']\n",
      "../.git/objects/46 [] ['bfda3fc2da5d9514cb172704ce75938f975fbe']\n",
      "../.git/objects/08 [] ['dc6c50228f583ad7d40a6320cf71dae24567f1']\n",
      "../.git/objects/14 [] ['eba885b641858dc990d3e59d2ee3a6a9063c06']\n",
      "../.git/objects/e5 [] ['6b33c72e4f5675bd7d3ba8b2b22969f2f93928', '8a9920aeb16718b2c2d3c4111ead5106ec2ddb']\n",
      "../.git/objects/64 [] ['0fd30c0aafa989fd3874b8ec4e909e4647e12e']\n",
      "../.git/objects/77 [] ['5c57e65e48f5a10def2c7ac4657a97640fedaf']\n",
      "../.git/objects/25 [] ['a15c625d6129e48f3755b3a19f6d9fb458cda9', '24e8ebcdde8da8776811e107c1db2599b0c9bc']\n",
      "../.git/objects/42 [] ['ade8f24845b626cace5b9b011b3c2833fe3aab']\n",
      "../.git/objects/58 [] ['fe6a5ff8bbbce78e42bc35d1185b45bdff3389']\n",
      "../.git/objects/78 [] ['176c2851bfd768138564335c9edb652be84df0']\n",
      "../.git/objects/cc [] ['9bd36fe70f54acc024bb266a21783d088e5b35']\n",
      "../.git/objects/e0 [] ['adc8e9282d9cff6ab35640e96559e092d99054']\n",
      "../.git/objects/f7 [] ['29a45a9813cafa9df5b1c9004c8504bc352582']\n",
      "../.git/objects/8b [] ['7bc2dbc275b72a9e92869cfcf7a45cf0dcd0c3']\n",
      "../.git/objects/ba [] ['bd56af842a09c7fc17023c02a61a2b98899b9e']\n",
      "../.git/objects/dc [] ['b606d377b5266ace9fd1f7e3988f5a0d19e456']\n",
      "../.git/objects/59 [] ['477dc1f0af4342adc477258efefc8afa96796e']\n",
      "../.git/objects/be [] ['754caff363405cace063fd620812b7dea47ef3']\n",
      "../.git/objects/97 [] ['c9b4d5d9b08e4a6ccb80b55976fe1519f2612c']\n",
      "../.git/refs ['heads', 'tags', 'remotes'] []\n",
      "../.git/refs/heads [] ['main']\n",
      "../.git/refs/tags [] []\n",
      "../.git/refs/remotes ['origin'] []\n",
      "../.git/refs/remotes/origin [] ['HEAD', 'main']\n",
      "../.git/logs ['refs'] ['HEAD']\n",
      "../.git/logs/refs ['remotes', 'heads'] []\n",
      "../.git/logs/refs/remotes ['origin'] []\n",
      "../.git/logs/refs/remotes/origin [] ['HEAD', 'main']\n",
      "../.git/logs/refs/heads [] ['main']\n",
      "../.venv ['include', 'lib', 'lib64', 'bin', 'share'] ['.gitignore', 'pyvenv.cfg']\n",
      "../.venv/include ['python3.13'] []\n",
      "../.venv/include/python3.13 [] []\n",
      "../.venv/lib ['python3.13'] []\n",
      "../.venv/lib/python3.13 ['site-packages'] []\n",
      "../.venv/lib/python3.13/site-packages ['pip', 'pip-24.3.1.dist-info', 'wcwidth', 'wcwidth-0.2.13.dist-info', 'pure_eval', 'pure_eval-0.2.3.dist-info', 'ptyprocess', 'ptyprocess-0.7.0.dist-info', 'traitlets', 'traitlets-5.14.3.dist-info', 'tornado', 'tornado-6.5.1.dist-info', 'six-1.17.0.dist-info', '__pycache__', 'pyzmq.libs', 'zmq', 'pyzmq-27.0.0.dist-info', 'pygments', 'pygments-2.19.2.dist-info', 'psutil', 'psutil-7.0.0.dist-info', 'prompt_toolkit', 'prompt_toolkit-3.0.51.dist-info', 'platformdirs', 'platformdirs-4.3.8.dist-info', 'pexpect', 'pexpect-4.9.0.dist-info', 'parso', 'parso-0.8.4.dist-info', 'packaging', 'packaging-25.0.dist-info', 'nest_asyncio-1.6.0.dist-info', 'executing', 'executing-2.2.0.dist-info', 'decorator-5.2.1.dist-info', 'debugpy', 'debugpy-1.8.15.dist-info', 'comm', 'comm-0.2.3.dist-info', 'asttokens', 'asttokens-3.0.0.dist-info', 'stack_data', 'stack_data-0.6.3.dist-info', 'dateutil', 'python_dateutil-2.9.0.post0.dist-info', 'matplotlib_inline', 'matplotlib_inline-0.1.7.dist-info', 'jupyter_core', 'jupyter_core-5.8.1.dist-info', 'jedi', 'jedi-0.19.2.dist-info', 'ipython_pygments_lexers-1.1.1.dist-info', 'jupyter_client', 'jupyter_client-8.6.3.dist-info', 'IPython', 'ipython-9.4.0.dist-info', 'ipykernel', 'ipykernel-6.30.0.dist-info'] ['six.py', 'nest_asyncio.py', 'decorator.py', 'jupyter.py', 'ipython_pygments_lexers.py', 'ipykernel_launcher.py']\n",
      "../.venv/lib/python3.13/site-packages/pip ['_internal', '_vendor', '__pycache__'] ['__init__.py', '__main__.py', '__pip-runner__.py', 'py.typed']\n",
      "../.venv/lib/python3.13/site-packages/pip/_internal ['cli', 'commands', 'distributions', 'index', 'locations', 'metadata', 'models', 'network', 'operations', 'req', 'resolution', 'utils', 'vcs', '__pycache__'] ['__init__.py', 'build_env.py', 'cache.py', 'configuration.py', 'exceptions.py', 'main.py', 'pyproject.py', 'self_outdated_check.py', 'wheel_builder.py']\n",
      "../.venv/lib/python3.13/site-packages/pip/_internal/cli ['__pycache__'] ['__init__.py', 'autocompletion.py', 'base_command.py', 'cmdoptions.py', 'command_context.py', 'index_command.py', 'main.py', 'main_parser.py', 'parser.py', 'progress_bars.py', 'req_command.py', 'spinners.py', 'status_codes.py']\n",
      "../.venv/lib/python3.13/site-packages/pip/_internal/cli/__pycache__ [] ['__init__.cpython-313.pyc', 'autocompletion.cpython-313.pyc', 'base_command.cpython-313.pyc', 'cmdoptions.cpython-313.pyc', 'command_context.cpython-313.pyc', 'index_command.cpython-313.pyc', 'main.cpython-313.pyc', 'main_parser.cpython-313.pyc', 'parser.cpython-313.pyc', 'progress_bars.cpython-313.pyc', 'req_command.cpython-313.pyc', 'spinners.cpython-313.pyc', 'status_codes.cpython-313.pyc']\n",
      "../.venv/lib/python3.13/site-packages/pip/_internal/commands ['__pycache__'] ['__init__.py', 'cache.py', 'check.py', 'completion.py', 'configuration.py', 'debug.py', 'download.py', 'freeze.py', 'hash.py', 'help.py', 'index.py', 'inspect.py', 'install.py', 'list.py', 'search.py', 'show.py', 'uninstall.py', 'wheel.py']\n",
      "../.venv/lib/python3.13/site-packages/pip/_internal/commands/__pycache__ [] ['__init__.cpython-313.pyc', 'cache.cpython-313.pyc', 'check.cpython-313.pyc', 'completion.cpython-313.pyc', 'configuration.cpython-313.pyc', 'debug.cpython-313.pyc', 'download.cpython-313.pyc', 'freeze.cpython-313.pyc', 'hash.cpython-313.pyc', 'help.cpython-313.pyc', 'index.cpython-313.pyc', 'inspect.cpython-313.pyc', 'install.cpython-313.pyc', 'list.cpython-313.pyc', 'search.cpython-313.pyc', 'show.cpython-313.pyc', 'uninstall.cpython-313.pyc', 'wheel.cpython-313.pyc']\n",
      "../.venv/lib/python3.13/site-packages/pip/_internal/distributions ['__pycache__'] ['__init__.py', 'base.py', 'installed.py', 'sdist.py', 'wheel.py']\n",
      "../.venv/lib/python3.13/site-packages/pip/_internal/distributions/__pycache__ [] ['__init__.cpython-313.pyc', 'base.cpython-313.pyc', 'installed.cpython-313.pyc', 'sdist.cpython-313.pyc', 'wheel.cpython-313.pyc']\n",
      "../.venv/lib/python3.13/site-packages/pip/_internal/index ['__pycache__'] ['__init__.py', 'collector.py', 'package_finder.py', 'sources.py']\n",
      "../.venv/lib/python3.13/site-packages/pip/_internal/index/__pycache__ [] ['__init__.cpython-313.pyc', 'collector.cpython-313.pyc', 'package_finder.cpython-313.pyc', 'sources.cpython-313.pyc']\n",
      "../.venv/lib/python3.13/site-packages/pip/_internal/locations ['__pycache__'] ['__init__.py', '_distutils.py', '_sysconfig.py', 'base.py']\n",
      "../.venv/lib/python3.13/site-packages/pip/_internal/locations/__pycache__ [] ['__init__.cpython-313.pyc', '_distutils.cpython-313.pyc', '_sysconfig.cpython-313.pyc', 'base.cpython-313.pyc']\n",
      "../.venv/lib/python3.13/site-packages/pip/_internal/metadata ['importlib', '__pycache__'] ['__init__.py', '_json.py', 'base.py', 'pkg_resources.py']\n",
      "../.venv/lib/python3.13/site-packages/pip/_internal/metadata/importlib ['__pycache__'] ['__init__.py', '_compat.py', '_dists.py', '_envs.py']\n",
      "../.venv/lib/python3.13/site-packages/pip/_internal/metadata/importlib/__pycache__ [] ['__init__.cpython-313.pyc', '_compat.cpython-313.pyc', '_dists.cpython-313.pyc', '_envs.cpython-313.pyc']\n",
      "../.venv/lib/python3.13/site-packages/pip/_internal/metadata/__pycache__ [] ['__init__.cpython-313.pyc', '_json.cpython-313.pyc', 'base.cpython-313.pyc', 'pkg_resources.cpython-313.pyc']\n",
      "../.venv/lib/python3.13/site-packages/pip/_internal/models ['__pycache__'] ['__init__.py', 'candidate.py', 'direct_url.py', 'format_control.py', 'index.py', 'installation_report.py', 'link.py', 'scheme.py', 'search_scope.py', 'selection_prefs.py', 'target_python.py', 'wheel.py']\n",
      "../.venv/lib/python3.13/site-packages/pip/_internal/models/__pycache__ [] ['__init__.cpython-313.pyc', 'candidate.cpython-313.pyc', 'direct_url.cpython-313.pyc', 'format_control.cpython-313.pyc', 'index.cpython-313.pyc', 'installation_report.cpython-313.pyc', 'link.cpython-313.pyc', 'scheme.cpython-313.pyc', 'search_scope.cpython-313.pyc', 'selection_prefs.cpython-313.pyc', 'target_python.cpython-313.pyc', 'wheel.cpython-313.pyc']\n",
      "../.venv/lib/python3.13/site-packages/pip/_internal/network ['__pycache__'] ['__init__.py', 'auth.py', 'cache.py', 'download.py', 'lazy_wheel.py', 'session.py', 'utils.py', 'xmlrpc.py']\n",
      "../.venv/lib/python3.13/site-packages/pip/_internal/network/__pycache__ [] ['__init__.cpython-313.pyc', 'auth.cpython-313.pyc', 'cache.cpython-313.pyc', 'download.cpython-313.pyc', 'lazy_wheel.cpython-313.pyc', 'session.cpython-313.pyc', 'utils.cpython-313.pyc', 'xmlrpc.cpython-313.pyc']\n",
      "../.venv/lib/python3.13/site-packages/pip/_internal/operations ['build', 'install', '__pycache__'] ['__init__.py', 'check.py', 'freeze.py', 'prepare.py']\n",
      "../.venv/lib/python3.13/site-packages/pip/_internal/operations/build ['__pycache__'] ['__init__.py', 'build_tracker.py', 'metadata.py', 'metadata_editable.py', 'metadata_legacy.py', 'wheel.py', 'wheel_editable.py', 'wheel_legacy.py']\n",
      "../.venv/lib/python3.13/site-packages/pip/_internal/operations/build/__pycache__ [] ['__init__.cpython-313.pyc', 'build_tracker.cpython-313.pyc', 'metadata.cpython-313.pyc', 'metadata_editable.cpython-313.pyc', 'metadata_legacy.cpython-313.pyc', 'wheel.cpython-313.pyc', 'wheel_editable.cpython-313.pyc', 'wheel_legacy.cpython-313.pyc']\n",
      "../.venv/lib/python3.13/site-packages/pip/_internal/operations/install ['__pycache__'] ['__init__.py', 'editable_legacy.py', 'wheel.py']\n",
      "../.venv/lib/python3.13/site-packages/pip/_internal/operations/install/__pycache__ [] ['__init__.cpython-313.pyc', 'editable_legacy.cpython-313.pyc', 'wheel.cpython-313.pyc']\n",
      "../.venv/lib/python3.13/site-packages/pip/_internal/operations/__pycache__ [] ['__init__.cpython-313.pyc', 'check.cpython-313.pyc', 'freeze.cpython-313.pyc', 'prepare.cpython-313.pyc']\n",
      "../.venv/lib/python3.13/site-packages/pip/_internal/req ['__pycache__'] ['__init__.py', 'constructors.py', 'req_file.py', 'req_install.py', 'req_set.py', 'req_uninstall.py']\n",
      "../.venv/lib/python3.13/site-packages/pip/_internal/req/__pycache__ [] ['__init__.cpython-313.pyc', 'constructors.cpython-313.pyc', 'req_file.cpython-313.pyc', 'req_install.cpython-313.pyc', 'req_set.cpython-313.pyc', 'req_uninstall.cpython-313.pyc']\n",
      "../.venv/lib/python3.13/site-packages/pip/_internal/resolution ['legacy', 'resolvelib', '__pycache__'] ['__init__.py', 'base.py']\n",
      "../.venv/lib/python3.13/site-packages/pip/_internal/resolution/legacy ['__pycache__'] ['__init__.py', 'resolver.py']\n",
      "../.venv/lib/python3.13/site-packages/pip/_internal/resolution/legacy/__pycache__ [] ['__init__.cpython-313.pyc', 'resolver.cpython-313.pyc']\n",
      "../.venv/lib/python3.13/site-packages/pip/_internal/resolution/resolvelib ['__pycache__'] ['__init__.py', 'base.py', 'candidates.py', 'factory.py', 'found_candidates.py', 'provider.py', 'reporter.py', 'requirements.py', 'resolver.py']\n",
      "../.venv/lib/python3.13/site-packages/pip/_internal/resolution/resolvelib/__pycache__ [] ['__init__.cpython-313.pyc', 'base.cpython-313.pyc', 'candidates.cpython-313.pyc', 'factory.cpython-313.pyc', 'found_candidates.cpython-313.pyc', 'provider.cpython-313.pyc', 'reporter.cpython-313.pyc', 'requirements.cpython-313.pyc', 'resolver.cpython-313.pyc']\n",
      "../.venv/lib/python3.13/site-packages/pip/_internal/resolution/__pycache__ [] ['__init__.cpython-313.pyc', 'base.cpython-313.pyc']\n",
      "../.venv/lib/python3.13/site-packages/pip/_internal/utils ['__pycache__'] ['__init__.py', '_jaraco_text.py', '_log.py', 'appdirs.py', 'compat.py', 'compatibility_tags.py', 'datetime.py', 'deprecation.py', 'direct_url_helpers.py', 'egg_link.py', 'encoding.py', 'entrypoints.py', 'filesystem.py', 'filetypes.py', 'glibc.py', 'hashes.py', 'logging.py', 'misc.py', 'packaging.py', 'retry.py', 'setuptools_build.py', 'subprocess.py', 'temp_dir.py', 'unpacking.py', 'urls.py', 'virtualenv.py', 'wheel.py']\n",
      "../.venv/lib/python3.13/site-packages/pip/_internal/utils/__pycache__ [] ['__init__.cpython-313.pyc', '_jaraco_text.cpython-313.pyc', '_log.cpython-313.pyc', 'appdirs.cpython-313.pyc', 'compat.cpython-313.pyc', 'compatibility_tags.cpython-313.pyc', 'datetime.cpython-313.pyc', 'deprecation.cpython-313.pyc', 'direct_url_helpers.cpython-313.pyc', 'egg_link.cpython-313.pyc', 'encoding.cpython-313.pyc', 'entrypoints.cpython-313.pyc', 'filesystem.cpython-313.pyc', 'filetypes.cpython-313.pyc', 'glibc.cpython-313.pyc', 'hashes.cpython-313.pyc', 'logging.cpython-313.pyc', 'misc.cpython-313.pyc', 'packaging.cpython-313.pyc', 'retry.cpython-313.pyc', 'setuptools_build.cpython-313.pyc', 'subprocess.cpython-313.pyc', 'temp_dir.cpython-313.pyc', 'unpacking.cpython-313.pyc', 'urls.cpython-313.pyc', 'virtualenv.cpython-313.pyc', 'wheel.cpython-313.pyc']\n",
      "../.venv/lib/python3.13/site-packages/pip/_internal/vcs ['__pycache__'] ['__init__.py', 'bazaar.py', 'git.py', 'mercurial.py', 'subversion.py', 'versioncontrol.py']\n",
      "../.venv/lib/python3.13/site-packages/pip/_internal/vcs/__pycache__ [] ['__init__.cpython-313.pyc', 'bazaar.cpython-313.pyc', 'git.cpython-313.pyc', 'mercurial.cpython-313.pyc', 'subversion.cpython-313.pyc', 'versioncontrol.cpython-313.pyc']\n",
      "../.venv/lib/python3.13/site-packages/pip/_internal/__pycache__ [] ['__init__.cpython-313.pyc', 'build_env.cpython-313.pyc', 'cache.cpython-313.pyc', 'configuration.cpython-313.pyc', 'exceptions.cpython-313.pyc', 'main.cpython-313.pyc', 'pyproject.cpython-313.pyc', 'self_outdated_check.cpython-313.pyc', 'wheel_builder.cpython-313.pyc']\n",
      "../.venv/lib/python3.13/site-packages/pip/_vendor ['cachecontrol', 'certifi', 'distlib', 'distro', 'idna', 'msgpack', 'packaging', 'pkg_resources', 'platformdirs', 'pygments', 'pyproject_hooks', 'requests', 'resolvelib', 'rich', 'tomli', 'truststore', 'urllib3', '__pycache__'] ['__init__.py', 'distlib.pyi', 'msgpack.pyi', 'pkg_resources.pyi', 'pygments.pyi', 'pyproject_hooks.pyi', 'requests.pyi', 'typing_extensions.py', 'typing_extensions.pyi', 'urllib3.pyi', 'vendor.txt']\n",
      "../.venv/lib/python3.13/site-packages/pip/_vendor/cachecontrol ['caches', '__pycache__'] ['__init__.py', '_cmd.py', 'adapter.py', 'cache.py', 'controller.py', 'filewrapper.py', 'heuristics.py', 'py.typed', 'serialize.py', 'wrapper.py']\n",
      "../.venv/lib/python3.13/site-packages/pip/_vendor/cachecontrol/caches ['__pycache__'] ['__init__.py', 'file_cache.py', 'redis_cache.py']\n",
      "../.venv/lib/python3.13/site-packages/pip/_vendor/cachecontrol/caches/__pycache__ [] ['__init__.cpython-313.pyc', 'file_cache.cpython-313.pyc', 'redis_cache.cpython-313.pyc']\n",
      "../.venv/lib/python3.13/site-packages/pip/_vendor/cachecontrol/__pycache__ [] ['__init__.cpython-313.pyc', '_cmd.cpython-313.pyc', 'adapter.cpython-313.pyc', 'cache.cpython-313.pyc', 'controller.cpython-313.pyc', 'filewrapper.cpython-313.pyc', 'heuristics.cpython-313.pyc', 'serialize.cpython-313.pyc', 'wrapper.cpython-313.pyc']\n",
      "../.venv/lib/python3.13/site-packages/pip/_vendor/certifi ['__pycache__'] ['__init__.py', '__main__.py', 'core.py', 'py.typed']\n",
      "../.venv/lib/python3.13/site-packages/pip/_vendor/certifi/__pycache__ [] ['__init__.cpython-313.pyc', '__main__.cpython-313.pyc', 'core.cpython-313.pyc']\n",
      "../.venv/lib/python3.13/site-packages/pip/_vendor/distlib ['__pycache__'] ['__init__.py', 'compat.py', 'database.py', 'index.py', 'locators.py', 'manifest.py', 'markers.py', 'metadata.py', 'resources.py', 'scripts.py', 'util.py', 'version.py', 'wheel.py']\n",
      "../.venv/lib/python3.13/site-packages/pip/_vendor/distlib/__pycache__ [] ['__init__.cpython-313.pyc', 'compat.cpython-313.pyc', 'database.cpython-313.pyc', 'index.cpython-313.pyc', 'locators.cpython-313.pyc', 'manifest.cpython-313.pyc', 'markers.cpython-313.pyc', 'metadata.cpython-313.pyc', 'resources.cpython-313.pyc', 'scripts.cpython-313.pyc', 'util.cpython-313.pyc', 'version.cpython-313.pyc', 'wheel.cpython-313.pyc']\n",
      "../.venv/lib/python3.13/site-packages/pip/_vendor/distro ['__pycache__'] ['__init__.py', '__main__.py', 'distro.py', 'py.typed']\n",
      "../.venv/lib/python3.13/site-packages/pip/_vendor/distro/__pycache__ [] ['__init__.cpython-313.pyc', '__main__.cpython-313.pyc', 'distro.cpython-313.pyc']\n",
      "../.venv/lib/python3.13/site-packages/pip/_vendor/idna ['__pycache__'] ['__init__.py', 'codec.py', 'compat.py', 'core.py', 'idnadata.py', 'intranges.py', 'package_data.py', 'py.typed', 'uts46data.py']\n",
      "../.venv/lib/python3.13/site-packages/pip/_vendor/idna/__pycache__ [] ['__init__.cpython-313.pyc', 'codec.cpython-313.pyc', 'compat.cpython-313.pyc', 'core.cpython-313.pyc', 'idnadata.cpython-313.pyc', 'intranges.cpython-313.pyc', 'package_data.cpython-313.pyc', 'uts46data.cpython-313.pyc']\n",
      "../.venv/lib/python3.13/site-packages/pip/_vendor/msgpack ['__pycache__'] ['__init__.py', 'exceptions.py', 'ext.py', 'fallback.py']\n",
      "../.venv/lib/python3.13/site-packages/pip/_vendor/msgpack/__pycache__ [] ['__init__.cpython-313.pyc', 'exceptions.cpython-313.pyc', 'ext.cpython-313.pyc', 'fallback.cpython-313.pyc']\n",
      "../.venv/lib/python3.13/site-packages/pip/_vendor/packaging ['__pycache__'] ['__init__.py', '_elffile.py', '_manylinux.py', '_musllinux.py', '_parser.py', '_structures.py', '_tokenizer.py', 'markers.py', 'metadata.py', 'py.typed', 'requirements.py', 'specifiers.py', 'tags.py', 'utils.py', 'version.py']\n",
      "../.venv/lib/python3.13/site-packages/pip/_vendor/packaging/__pycache__ [] ['__init__.cpython-313.pyc', '_elffile.cpython-313.pyc', '_manylinux.cpython-313.pyc', '_musllinux.cpython-313.pyc', '_parser.cpython-313.pyc', '_structures.cpython-313.pyc', '_tokenizer.cpython-313.pyc', 'markers.cpython-313.pyc', 'metadata.cpython-313.pyc', 'requirements.cpython-313.pyc', 'specifiers.cpython-313.pyc', 'tags.cpython-313.pyc', 'utils.cpython-313.pyc', 'version.cpython-313.pyc']\n",
      "../.venv/lib/python3.13/site-packages/pip/_vendor/pkg_resources ['__pycache__'] ['__init__.py']\n",
      "../.venv/lib/python3.13/site-packages/pip/_vendor/pkg_resources/__pycache__ [] ['__init__.cpython-313.pyc']\n",
      "../.venv/lib/python3.13/site-packages/pip/_vendor/platformdirs ['__pycache__'] ['__init__.py', '__main__.py', 'android.py', 'api.py', 'macos.py', 'py.typed', 'unix.py', 'version.py', 'windows.py']\n",
      "../.venv/lib/python3.13/site-packages/pip/_vendor/platformdirs/__pycache__ [] ['__init__.cpython-313.pyc', '__main__.cpython-313.pyc', 'android.cpython-313.pyc', 'api.cpython-313.pyc', 'macos.cpython-313.pyc', 'unix.cpython-313.pyc', 'version.cpython-313.pyc', 'windows.cpython-313.pyc']\n",
      "../.venv/lib/python3.13/site-packages/pip/_vendor/pygments ['filters', 'formatters', 'lexers', 'styles', '__pycache__'] ['__init__.py', '__main__.py', 'cmdline.py', 'console.py', 'filter.py', 'formatter.py', 'lexer.py', 'modeline.py', 'plugin.py', 'regexopt.py', 'scanner.py', 'sphinxext.py', 'style.py', 'token.py', 'unistring.py', 'util.py']\n",
      "../.venv/lib/python3.13/site-packages/pip/_vendor/pygments/filters ['__pycache__'] ['__init__.py']\n",
      "../.venv/lib/python3.13/site-packages/pip/_vendor/pygments/filters/__pycache__ [] ['__init__.cpython-313.pyc']\n",
      "../.venv/lib/python3.13/site-packages/pip/_vendor/pygments/formatters ['__pycache__'] ['__init__.py', '_mapping.py', 'bbcode.py', 'groff.py', 'html.py', 'img.py', 'irc.py', 'latex.py', 'other.py', 'pangomarkup.py', 'rtf.py', 'svg.py', 'terminal.py', 'terminal256.py']\n",
      "../.venv/lib/python3.13/site-packages/pip/_vendor/pygments/formatters/__pycache__ [] ['__init__.cpython-313.pyc', '_mapping.cpython-313.pyc', 'bbcode.cpython-313.pyc', 'groff.cpython-313.pyc', 'html.cpython-313.pyc', 'img.cpython-313.pyc', 'irc.cpython-313.pyc', 'latex.cpython-313.pyc', 'other.cpython-313.pyc', 'pangomarkup.cpython-313.pyc', 'rtf.cpython-313.pyc', 'svg.cpython-313.pyc', 'terminal.cpython-313.pyc', 'terminal256.cpython-313.pyc']\n",
      "../.venv/lib/python3.13/site-packages/pip/_vendor/pygments/lexers ['__pycache__'] ['__init__.py', '_mapping.py', 'python.py']\n",
      "../.venv/lib/python3.13/site-packages/pip/_vendor/pygments/lexers/__pycache__ [] ['__init__.cpython-313.pyc', '_mapping.cpython-313.pyc', 'python.cpython-313.pyc']\n",
      "../.venv/lib/python3.13/site-packages/pip/_vendor/pygments/styles ['__pycache__'] ['__init__.py', '_mapping.py']\n",
      "../.venv/lib/python3.13/site-packages/pip/_vendor/pygments/styles/__pycache__ [] ['__init__.cpython-313.pyc', '_mapping.cpython-313.pyc']\n",
      "../.venv/lib/python3.13/site-packages/pip/_vendor/pygments/__pycache__ [] ['__init__.cpython-313.pyc', '__main__.cpython-313.pyc', 'cmdline.cpython-313.pyc', 'console.cpython-313.pyc', 'filter.cpython-313.pyc', 'formatter.cpython-313.pyc', 'lexer.cpython-313.pyc', 'modeline.cpython-313.pyc', 'plugin.cpython-313.pyc', 'regexopt.cpython-313.pyc', 'scanner.cpython-313.pyc', 'sphinxext.cpython-313.pyc', 'style.cpython-313.pyc', 'token.cpython-313.pyc', 'unistring.cpython-313.pyc', 'util.cpython-313.pyc']\n",
      "../.venv/lib/python3.13/site-packages/pip/_vendor/pyproject_hooks ['_in_process', '__pycache__'] ['__init__.py', '_compat.py', '_impl.py']\n",
      "../.venv/lib/python3.13/site-packages/pip/_vendor/pyproject_hooks/_in_process ['__pycache__'] ['__init__.py', '_in_process.py']\n",
      "../.venv/lib/python3.13/site-packages/pip/_vendor/pyproject_hooks/_in_process/__pycache__ [] ['__init__.cpython-313.pyc', '_in_process.cpython-313.pyc']\n",
      "../.venv/lib/python3.13/site-packages/pip/_vendor/pyproject_hooks/__pycache__ [] ['__init__.cpython-313.pyc', '_compat.cpython-313.pyc', '_impl.cpython-313.pyc']\n",
      "../.venv/lib/python3.13/site-packages/pip/_vendor/requests ['__pycache__'] ['__init__.py', '__version__.py', '_internal_utils.py', 'adapters.py', 'api.py', 'auth.py', 'certs.py', 'compat.py', 'cookies.py', 'exceptions.py', 'help.py', 'hooks.py', 'models.py', 'packages.py', 'sessions.py', 'status_codes.py', 'structures.py', 'utils.py']\n",
      "../.venv/lib/python3.13/site-packages/pip/_vendor/requests/__pycache__ [] ['__init__.cpython-313.pyc', '__version__.cpython-313.pyc', '_internal_utils.cpython-313.pyc', 'adapters.cpython-313.pyc', 'api.cpython-313.pyc', 'auth.cpython-313.pyc', 'certs.cpython-313.pyc', 'compat.cpython-313.pyc', 'cookies.cpython-313.pyc', 'exceptions.cpython-313.pyc', 'help.cpython-313.pyc', 'hooks.cpython-313.pyc', 'models.cpython-313.pyc', 'packages.cpython-313.pyc', 'sessions.cpython-313.pyc', 'status_codes.cpython-313.pyc', 'structures.cpython-313.pyc', 'utils.cpython-313.pyc']\n",
      "../.venv/lib/python3.13/site-packages/pip/_vendor/resolvelib ['compat', '__pycache__'] ['__init__.py', '__init__.pyi', 'providers.py', 'providers.pyi', 'py.typed', 'reporters.py', 'reporters.pyi', 'resolvers.py', 'resolvers.pyi', 'structs.py', 'structs.pyi']\n",
      "../.venv/lib/python3.13/site-packages/pip/_vendor/resolvelib/compat ['__pycache__'] ['__init__.py', 'collections_abc.py', 'collections_abc.pyi']\n",
      "../.venv/lib/python3.13/site-packages/pip/_vendor/resolvelib/compat/__pycache__ [] ['__init__.cpython-313.pyc', 'collections_abc.cpython-313.pyc']\n",
      "../.venv/lib/python3.13/site-packages/pip/_vendor/resolvelib/__pycache__ [] ['__init__.cpython-313.pyc', 'providers.cpython-313.pyc', 'reporters.cpython-313.pyc', 'resolvers.cpython-313.pyc', 'structs.cpython-313.pyc']\n",
      "../.venv/lib/python3.13/site-packages/pip/_vendor/rich ['__pycache__'] ['__init__.py', '__main__.py', '_cell_widths.py', '_emoji_codes.py', '_emoji_replace.py', '_export_format.py', '_extension.py', '_fileno.py', '_inspect.py', '_log_render.py', '_loop.py', '_null_file.py', '_palettes.py', '_pick.py', '_ratio.py', '_spinners.py', '_stack.py', '_timer.py', '_win32_console.py', '_windows.py', '_windows_renderer.py', '_wrap.py', 'abc.py', 'align.py', 'ansi.py', 'bar.py', 'box.py', 'cells.py', 'color.py', 'color_triplet.py', 'columns.py', 'console.py', 'constrain.py', 'containers.py', 'control.py', 'default_styles.py', 'diagnose.py', 'emoji.py', 'errors.py', 'file_proxy.py', 'filesize.py', 'highlighter.py', 'json.py', 'jupyter.py', 'layout.py', 'live.py', 'live_render.py', 'logging.py', 'markup.py', 'measure.py', 'padding.py', 'pager.py', 'palette.py', 'panel.py', 'pretty.py', 'progress.py', 'progress_bar.py', 'prompt.py', 'protocol.py', 'py.typed', 'region.py', 'repr.py', 'rule.py', 'scope.py', 'screen.py', 'segment.py', 'spinner.py', 'status.py', 'style.py', 'styled.py', 'syntax.py', 'table.py', 'terminal_theme.py', 'text.py', 'theme.py', 'themes.py', 'traceback.py', 'tree.py']\n",
      "../.venv/lib/python3.13/site-packages/pip/_vendor/rich/__pycache__ [] ['__init__.cpython-313.pyc', '__main__.cpython-313.pyc', '_cell_widths.cpython-313.pyc', '_emoji_codes.cpython-313.pyc', '_emoji_replace.cpython-313.pyc', '_export_format.cpython-313.pyc', '_extension.cpython-313.pyc', '_fileno.cpython-313.pyc', '_inspect.cpython-313.pyc', '_log_render.cpython-313.pyc', '_loop.cpython-313.pyc', '_null_file.cpython-313.pyc', '_palettes.cpython-313.pyc', '_pick.cpython-313.pyc', '_ratio.cpython-313.pyc', '_spinners.cpython-313.pyc', '_stack.cpython-313.pyc', '_timer.cpython-313.pyc', '_win32_console.cpython-313.pyc', '_windows.cpython-313.pyc', '_windows_renderer.cpython-313.pyc', '_wrap.cpython-313.pyc', 'abc.cpython-313.pyc', 'align.cpython-313.pyc', 'ansi.cpython-313.pyc', 'bar.cpython-313.pyc', 'box.cpython-313.pyc', 'cells.cpython-313.pyc', 'color.cpython-313.pyc', 'color_triplet.cpython-313.pyc', 'columns.cpython-313.pyc', 'console.cpython-313.pyc', 'constrain.cpython-313.pyc', 'containers.cpython-313.pyc', 'control.cpython-313.pyc', 'default_styles.cpython-313.pyc', 'diagnose.cpython-313.pyc', 'emoji.cpython-313.pyc', 'errors.cpython-313.pyc', 'file_proxy.cpython-313.pyc', 'filesize.cpython-313.pyc', 'highlighter.cpython-313.pyc', 'json.cpython-313.pyc', 'jupyter.cpython-313.pyc', 'layout.cpython-313.pyc', 'live.cpython-313.pyc', 'live_render.cpython-313.pyc', 'logging.cpython-313.pyc', 'markup.cpython-313.pyc', 'measure.cpython-313.pyc', 'padding.cpython-313.pyc', 'pager.cpython-313.pyc', 'palette.cpython-313.pyc', 'panel.cpython-313.pyc', 'pretty.cpython-313.pyc', 'progress.cpython-313.pyc', 'progress_bar.cpython-313.pyc', 'prompt.cpython-313.pyc', 'protocol.cpython-313.pyc', 'region.cpython-313.pyc', 'repr.cpython-313.pyc', 'rule.cpython-313.pyc', 'scope.cpython-313.pyc', 'screen.cpython-313.pyc', 'segment.cpython-313.pyc', 'spinner.cpython-313.pyc', 'status.cpython-313.pyc', 'style.cpython-313.pyc', 'styled.cpython-313.pyc', 'syntax.cpython-313.pyc', 'table.cpython-313.pyc', 'terminal_theme.cpython-313.pyc', 'text.cpython-313.pyc', 'theme.cpython-313.pyc', 'themes.cpython-313.pyc', 'traceback.cpython-313.pyc', 'tree.cpython-313.pyc']\n",
      "../.venv/lib/python3.13/site-packages/pip/_vendor/tomli ['__pycache__'] ['__init__.py', '_parser.py', '_re.py', '_types.py', 'py.typed']\n",
      "../.venv/lib/python3.13/site-packages/pip/_vendor/tomli/__pycache__ [] ['__init__.cpython-313.pyc', '_parser.cpython-313.pyc', '_re.cpython-313.pyc', '_types.cpython-313.pyc']\n",
      "../.venv/lib/python3.13/site-packages/pip/_vendor/truststore ['__pycache__'] ['__init__.py', '_api.py', '_macos.py', '_openssl.py', '_ssl_constants.py', '_windows.py', 'py.typed']\n",
      "../.venv/lib/python3.13/site-packages/pip/_vendor/truststore/__pycache__ [] ['__init__.cpython-313.pyc', '_api.cpython-313.pyc', '_macos.cpython-313.pyc', '_openssl.cpython-313.pyc', '_ssl_constants.cpython-313.pyc', '_windows.cpython-313.pyc']\n",
      "../.venv/lib/python3.13/site-packages/pip/_vendor/urllib3 ['contrib', 'packages', 'util', '__pycache__'] ['__init__.py', '_collections.py', '_version.py', 'connection.py', 'connectionpool.py', 'exceptions.py', 'fields.py', 'filepost.py', 'poolmanager.py', 'request.py', 'response.py']\n",
      "../.venv/lib/python3.13/site-packages/pip/_vendor/urllib3/contrib ['_securetransport', '__pycache__'] ['__init__.py', '_appengine_environ.py', 'appengine.py', 'ntlmpool.py', 'pyopenssl.py', 'securetransport.py', 'socks.py']\n",
      "../.venv/lib/python3.13/site-packages/pip/_vendor/urllib3/contrib/_securetransport ['__pycache__'] ['__init__.py', 'bindings.py', 'low_level.py']\n",
      "../.venv/lib/python3.13/site-packages/pip/_vendor/urllib3/contrib/_securetransport/__pycache__ [] ['__init__.cpython-313.pyc', 'bindings.cpython-313.pyc', 'low_level.cpython-313.pyc']\n",
      "../.venv/lib/python3.13/site-packages/pip/_vendor/urllib3/contrib/__pycache__ [] ['__init__.cpython-313.pyc', '_appengine_environ.cpython-313.pyc', 'appengine.cpython-313.pyc', 'ntlmpool.cpython-313.pyc', 'pyopenssl.cpython-313.pyc', 'securetransport.cpython-313.pyc', 'socks.cpython-313.pyc']\n",
      "../.venv/lib/python3.13/site-packages/pip/_vendor/urllib3/packages ['backports', '__pycache__'] ['__init__.py', 'six.py']\n",
      "../.venv/lib/python3.13/site-packages/pip/_vendor/urllib3/packages/backports ['__pycache__'] ['__init__.py', 'makefile.py', 'weakref_finalize.py']\n",
      "../.venv/lib/python3.13/site-packages/pip/_vendor/urllib3/packages/backports/__pycache__ [] ['__init__.cpython-313.pyc', 'makefile.cpython-313.pyc', 'weakref_finalize.cpython-313.pyc']\n",
      "../.venv/lib/python3.13/site-packages/pip/_vendor/urllib3/packages/__pycache__ [] ['__init__.cpython-313.pyc', 'six.cpython-313.pyc']\n",
      "../.venv/lib/python3.13/site-packages/pip/_vendor/urllib3/util ['__pycache__'] ['__init__.py', 'connection.py', 'proxy.py', 'queue.py', 'request.py', 'response.py', 'retry.py', 'ssl_.py', 'ssl_match_hostname.py', 'ssltransport.py', 'timeout.py', 'url.py', 'wait.py']\n",
      "../.venv/lib/python3.13/site-packages/pip/_vendor/urllib3/util/__pycache__ [] ['__init__.cpython-313.pyc', 'connection.cpython-313.pyc', 'proxy.cpython-313.pyc', 'queue.cpython-313.pyc', 'request.cpython-313.pyc', 'response.cpython-313.pyc', 'retry.cpython-313.pyc', 'ssl_.cpython-313.pyc', 'ssl_match_hostname.cpython-313.pyc', 'ssltransport.cpython-313.pyc', 'timeout.cpython-313.pyc', 'url.cpython-313.pyc', 'wait.cpython-313.pyc']\n",
      "../.venv/lib/python3.13/site-packages/pip/_vendor/urllib3/__pycache__ [] ['__init__.cpython-313.pyc', '_collections.cpython-313.pyc', '_version.cpython-313.pyc', 'connection.cpython-313.pyc', 'connectionpool.cpython-313.pyc', 'exceptions.cpython-313.pyc', 'fields.cpython-313.pyc', 'filepost.cpython-313.pyc', 'poolmanager.cpython-313.pyc', 'request.cpython-313.pyc', 'response.cpython-313.pyc']\n",
      "../.venv/lib/python3.13/site-packages/pip/_vendor/__pycache__ [] ['__init__.cpython-313.pyc', 'typing_extensions.cpython-313.pyc']\n",
      "../.venv/lib/python3.13/site-packages/pip/__pycache__ [] ['__init__.cpython-313.pyc', '__main__.cpython-313.pyc', '__pip-runner__.cpython-313.pyc']\n",
      "../.venv/lib/python3.13/site-packages/pip-24.3.1.dist-info [] ['AUTHORS.txt', 'LICENSE.txt', 'METADATA', 'WHEEL', 'entry_points.txt', 'top_level.txt', 'INSTALLER', 'REQUESTED', 'RECORD']\n",
      "../.venv/lib/python3.13/site-packages/wcwidth ['__pycache__'] ['__init__.py', 'table_vs16.py', 'table_wide.py', 'table_zero.py', 'unicode_versions.py', 'wcwidth.py']\n",
      "../.venv/lib/python3.13/site-packages/wcwidth/__pycache__ [] ['__init__.cpython-313.pyc', 'table_vs16.cpython-313.pyc', 'table_wide.cpython-313.pyc', 'table_zero.cpython-313.pyc', 'unicode_versions.cpython-313.pyc', 'wcwidth.cpython-313.pyc']\n",
      "../.venv/lib/python3.13/site-packages/wcwidth-0.2.13.dist-info [] ['LICENSE', 'METADATA', 'WHEEL', 'top_level.txt', 'zip-safe', 'INSTALLER', 'RECORD']\n",
      "../.venv/lib/python3.13/site-packages/pure_eval ['__pycache__'] ['__init__.py', 'core.py', 'my_getattr_static.py', 'py.typed', 'utils.py', 'version.py']\n",
      "../.venv/lib/python3.13/site-packages/pure_eval/__pycache__ [] ['__init__.cpython-313.pyc', 'core.cpython-313.pyc', 'my_getattr_static.cpython-313.pyc', 'utils.cpython-313.pyc', 'version.cpython-313.pyc']\n",
      "../.venv/lib/python3.13/site-packages/pure_eval-0.2.3.dist-info [] ['LICENSE.txt', 'METADATA', 'WHEEL', 'top_level.txt', 'INSTALLER', 'RECORD']\n",
      "../.venv/lib/python3.13/site-packages/ptyprocess ['__pycache__'] ['__init__.py', '_fork_pty.py', 'ptyprocess.py', 'util.py']\n",
      "../.venv/lib/python3.13/site-packages/ptyprocess/__pycache__ [] ['__init__.cpython-313.pyc', '_fork_pty.cpython-313.pyc', 'ptyprocess.cpython-313.pyc', 'util.cpython-313.pyc']\n",
      "../.venv/lib/python3.13/site-packages/ptyprocess-0.7.0.dist-info [] ['LICENSE', 'WHEEL', 'METADATA', 'INSTALLER', 'RECORD']\n",
      "../.venv/lib/python3.13/site-packages/traitlets ['config', 'tests', 'utils', '__pycache__'] ['__init__.py', '_version.py', 'log.py', 'py.typed', 'traitlets.py']\n",
      "../.venv/lib/python3.13/site-packages/traitlets/config ['__pycache__'] ['__init__.py', 'application.py', 'argcomplete_config.py', 'configurable.py', 'loader.py', 'manager.py', 'sphinxdoc.py']\n",
      "../.venv/lib/python3.13/site-packages/traitlets/config/__pycache__ [] ['__init__.cpython-313.pyc', 'application.cpython-313.pyc', 'argcomplete_config.cpython-313.pyc', 'configurable.cpython-313.pyc', 'loader.cpython-313.pyc', 'manager.cpython-313.pyc', 'sphinxdoc.cpython-313.pyc']\n",
      "../.venv/lib/python3.13/site-packages/traitlets/tests ['__pycache__'] ['__init__.py', 'test_traitlets.py', 'utils.py']\n",
      "../.venv/lib/python3.13/site-packages/traitlets/tests/__pycache__ [] ['__init__.cpython-313.pyc', 'test_traitlets.cpython-313.pyc', 'utils.cpython-313.pyc']\n",
      "../.venv/lib/python3.13/site-packages/traitlets/utils ['__pycache__'] ['__init__.py', 'bunch.py', 'decorators.py', 'descriptions.py', 'getargspec.py', 'importstring.py', 'nested_update.py', 'sentinel.py', 'text.py', 'warnings.py']\n",
      "../.venv/lib/python3.13/site-packages/traitlets/utils/__pycache__ [] ['__init__.cpython-313.pyc', 'bunch.cpython-313.pyc', 'decorators.cpython-313.pyc', 'descriptions.cpython-313.pyc', 'getargspec.cpython-313.pyc', 'importstring.cpython-313.pyc', 'nested_update.cpython-313.pyc', 'sentinel.cpython-313.pyc', 'text.cpython-313.pyc', 'warnings.cpython-313.pyc']\n",
      "../.venv/lib/python3.13/site-packages/traitlets/__pycache__ [] ['__init__.cpython-313.pyc', '_version.cpython-313.pyc', 'log.cpython-313.pyc', 'traitlets.cpython-313.pyc']\n",
      "../.venv/lib/python3.13/site-packages/traitlets-5.14.3.dist-info ['licenses'] ['METADATA', 'WHEEL', 'INSTALLER', 'RECORD']\n",
      "../.venv/lib/python3.13/site-packages/traitlets-5.14.3.dist-info/licenses [] ['LICENSE']\n",
      "../.venv/lib/python3.13/site-packages/tornado ['platform', 'test', '__pycache__'] ['testing.py', 'process.py', 'py.typed', 'netutil.py', 'concurrent.py', 'simple_httpclient.py', 'tcpclient.py', 'util.py', 'tcpserver.py', 'ioloop.py', 'websocket.py', 'speedups.abi3.so', 'speedups.pyi', 'routing.py', 'locale.py', 'log.py', '__init__.py', 'escape.py', 'web.py', 'autoreload.py', 'template.py', 'locks.py', 'queues.py', 'options.py', 'curl_httpclient.py', 'http1connection.py', 'iostream.py', 'gen.py', 'auth.py', 'httpserver.py', '_locale_data.py', 'wsgi.py', 'httputil.py', 'httpclient.py', '__init__.pyi']\n",
      "../.venv/lib/python3.13/site-packages/tornado/platform ['__pycache__'] ['asyncio.py', 'caresresolver.py', 'twisted.py', '__init__.py']\n",
      "../.venv/lib/python3.13/site-packages/tornado/platform/__pycache__ [] ['__init__.cpython-313.pyc', 'asyncio.cpython-313.pyc', 'caresresolver.cpython-313.pyc', 'twisted.cpython-313.pyc']\n",
      "../.venv/lib/python3.13/site-packages/tornado/test ['templates', 'csv_translations', 'gettext_translations', 'static', '__pycache__'] ['httpserver_test.py', 'iostream_test.py', 'import_test.py', 'options_test.py', 'util.py', 'options_test_types.cfg', 'twisted_test.py', 'tcpclient_test.py', 'httpclient_test.py', 'queues_test.py', 'locale_test.py', 'options_test_types_str.cfg', 'netutil_test.py', 'websocket_test.py', '__init__.py', '__main__.py', 'locks_test.py', 'test.crt', 'resolve_test_helper.py', 'tcpserver_test.py', 'gen_test.py', 'routing_test.py', 'curl_httpclient_test.py', 'wsgi_test.py', 'concurrent_test.py', 'httputil_test.py', 'asyncio_test.py', 'template_test.py', 'auth_test.py', 'options_test.cfg', 'web_test.py', 'util_test.py', 'ioloop_test.py', 'static_foo.txt', 'process_test.py', 'autoreload_test.py', 'escape_test.py', 'test.key', 'runtests.py', 'testing_test.py', 'circlerefs_test.py', 'http1connection_test.py', 'simple_httpclient_test.py', 'log_test.py']\n",
      "../.venv/lib/python3.13/site-packages/tornado/test/templates [] ['utf8.html']\n",
      "../.venv/lib/python3.13/site-packages/tornado/test/csv_translations [] ['fr_FR.csv']\n",
      "../.venv/lib/python3.13/site-packages/tornado/test/gettext_translations ['fr_FR'] []\n",
      "../.venv/lib/python3.13/site-packages/tornado/test/gettext_translations/fr_FR ['LC_MESSAGES'] []\n",
      "../.venv/lib/python3.13/site-packages/tornado/test/gettext_translations/fr_FR/LC_MESSAGES [] ['tornado_test.po', 'tornado_test.mo']\n",
      "../.venv/lib/python3.13/site-packages/tornado/test/static ['dir'] ['sample.xml', 'sample.xml.bz2', 'sample.xml.gz', 'robots.txt']\n",
      "../.venv/lib/python3.13/site-packages/tornado/test/static/dir [] ['index.html']\n",
      "../.venv/lib/python3.13/site-packages/tornado/test/__pycache__ [] ['__init__.cpython-313.pyc', '__main__.cpython-313.pyc', 'asyncio_test.cpython-313.pyc', 'auth_test.cpython-313.pyc', 'autoreload_test.cpython-313.pyc', 'circlerefs_test.cpython-313.pyc', 'concurrent_test.cpython-313.pyc', 'curl_httpclient_test.cpython-313.pyc', 'escape_test.cpython-313.pyc', 'gen_test.cpython-313.pyc', 'http1connection_test.cpython-313.pyc', 'httpclient_test.cpython-313.pyc', 'httpserver_test.cpython-313.pyc', 'httputil_test.cpython-313.pyc', 'import_test.cpython-313.pyc', 'ioloop_test.cpython-313.pyc', 'iostream_test.cpython-313.pyc', 'locale_test.cpython-313.pyc', 'locks_test.cpython-313.pyc', 'log_test.cpython-313.pyc', 'netutil_test.cpython-313.pyc', 'options_test.cpython-313.pyc', 'process_test.cpython-313.pyc', 'queues_test.cpython-313.pyc', 'resolve_test_helper.cpython-313.pyc', 'routing_test.cpython-313.pyc', 'runtests.cpython-313.pyc', 'simple_httpclient_test.cpython-313.pyc', 'tcpclient_test.cpython-313.pyc', 'tcpserver_test.cpython-313.pyc', 'template_test.cpython-313.pyc', 'testing_test.cpython-313.pyc', 'twisted_test.cpython-313.pyc', 'util.cpython-313.pyc', 'util_test.cpython-313.pyc', 'web_test.cpython-313.pyc', 'websocket_test.cpython-313.pyc', 'wsgi_test.cpython-313.pyc']\n",
      "../.venv/lib/python3.13/site-packages/tornado/__pycache__ [] ['__init__.cpython-313.pyc', '_locale_data.cpython-313.pyc', 'auth.cpython-313.pyc', 'autoreload.cpython-313.pyc', 'concurrent.cpython-313.pyc', 'curl_httpclient.cpython-313.pyc', 'escape.cpython-313.pyc', 'gen.cpython-313.pyc', 'http1connection.cpython-313.pyc', 'httpclient.cpython-313.pyc', 'httpserver.cpython-313.pyc', 'httputil.cpython-313.pyc', 'ioloop.cpython-313.pyc', 'iostream.cpython-313.pyc', 'locale.cpython-313.pyc', 'locks.cpython-313.pyc', 'log.cpython-313.pyc', 'netutil.cpython-313.pyc', 'options.cpython-313.pyc', 'process.cpython-313.pyc', 'queues.cpython-313.pyc', 'routing.cpython-313.pyc', 'simple_httpclient.cpython-313.pyc', 'tcpclient.cpython-313.pyc', 'tcpserver.cpython-313.pyc', 'template.cpython-313.pyc', 'testing.cpython-313.pyc', 'util.cpython-313.pyc', 'web.cpython-313.pyc', 'websocket.cpython-313.pyc', 'wsgi.cpython-313.pyc']\n",
      "../.venv/lib/python3.13/site-packages/tornado-6.5.1.dist-info ['licenses'] ['top_level.txt', 'METADATA', 'WHEEL', 'INSTALLER', 'RECORD']\n",
      "../.venv/lib/python3.13/site-packages/tornado-6.5.1.dist-info/licenses [] ['LICENSE']\n",
      "../.venv/lib/python3.13/site-packages/six-1.17.0.dist-info [] ['LICENSE', 'METADATA', 'WHEEL', 'top_level.txt', 'INSTALLER', 'RECORD']\n",
      "../.venv/lib/python3.13/site-packages/__pycache__ [] ['six.cpython-313.pyc', 'nest_asyncio.cpython-313.pyc', 'decorator.cpython-313.pyc', 'jupyter.cpython-313.pyc', 'ipython_pygments_lexers.cpython-313.pyc', 'ipykernel_launcher.cpython-313.pyc']\n",
      "../.venv/lib/python3.13/site-packages/pyzmq.libs [] ['libsodium-19479d6d.so.26.2.0', 'libzmq-7b073b3d.so.5.2.5']\n",
      "../.venv/lib/python3.13/site-packages/zmq ['auth', 'backend', 'devices', 'eventloop', 'green', 'log', 'ssh', 'sugar', 'tests', 'utils', '__pycache__'] ['__init__.pxd', '__init__.py', '__init__.pyi', '_future.py', '_future.pyi', '_typing.py', 'asyncio.py', 'constants.py', 'decorators.py', 'error.py', 'py.typed']\n",
      "../.venv/lib/python3.13/site-packages/zmq/auth ['__pycache__'] ['__init__.py', 'asyncio.py', 'base.py', 'certs.py', 'ioloop.py', 'thread.py']\n",
      "../.venv/lib/python3.13/site-packages/zmq/auth/__pycache__ [] ['__init__.cpython-313.pyc', 'asyncio.cpython-313.pyc', 'base.cpython-313.pyc', 'certs.cpython-313.pyc', 'ioloop.cpython-313.pyc', 'thread.cpython-313.pyc']\n",
      "../.venv/lib/python3.13/site-packages/zmq/backend ['cffi', 'cython', '__pycache__'] ['__init__.py', '__init__.pyi', 'select.py']\n",
      "../.venv/lib/python3.13/site-packages/zmq/backend/cffi ['__pycache__'] ['README.md', '__init__.py', '_cdefs.h', '_cffi_src.c', '_poll.py', 'context.py', 'devices.py', 'error.py', 'message.py', 'socket.py', 'utils.py']\n",
      "../.venv/lib/python3.13/site-packages/zmq/backend/cffi/__pycache__ [] ['__init__.cpython-313.pyc', '_poll.cpython-313.pyc', 'context.cpython-313.pyc', 'devices.cpython-313.pyc', 'error.cpython-313.pyc', 'message.cpython-313.pyc', 'socket.cpython-313.pyc', 'utils.cpython-313.pyc']\n",
      "../.venv/lib/python3.13/site-packages/zmq/backend/cython ['__pycache__'] ['__init__.pxd', '__init__.py', '_externs.pxd', '_zmq.abi3.so', '_zmq.pxd', '_zmq.py', 'constant_enums.pxi', 'libzmq.pxd']\n",
      "../.venv/lib/python3.13/site-packages/zmq/backend/cython/__pycache__ [] ['__init__.cpython-313.pyc', '_zmq.cpython-313.pyc']\n",
      "../.venv/lib/python3.13/site-packages/zmq/backend/__pycache__ [] ['__init__.cpython-313.pyc', 'select.cpython-313.pyc']\n",
      "../.venv/lib/python3.13/site-packages/zmq/devices ['__pycache__'] ['__init__.py', 'basedevice.py', 'monitoredqueue.py', 'monitoredqueuedevice.py', 'proxydevice.py', 'proxysteerabledevice.py']\n",
      "../.venv/lib/python3.13/site-packages/zmq/devices/__pycache__ [] ['__init__.cpython-313.pyc', 'basedevice.cpython-313.pyc', 'monitoredqueue.cpython-313.pyc', 'monitoredqueuedevice.cpython-313.pyc', 'proxydevice.cpython-313.pyc', 'proxysteerabledevice.cpython-313.pyc']\n",
      "../.venv/lib/python3.13/site-packages/zmq/eventloop ['__pycache__'] ['__init__.py', '_deprecated.py', 'future.py', 'ioloop.py', 'zmqstream.py']\n",
      "../.venv/lib/python3.13/site-packages/zmq/eventloop/__pycache__ [] ['__init__.cpython-313.pyc', '_deprecated.cpython-313.pyc', 'future.cpython-313.pyc', 'ioloop.cpython-313.pyc', 'zmqstream.cpython-313.pyc']\n",
      "../.venv/lib/python3.13/site-packages/zmq/green ['eventloop', '__pycache__'] ['__init__.py', 'core.py', 'device.py', 'poll.py']\n",
      "../.venv/lib/python3.13/site-packages/zmq/green/eventloop ['__pycache__'] ['__init__.py', 'ioloop.py', 'zmqstream.py']\n",
      "../.venv/lib/python3.13/site-packages/zmq/green/eventloop/__pycache__ [] ['__init__.cpython-313.pyc', 'ioloop.cpython-313.pyc', 'zmqstream.cpython-313.pyc']\n",
      "../.venv/lib/python3.13/site-packages/zmq/green/__pycache__ [] ['__init__.cpython-313.pyc', 'core.cpython-313.pyc', 'device.cpython-313.pyc', 'poll.cpython-313.pyc']\n",
      "../.venv/lib/python3.13/site-packages/zmq/log ['__pycache__'] ['__init__.py', '__main__.py', 'handlers.py']\n",
      "../.venv/lib/python3.13/site-packages/zmq/log/__pycache__ [] ['__init__.cpython-313.pyc', '__main__.cpython-313.pyc', 'handlers.cpython-313.pyc']\n",
      "../.venv/lib/python3.13/site-packages/zmq/ssh ['__pycache__'] ['__init__.py', 'forward.py', 'tunnel.py']\n",
      "../.venv/lib/python3.13/site-packages/zmq/ssh/__pycache__ [] ['__init__.cpython-313.pyc', 'forward.cpython-313.pyc', 'tunnel.cpython-313.pyc']\n",
      "../.venv/lib/python3.13/site-packages/zmq/sugar ['__pycache__'] ['__init__.py', '__init__.pyi', 'attrsettr.py', 'context.py', 'frame.py', 'poll.py', 'socket.py', 'stopwatch.py', 'tracker.py', 'version.py']\n",
      "../.venv/lib/python3.13/site-packages/zmq/sugar/__pycache__ [] ['__init__.cpython-313.pyc', 'attrsettr.cpython-313.pyc', 'context.cpython-313.pyc', 'frame.cpython-313.pyc', 'poll.cpython-313.pyc', 'socket.cpython-313.pyc', 'stopwatch.cpython-313.pyc', 'tracker.cpython-313.pyc', 'version.cpython-313.pyc']\n",
      "../.venv/lib/python3.13/site-packages/zmq/tests ['__pycache__'] ['__init__.py']\n",
      "../.venv/lib/python3.13/site-packages/zmq/tests/__pycache__ [] ['__init__.cpython-313.pyc']\n",
      "../.venv/lib/python3.13/site-packages/zmq/utils ['__pycache__'] ['__init__.py', 'garbage.py', 'getpid_compat.h', 'interop.py', 'ipcmaxlen.h', 'jsonapi.py', 'monitor.py', 'mutex.h', 'pyversion_compat.h', 'strtypes.py', 'win32.py', 'z85.py', 'zmq_compat.h']\n",
      "../.venv/lib/python3.13/site-packages/zmq/utils/__pycache__ [] ['__init__.cpython-313.pyc', 'garbage.cpython-313.pyc', 'interop.cpython-313.pyc', 'jsonapi.cpython-313.pyc', 'monitor.cpython-313.pyc', 'strtypes.cpython-313.pyc', 'win32.cpython-313.pyc', 'z85.cpython-313.pyc']\n",
      "../.venv/lib/python3.13/site-packages/zmq/__pycache__ [] ['__init__.cpython-313.pyc', '_future.cpython-313.pyc', '_typing.cpython-313.pyc', 'asyncio.cpython-313.pyc', 'constants.cpython-313.pyc', 'decorators.cpython-313.pyc', 'error.cpython-313.pyc']\n",
      "../.venv/lib/python3.13/site-packages/pyzmq-27.0.0.dist-info ['licenses'] ['METADATA', 'WHEEL', 'INSTALLER', 'RECORD']\n",
      "../.venv/lib/python3.13/site-packages/pyzmq-27.0.0.dist-info/licenses ['licenses'] ['LICENSE.md']\n",
      "../.venv/lib/python3.13/site-packages/pyzmq-27.0.0.dist-info/licenses/licenses [] ['LICENSE.libsodium.txt', 'LICENSE.tornado.txt', 'LICENSE.zeromq.txt']\n",
      "../.venv/lib/python3.13/site-packages/pygments ['filters', 'formatters', 'lexers', 'styles', '__pycache__'] ['__init__.py', '__main__.py', 'cmdline.py', 'console.py', 'filter.py', 'formatter.py', 'lexer.py', 'modeline.py', 'plugin.py', 'regexopt.py', 'scanner.py', 'sphinxext.py', 'style.py', 'token.py', 'unistring.py', 'util.py']\n",
      "../.venv/lib/python3.13/site-packages/pygments/filters ['__pycache__'] ['__init__.py']\n",
      "../.venv/lib/python3.13/site-packages/pygments/filters/__pycache__ [] ['__init__.cpython-313.pyc']\n",
      "../.venv/lib/python3.13/site-packages/pygments/formatters ['__pycache__'] ['__init__.py', '_mapping.py', 'bbcode.py', 'groff.py', 'html.py', 'img.py', 'irc.py', 'latex.py', 'other.py', 'pangomarkup.py', 'rtf.py', 'svg.py', 'terminal.py', 'terminal256.py']\n",
      "../.venv/lib/python3.13/site-packages/pygments/formatters/__pycache__ [] ['__init__.cpython-313.pyc', '_mapping.cpython-313.pyc', 'bbcode.cpython-313.pyc', 'groff.cpython-313.pyc', 'html.cpython-313.pyc', 'img.cpython-313.pyc', 'irc.cpython-313.pyc', 'latex.cpython-313.pyc', 'other.cpython-313.pyc', 'pangomarkup.cpython-313.pyc', 'rtf.cpython-313.pyc', 'svg.cpython-313.pyc', 'terminal.cpython-313.pyc', 'terminal256.cpython-313.pyc']\n",
      "../.venv/lib/python3.13/site-packages/pygments/lexers ['__pycache__'] ['__init__.py', '_ada_builtins.py', '_asy_builtins.py', '_cl_builtins.py', '_cocoa_builtins.py', '_csound_builtins.py', '_css_builtins.py', '_googlesql_builtins.py', '_julia_builtins.py', '_lasso_builtins.py', '_lilypond_builtins.py', '_lua_builtins.py', '_luau_builtins.py', '_mapping.py', '_mql_builtins.py', '_mysql_builtins.py', '_openedge_builtins.py', '_php_builtins.py', '_postgres_builtins.py', '_qlik_builtins.py', '_scheme_builtins.py', '_scilab_builtins.py', '_sourcemod_builtins.py', '_sql_builtins.py', '_stan_builtins.py', '_stata_builtins.py', '_tsql_builtins.py', '_usd_builtins.py', '_vbscript_builtins.py', '_vim_builtins.py', 'actionscript.py', 'ada.py', 'agile.py', 'algebra.py', 'ambient.py', 'amdgpu.py', 'ampl.py', 'apdlexer.py', 'apl.py', 'archetype.py', 'arrow.py', 'arturo.py', 'asc.py', 'asm.py', 'asn1.py', 'automation.py', 'bare.py', 'basic.py', 'bdd.py', 'berry.py', 'bibtex.py', 'blueprint.py', 'boa.py', 'bqn.py', 'business.py', 'c_cpp.py', 'c_like.py', 'capnproto.py', 'carbon.py', 'cddl.py', 'chapel.py', 'clean.py', 'codeql.py', 'comal.py', 'compiled.py', 'configs.py', 'console.py', 'cplint.py', 'crystal.py', 'csound.py', 'css.py', 'd.py', 'dalvik.py', 'data.py', 'dax.py', 'devicetree.py', 'diff.py', 'dns.py', 'dotnet.py', 'dsls.py', 'dylan.py', 'ecl.py', 'eiffel.py', 'elm.py', 'elpi.py', 'email.py', 'erlang.py', 'esoteric.py', 'ezhil.py', 'factor.py', 'fantom.py', 'felix.py', 'fift.py', 'floscript.py', 'forth.py', 'fortran.py', 'foxpro.py', 'freefem.py', 'func.py', 'functional.py', 'futhark.py', 'gcodelexer.py', 'gdscript.py', 'gleam.py', 'go.py', 'grammar_notation.py', 'graph.py', 'graphics.py', 'graphql.py', 'graphviz.py', 'gsql.py', 'hare.py', 'haskell.py', 'haxe.py', 'hdl.py', 'hexdump.py', 'html.py', 'idl.py', 'igor.py', 'inferno.py', 'installers.py', 'int_fiction.py', 'iolang.py', 'j.py', 'javascript.py', 'jmespath.py', 'jslt.py', 'json5.py', 'jsonnet.py', 'jsx.py', 'julia.py', 'jvm.py', 'kuin.py', 'kusto.py', 'ldap.py', 'lean.py', 'lilypond.py', 'lisp.py', 'macaulay2.py', 'make.py', 'maple.py', 'markup.py', 'math.py', 'matlab.py', 'maxima.py', 'meson.py', 'mime.py', 'minecraft.py', 'mips.py', 'ml.py', 'modeling.py', 'modula2.py', 'mojo.py', 'monte.py', 'mosel.py', 'ncl.py', 'nimrod.py', 'nit.py', 'nix.py', 'numbair.py', 'oberon.py', 'objective.py', 'ooc.py', 'openscad.py', 'other.py', 'parasail.py', 'parsers.py', 'pascal.py', 'pawn.py', 'pddl.py', 'perl.py', 'phix.py', 'php.py', 'pointless.py', 'pony.py', 'praat.py', 'procfile.py', 'prolog.py', 'promql.py', 'prql.py', 'ptx.py', 'python.py', 'q.py', 'qlik.py', 'qvt.py', 'r.py', 'rdf.py', 'rebol.py', 'rego.py', 'resource.py', 'ride.py', 'rita.py', 'rnc.py', 'roboconf.py', 'robotframework.py', 'ruby.py', 'rust.py', 'sas.py', 'savi.py', 'scdoc.py', 'scripting.py', 'sgf.py', 'shell.py', 'sieve.py', 'slash.py', 'smalltalk.py', 'smithy.py', 'smv.py', 'snobol.py', 'solidity.py', 'soong.py', 'sophia.py', 'special.py', 'spice.py', 'sql.py', 'srcinfo.py', 'stata.py', 'supercollider.py', 'tablegen.py', 'tact.py', 'tal.py', 'tcl.py', 'teal.py', 'templates.py', 'teraterm.py', 'testing.py', 'text.py', 'textedit.py', 'textfmts.py', 'theorem.py', 'thingsdb.py', 'tlb.py', 'tls.py', 'tnt.py', 'trafficscript.py', 'typoscript.py', 'typst.py', 'ul4.py', 'unicon.py', 'urbi.py', 'usd.py', 'varnish.py', 'verification.py', 'verifpal.py', 'vip.py', 'vyper.py', 'web.py', 'webassembly.py', 'webidl.py', 'webmisc.py', 'wgsl.py', 'whiley.py', 'wowtoc.py', 'wren.py', 'x10.py', 'xorg.py', 'yang.py', 'yara.py', 'zig.py']\n",
      "../.venv/lib/python3.13/site-packages/pygments/lexers/__pycache__ [] ['__init__.cpython-313.pyc', '_ada_builtins.cpython-313.pyc', '_asy_builtins.cpython-313.pyc', '_cl_builtins.cpython-313.pyc', '_cocoa_builtins.cpython-313.pyc', '_csound_builtins.cpython-313.pyc', '_css_builtins.cpython-313.pyc', '_googlesql_builtins.cpython-313.pyc', '_julia_builtins.cpython-313.pyc', '_lasso_builtins.cpython-313.pyc', '_lilypond_builtins.cpython-313.pyc', '_lua_builtins.cpython-313.pyc', '_luau_builtins.cpython-313.pyc', '_mapping.cpython-313.pyc', '_mql_builtins.cpython-313.pyc', '_mysql_builtins.cpython-313.pyc', '_openedge_builtins.cpython-313.pyc', '_php_builtins.cpython-313.pyc', '_postgres_builtins.cpython-313.pyc', '_qlik_builtins.cpython-313.pyc', '_scheme_builtins.cpython-313.pyc', '_scilab_builtins.cpython-313.pyc', '_sourcemod_builtins.cpython-313.pyc', '_sql_builtins.cpython-313.pyc', '_stan_builtins.cpython-313.pyc', '_stata_builtins.cpython-313.pyc', '_tsql_builtins.cpython-313.pyc', '_usd_builtins.cpython-313.pyc', '_vbscript_builtins.cpython-313.pyc', '_vim_builtins.cpython-313.pyc', 'actionscript.cpython-313.pyc', 'ada.cpython-313.pyc', 'agile.cpython-313.pyc', 'algebra.cpython-313.pyc', 'ambient.cpython-313.pyc', 'amdgpu.cpython-313.pyc', 'ampl.cpython-313.pyc', 'apdlexer.cpython-313.pyc', 'apl.cpython-313.pyc', 'archetype.cpython-313.pyc', 'arrow.cpython-313.pyc', 'arturo.cpython-313.pyc', 'asc.cpython-313.pyc', 'asm.cpython-313.pyc', 'asn1.cpython-313.pyc', 'automation.cpython-313.pyc', 'bare.cpython-313.pyc', 'basic.cpython-313.pyc', 'bdd.cpython-313.pyc', 'berry.cpython-313.pyc', 'bibtex.cpython-313.pyc', 'blueprint.cpython-313.pyc', 'boa.cpython-313.pyc', 'bqn.cpython-313.pyc', 'business.cpython-313.pyc', 'c_cpp.cpython-313.pyc', 'c_like.cpython-313.pyc', 'capnproto.cpython-313.pyc', 'carbon.cpython-313.pyc', 'cddl.cpython-313.pyc', 'chapel.cpython-313.pyc', 'clean.cpython-313.pyc', 'codeql.cpython-313.pyc', 'comal.cpython-313.pyc', 'compiled.cpython-313.pyc', 'configs.cpython-313.pyc', 'console.cpython-313.pyc', 'cplint.cpython-313.pyc', 'crystal.cpython-313.pyc', 'csound.cpython-313.pyc', 'css.cpython-313.pyc', 'd.cpython-313.pyc', 'dalvik.cpython-313.pyc', 'data.cpython-313.pyc', 'dax.cpython-313.pyc', 'devicetree.cpython-313.pyc', 'diff.cpython-313.pyc', 'dns.cpython-313.pyc', 'dotnet.cpython-313.pyc', 'dsls.cpython-313.pyc', 'dylan.cpython-313.pyc', 'ecl.cpython-313.pyc', 'eiffel.cpython-313.pyc', 'elm.cpython-313.pyc', 'elpi.cpython-313.pyc', 'email.cpython-313.pyc', 'erlang.cpython-313.pyc', 'esoteric.cpython-313.pyc', 'ezhil.cpython-313.pyc', 'factor.cpython-313.pyc', 'fantom.cpython-313.pyc', 'felix.cpython-313.pyc', 'fift.cpython-313.pyc', 'floscript.cpython-313.pyc', 'forth.cpython-313.pyc', 'fortran.cpython-313.pyc', 'foxpro.cpython-313.pyc', 'freefem.cpython-313.pyc', 'func.cpython-313.pyc', 'functional.cpython-313.pyc', 'futhark.cpython-313.pyc', 'gcodelexer.cpython-313.pyc', 'gdscript.cpython-313.pyc', 'gleam.cpython-313.pyc', 'go.cpython-313.pyc', 'grammar_notation.cpython-313.pyc', 'graph.cpython-313.pyc', 'graphics.cpython-313.pyc', 'graphql.cpython-313.pyc', 'graphviz.cpython-313.pyc', 'gsql.cpython-313.pyc', 'hare.cpython-313.pyc', 'haskell.cpython-313.pyc', 'haxe.cpython-313.pyc', 'hdl.cpython-313.pyc', 'hexdump.cpython-313.pyc', 'html.cpython-313.pyc', 'idl.cpython-313.pyc', 'igor.cpython-313.pyc', 'inferno.cpython-313.pyc', 'installers.cpython-313.pyc', 'int_fiction.cpython-313.pyc', 'iolang.cpython-313.pyc', 'j.cpython-313.pyc', 'javascript.cpython-313.pyc', 'jmespath.cpython-313.pyc', 'jslt.cpython-313.pyc', 'json5.cpython-313.pyc', 'jsonnet.cpython-313.pyc', 'jsx.cpython-313.pyc', 'julia.cpython-313.pyc', 'jvm.cpython-313.pyc', 'kuin.cpython-313.pyc', 'kusto.cpython-313.pyc', 'ldap.cpython-313.pyc', 'lean.cpython-313.pyc', 'lilypond.cpython-313.pyc', 'lisp.cpython-313.pyc', 'macaulay2.cpython-313.pyc', 'make.cpython-313.pyc', 'maple.cpython-313.pyc', 'markup.cpython-313.pyc', 'math.cpython-313.pyc', 'matlab.cpython-313.pyc', 'maxima.cpython-313.pyc', 'meson.cpython-313.pyc', 'mime.cpython-313.pyc', 'minecraft.cpython-313.pyc', 'mips.cpython-313.pyc', 'ml.cpython-313.pyc', 'modeling.cpython-313.pyc', 'modula2.cpython-313.pyc', 'mojo.cpython-313.pyc', 'monte.cpython-313.pyc', 'mosel.cpython-313.pyc', 'ncl.cpython-313.pyc', 'nimrod.cpython-313.pyc', 'nit.cpython-313.pyc', 'nix.cpython-313.pyc', 'numbair.cpython-313.pyc', 'oberon.cpython-313.pyc', 'objective.cpython-313.pyc', 'ooc.cpython-313.pyc', 'openscad.cpython-313.pyc', 'other.cpython-313.pyc', 'parasail.cpython-313.pyc', 'parsers.cpython-313.pyc', 'pascal.cpython-313.pyc', 'pawn.cpython-313.pyc', 'pddl.cpython-313.pyc', 'perl.cpython-313.pyc', 'phix.cpython-313.pyc', 'php.cpython-313.pyc', 'pointless.cpython-313.pyc', 'pony.cpython-313.pyc', 'praat.cpython-313.pyc', 'procfile.cpython-313.pyc', 'prolog.cpython-313.pyc', 'promql.cpython-313.pyc', 'prql.cpython-313.pyc', 'ptx.cpython-313.pyc', 'python.cpython-313.pyc', 'q.cpython-313.pyc', 'qlik.cpython-313.pyc', 'qvt.cpython-313.pyc', 'r.cpython-313.pyc', 'rdf.cpython-313.pyc', 'rebol.cpython-313.pyc', 'rego.cpython-313.pyc', 'resource.cpython-313.pyc', 'ride.cpython-313.pyc', 'rita.cpython-313.pyc', 'rnc.cpython-313.pyc', 'roboconf.cpython-313.pyc', 'robotframework.cpython-313.pyc', 'ruby.cpython-313.pyc', 'rust.cpython-313.pyc', 'sas.cpython-313.pyc', 'savi.cpython-313.pyc', 'scdoc.cpython-313.pyc', 'scripting.cpython-313.pyc', 'sgf.cpython-313.pyc', 'shell.cpython-313.pyc', 'sieve.cpython-313.pyc', 'slash.cpython-313.pyc', 'smalltalk.cpython-313.pyc', 'smithy.cpython-313.pyc', 'smv.cpython-313.pyc', 'snobol.cpython-313.pyc', 'solidity.cpython-313.pyc', 'soong.cpython-313.pyc', 'sophia.cpython-313.pyc', 'special.cpython-313.pyc', 'spice.cpython-313.pyc', 'sql.cpython-313.pyc', 'srcinfo.cpython-313.pyc', 'stata.cpython-313.pyc', 'supercollider.cpython-313.pyc', 'tablegen.cpython-313.pyc', 'tact.cpython-313.pyc', 'tal.cpython-313.pyc', 'tcl.cpython-313.pyc', 'teal.cpython-313.pyc', 'templates.cpython-313.pyc', 'teraterm.cpython-313.pyc', 'testing.cpython-313.pyc', 'text.cpython-313.pyc', 'textedit.cpython-313.pyc', 'textfmts.cpython-313.pyc', 'theorem.cpython-313.pyc', 'thingsdb.cpython-313.pyc', 'tlb.cpython-313.pyc', 'tls.cpython-313.pyc', 'tnt.cpython-313.pyc', 'trafficscript.cpython-313.pyc', 'typoscript.cpython-313.pyc', 'typst.cpython-313.pyc', 'ul4.cpython-313.pyc', 'unicon.cpython-313.pyc', 'urbi.cpython-313.pyc', 'usd.cpython-313.pyc', 'varnish.cpython-313.pyc', 'verification.cpython-313.pyc', 'verifpal.cpython-313.pyc', 'vip.cpython-313.pyc', 'vyper.cpython-313.pyc', 'web.cpython-313.pyc', 'webassembly.cpython-313.pyc', 'webidl.cpython-313.pyc', 'webmisc.cpython-313.pyc', 'wgsl.cpython-313.pyc', 'whiley.cpython-313.pyc', 'wowtoc.cpython-313.pyc', 'wren.cpython-313.pyc', 'x10.cpython-313.pyc', 'xorg.cpython-313.pyc', 'yang.cpython-313.pyc', 'yara.cpython-313.pyc', 'zig.cpython-313.pyc']\n",
      "../.venv/lib/python3.13/site-packages/pygments/styles ['__pycache__'] ['__init__.py', '_mapping.py', 'abap.py', 'algol.py', 'algol_nu.py', 'arduino.py', 'autumn.py', 'borland.py', 'bw.py', 'coffee.py', 'colorful.py', 'default.py', 'dracula.py', 'emacs.py', 'friendly.py', 'friendly_grayscale.py', 'fruity.py', 'gh_dark.py', 'gruvbox.py', 'igor.py', 'inkpot.py', 'lightbulb.py', 'lilypond.py', 'lovelace.py', 'manni.py', 'material.py', 'monokai.py', 'murphy.py', 'native.py', 'nord.py', 'onedark.py', 'paraiso_dark.py', 'paraiso_light.py', 'pastie.py', 'perldoc.py', 'rainbow_dash.py', 'rrt.py', 'sas.py', 'solarized.py', 'staroffice.py', 'stata_dark.py', 'stata_light.py', 'tango.py', 'trac.py', 'vim.py', 'vs.py', 'xcode.py', 'zenburn.py']\n",
      "../.venv/lib/python3.13/site-packages/pygments/styles/__pycache__ [] ['__init__.cpython-313.pyc', '_mapping.cpython-313.pyc', 'abap.cpython-313.pyc', 'algol.cpython-313.pyc', 'algol_nu.cpython-313.pyc', 'arduino.cpython-313.pyc', 'autumn.cpython-313.pyc', 'borland.cpython-313.pyc', 'bw.cpython-313.pyc', 'coffee.cpython-313.pyc', 'colorful.cpython-313.pyc', 'default.cpython-313.pyc', 'dracula.cpython-313.pyc', 'emacs.cpython-313.pyc', 'friendly.cpython-313.pyc', 'friendly_grayscale.cpython-313.pyc', 'fruity.cpython-313.pyc', 'gh_dark.cpython-313.pyc', 'gruvbox.cpython-313.pyc', 'igor.cpython-313.pyc', 'inkpot.cpython-313.pyc', 'lightbulb.cpython-313.pyc', 'lilypond.cpython-313.pyc', 'lovelace.cpython-313.pyc', 'manni.cpython-313.pyc', 'material.cpython-313.pyc', 'monokai.cpython-313.pyc', 'murphy.cpython-313.pyc', 'native.cpython-313.pyc', 'nord.cpython-313.pyc', 'onedark.cpython-313.pyc', 'paraiso_dark.cpython-313.pyc', 'paraiso_light.cpython-313.pyc', 'pastie.cpython-313.pyc', 'perldoc.cpython-313.pyc', 'rainbow_dash.cpython-313.pyc', 'rrt.cpython-313.pyc', 'sas.cpython-313.pyc', 'solarized.cpython-313.pyc', 'staroffice.cpython-313.pyc', 'stata_dark.cpython-313.pyc', 'stata_light.cpython-313.pyc', 'tango.cpython-313.pyc', 'trac.cpython-313.pyc', 'vim.cpython-313.pyc', 'vs.cpython-313.pyc', 'xcode.cpython-313.pyc', 'zenburn.cpython-313.pyc']\n",
      "../.venv/lib/python3.13/site-packages/pygments/__pycache__ [] ['__init__.cpython-313.pyc', '__main__.cpython-313.pyc', 'cmdline.cpython-313.pyc', 'console.cpython-313.pyc', 'filter.cpython-313.pyc', 'formatter.cpython-313.pyc', 'lexer.cpython-313.pyc', 'modeline.cpython-313.pyc', 'plugin.cpython-313.pyc', 'regexopt.cpython-313.pyc', 'scanner.cpython-313.pyc', 'sphinxext.cpython-313.pyc', 'style.cpython-313.pyc', 'token.cpython-313.pyc', 'unistring.cpython-313.pyc', 'util.cpython-313.pyc']\n",
      "../.venv/lib/python3.13/site-packages/pygments-2.19.2.dist-info ['licenses'] ['METADATA', 'WHEEL', 'entry_points.txt', 'INSTALLER', 'RECORD']\n",
      "../.venv/lib/python3.13/site-packages/pygments-2.19.2.dist-info/licenses [] ['AUTHORS', 'LICENSE']\n",
      "../.venv/lib/python3.13/site-packages/psutil ['tests', '__pycache__'] ['_common.py', '__init__.py', '_psosx.py', '_psposix.py', '_pswindows.py', '_psbsd.py', '_psutil_linux.abi3.so', '_psutil_posix.abi3.so', '_pssunos.py', '_pslinux.py', '_psaix.py']\n",
      "../.venv/lib/python3.13/site-packages/psutil/tests ['__pycache__'] ['test_connections.py', 'test_linux.py', 'test_sunos.py', '__init__.py', 'test_contracts.py', 'test_aix.py', 'test_scripts.py', 'test_process_all.py', 'test_misc.py', 'test_windows.py', 'test_osx.py', 'test_testutils.py', 'test_memleaks.py', 'test_process.py', '__main__.py', 'test_system.py', 'test_bsd.py', 'test_unicode.py', 'test_posix.py']\n",
      "../.venv/lib/python3.13/site-packages/psutil/tests/__pycache__ [] ['__init__.cpython-313.pyc', '__main__.cpython-313.pyc', 'test_aix.cpython-313.pyc', 'test_bsd.cpython-313.pyc', 'test_connections.cpython-313.pyc', 'test_contracts.cpython-313.pyc', 'test_linux.cpython-313.pyc', 'test_memleaks.cpython-313.pyc', 'test_misc.cpython-313.pyc', 'test_osx.cpython-313.pyc', 'test_posix.cpython-313.pyc', 'test_process.cpython-313.pyc', 'test_process_all.cpython-313.pyc', 'test_scripts.cpython-313.pyc', 'test_sunos.cpython-313.pyc', 'test_system.cpython-313.pyc', 'test_testutils.cpython-313.pyc', 'test_unicode.cpython-313.pyc', 'test_windows.cpython-313.pyc']\n",
      "../.venv/lib/python3.13/site-packages/psutil/__pycache__ [] ['__init__.cpython-313.pyc', '_common.cpython-313.pyc', '_psaix.cpython-313.pyc', '_psbsd.cpython-313.pyc', '_pslinux.cpython-313.pyc', '_psosx.cpython-313.pyc', '_psposix.cpython-313.pyc', '_pssunos.cpython-313.pyc', '_pswindows.cpython-313.pyc']\n",
      "../.venv/lib/python3.13/site-packages/psutil-7.0.0.dist-info [] ['LICENSE', 'WHEEL', 'METADATA', 'top_level.txt', 'INSTALLER', 'RECORD']\n",
      "../.venv/lib/python3.13/site-packages/prompt_toolkit ['application', 'clipboard', 'completion', 'contrib', 'eventloop', 'filters', 'formatted_text', 'input', 'key_binding', 'layout', 'lexers', 'output', 'shortcuts', 'styles', 'widgets', '__pycache__'] ['__init__.py', 'auto_suggest.py', 'buffer.py', 'cache.py', 'cursor_shapes.py', 'data_structures.py', 'document.py', 'enums.py', 'history.py', 'keys.py', 'log.py', 'mouse_events.py', 'patch_stdout.py', 'py.typed', 'renderer.py', 'search.py', 'selection.py', 'token.py', 'utils.py', 'validation.py', 'win32_types.py']\n",
      "../.venv/lib/python3.13/site-packages/prompt_toolkit/application ['__pycache__'] ['__init__.py', 'application.py', 'current.py', 'dummy.py', 'run_in_terminal.py']\n",
      "../.venv/lib/python3.13/site-packages/prompt_toolkit/application/__pycache__ [] ['__init__.cpython-313.pyc', 'application.cpython-313.pyc', 'current.cpython-313.pyc', 'dummy.cpython-313.pyc', 'run_in_terminal.cpython-313.pyc']\n",
      "../.venv/lib/python3.13/site-packages/prompt_toolkit/clipboard ['__pycache__'] ['__init__.py', 'base.py', 'in_memory.py', 'pyperclip.py']\n",
      "../.venv/lib/python3.13/site-packages/prompt_toolkit/clipboard/__pycache__ [] ['__init__.cpython-313.pyc', 'base.cpython-313.pyc', 'in_memory.cpython-313.pyc', 'pyperclip.cpython-313.pyc']\n",
      "../.venv/lib/python3.13/site-packages/prompt_toolkit/completion ['__pycache__'] ['__init__.py', 'base.py', 'deduplicate.py', 'filesystem.py', 'fuzzy_completer.py', 'nested.py', 'word_completer.py']\n",
      "../.venv/lib/python3.13/site-packages/prompt_toolkit/completion/__pycache__ [] ['__init__.cpython-313.pyc', 'base.cpython-313.pyc', 'deduplicate.cpython-313.pyc', 'filesystem.cpython-313.pyc', 'fuzzy_completer.cpython-313.pyc', 'nested.cpython-313.pyc', 'word_completer.cpython-313.pyc']\n",
      "../.venv/lib/python3.13/site-packages/prompt_toolkit/contrib ['completers', 'regular_languages', 'ssh', 'telnet', '__pycache__'] ['__init__.py']\n",
      "../.venv/lib/python3.13/site-packages/prompt_toolkit/contrib/completers ['__pycache__'] ['__init__.py', 'system.py']\n",
      "../.venv/lib/python3.13/site-packages/prompt_toolkit/contrib/completers/__pycache__ [] ['__init__.cpython-313.pyc', 'system.cpython-313.pyc']\n",
      "../.venv/lib/python3.13/site-packages/prompt_toolkit/contrib/regular_languages ['__pycache__'] ['__init__.py', 'compiler.py', 'completion.py', 'lexer.py', 'regex_parser.py', 'validation.py']\n",
      "../.venv/lib/python3.13/site-packages/prompt_toolkit/contrib/regular_languages/__pycache__ [] ['__init__.cpython-313.pyc', 'compiler.cpython-313.pyc', 'completion.cpython-313.pyc', 'lexer.cpython-313.pyc', 'regex_parser.cpython-313.pyc', 'validation.cpython-313.pyc']\n",
      "../.venv/lib/python3.13/site-packages/prompt_toolkit/contrib/ssh ['__pycache__'] ['__init__.py', 'server.py']\n",
      "../.venv/lib/python3.13/site-packages/prompt_toolkit/contrib/ssh/__pycache__ [] ['__init__.cpython-313.pyc', 'server.cpython-313.pyc']\n",
      "../.venv/lib/python3.13/site-packages/prompt_toolkit/contrib/telnet ['__pycache__'] ['__init__.py', 'log.py', 'protocol.py', 'server.py']\n",
      "../.venv/lib/python3.13/site-packages/prompt_toolkit/contrib/telnet/__pycache__ [] ['__init__.cpython-313.pyc', 'log.cpython-313.pyc', 'protocol.cpython-313.pyc', 'server.cpython-313.pyc']\n",
      "../.venv/lib/python3.13/site-packages/prompt_toolkit/contrib/__pycache__ [] ['__init__.cpython-313.pyc']\n",
      "../.venv/lib/python3.13/site-packages/prompt_toolkit/eventloop ['__pycache__'] ['__init__.py', 'async_generator.py', 'inputhook.py', 'utils.py', 'win32.py']\n",
      "../.venv/lib/python3.13/site-packages/prompt_toolkit/eventloop/__pycache__ [] ['__init__.cpython-313.pyc', 'async_generator.cpython-313.pyc', 'inputhook.cpython-313.pyc', 'utils.cpython-313.pyc', 'win32.cpython-313.pyc']\n",
      "../.venv/lib/python3.13/site-packages/prompt_toolkit/filters ['__pycache__'] ['__init__.py', 'app.py', 'base.py', 'cli.py', 'utils.py']\n",
      "../.venv/lib/python3.13/site-packages/prompt_toolkit/filters/__pycache__ [] ['__init__.cpython-313.pyc', 'app.cpython-313.pyc', 'base.cpython-313.pyc', 'cli.cpython-313.pyc', 'utils.cpython-313.pyc']\n",
      "../.venv/lib/python3.13/site-packages/prompt_toolkit/formatted_text ['__pycache__'] ['__init__.py', 'ansi.py', 'base.py', 'html.py', 'pygments.py', 'utils.py']\n",
      "../.venv/lib/python3.13/site-packages/prompt_toolkit/formatted_text/__pycache__ [] ['__init__.cpython-313.pyc', 'ansi.cpython-313.pyc', 'base.cpython-313.pyc', 'html.cpython-313.pyc', 'pygments.cpython-313.pyc', 'utils.cpython-313.pyc']\n",
      "../.venv/lib/python3.13/site-packages/prompt_toolkit/input ['__pycache__'] ['__init__.py', 'ansi_escape_sequences.py', 'base.py', 'defaults.py', 'posix_pipe.py', 'posix_utils.py', 'typeahead.py', 'vt100.py', 'vt100_parser.py', 'win32.py', 'win32_pipe.py']\n",
      "../.venv/lib/python3.13/site-packages/prompt_toolkit/input/__pycache__ [] ['__init__.cpython-313.pyc', 'ansi_escape_sequences.cpython-313.pyc', 'base.cpython-313.pyc', 'defaults.cpython-313.pyc', 'posix_pipe.cpython-313.pyc', 'posix_utils.cpython-313.pyc', 'typeahead.cpython-313.pyc', 'vt100.cpython-313.pyc', 'vt100_parser.cpython-313.pyc', 'win32.cpython-313.pyc', 'win32_pipe.cpython-313.pyc']\n",
      "../.venv/lib/python3.13/site-packages/prompt_toolkit/key_binding ['bindings', '__pycache__'] ['__init__.py', 'defaults.py', 'digraphs.py', 'emacs_state.py', 'key_bindings.py', 'key_processor.py', 'vi_state.py']\n",
      "../.venv/lib/python3.13/site-packages/prompt_toolkit/key_binding/bindings ['__pycache__'] ['__init__.py', 'auto_suggest.py', 'basic.py', 'completion.py', 'cpr.py', 'emacs.py', 'focus.py', 'mouse.py', 'named_commands.py', 'open_in_editor.py', 'page_navigation.py', 'scroll.py', 'search.py', 'vi.py']\n",
      "../.venv/lib/python3.13/site-packages/prompt_toolkit/key_binding/bindings/__pycache__ [] ['__init__.cpython-313.pyc', 'auto_suggest.cpython-313.pyc', 'basic.cpython-313.pyc', 'completion.cpython-313.pyc', 'cpr.cpython-313.pyc', 'emacs.cpython-313.pyc', 'focus.cpython-313.pyc', 'mouse.cpython-313.pyc', 'named_commands.cpython-313.pyc', 'open_in_editor.cpython-313.pyc', 'page_navigation.cpython-313.pyc', 'scroll.cpython-313.pyc', 'search.cpython-313.pyc', 'vi.cpython-313.pyc']\n",
      "../.venv/lib/python3.13/site-packages/prompt_toolkit/key_binding/__pycache__ [] ['__init__.cpython-313.pyc', 'defaults.cpython-313.pyc', 'digraphs.cpython-313.pyc', 'emacs_state.cpython-313.pyc', 'key_bindings.cpython-313.pyc', 'key_processor.cpython-313.pyc', 'vi_state.cpython-313.pyc']\n",
      "../.venv/lib/python3.13/site-packages/prompt_toolkit/layout ['__pycache__'] ['__init__.py', 'containers.py', 'controls.py', 'dimension.py', 'dummy.py', 'layout.py', 'margins.py', 'menus.py', 'mouse_handlers.py', 'processors.py', 'screen.py', 'scrollable_pane.py', 'utils.py']\n",
      "../.venv/lib/python3.13/site-packages/prompt_toolkit/layout/__pycache__ [] ['__init__.cpython-313.pyc', 'containers.cpython-313.pyc', 'controls.cpython-313.pyc', 'dimension.cpython-313.pyc', 'dummy.cpython-313.pyc', 'layout.cpython-313.pyc', 'margins.cpython-313.pyc', 'menus.cpython-313.pyc', 'mouse_handlers.cpython-313.pyc', 'processors.cpython-313.pyc', 'screen.cpython-313.pyc', 'scrollable_pane.cpython-313.pyc', 'utils.cpython-313.pyc']\n",
      "../.venv/lib/python3.13/site-packages/prompt_toolkit/lexers ['__pycache__'] ['__init__.py', 'base.py', 'pygments.py']\n",
      "../.venv/lib/python3.13/site-packages/prompt_toolkit/lexers/__pycache__ [] ['__init__.cpython-313.pyc', 'base.cpython-313.pyc', 'pygments.cpython-313.pyc']\n",
      "../.venv/lib/python3.13/site-packages/prompt_toolkit/output ['__pycache__'] ['__init__.py', 'base.py', 'color_depth.py', 'conemu.py', 'defaults.py', 'flush_stdout.py', 'plain_text.py', 'vt100.py', 'win32.py', 'windows10.py']\n",
      "../.venv/lib/python3.13/site-packages/prompt_toolkit/output/__pycache__ [] ['__init__.cpython-313.pyc', 'base.cpython-313.pyc', 'color_depth.cpython-313.pyc', 'conemu.cpython-313.pyc', 'defaults.cpython-313.pyc', 'flush_stdout.cpython-313.pyc', 'plain_text.cpython-313.pyc', 'vt100.cpython-313.pyc', 'win32.cpython-313.pyc', 'windows10.cpython-313.pyc']\n",
      "../.venv/lib/python3.13/site-packages/prompt_toolkit/shortcuts ['progress_bar', '__pycache__'] ['__init__.py', 'dialogs.py', 'prompt.py', 'utils.py']\n",
      "../.venv/lib/python3.13/site-packages/prompt_toolkit/shortcuts/progress_bar ['__pycache__'] ['__init__.py', 'base.py', 'formatters.py']\n",
      "../.venv/lib/python3.13/site-packages/prompt_toolkit/shortcuts/progress_bar/__pycache__ [] ['__init__.cpython-313.pyc', 'base.cpython-313.pyc', 'formatters.cpython-313.pyc']\n",
      "../.venv/lib/python3.13/site-packages/prompt_toolkit/shortcuts/__pycache__ [] ['__init__.cpython-313.pyc', 'dialogs.cpython-313.pyc', 'prompt.cpython-313.pyc', 'utils.cpython-313.pyc']\n",
      "../.venv/lib/python3.13/site-packages/prompt_toolkit/styles ['__pycache__'] ['__init__.py', 'base.py', 'defaults.py', 'named_colors.py', 'pygments.py', 'style.py', 'style_transformation.py']\n",
      "../.venv/lib/python3.13/site-packages/prompt_toolkit/styles/__pycache__ [] ['__init__.cpython-313.pyc', 'base.cpython-313.pyc', 'defaults.cpython-313.pyc', 'named_colors.cpython-313.pyc', 'pygments.cpython-313.pyc', 'style.cpython-313.pyc', 'style_transformation.cpython-313.pyc']\n",
      "../.venv/lib/python3.13/site-packages/prompt_toolkit/widgets ['__pycache__'] ['__init__.py', 'base.py', 'dialogs.py', 'menus.py', 'toolbars.py']\n",
      "../.venv/lib/python3.13/site-packages/prompt_toolkit/widgets/__pycache__ [] ['__init__.cpython-313.pyc', 'base.cpython-313.pyc', 'dialogs.cpython-313.pyc', 'menus.cpython-313.pyc', 'toolbars.cpython-313.pyc']\n",
      "../.venv/lib/python3.13/site-packages/prompt_toolkit/__pycache__ [] ['__init__.cpython-313.pyc', 'auto_suggest.cpython-313.pyc', 'buffer.cpython-313.pyc', 'cache.cpython-313.pyc', 'cursor_shapes.cpython-313.pyc', 'data_structures.cpython-313.pyc', 'document.cpython-313.pyc', 'enums.cpython-313.pyc', 'history.cpython-313.pyc', 'keys.cpython-313.pyc', 'log.cpython-313.pyc', 'mouse_events.cpython-313.pyc', 'patch_stdout.cpython-313.pyc', 'renderer.cpython-313.pyc', 'search.cpython-313.pyc', 'selection.cpython-313.pyc', 'token.cpython-313.pyc', 'utils.cpython-313.pyc', 'validation.cpython-313.pyc', 'win32_types.cpython-313.pyc']\n",
      "../.venv/lib/python3.13/site-packages/prompt_toolkit-3.0.51.dist-info ['licenses'] ['METADATA', 'WHEEL', 'top_level.txt', 'INSTALLER', 'RECORD']\n",
      "../.venv/lib/python3.13/site-packages/prompt_toolkit-3.0.51.dist-info/licenses [] ['AUTHORS.rst', 'LICENSE']\n",
      "../.venv/lib/python3.13/site-packages/platformdirs ['__pycache__'] ['__init__.py', '__main__.py', 'android.py', 'api.py', 'macos.py', 'py.typed', 'unix.py', 'version.py', 'windows.py']\n",
      "../.venv/lib/python3.13/site-packages/platformdirs/__pycache__ [] ['__init__.cpython-313.pyc', '__main__.cpython-313.pyc', 'android.cpython-313.pyc', 'api.cpython-313.pyc', 'macos.cpython-313.pyc', 'unix.cpython-313.pyc', 'version.cpython-313.pyc', 'windows.cpython-313.pyc']\n",
      "../.venv/lib/python3.13/site-packages/platformdirs-4.3.8.dist-info ['licenses'] ['METADATA', 'WHEEL', 'INSTALLER', 'RECORD']\n",
      "../.venv/lib/python3.13/site-packages/platformdirs-4.3.8.dist-info/licenses [] ['LICENSE']\n",
      "../.venv/lib/python3.13/site-packages/pexpect ['__pycache__'] ['ANSI.py', 'FSM.py', '__init__.py', '_async.py', '_async_pre_await.py', '_async_w_await.py', 'bashrc.sh', 'exceptions.py', 'expect.py', 'fdpexpect.py', 'popen_spawn.py', 'pty_spawn.py', 'pxssh.py', 'replwrap.py', 'run.py', 'screen.py', 'socket_pexpect.py', 'spawnbase.py', 'utils.py']\n",
      "../.venv/lib/python3.13/site-packages/pexpect/__pycache__ [] ['ANSI.cpython-313.pyc', 'FSM.cpython-313.pyc', '__init__.cpython-313.pyc', '_async.cpython-313.pyc', '_async_pre_await.cpython-313.pyc', '_async_w_await.cpython-313.pyc', 'exceptions.cpython-313.pyc', 'expect.cpython-313.pyc', 'fdpexpect.cpython-313.pyc', 'popen_spawn.cpython-313.pyc', 'pty_spawn.cpython-313.pyc', 'pxssh.cpython-313.pyc', 'replwrap.cpython-313.pyc', 'run.cpython-313.pyc', 'screen.cpython-313.pyc', 'socket_pexpect.cpython-313.pyc', 'spawnbase.cpython-313.pyc', 'utils.cpython-313.pyc']\n",
      "../.venv/lib/python3.13/site-packages/pexpect-4.9.0.dist-info [] ['LICENSE', 'METADATA', 'WHEEL', 'top_level.txt', 'INSTALLER', 'RECORD']\n",
      "../.venv/lib/python3.13/site-packages/parso ['pgen2', 'python', '__pycache__'] ['__init__.py', '_compatibility.py', 'cache.py', 'file_io.py', 'grammar.py', 'normalizer.py', 'parser.py', 'py.typed', 'tree.py', 'utils.py']\n",
      "../.venv/lib/python3.13/site-packages/parso/pgen2 ['__pycache__'] ['__init__.py', 'generator.py', 'grammar_parser.py']\n",
      "../.venv/lib/python3.13/site-packages/parso/pgen2/__pycache__ [] ['__init__.cpython-313.pyc', 'generator.cpython-313.pyc', 'grammar_parser.cpython-313.pyc']\n",
      "../.venv/lib/python3.13/site-packages/parso/python ['__pycache__'] ['__init__.py', 'diff.py', 'errors.py', 'grammar310.txt', 'grammar311.txt', 'grammar312.txt', 'grammar313.txt', 'grammar36.txt', 'grammar37.txt', 'grammar38.txt', 'grammar39.txt', 'parser.py', 'pep8.py', 'prefix.py', 'token.py', 'tokenize.py', 'tree.py']\n",
      "../.venv/lib/python3.13/site-packages/parso/python/__pycache__ [] ['__init__.cpython-313.pyc', 'diff.cpython-313.pyc', 'errors.cpython-313.pyc', 'parser.cpython-313.pyc', 'pep8.cpython-313.pyc', 'prefix.cpython-313.pyc', 'token.cpython-313.pyc', 'tokenize.cpython-313.pyc', 'tree.cpython-313.pyc']\n",
      "../.venv/lib/python3.13/site-packages/parso/__pycache__ [] ['__init__.cpython-313.pyc', '_compatibility.cpython-313.pyc', 'cache.cpython-313.pyc', 'file_io.cpython-313.pyc', 'grammar.cpython-313.pyc', 'normalizer.cpython-313.pyc', 'parser.cpython-313.pyc', 'tree.cpython-313.pyc', 'utils.cpython-313.pyc']\n",
      "../.venv/lib/python3.13/site-packages/parso-0.8.4.dist-info [] ['AUTHORS.txt', 'LICENSE.txt', 'METADATA', 'WHEEL', 'top_level.txt', 'INSTALLER', 'RECORD']\n",
      "../.venv/lib/python3.13/site-packages/packaging ['licenses', '__pycache__'] ['__init__.py', '_elffile.py', '_manylinux.py', '_musllinux.py', '_parser.py', '_structures.py', '_tokenizer.py', 'markers.py', 'metadata.py', 'py.typed', 'requirements.py', 'specifiers.py', 'tags.py', 'utils.py', 'version.py']\n",
      "../.venv/lib/python3.13/site-packages/packaging/licenses ['__pycache__'] ['__init__.py', '_spdx.py']\n",
      "../.venv/lib/python3.13/site-packages/packaging/licenses/__pycache__ [] ['__init__.cpython-313.pyc', '_spdx.cpython-313.pyc']\n",
      "../.venv/lib/python3.13/site-packages/packaging/__pycache__ [] ['__init__.cpython-313.pyc', '_elffile.cpython-313.pyc', '_manylinux.cpython-313.pyc', '_musllinux.cpython-313.pyc', '_parser.cpython-313.pyc', '_structures.cpython-313.pyc', '_tokenizer.cpython-313.pyc', 'markers.cpython-313.pyc', 'metadata.cpython-313.pyc', 'requirements.cpython-313.pyc', 'specifiers.cpython-313.pyc', 'tags.cpython-313.pyc', 'utils.cpython-313.pyc', 'version.cpython-313.pyc']\n",
      "../.venv/lib/python3.13/site-packages/packaging-25.0.dist-info ['licenses'] ['WHEEL', 'METADATA', 'INSTALLER', 'RECORD']\n",
      "../.venv/lib/python3.13/site-packages/packaging-25.0.dist-info/licenses [] ['LICENSE', 'LICENSE.APACHE', 'LICENSE.BSD']\n",
      "../.venv/lib/python3.13/site-packages/nest_asyncio-1.6.0.dist-info [] ['LICENSE', 'METADATA', 'WHEEL', 'top_level.txt', 'INSTALLER', 'RECORD']\n",
      "../.venv/lib/python3.13/site-packages/executing ['__pycache__'] ['__init__.py', '_exceptions.py', '_position_node_finder.py', '_pytest_utils.py', 'executing.py', 'py.typed', 'version.py']\n",
      "../.venv/lib/python3.13/site-packages/executing/__pycache__ [] ['__init__.cpython-313.pyc', '_exceptions.cpython-313.pyc', '_position_node_finder.cpython-313.pyc', '_pytest_utils.cpython-313.pyc', 'executing.cpython-313.pyc', 'version.cpython-313.pyc']\n",
      "../.venv/lib/python3.13/site-packages/executing-2.2.0.dist-info [] ['LICENSE.txt', 'METADATA', 'WHEEL', 'top_level.txt', 'INSTALLER', 'RECORD']\n",
      "../.venv/lib/python3.13/site-packages/decorator-5.2.1.dist-info [] ['LICENSE.txt', 'METADATA', 'WHEEL', 'pbr.json', 'top_level.txt', 'INSTALLER', 'RECORD']\n",
      "../.venv/lib/python3.13/site-packages/debugpy ['server', '_vendored', 'launcher', 'common', 'adapter', '__pycache__'] ['__init__.py', '__main__.py', '_version.py', 'public_api.py', 'ThirdPartyNotices.txt']\n",
      "../.venv/lib/python3.13/site-packages/debugpy/server ['__pycache__'] ['api.py', '__init__.py', 'cli.py', 'attach_pid_injected.py']\n",
      "../.venv/lib/python3.13/site-packages/debugpy/server/__pycache__ [] ['__init__.cpython-313.pyc', 'api.cpython-313.pyc', 'attach_pid_injected.cpython-313.pyc', 'cli.cpython-313.pyc']\n",
      "../.venv/lib/python3.13/site-packages/debugpy/_vendored ['pydevd', '__pycache__'] ['_pydevd_packaging.py', '_util.py', '__init__.py', 'force_pydevd.py']\n",
      "../.venv/lib/python3.13/site-packages/debugpy/_vendored/pydevd ['_pydev_runfiles', 'pydev_ipython', '_pydevd_bundle', '_pydevd_frame_eval', 'pydev_sitecustomize', 'pydevd_attach_to_process', 'pydevd_plugins', '_pydevd_sys_monitoring', '_pydev_bundle', '__pycache__'] ['pydevconsole.py', 'pydev_pysrc.py', 'pydevd_tracing.py', 'pydev_run_in_console.py', 'setup_pydevd_cython.py', 'pydev_coverage.py', 'pydevd.py', 'pydev_app_engine_debug_startup.py', 'pydevd_file_utils.py']\n",
      "../.venv/lib/python3.13/site-packages/debugpy/_vendored/pydevd/_pydev_runfiles ['__pycache__'] ['pydev_runfiles_xml_rpc.py', '__init__.py', 'pydev_runfiles_nose.py', 'pydev_runfiles_parallel.py', 'pydev_runfiles_unittest.py', 'pydev_runfiles.py', 'pydev_runfiles_coverage.py', 'pydev_runfiles_parallel_client.py', 'pydev_runfiles_pytest2.py']\n",
      "../.venv/lib/python3.13/site-packages/debugpy/_vendored/pydevd/_pydev_runfiles/__pycache__ [] ['__init__.cpython-313.pyc', 'pydev_runfiles.cpython-313.pyc', 'pydev_runfiles_coverage.cpython-313.pyc', 'pydev_runfiles_nose.cpython-313.pyc', 'pydev_runfiles_parallel.cpython-313.pyc', 'pydev_runfiles_parallel_client.cpython-313.pyc', 'pydev_runfiles_pytest2.cpython-313.pyc', 'pydev_runfiles_unittest.cpython-313.pyc', 'pydev_runfiles_xml_rpc.cpython-313.pyc']\n",
      "../.venv/lib/python3.13/site-packages/debugpy/_vendored/pydevd/pydev_ipython ['__pycache__'] ['version.py', 'README', 'qt.py', 'inputhookgtk.py', 'inputhookgtk3.py', '__init__.py', 'inputhookpyglet.py', 'matplotlibtools.py', 'inputhook.py', 'inputhookqt4.py', 'qt_for_kernel.py', 'qt_loaders.py', 'inputhooktk.py', 'inputhookqt5.py', 'inputhookglut.py', 'inputhookqt6.py', 'inputhookwx.py']\n",
      "../.venv/lib/python3.13/site-packages/debugpy/_vendored/pydevd/pydev_ipython/__pycache__ [] ['__init__.cpython-313.pyc', 'inputhook.cpython-313.pyc', 'inputhookglut.cpython-313.pyc', 'inputhookgtk.cpython-313.pyc', 'inputhookgtk3.cpython-313.pyc', 'inputhookpyglet.cpython-313.pyc', 'inputhookqt4.cpython-313.pyc', 'inputhookqt5.cpython-313.pyc', 'inputhookqt6.cpython-313.pyc', 'inputhooktk.cpython-313.pyc', 'inputhookwx.cpython-313.pyc', 'matplotlibtools.cpython-313.pyc', 'qt.cpython-313.pyc', 'qt_for_kernel.cpython-313.pyc', 'qt_loaders.cpython-313.pyc', 'version.cpython-313.pyc']\n",
      "../.venv/lib/python3.13/site-packages/debugpy/_vendored/pydevd/_pydevd_bundle ['_debug_adapter', 'pydevd_concurrency_analyser', '__pycache__'] ['pydevd_trace_dispatch.py', 'pydevd_vars.py', 'pydevd_process_net_command_json.py', 'pydevd_bytecode_utils.py', 'pydevd_dont_trace.py', 'pydevd_custom_frames.py', 'pydevd_additional_thread_info_regular.py', 'pydevd_save_locals.py', 'pydevd_runpy.py', 'pydevd_gevent_integration.py', 'pydevd_xml.py', 'pydevd_exec2.py', 'pydevd_timeout.py', 'pydevd_suspended_frames.py', 'pydevd_traceproperty.py', 'pydevd_referrers.py', 'pydevd_thread_lifecycle.py', 'pydevd_vm_type.py', 'pydevd_api.py', 'pydevd_cython.pyx', 'pydevd_net_command_factory_json.py', 'pydevd_safe_repr.py', 'pydevd_cython.cpython-313-x86_64-linux-gnu.so', '__init__.py', 'pydevd_resolver.py', 'pydevd_daemon_thread.py', 'pydevd_bytecode_utils_py311.py', 'pydevd_extension_utils.py', 'pydevd_cython.pxd', 'pydevd_signature.py', 'pydevd_cython.c', 'pydevd_frame.py', 'pydevd_io.py', 'pydevd_defaults.py', 'pydevd_comm_constants.py', 'pydevd_dont_trace_files.py', 'pydevd_net_command_factory_xml.py', 'pydevd_breakpoints.py', 'pydevd_process_net_command.py', 'pydevd_reload.py', 'pydevd_code_to_source.py', 'pydevd_stackless.py', 'pydevd_console.py', 'pydevd_extension_api.py', 'pydevd_net_command.py', 'pydevd_trace_dispatch_regular.py', 'pydevd_utils.py', 'pydevd_source_mapping.py', 'pydevd_cython_wrapper.py', 'pydevd_filtering.py', 'pydevd_command_line_handling.py', 'pydevd_comm.py', 'pydevd_json_debug_options.py', 'pydevd_plugin_utils.py', 'pydevd_additional_thread_info.py', 'pydevd_constants.py', 'pydevd_frame_utils.py', 'pydevd_collect_bytecode_info.py', 'pydevd_import_class.py', 'pydevconsole_code.py']\n",
      "../.venv/lib/python3.13/site-packages/debugpy/_vendored/pydevd/_pydevd_bundle/_debug_adapter ['__pycache__'] ['pydevd_schema.py', 'debugProtocolCustom.json', '__init__.py', '__main__pydevd_gen_debug_adapter_protocol.py', 'debugProtocol.json', 'pydevd_base_schema.py', 'pydevd_schema_log.py']\n",
      "../.venv/lib/python3.13/site-packages/debugpy/_vendored/pydevd/_pydevd_bundle/_debug_adapter/__pycache__ [] ['__init__.cpython-313.pyc', '__main__pydevd_gen_debug_adapter_protocol.cpython-313.pyc', 'pydevd_base_schema.cpython-313.pyc', 'pydevd_schema.cpython-313.pyc', 'pydevd_schema_log.cpython-313.pyc']\n",
      "../.venv/lib/python3.13/site-packages/debugpy/_vendored/pydevd/_pydevd_bundle/pydevd_concurrency_analyser ['__pycache__'] ['__init__.py', 'pydevd_concurrency_logger.py', 'pydevd_thread_wrappers.py']\n",
      "../.venv/lib/python3.13/site-packages/debugpy/_vendored/pydevd/_pydevd_bundle/pydevd_concurrency_analyser/__pycache__ [] ['__init__.cpython-313.pyc', 'pydevd_concurrency_logger.cpython-313.pyc', 'pydevd_thread_wrappers.cpython-313.pyc']\n",
      "../.venv/lib/python3.13/site-packages/debugpy/_vendored/pydevd/_pydevd_bundle/__pycache__ [] ['__init__.cpython-313.pyc', 'pydevconsole_code.cpython-313.pyc', 'pydevd_additional_thread_info.cpython-313.pyc', 'pydevd_additional_thread_info_regular.cpython-313.pyc', 'pydevd_api.cpython-313.pyc', 'pydevd_breakpoints.cpython-313.pyc', 'pydevd_bytecode_utils.cpython-313.pyc', 'pydevd_bytecode_utils_py311.cpython-313.pyc', 'pydevd_code_to_source.cpython-313.pyc', 'pydevd_collect_bytecode_info.cpython-313.pyc', 'pydevd_comm.cpython-313.pyc', 'pydevd_comm_constants.cpython-313.pyc', 'pydevd_command_line_handling.cpython-313.pyc', 'pydevd_console.cpython-313.pyc', 'pydevd_constants.cpython-313.pyc', 'pydevd_custom_frames.cpython-313.pyc', 'pydevd_cython_wrapper.cpython-313.pyc', 'pydevd_daemon_thread.cpython-313.pyc', 'pydevd_defaults.cpython-313.pyc', 'pydevd_dont_trace.cpython-313.pyc', 'pydevd_dont_trace_files.cpython-313.pyc', 'pydevd_exec2.cpython-313.pyc', 'pydevd_extension_api.cpython-313.pyc', 'pydevd_extension_utils.cpython-313.pyc', 'pydevd_filtering.cpython-313.pyc', 'pydevd_frame.cpython-313.pyc', 'pydevd_frame_utils.cpython-313.pyc', 'pydevd_gevent_integration.cpython-313.pyc', 'pydevd_import_class.cpython-313.pyc', 'pydevd_io.cpython-313.pyc', 'pydevd_json_debug_options.cpython-313.pyc', 'pydevd_net_command.cpython-313.pyc', 'pydevd_net_command_factory_json.cpython-313.pyc', 'pydevd_net_command_factory_xml.cpython-313.pyc', 'pydevd_plugin_utils.cpython-313.pyc', 'pydevd_process_net_command.cpython-313.pyc', 'pydevd_process_net_command_json.cpython-313.pyc', 'pydevd_referrers.cpython-313.pyc', 'pydevd_reload.cpython-313.pyc', 'pydevd_resolver.cpython-313.pyc', 'pydevd_runpy.cpython-313.pyc', 'pydevd_safe_repr.cpython-313.pyc', 'pydevd_save_locals.cpython-313.pyc', 'pydevd_signature.cpython-313.pyc', 'pydevd_source_mapping.cpython-313.pyc', 'pydevd_stackless.cpython-313.pyc', 'pydevd_suspended_frames.cpython-313.pyc', 'pydevd_thread_lifecycle.cpython-313.pyc', 'pydevd_timeout.cpython-313.pyc', 'pydevd_trace_dispatch.cpython-313.pyc', 'pydevd_trace_dispatch_regular.cpython-313.pyc', 'pydevd_traceproperty.cpython-313.pyc', 'pydevd_utils.cpython-313.pyc', 'pydevd_vars.cpython-313.pyc', 'pydevd_vm_type.cpython-313.pyc', 'pydevd_xml.cpython-313.pyc']\n",
      "../.venv/lib/python3.13/site-packages/debugpy/_vendored/pydevd/_pydevd_frame_eval ['vendored', '__pycache__'] ['pydevd_modify_bytecode.py', 'pydevd_frame_evaluator.pxd', 'pydevd_frame_evaluator.template.pyx', '__init__.py', '.gitignore', 'pydevd_frame_tracing.py', 'release_mem.h', 'pydevd_frame_eval_cython_wrapper.py', 'pydevd_frame_evaluator.c', 'pydevd_frame_eval_main.py']\n",
      "../.venv/lib/python3.13/site-packages/debugpy/_vendored/pydevd/_pydevd_frame_eval/vendored ['bytecode', '__pycache__'] ['README.txt', '__init__.py', 'pydevd_fix_code.py']\n",
      "../.venv/lib/python3.13/site-packages/debugpy/_vendored/pydevd/_pydevd_frame_eval/vendored/bytecode ['tests', '__pycache__'] ['bytecode.py', 'cfg.py', 'concrete.py', '__init__.py', 'flags.py', 'instr.py', 'peephole_opt.py']\n",
      "../.venv/lib/python3.13/site-packages/debugpy/_vendored/pydevd/_pydevd_frame_eval/vendored/bytecode/tests ['__pycache__'] ['test_cfg.py', 'util_annotation.py', 'test_misc.py', 'test_bytecode.py', 'test_code.py', '__init__.py', 'test_flags.py', 'test_concrete.py', 'test_instr.py', 'test_peephole_opt.py']\n",
      "../.venv/lib/python3.13/site-packages/debugpy/_vendored/pydevd/_pydevd_frame_eval/vendored/bytecode/tests/__pycache__ [] ['__init__.cpython-313.pyc', 'test_bytecode.cpython-313.pyc', 'test_cfg.cpython-313.pyc', 'test_code.cpython-313.pyc', 'test_concrete.cpython-313.pyc', 'test_flags.cpython-313.pyc', 'test_instr.cpython-313.pyc', 'test_misc.cpython-313.pyc', 'test_peephole_opt.cpython-313.pyc', 'util_annotation.cpython-313.pyc']\n",
      "../.venv/lib/python3.13/site-packages/debugpy/_vendored/pydevd/_pydevd_frame_eval/vendored/bytecode/__pycache__ [] ['__init__.cpython-313.pyc', 'bytecode.cpython-313.pyc', 'cfg.cpython-313.pyc', 'concrete.cpython-313.pyc', 'flags.cpython-313.pyc', 'instr.cpython-313.pyc', 'peephole_opt.cpython-313.pyc']\n",
      "../.venv/lib/python3.13/site-packages/debugpy/_vendored/pydevd/_pydevd_frame_eval/vendored/__pycache__ [] ['__init__.cpython-313.pyc', 'pydevd_fix_code.cpython-313.pyc']\n",
      "../.venv/lib/python3.13/site-packages/debugpy/_vendored/pydevd/_pydevd_frame_eval/__pycache__ [] ['__init__.cpython-313.pyc', 'pydevd_frame_eval_cython_wrapper.cpython-313.pyc', 'pydevd_frame_eval_main.cpython-313.pyc', 'pydevd_frame_tracing.cpython-313.pyc', 'pydevd_modify_bytecode.cpython-313.pyc']\n",
      "../.venv/lib/python3.13/site-packages/debugpy/_vendored/pydevd/pydev_sitecustomize ['__pycache__'] ['__not_in_default_pythonpath.txt', 'sitecustomize.py']\n",
      "../.venv/lib/python3.13/site-packages/debugpy/_vendored/pydevd/pydev_sitecustomize/__pycache__ [] ['sitecustomize.cpython-313.pyc']\n",
      "../.venv/lib/python3.13/site-packages/debugpy/_vendored/pydevd/pydevd_attach_to_process ['winappdbg', 'common', 'windows', 'linux_and_mac', '__pycache__'] ['add_code_to_python_process.py', 'README.txt', '_check.py', '_always_live_program.py', 'attach_linux_amd64.so', '_test_attach_to_process_linux.py', '_test_attach_to_process.py', 'attach_script.py', 'attach_pydevd.py']\n",
      "../.venv/lib/python3.13/site-packages/debugpy/_vendored/pydevd/pydevd_attach_to_process/winappdbg ['win32', '__pycache__'] ['crash.py', 'disasm.py', 'search.py', 'module.py', '__init__.py', 'interactive.py', 'textio.py', 'breakpoint.py', 'registry.py', 'util.py', 'event.py', 'system.py', 'debug.py', 'sql.py', 'thread.py', 'compat.py', 'window.py', 'process.py']\n",
      "../.venv/lib/python3.13/site-packages/debugpy/_vendored/pydevd/pydevd_attach_to_process/winappdbg/win32 ['__pycache__'] ['version.py', 'gdi32.py', 'psapi.py', 'ntdll.py', 'advapi32.py', 'shell32.py', 'dbghelp.py', 'context_i386.py', '__init__.py', 'user32.py', 'kernel32.py', 'context_amd64.py', 'defines.py', 'shlwapi.py', 'peb_teb.py', 'wtsapi32.py']\n",
      "../.venv/lib/python3.13/site-packages/debugpy/_vendored/pydevd/pydevd_attach_to_process/winappdbg/win32/__pycache__ [] ['__init__.cpython-313.pyc', 'advapi32.cpython-313.pyc', 'context_amd64.cpython-313.pyc', 'context_i386.cpython-313.pyc', 'dbghelp.cpython-313.pyc', 'defines.cpython-313.pyc', 'gdi32.cpython-313.pyc', 'kernel32.cpython-313.pyc', 'ntdll.cpython-313.pyc', 'peb_teb.cpython-313.pyc', 'psapi.cpython-313.pyc', 'shell32.cpython-313.pyc', 'shlwapi.cpython-313.pyc', 'user32.cpython-313.pyc', 'version.cpython-313.pyc', 'wtsapi32.cpython-313.pyc']\n",
      "../.venv/lib/python3.13/site-packages/debugpy/_vendored/pydevd/pydevd_attach_to_process/winappdbg/__pycache__ [] ['__init__.cpython-313.pyc', 'breakpoint.cpython-313.pyc', 'compat.cpython-313.pyc', 'crash.cpython-313.pyc', 'debug.cpython-313.pyc', 'disasm.cpython-313.pyc', 'event.cpython-313.pyc', 'interactive.cpython-313.pyc', 'module.cpython-313.pyc', 'process.cpython-313.pyc', 'registry.cpython-313.pyc', 'search.cpython-313.pyc', 'sql.cpython-313.pyc', 'system.cpython-313.pyc', 'textio.cpython-313.pyc', 'thread.cpython-313.pyc', 'util.cpython-313.pyc', 'window.cpython-313.pyc']\n",
      "../.venv/lib/python3.13/site-packages/debugpy/_vendored/pydevd/pydevd_attach_to_process/common [] ['py_utils.hpp', 'ref_utils.hpp', 'py_custom_pyeval_settrace.hpp', 'py_custom_pyeval_settrace_310.hpp', 'python.h', 'py_version.hpp', 'py_settrace.hpp', 'py_custom_pyeval_settrace_311.hpp', 'py_custom_pyeval_settrace_common.hpp']\n",
      "../.venv/lib/python3.13/site-packages/debugpy/_vendored/pydevd/pydevd_attach_to_process/windows [] ['run_code_on_dllmain.cpp', 'inject_dll.cpp', 'targetver.h', 'run_code_in_memory.hpp', 'compile_windows.bat', 'stdafx.cpp', 'attach.cpp', 'stdafx.h', 'attach.h', 'py_win_helpers.hpp']\n",
      "../.venv/lib/python3.13/site-packages/debugpy/_vendored/pydevd/pydevd_attach_to_process/linux_and_mac ['__pycache__'] ['compile_mac.sh', '.gitignore', 'attach.cpp', 'lldb_prepare.py', 'compile_manylinux.cmd', 'compile_linux.sh']\n",
      "../.venv/lib/python3.13/site-packages/debugpy/_vendored/pydevd/pydevd_attach_to_process/linux_and_mac/__pycache__ [] ['lldb_prepare.cpython-313.pyc']\n",
      "../.venv/lib/python3.13/site-packages/debugpy/_vendored/pydevd/pydevd_attach_to_process/__pycache__ [] ['_always_live_program.cpython-313.pyc', '_check.cpython-313.pyc', '_test_attach_to_process.cpython-313.pyc', '_test_attach_to_process_linux.cpython-313.pyc', 'add_code_to_python_process.cpython-313.pyc', 'attach_pydevd.cpython-313.pyc', 'attach_script.cpython-313.pyc']\n",
      "../.venv/lib/python3.13/site-packages/debugpy/_vendored/pydevd/pydevd_plugins ['extensions', '__pycache__'] ['jinja2_debug.py', '__init__.py', 'django_debug.py', 'pydevd_line_validation.py']\n",
      "../.venv/lib/python3.13/site-packages/debugpy/_vendored/pydevd/pydevd_plugins/extensions ['types', '__pycache__'] ['__init__.py', 'README.md']\n",
      "../.venv/lib/python3.13/site-packages/debugpy/_vendored/pydevd/pydevd_plugins/extensions/types ['__pycache__'] ['__init__.py', 'pydevd_plugin_pandas_types.py', 'pydevd_plugins_django_form_str.py', 'pydevd_helpers.py', 'pydevd_plugin_numpy_types.py']\n",
      "../.venv/lib/python3.13/site-packages/debugpy/_vendored/pydevd/pydevd_plugins/extensions/types/__pycache__ [] ['__init__.cpython-313.pyc', 'pydevd_helpers.cpython-313.pyc', 'pydevd_plugin_numpy_types.cpython-313.pyc', 'pydevd_plugin_pandas_types.cpython-313.pyc', 'pydevd_plugins_django_form_str.cpython-313.pyc']\n",
      "../.venv/lib/python3.13/site-packages/debugpy/_vendored/pydevd/pydevd_plugins/extensions/__pycache__ [] ['__init__.cpython-313.pyc']\n",
      "../.venv/lib/python3.13/site-packages/debugpy/_vendored/pydevd/pydevd_plugins/__pycache__ [] ['__init__.cpython-313.pyc', 'django_debug.cpython-313.pyc', 'jinja2_debug.cpython-313.pyc', 'pydevd_line_validation.cpython-313.pyc']\n",
      "../.venv/lib/python3.13/site-packages/debugpy/_vendored/pydevd/_pydevd_sys_monitoring ['__pycache__'] ['_pydevd_sys_monitoring_cython.cpython-313-x86_64-linux-gnu.so', '_pydevd_sys_monitoring_cython.c', '_pydevd_sys_monitoring_cython.pxd', '_pydevd_sys_monitoring_cython.pyx', 'pydevd_sys_monitoring.py', '_pydevd_sys_monitoring.py']\n",
      "../.venv/lib/python3.13/site-packages/debugpy/_vendored/pydevd/_pydevd_sys_monitoring/__pycache__ [] ['_pydevd_sys_monitoring.cpython-313.pyc', 'pydevd_sys_monitoring.cpython-313.pyc']\n",
      "../.venv/lib/python3.13/site-packages/debugpy/_vendored/pydevd/_pydev_bundle ['fsnotify', '__pycache__'] ['pydev_import_hook.py', '_pydev_completer.py', 'pydev_versioncheck.py', '_pydev_tipper_common.py', 'pydev_monkey_qt.py', 'pydev_ipython_console_011.py', 'pydev_monkey.py', 'pydev_is_thread_alive.py', '_pydev_calltip_util.py', 'pydev_ipython_console.py', 'pydev_console_utils.py', '_pydev_sys_patch.py', '_pydev_execfile.py', '__init__.py', 'pydev_imports.py', '_pydev_filesystem_encoding.py', 'pydev_localhost.py', 'pydev_override.py', '_pydev_imports_tipper.py', 'pydev_log.py', '_pydev_jy_imports_tipper.py', 'pydev_umd.py', '_pydev_saved_modules.py', '_pydev_log.py', '_pydev_getopt.py']\n",
      "../.venv/lib/python3.13/site-packages/debugpy/_vendored/pydevd/_pydev_bundle/fsnotify ['__pycache__'] ['__init__.py']\n",
      "../.venv/lib/python3.13/site-packages/debugpy/_vendored/pydevd/_pydev_bundle/fsnotify/__pycache__ [] ['__init__.cpython-313.pyc']\n",
      "../.venv/lib/python3.13/site-packages/debugpy/_vendored/pydevd/_pydev_bundle/__pycache__ [] ['__init__.cpython-313.pyc', '_pydev_calltip_util.cpython-313.pyc', '_pydev_completer.cpython-313.pyc', '_pydev_execfile.cpython-313.pyc', '_pydev_filesystem_encoding.cpython-313.pyc', '_pydev_getopt.cpython-313.pyc', '_pydev_imports_tipper.cpython-313.pyc', '_pydev_jy_imports_tipper.cpython-313.pyc', '_pydev_log.cpython-313.pyc', '_pydev_saved_modules.cpython-313.pyc', '_pydev_sys_patch.cpython-313.pyc', '_pydev_tipper_common.cpython-313.pyc', 'pydev_console_utils.cpython-313.pyc', 'pydev_import_hook.cpython-313.pyc', 'pydev_imports.cpython-313.pyc', 'pydev_ipython_console.cpython-313.pyc', 'pydev_ipython_console_011.cpython-313.pyc', 'pydev_is_thread_alive.cpython-313.pyc', 'pydev_localhost.cpython-313.pyc', 'pydev_log.cpython-313.pyc', 'pydev_monkey.cpython-313.pyc', 'pydev_monkey_qt.cpython-313.pyc', 'pydev_override.cpython-313.pyc', 'pydev_umd.cpython-313.pyc', 'pydev_versioncheck.cpython-313.pyc']\n",
      "../.venv/lib/python3.13/site-packages/debugpy/_vendored/pydevd/__pycache__ [] ['pydev_app_engine_debug_startup.cpython-313.pyc', 'pydev_coverage.cpython-313.pyc', 'pydev_pysrc.cpython-313.pyc', 'pydev_run_in_console.cpython-313.pyc', 'pydevconsole.cpython-313.pyc', 'pydevd.cpython-313.pyc', 'pydevd_file_utils.cpython-313.pyc', 'pydevd_tracing.cpython-313.pyc', 'setup_pydevd_cython.cpython-313.pyc']\n",
      "../.venv/lib/python3.13/site-packages/debugpy/_vendored/__pycache__ [] ['__init__.cpython-313.pyc', '_pydevd_packaging.cpython-313.pyc', '_util.cpython-313.pyc', 'force_pydevd.cpython-313.pyc']\n",
      "../.venv/lib/python3.13/site-packages/debugpy/launcher ['__pycache__'] ['debuggee.py', '__init__.py', '__main__.py', 'output.py', 'winapi.py', 'handlers.py']\n",
      "../.venv/lib/python3.13/site-packages/debugpy/launcher/__pycache__ [] ['__init__.cpython-313.pyc', '__main__.cpython-313.pyc', 'debuggee.cpython-313.pyc', 'handlers.cpython-313.pyc', 'output.cpython-313.pyc', 'winapi.cpython-313.pyc']\n",
      "../.venv/lib/python3.13/site-packages/debugpy/common ['__pycache__'] ['stacks.py', 'sockets.py', '__init__.py', 'singleton.py', 'util.py', 'timestamp.py', 'log.py', 'messaging.py', 'json.py']\n",
      "../.venv/lib/python3.13/site-packages/debugpy/common/__pycache__ [] ['__init__.cpython-313.pyc', 'json.cpython-313.pyc', 'log.cpython-313.pyc', 'messaging.cpython-313.pyc', 'singleton.cpython-313.pyc', 'sockets.cpython-313.pyc', 'stacks.cpython-313.pyc', 'timestamp.cpython-313.pyc', 'util.cpython-313.pyc']\n",
      "../.venv/lib/python3.13/site-packages/debugpy/adapter ['__pycache__'] ['clients.py', 'servers.py', '__init__.py', '__main__.py', 'sessions.py', 'components.py', 'launchers.py']\n",
      "../.venv/lib/python3.13/site-packages/debugpy/adapter/__pycache__ [] ['__init__.cpython-313.pyc', '__main__.cpython-313.pyc', 'clients.cpython-313.pyc', 'components.cpython-313.pyc', 'launchers.cpython-313.pyc', 'servers.cpython-313.pyc', 'sessions.cpython-313.pyc']\n",
      "../.venv/lib/python3.13/site-packages/debugpy/__pycache__ [] ['__init__.cpython-313.pyc', '__main__.cpython-313.pyc', '_version.cpython-313.pyc', 'public_api.cpython-313.pyc']\n",
      "../.venv/lib/python3.13/site-packages/debugpy-1.8.15.dist-info ['licenses'] ['top_level.txt', 'entry_points.txt', 'WHEEL', 'METADATA', 'INSTALLER', 'RECORD']\n",
      "../.venv/lib/python3.13/site-packages/debugpy-1.8.15.dist-info/licenses [] ['LICENSE']\n",
      "../.venv/lib/python3.13/site-packages/comm ['__pycache__'] ['__init__.py', 'base_comm.py', 'py.typed']\n",
      "../.venv/lib/python3.13/site-packages/comm/__pycache__ [] ['__init__.cpython-313.pyc', 'base_comm.cpython-313.pyc']\n",
      "../.venv/lib/python3.13/site-packages/comm-0.2.3.dist-info ['licenses'] ['METADATA', 'WHEEL', 'INSTALLER', 'RECORD']\n",
      "../.venv/lib/python3.13/site-packages/comm-0.2.3.dist-info/licenses [] ['LICENSE']\n",
      "../.venv/lib/python3.13/site-packages/asttokens ['__pycache__'] ['__init__.py', 'astroid_compat.py', 'asttokens.py', 'line_numbers.py', 'mark_tokens.py', 'py.typed', 'util.py', 'version.py']\n",
      "../.venv/lib/python3.13/site-packages/asttokens/__pycache__ [] ['__init__.cpython-313.pyc', 'astroid_compat.cpython-313.pyc', 'asttokens.cpython-313.pyc', 'line_numbers.cpython-313.pyc', 'mark_tokens.cpython-313.pyc', 'util.cpython-313.pyc', 'version.cpython-313.pyc']\n",
      "../.venv/lib/python3.13/site-packages/asttokens-3.0.0.dist-info [] ['LICENSE', 'METADATA', 'WHEEL', 'top_level.txt', 'INSTALLER', 'RECORD']\n",
      "../.venv/lib/python3.13/site-packages/stack_data ['__pycache__'] ['__init__.py', 'core.py', 'formatting.py', 'py.typed', 'serializing.py', 'utils.py', 'version.py']\n",
      "../.venv/lib/python3.13/site-packages/stack_data/__pycache__ [] ['__init__.cpython-313.pyc', 'core.cpython-313.pyc', 'formatting.cpython-313.pyc', 'serializing.cpython-313.pyc', 'utils.cpython-313.pyc', 'version.cpython-313.pyc']\n",
      "../.venv/lib/python3.13/site-packages/stack_data-0.6.3.dist-info [] ['LICENSE.txt', 'METADATA', 'WHEEL', 'top_level.txt', 'INSTALLER', 'RECORD']\n",
      "../.venv/lib/python3.13/site-packages/dateutil ['parser', 'tz', 'zoneinfo', '__pycache__'] ['__init__.py', '_common.py', '_version.py', 'easter.py', 'relativedelta.py', 'rrule.py', 'tzwin.py', 'utils.py']\n",
      "../.venv/lib/python3.13/site-packages/dateutil/parser ['__pycache__'] ['__init__.py', '_parser.py', 'isoparser.py']\n",
      "../.venv/lib/python3.13/site-packages/dateutil/parser/__pycache__ [] ['__init__.cpython-313.pyc', '_parser.cpython-313.pyc', 'isoparser.cpython-313.pyc']\n",
      "../.venv/lib/python3.13/site-packages/dateutil/tz ['__pycache__'] ['__init__.py', '_common.py', '_factories.py', 'tz.py', 'win.py']\n",
      "../.venv/lib/python3.13/site-packages/dateutil/tz/__pycache__ [] ['__init__.cpython-313.pyc', '_common.cpython-313.pyc', '_factories.cpython-313.pyc', 'tz.cpython-313.pyc', 'win.cpython-313.pyc']\n",
      "../.venv/lib/python3.13/site-packages/dateutil/zoneinfo ['__pycache__'] ['__init__.py', 'dateutil-zoneinfo.tar.gz', 'rebuild.py']\n",
      "../.venv/lib/python3.13/site-packages/dateutil/zoneinfo/__pycache__ [] ['__init__.cpython-313.pyc', 'rebuild.cpython-313.pyc']\n",
      "../.venv/lib/python3.13/site-packages/dateutil/__pycache__ [] ['__init__.cpython-313.pyc', '_common.cpython-313.pyc', '_version.cpython-313.pyc', 'easter.cpython-313.pyc', 'relativedelta.cpython-313.pyc', 'rrule.cpython-313.pyc', 'tzwin.cpython-313.pyc', 'utils.cpython-313.pyc']\n",
      "../.venv/lib/python3.13/site-packages/python_dateutil-2.9.0.post0.dist-info [] ['LICENSE', 'METADATA', 'WHEEL', 'top_level.txt', 'zip-safe', 'INSTALLER', 'RECORD']\n",
      "../.venv/lib/python3.13/site-packages/matplotlib_inline ['__pycache__'] ['__init__.py', 'backend_inline.py', 'config.py']\n",
      "../.venv/lib/python3.13/site-packages/matplotlib_inline/__pycache__ [] ['__init__.cpython-313.pyc', 'backend_inline.cpython-313.pyc', 'config.cpython-313.pyc']\n",
      "../.venv/lib/python3.13/site-packages/matplotlib_inline-0.1.7.dist-info [] ['LICENSE', 'METADATA', 'WHEEL', 'entry_points.txt', 'top_level.txt', 'INSTALLER', 'RECORD']\n",
      "../.venv/lib/python3.13/site-packages/jupyter_core ['utils', '__pycache__'] ['__init__.py', '__main__.py', 'application.py', 'command.py', 'migrate.py', 'paths.py', 'py.typed', 'troubleshoot.py', 'version.py']\n",
      "../.venv/lib/python3.13/site-packages/jupyter_core/utils ['__pycache__'] ['__init__.py']\n",
      "../.venv/lib/python3.13/site-packages/jupyter_core/utils/__pycache__ [] ['__init__.cpython-313.pyc']\n",
      "../.venv/lib/python3.13/site-packages/jupyter_core/__pycache__ [] ['__init__.cpython-313.pyc', '__main__.cpython-313.pyc', 'application.cpython-313.pyc', 'command.cpython-313.pyc', 'migrate.cpython-313.pyc', 'paths.cpython-313.pyc', 'troubleshoot.cpython-313.pyc', 'version.cpython-313.pyc']\n",
      "../.venv/lib/python3.13/site-packages/jupyter_core-5.8.1.dist-info ['licenses'] ['METADATA', 'WHEEL', 'entry_points.txt', 'INSTALLER', 'RECORD']\n",
      "../.venv/lib/python3.13/site-packages/jupyter_core-5.8.1.dist-info/licenses [] ['LICENSE']\n",
      "../.venv/lib/python3.13/site-packages/jedi ['api', 'inference', 'plugins', 'third_party', '__pycache__'] ['__init__.py', '__main__.py', '_compatibility.py', 'cache.py', 'common.py', 'debug.py', 'file_io.py', 'parser_utils.py', 'settings.py', 'utils.py']\n",
      "../.venv/lib/python3.13/site-packages/jedi/api ['refactoring', '__pycache__'] ['__init__.py', 'classes.py', 'completion.py', 'completion_cache.py', 'environment.py', 'errors.py', 'exceptions.py', 'file_name.py', 'helpers.py', 'interpreter.py', 'keywords.py', 'project.py', 'replstartup.py', 'strings.py']\n",
      "../.venv/lib/python3.13/site-packages/jedi/api/refactoring ['__pycache__'] ['__init__.py', 'extract.py']\n",
      "../.venv/lib/python3.13/site-packages/jedi/api/refactoring/__pycache__ [] ['__init__.cpython-313.pyc', 'extract.cpython-313.pyc']\n",
      "../.venv/lib/python3.13/site-packages/jedi/api/__pycache__ [] ['__init__.cpython-313.pyc', 'classes.cpython-313.pyc', 'completion.cpython-313.pyc', 'completion_cache.cpython-313.pyc', 'environment.cpython-313.pyc', 'errors.cpython-313.pyc', 'exceptions.cpython-313.pyc', 'file_name.cpython-313.pyc', 'helpers.cpython-313.pyc', 'interpreter.cpython-313.pyc', 'keywords.cpython-313.pyc', 'project.cpython-313.pyc', 'replstartup.cpython-313.pyc', 'strings.cpython-313.pyc']\n",
      "../.venv/lib/python3.13/site-packages/jedi/inference ['compiled', 'gradual', 'value', '__pycache__'] ['__init__.py', 'analysis.py', 'arguments.py', 'base_value.py', 'cache.py', 'context.py', 'docstring_utils.py', 'docstrings.py', 'dynamic_params.py', 'filters.py', 'finder.py', 'flow_analysis.py', 'helpers.py', 'imports.py', 'lazy_value.py', 'names.py', 'param.py', 'parser_cache.py', 'recursion.py', 'references.py', 'signature.py', 'star_args.py', 'syntax_tree.py', 'sys_path.py', 'utils.py']\n",
      "../.venv/lib/python3.13/site-packages/jedi/inference/compiled ['subprocess', '__pycache__'] ['__init__.py', 'access.py', 'getattr_static.py', 'mixed.py', 'value.py']\n",
      "../.venv/lib/python3.13/site-packages/jedi/inference/compiled/subprocess ['__pycache__'] ['__init__.py', '__main__.py', 'functions.py']\n",
      "../.venv/lib/python3.13/site-packages/jedi/inference/compiled/subprocess/__pycache__ [] ['__init__.cpython-313.pyc', '__main__.cpython-313.pyc', 'functions.cpython-313.pyc']\n",
      "../.venv/lib/python3.13/site-packages/jedi/inference/compiled/__pycache__ [] ['__init__.cpython-313.pyc', 'access.cpython-313.pyc', 'getattr_static.cpython-313.pyc', 'mixed.cpython-313.pyc', 'value.cpython-313.pyc']\n",
      "../.venv/lib/python3.13/site-packages/jedi/inference/gradual ['__pycache__'] ['__init__.py', 'annotation.py', 'base.py', 'conversion.py', 'generics.py', 'stub_value.py', 'type_var.py', 'typeshed.py', 'typing.py', 'utils.py']\n",
      "../.venv/lib/python3.13/site-packages/jedi/inference/gradual/__pycache__ [] ['__init__.cpython-313.pyc', 'annotation.cpython-313.pyc', 'base.cpython-313.pyc', 'conversion.cpython-313.pyc', 'generics.cpython-313.pyc', 'stub_value.cpython-313.pyc', 'type_var.cpython-313.pyc', 'typeshed.cpython-313.pyc', 'typing.cpython-313.pyc', 'utils.cpython-313.pyc']\n",
      "../.venv/lib/python3.13/site-packages/jedi/inference/value ['__pycache__'] ['__init__.py', 'decorator.py', 'dynamic_arrays.py', 'function.py', 'instance.py', 'iterable.py', 'klass.py', 'module.py', 'namespace.py']\n",
      "../.venv/lib/python3.13/site-packages/jedi/inference/value/__pycache__ [] ['__init__.cpython-313.pyc', 'decorator.cpython-313.pyc', 'dynamic_arrays.cpython-313.pyc', 'function.cpython-313.pyc', 'instance.cpython-313.pyc', 'iterable.cpython-313.pyc', 'klass.cpython-313.pyc', 'module.cpython-313.pyc', 'namespace.cpython-313.pyc']\n",
      "../.venv/lib/python3.13/site-packages/jedi/inference/__pycache__ [] ['__init__.cpython-313.pyc', 'analysis.cpython-313.pyc', 'arguments.cpython-313.pyc', 'base_value.cpython-313.pyc', 'cache.cpython-313.pyc', 'context.cpython-313.pyc', 'docstring_utils.cpython-313.pyc', 'docstrings.cpython-313.pyc', 'dynamic_params.cpython-313.pyc', 'filters.cpython-313.pyc', 'finder.cpython-313.pyc', 'flow_analysis.cpython-313.pyc', 'helpers.cpython-313.pyc', 'imports.cpython-313.pyc', 'lazy_value.cpython-313.pyc', 'names.cpython-313.pyc', 'param.cpython-313.pyc', 'parser_cache.cpython-313.pyc', 'recursion.cpython-313.pyc', 'references.cpython-313.pyc', 'signature.cpython-313.pyc', 'star_args.cpython-313.pyc', 'syntax_tree.cpython-313.pyc', 'sys_path.cpython-313.pyc', 'utils.cpython-313.pyc']\n",
      "../.venv/lib/python3.13/site-packages/jedi/plugins ['__pycache__'] ['__init__.py', 'django.py', 'flask.py', 'pytest.py', 'registry.py', 'stdlib.py']\n",
      "../.venv/lib/python3.13/site-packages/jedi/plugins/__pycache__ [] ['__init__.cpython-313.pyc', 'django.cpython-313.pyc', 'flask.cpython-313.pyc', 'pytest.cpython-313.pyc', 'registry.cpython-313.pyc', 'stdlib.cpython-313.pyc']\n",
      "../.venv/lib/python3.13/site-packages/jedi/third_party ['django-stubs', 'typeshed'] []\n",
      "../.venv/lib/python3.13/site-packages/jedi/third_party/django-stubs ['django-stubs'] ['LICENSE.txt']\n",
      "../.venv/lib/python3.13/site-packages/jedi/third_party/django-stubs/django-stubs ['apps', 'conf', 'contrib', 'core', 'db', 'dispatch', 'forms', 'http', 'middleware', 'template', 'templatetags', 'test', 'urls', 'utils', 'views'] ['__init__.pyi', 'shortcuts.pyi']\n",
      "../.venv/lib/python3.13/site-packages/jedi/third_party/django-stubs/django-stubs/apps [] ['__init__.pyi', 'config.pyi', 'registry.pyi']\n",
      "../.venv/lib/python3.13/site-packages/jedi/third_party/django-stubs/django-stubs/conf ['locale', 'urls'] ['__init__.pyi', 'global_settings.pyi']\n",
      "../.venv/lib/python3.13/site-packages/jedi/third_party/django-stubs/django-stubs/conf/locale [] ['__init__.pyi']\n",
      "../.venv/lib/python3.13/site-packages/jedi/third_party/django-stubs/django-stubs/conf/urls [] ['__init__.pyi', 'i18n.pyi', 'static.pyi']\n",
      "../.venv/lib/python3.13/site-packages/jedi/third_party/django-stubs/django-stubs/contrib ['admin', 'admindocs', 'auth', 'contenttypes', 'flatpages', 'gis', 'humanize', 'messages', 'postgres', 'redirects', 'sessions', 'sitemaps', 'sites', 'staticfiles', 'syndication'] ['__init__.pyi']\n",
      "../.venv/lib/python3.13/site-packages/jedi/third_party/django-stubs/django-stubs/contrib/admin ['templatetags', 'views'] ['__init__.pyi', 'actions.pyi', 'apps.pyi', 'checks.pyi', 'decorators.pyi', 'filters.pyi', 'forms.pyi', 'helpers.pyi', 'models.pyi', 'options.pyi', 'sites.pyi', 'tests.pyi', 'utils.pyi', 'widgets.pyi']\n",
      "../.venv/lib/python3.13/site-packages/jedi/third_party/django-stubs/django-stubs/contrib/admin/templatetags [] ['__init__.pyi', 'admin_list.pyi', 'admin_modify.pyi', 'admin_static.pyi', 'admin_urls.pyi', 'base.pyi', 'log.pyi']\n",
      "../.venv/lib/python3.13/site-packages/jedi/third_party/django-stubs/django-stubs/contrib/admin/views [] ['__init__.pyi', 'autocomplete.pyi', 'decorators.pyi', 'main.pyi']\n",
      "../.venv/lib/python3.13/site-packages/jedi/third_party/django-stubs/django-stubs/contrib/admindocs [] ['__init__.pyi', 'middleware.pyi', 'urls.pyi', 'utils.pyi', 'views.pyi']\n",
      "../.venv/lib/python3.13/site-packages/jedi/third_party/django-stubs/django-stubs/contrib/auth ['handlers', 'management'] ['__init__.pyi', 'admin.pyi', 'apps.pyi', 'backends.pyi', 'base_user.pyi', 'checks.pyi', 'context_processors.pyi', 'decorators.pyi', 'forms.pyi', 'hashers.pyi', 'middleware.pyi', 'mixins.pyi', 'models.pyi', 'password_validation.pyi', 'signals.pyi', 'tokens.pyi', 'urls.pyi', 'validators.pyi', 'views.pyi']\n",
      "../.venv/lib/python3.13/site-packages/jedi/third_party/django-stubs/django-stubs/contrib/auth/handlers [] ['__init__.pyi', 'modwsgi.pyi']\n",
      "../.venv/lib/python3.13/site-packages/jedi/third_party/django-stubs/django-stubs/contrib/auth/management ['commands'] ['__init__.pyi']\n",
      "../.venv/lib/python3.13/site-packages/jedi/third_party/django-stubs/django-stubs/contrib/auth/management/commands [] ['__init__.pyi', 'changepassword.pyi', 'createsuperuser.pyi']\n",
      "../.venv/lib/python3.13/site-packages/jedi/third_party/django-stubs/django-stubs/contrib/contenttypes ['management'] ['__init__.pyi', 'admin.pyi', 'apps.pyi', 'checks.pyi', 'fields.pyi', 'forms.pyi', 'models.pyi', 'views.pyi']\n",
      "../.venv/lib/python3.13/site-packages/jedi/third_party/django-stubs/django-stubs/contrib/contenttypes/management ['commands'] ['__init__.pyi']\n",
      "../.venv/lib/python3.13/site-packages/jedi/third_party/django-stubs/django-stubs/contrib/contenttypes/management/commands [] ['__init__.pyi', 'remove_stale_contenttypes.pyi']\n",
      "../.venv/lib/python3.13/site-packages/jedi/third_party/django-stubs/django-stubs/contrib/flatpages ['templatetags'] ['__init__.pyi', 'forms.pyi', 'middleware.pyi', 'models.pyi', 'sitemaps.pyi', 'urls.pyi', 'views.pyi']\n",
      "../.venv/lib/python3.13/site-packages/jedi/third_party/django-stubs/django-stubs/contrib/flatpages/templatetags [] ['__init__.pyi', 'flatpages.pyi']\n",
      "../.venv/lib/python3.13/site-packages/jedi/third_party/django-stubs/django-stubs/contrib/gis ['db'] ['__init__.pyi']\n",
      "../.venv/lib/python3.13/site-packages/jedi/third_party/django-stubs/django-stubs/contrib/gis/db ['models'] ['__init__.pyi']\n",
      "../.venv/lib/python3.13/site-packages/jedi/third_party/django-stubs/django-stubs/contrib/gis/db/models [] ['__init__.pyi', 'fields.pyi']\n",
      "../.venv/lib/python3.13/site-packages/jedi/third_party/django-stubs/django-stubs/contrib/humanize ['templatetags'] ['__init__.pyi']\n",
      "../.venv/lib/python3.13/site-packages/jedi/third_party/django-stubs/django-stubs/contrib/humanize/templatetags [] ['__init__.pyi', 'humanize.pyi']\n",
      "../.venv/lib/python3.13/site-packages/jedi/third_party/django-stubs/django-stubs/contrib/messages ['storage'] ['__init__.pyi', 'api.pyi', 'constants.pyi', 'context_processors.pyi', 'middleware.pyi', 'utils.pyi', 'views.pyi']\n",
      "../.venv/lib/python3.13/site-packages/jedi/third_party/django-stubs/django-stubs/contrib/messages/storage [] ['__init__.pyi', 'base.pyi', 'cookie.pyi', 'fallback.pyi', 'session.pyi']\n",
      "../.venv/lib/python3.13/site-packages/jedi/third_party/django-stubs/django-stubs/contrib/postgres ['aggregates', 'fields'] ['__init__.pyi', 'constraints.pyi', 'functions.pyi', 'indexes.pyi', 'lookups.pyi', 'operations.pyi', 'search.pyi', 'signals.pyi', 'validators.pyi']\n",
      "../.venv/lib/python3.13/site-packages/jedi/third_party/django-stubs/django-stubs/contrib/postgres/aggregates [] ['__init__.pyi', 'general.pyi', 'mixins.pyi', 'statistics.pyi']\n",
      "../.venv/lib/python3.13/site-packages/jedi/third_party/django-stubs/django-stubs/contrib/postgres/fields [] ['__init__.pyi', 'array.pyi', 'citext.pyi', 'hstore.pyi', 'jsonb.pyi', 'mixins.pyi', 'ranges.pyi']\n",
      "../.venv/lib/python3.13/site-packages/jedi/third_party/django-stubs/django-stubs/contrib/redirects [] ['__init__.pyi', 'middleware.pyi', 'models.pyi']\n",
      "../.venv/lib/python3.13/site-packages/jedi/third_party/django-stubs/django-stubs/contrib/sessions ['backends', 'management'] ['__init__.pyi', 'base_session.pyi', 'exceptions.pyi', 'middleware.pyi', 'models.pyi', 'serializers.pyi']\n",
      "../.venv/lib/python3.13/site-packages/jedi/third_party/django-stubs/django-stubs/contrib/sessions/backends [] ['__init__.pyi', 'base.pyi', 'cache.pyi', 'cached_db.pyi', 'db.pyi', 'file.pyi', 'signed_cookies.pyi']\n",
      "../.venv/lib/python3.13/site-packages/jedi/third_party/django-stubs/django-stubs/contrib/sessions/management ['commands'] ['__init__.pyi']\n",
      "../.venv/lib/python3.13/site-packages/jedi/third_party/django-stubs/django-stubs/contrib/sessions/management/commands [] ['__init__.pyi', 'clearsessions.pyi']\n",
      "../.venv/lib/python3.13/site-packages/jedi/third_party/django-stubs/django-stubs/contrib/sitemaps ['management'] ['__init__.pyi', 'views.pyi']\n",
      "../.venv/lib/python3.13/site-packages/jedi/third_party/django-stubs/django-stubs/contrib/sitemaps/management ['commands'] ['__init__.pyi']\n",
      "../.venv/lib/python3.13/site-packages/jedi/third_party/django-stubs/django-stubs/contrib/sitemaps/management/commands [] ['__init__.pyi', 'ping_google.pyi']\n",
      "../.venv/lib/python3.13/site-packages/jedi/third_party/django-stubs/django-stubs/contrib/sites [] ['__init__.pyi', 'apps.pyi', 'management.pyi', 'managers.pyi', 'middleware.pyi', 'models.pyi', 'requests.pyi', 'shortcuts.pyi']\n",
      "../.venv/lib/python3.13/site-packages/jedi/third_party/django-stubs/django-stubs/contrib/staticfiles ['management', 'templatetags'] ['__init__.pyi', 'apps.pyi', 'checks.pyi', 'finders.pyi', 'handlers.pyi', 'storage.pyi', 'testing.pyi', 'urls.pyi', 'utils.pyi', 'views.pyi']\n",
      "../.venv/lib/python3.13/site-packages/jedi/third_party/django-stubs/django-stubs/contrib/staticfiles/management ['commands'] ['__init__.pyi']\n",
      "../.venv/lib/python3.13/site-packages/jedi/third_party/django-stubs/django-stubs/contrib/staticfiles/management/commands [] ['__init__.pyi', 'collectstatic.pyi', 'findstatic.pyi', 'runserver.pyi']\n",
      "../.venv/lib/python3.13/site-packages/jedi/third_party/django-stubs/django-stubs/contrib/staticfiles/templatetags [] ['__init__.pyi', 'staticfiles.pyi']\n",
      "../.venv/lib/python3.13/site-packages/jedi/third_party/django-stubs/django-stubs/contrib/syndication [] ['__init__.pyi', 'views.pyi']\n",
      "../.venv/lib/python3.13/site-packages/jedi/third_party/django-stubs/django-stubs/core ['cache', 'checks', 'files', 'handlers', 'mail', 'management', 'serializers', 'servers'] ['__init__.pyi', 'exceptions.pyi', 'paginator.pyi', 'signals.pyi', 'signing.pyi', 'validators.pyi', 'wsgi.pyi']\n",
      "../.venv/lib/python3.13/site-packages/jedi/third_party/django-stubs/django-stubs/core/cache ['backends'] ['__init__.pyi', 'utils.pyi']\n",
      "../.venv/lib/python3.13/site-packages/jedi/third_party/django-stubs/django-stubs/core/cache/backends [] ['__init__.pyi', 'base.pyi', 'db.pyi', 'dummy.pyi', 'filebased.pyi', 'locmem.pyi', 'memcached.pyi']\n",
      "../.venv/lib/python3.13/site-packages/jedi/third_party/django-stubs/django-stubs/core/checks ['security'] ['__init__.pyi', 'caches.pyi', 'database.pyi', 'messages.pyi', 'model_checks.pyi', 'registry.pyi', 'templates.pyi', 'translation.pyi', 'urls.pyi']\n",
      "../.venv/lib/python3.13/site-packages/jedi/third_party/django-stubs/django-stubs/core/checks/security [] ['__init__.pyi', 'base.pyi', 'csrf.pyi', 'sessions.pyi']\n",
      "../.venv/lib/python3.13/site-packages/jedi/third_party/django-stubs/django-stubs/core/files [] ['__init__.pyi', 'base.pyi', 'images.pyi', 'locks.pyi', 'move.pyi', 'storage.pyi', 'temp.pyi', 'uploadedfile.pyi', 'uploadhandler.pyi', 'utils.pyi']\n",
      "../.venv/lib/python3.13/site-packages/jedi/third_party/django-stubs/django-stubs/core/handlers [] ['__init__.pyi', 'base.pyi', 'exception.pyi', 'wsgi.pyi']\n",
      "../.venv/lib/python3.13/site-packages/jedi/third_party/django-stubs/django-stubs/core/mail ['backends'] ['__init__.pyi', 'message.pyi', 'utils.pyi']\n",
      "../.venv/lib/python3.13/site-packages/jedi/third_party/django-stubs/django-stubs/core/mail/backends [] ['__init__.pyi', 'base.pyi', 'console.pyi', 'dummy.pyi', 'filebased.pyi', 'locmem.pyi', 'smtp.pyi']\n",
      "../.venv/lib/python3.13/site-packages/jedi/third_party/django-stubs/django-stubs/core/management ['commands'] ['__init__.pyi', 'base.pyi', 'color.pyi', 'sql.pyi', 'templates.pyi', 'utils.pyi']\n",
      "../.venv/lib/python3.13/site-packages/jedi/third_party/django-stubs/django-stubs/core/management/commands [] ['__init__.pyi', 'dumpdata.pyi', 'loaddata.pyi', 'makemessages.pyi', 'runserver.pyi', 'testserver.pyi']\n",
      "../.venv/lib/python3.13/site-packages/jedi/third_party/django-stubs/django-stubs/core/serializers [] ['__init__.pyi', 'base.pyi', 'json.pyi', 'python.pyi']\n",
      "../.venv/lib/python3.13/site-packages/jedi/third_party/django-stubs/django-stubs/core/servers [] ['__init__.pyi', 'basehttp.pyi']\n",
      "../.venv/lib/python3.13/site-packages/jedi/third_party/django-stubs/django-stubs/db ['backends', 'migrations', 'models'] ['__init__.pyi', 'transaction.pyi', 'utils.pyi']\n",
      "../.venv/lib/python3.13/site-packages/jedi/third_party/django-stubs/django-stubs/db/backends ['base', 'dummy', 'mysql', 'postgresql', 'sqlite3'] ['__init__.pyi', 'ddl_references.pyi', 'signals.pyi', 'utils.pyi']\n",
      "../.venv/lib/python3.13/site-packages/jedi/third_party/django-stubs/django-stubs/db/backends/base [] ['__init__.pyi', 'base.pyi', 'client.pyi', 'creation.pyi', 'features.pyi', 'introspection.pyi', 'operations.pyi', 'schema.pyi', 'validation.pyi']\n",
      "../.venv/lib/python3.13/site-packages/jedi/third_party/django-stubs/django-stubs/db/backends/dummy [] ['__init__.pyi', 'base.pyi']\n",
      "../.venv/lib/python3.13/site-packages/jedi/third_party/django-stubs/django-stubs/db/backends/mysql [] ['__init__.pyi', 'client.pyi']\n",
      "../.venv/lib/python3.13/site-packages/jedi/third_party/django-stubs/django-stubs/db/backends/postgresql [] ['__init__.pyi', 'base.pyi', 'client.pyi', 'creation.pyi', 'operations.pyi']\n",
      "../.venv/lib/python3.13/site-packages/jedi/third_party/django-stubs/django-stubs/db/backends/sqlite3 [] ['__init__.pyi', 'base.pyi', 'creation.pyi', 'features.pyi', 'introspection.pyi', 'operations.pyi', 'schema.pyi']\n",
      "../.venv/lib/python3.13/site-packages/jedi/third_party/django-stubs/django-stubs/db/migrations ['operations'] ['__init__.pyi', 'autodetector.pyi', 'exceptions.pyi', 'executor.pyi', 'graph.pyi', 'loader.pyi', 'migration.pyi', 'optimizer.pyi', 'questioner.pyi', 'recorder.pyi', 'serializer.pyi', 'state.pyi', 'topological_sort.pyi', 'utils.pyi', 'writer.pyi']\n",
      "../.venv/lib/python3.13/site-packages/jedi/third_party/django-stubs/django-stubs/db/migrations/operations [] ['__init__.pyi', 'base.pyi', 'fields.pyi', 'models.pyi', 'special.pyi', 'utils.pyi']\n",
      "../.venv/lib/python3.13/site-packages/jedi/third_party/django-stubs/django-stubs/db/models ['fields', 'functions', 'sql'] ['__init__.pyi', 'aggregates.pyi', 'base.pyi', 'constraints.pyi', 'deletion.pyi', 'enums.pyi', 'expressions.pyi', 'indexes.pyi', 'lookups.pyi', 'manager.pyi', 'options.pyi', 'query.pyi', 'query_utils.pyi', 'signals.pyi', 'utils.pyi']\n",
      "../.venv/lib/python3.13/site-packages/jedi/third_party/django-stubs/django-stubs/db/models/fields [] ['__init__.pyi', 'files.pyi', 'mixins.pyi', 'proxy.pyi', 'related.pyi', 'related_descriptors.pyi', 'related_lookups.pyi', 'reverse_related.pyi']\n",
      "../.venv/lib/python3.13/site-packages/jedi/third_party/django-stubs/django-stubs/db/models/functions [] ['__init__.pyi', 'comparison.pyi', 'datetime.pyi', 'math.pyi', 'mixins.pyi', 'text.pyi', 'window.pyi']\n",
      "../.venv/lib/python3.13/site-packages/jedi/third_party/django-stubs/django-stubs/db/models/sql [] ['__init__.pyi', 'compiler.pyi', 'constants.pyi', 'datastructures.pyi', 'query.pyi', 'subqueries.pyi', 'where.pyi']\n",
      "../.venv/lib/python3.13/site-packages/jedi/third_party/django-stubs/django-stubs/dispatch [] ['__init__.pyi', 'dispatcher.pyi']\n",
      "../.venv/lib/python3.13/site-packages/jedi/third_party/django-stubs/django-stubs/forms [] ['__init__.pyi', 'boundfield.pyi', 'fields.pyi', 'forms.pyi', 'formsets.pyi', 'models.pyi', 'renderers.pyi', 'utils.pyi', 'widgets.pyi']\n",
      "../.venv/lib/python3.13/site-packages/jedi/third_party/django-stubs/django-stubs/http [] ['__init__.pyi', 'cookie.pyi', 'multipartparser.pyi', 'request.pyi', 'response.pyi']\n",
      "../.venv/lib/python3.13/site-packages/jedi/third_party/django-stubs/django-stubs/middleware [] ['__init__.pyi', 'cache.pyi', 'clickjacking.pyi', 'common.pyi', 'csrf.pyi', 'gzip.pyi', 'http.pyi', 'locale.pyi', 'security.pyi']\n",
      "../.venv/lib/python3.13/site-packages/jedi/third_party/django-stubs/django-stubs/template ['backends', 'loaders'] ['__init__.pyi', 'base.pyi', 'context.pyi', 'context_processors.pyi', 'defaultfilters.pyi', 'defaulttags.pyi', 'engine.pyi', 'exceptions.pyi', 'library.pyi', 'loader.pyi', 'loader_tags.pyi', 'response.pyi', 'smartif.pyi', 'utils.pyi']\n",
      "../.venv/lib/python3.13/site-packages/jedi/third_party/django-stubs/django-stubs/template/backends [] ['__init__.pyi', 'base.pyi', 'django.pyi', 'dummy.pyi', 'jinja2.pyi', 'utils.pyi']\n",
      "../.venv/lib/python3.13/site-packages/jedi/third_party/django-stubs/django-stubs/template/loaders [] ['__init__.pyi', 'app_directories.pyi', 'base.pyi', 'cached.pyi', 'filesystem.pyi', 'locmem.pyi']\n",
      "../.venv/lib/python3.13/site-packages/jedi/third_party/django-stubs/django-stubs/templatetags [] ['__init__.pyi', 'cache.pyi', 'i18n.pyi', 'l10n.pyi', 'static.pyi', 'tz.pyi']\n",
      "../.venv/lib/python3.13/site-packages/jedi/third_party/django-stubs/django-stubs/test [] ['__init__.pyi', 'client.pyi', 'html.pyi', 'runner.pyi', 'selenium.pyi', 'signals.pyi', 'testcases.pyi', 'utils.pyi']\n",
      "../.venv/lib/python3.13/site-packages/jedi/third_party/django-stubs/django-stubs/urls [] ['__init__.pyi', 'base.pyi', 'conf.pyi', 'converters.pyi', 'exceptions.pyi', 'resolvers.pyi', 'utils.pyi']\n",
      "../.venv/lib/python3.13/site-packages/jedi/third_party/django-stubs/django-stubs/utils ['translation'] ['__init__.pyi', '_os.pyi', 'archive.pyi', 'autoreload.pyi', 'baseconv.pyi', 'cache.pyi', 'crypto.pyi', 'datastructures.pyi', 'dateformat.pyi', 'dateparse.pyi', 'dates.pyi', 'datetime_safe.pyi', 'deconstruct.pyi', 'decorators.pyi', 'deprecation.pyi', 'duration.pyi', 'encoding.pyi', 'feedgenerator.pyi', 'formats.pyi', 'functional.pyi', 'hashable.pyi', 'html.pyi', 'http.pyi', 'inspect.pyi', 'ipv6.pyi', 'itercompat.pyi', 'jslex.pyi', 'log.pyi', 'lorem_ipsum.pyi', 'module_loading.pyi', 'numberformat.pyi', 'regex_helper.pyi', 'safestring.pyi', 'six.pyi', 'termcolors.pyi', 'text.pyi', 'timesince.pyi', 'timezone.pyi', 'topological_sort.pyi', 'tree.pyi', 'version.pyi', 'xmlutils.pyi']\n",
      "../.venv/lib/python3.13/site-packages/jedi/third_party/django-stubs/django-stubs/utils/translation [] ['__init__.pyi', 'reloader.pyi', 'template.pyi', 'trans_null.pyi', 'trans_real.pyi']\n",
      "../.venv/lib/python3.13/site-packages/jedi/third_party/django-stubs/django-stubs/views ['decorators', 'generic'] ['__init__.pyi', 'csrf.pyi', 'debug.pyi', 'defaults.pyi', 'i18n.pyi', 'static.pyi']\n",
      "../.venv/lib/python3.13/site-packages/jedi/third_party/django-stubs/django-stubs/views/decorators [] ['__init__.pyi', 'cache.pyi', 'clickjacking.pyi', 'csrf.pyi', 'debug.pyi', 'gzip.pyi', 'http.pyi', 'vary.pyi']\n",
      "../.venv/lib/python3.13/site-packages/jedi/third_party/django-stubs/django-stubs/views/generic [] ['__init__.pyi', 'base.pyi', 'dates.pyi', 'detail.pyi', 'edit.pyi', 'list.pyi']\n",
      "../.venv/lib/python3.13/site-packages/jedi/third_party/typeshed ['stdlib', 'third_party'] ['LICENSE']\n",
      "../.venv/lib/python3.13/site-packages/jedi/third_party/typeshed/stdlib ['2', '2and3', '3', '3.7', '3.9'] []\n",
      "../.venv/lib/python3.13/site-packages/jedi/third_party/typeshed/stdlib/2 ['distutils', 'email', 'encodings', 'multiprocessing', 'os'] ['BaseHTTPServer.pyi', 'CGIHTTPServer.pyi', 'ConfigParser.pyi', 'Cookie.pyi', 'HTMLParser.pyi', 'Queue.pyi', 'SimpleHTTPServer.pyi', 'SocketServer.pyi', 'StringIO.pyi', 'UserDict.pyi', 'UserList.pyi', 'UserString.pyi', '__builtin__.pyi', '_ast.pyi', '_collections.pyi', '_functools.pyi', '_hotshot.pyi', '_io.pyi', '_json.pyi', '_md5.pyi', '_sha.pyi', '_sha256.pyi', '_sha512.pyi', '_socket.pyi', '_sre.pyi', '_struct.pyi', '_symtable.pyi', '_threading_local.pyi', '_winreg.pyi', 'abc.pyi', 'ast.pyi', 'atexit.pyi', 'builtins.pyi', 'cPickle.pyi', 'cStringIO.pyi', 'collections.pyi', 'commands.pyi', 'compileall.pyi', 'cookielib.pyi', 'copy_reg.pyi', 'dircache.pyi', 'dummy_thread.pyi', 'exceptions.pyi', 'fcntl.pyi', 'fnmatch.pyi', 'functools.pyi', 'future_builtins.pyi', 'gc.pyi', 'getopt.pyi', 'getpass.pyi', 'gettext.pyi', 'glob.pyi', 'gzip.pyi', 'hashlib.pyi', 'heapq.pyi', 'htmlentitydefs.pyi', 'httplib.pyi', 'imp.pyi', 'importlib.pyi', 'inspect.pyi', 'io.pyi', 'itertools.pyi', 'json.pyi', 'markupbase.pyi', 'md5.pyi', 'mimetools.pyi', 'mutex.pyi', 'ntpath.pyi', 'nturl2path.pyi', 'os2emxpath.pyi', 'pipes.pyi', 'platform.pyi', 'popen2.pyi', 'posix.pyi', 'posixpath.pyi', 'random.pyi', 're.pyi', 'repr.pyi', 'resource.pyi', 'rfc822.pyi', 'robotparser.pyi', 'runpy.pyi', 'sets.pyi', 'sha.pyi', 'shelve.pyi', 'shlex.pyi', 'signal.pyi', 'smtplib.pyi', 'spwd.pyi', 'sre_constants.pyi', 'sre_parse.pyi', 'stat.pyi', 'string.pyi', 'stringold.pyi', 'strop.pyi', 'subprocess.pyi', 'symbol.pyi', 'sys.pyi', 'tempfile.pyi', 'textwrap.pyi', 'thread.pyi', 'toaiff.pyi', 'tokenize.pyi', 'types.pyi', 'typing.pyi', 'unittest.pyi', 'urllib.pyi', 'urllib2.pyi', 'urlparse.pyi', 'user.pyi', 'whichdb.pyi', 'xmlrpclib.pyi']\n",
      "../.venv/lib/python3.13/site-packages/jedi/third_party/typeshed/stdlib/2/distutils ['command'] ['__init__.pyi', 'archive_util.pyi', 'bcppcompiler.pyi', 'ccompiler.pyi', 'cmd.pyi', 'config.pyi', 'core.pyi', 'cygwinccompiler.pyi', 'debug.pyi', 'dep_util.pyi', 'dir_util.pyi', 'dist.pyi', 'emxccompiler.pyi', 'errors.pyi', 'extension.pyi', 'fancy_getopt.pyi', 'file_util.pyi', 'filelist.pyi', 'log.pyi', 'msvccompiler.pyi', 'spawn.pyi', 'sysconfig.pyi', 'text_file.pyi', 'unixccompiler.pyi', 'util.pyi', 'version.pyi']\n",
      "../.venv/lib/python3.13/site-packages/jedi/third_party/typeshed/stdlib/2/distutils/command [] ['__init__.pyi', 'bdist.pyi', 'bdist_dumb.pyi', 'bdist_msi.pyi', 'bdist_packager.pyi', 'bdist_rpm.pyi', 'bdist_wininst.pyi', 'build.pyi', 'build_clib.pyi', 'build_ext.pyi', 'build_py.pyi', 'build_scripts.pyi', 'check.pyi', 'clean.pyi', 'config.pyi', 'install.pyi', 'install_data.pyi', 'install_egg_info.pyi', 'install_headers.pyi', 'install_lib.pyi', 'install_scripts.pyi', 'register.pyi', 'sdist.pyi', 'upload.pyi']\n",
      "../.venv/lib/python3.13/site-packages/jedi/third_party/typeshed/stdlib/2/email ['mime'] ['MIMEText.pyi', '__init__.pyi', '_parseaddr.pyi', 'base64mime.pyi', 'charset.pyi', 'encoders.pyi', 'feedparser.pyi', 'generator.pyi', 'header.pyi', 'iterators.pyi', 'message.pyi', 'parser.pyi', 'quoprimime.pyi', 'utils.pyi']\n",
      "../.venv/lib/python3.13/site-packages/jedi/third_party/typeshed/stdlib/2/email/mime [] ['__init__.pyi', 'application.pyi', 'audio.pyi', 'base.pyi', 'image.pyi', 'message.pyi', 'multipart.pyi', 'nonmultipart.pyi', 'text.pyi']\n",
      "../.venv/lib/python3.13/site-packages/jedi/third_party/typeshed/stdlib/2/encodings [] ['__init__.pyi', 'utf_8.pyi']\n",
      "../.venv/lib/python3.13/site-packages/jedi/third_party/typeshed/stdlib/2/multiprocessing ['dummy'] ['__init__.pyi', 'pool.pyi', 'process.pyi', 'util.pyi']\n",
      "../.venv/lib/python3.13/site-packages/jedi/third_party/typeshed/stdlib/2/multiprocessing/dummy [] ['__init__.pyi', 'connection.pyi']\n",
      "../.venv/lib/python3.13/site-packages/jedi/third_party/typeshed/stdlib/2/os [] ['__init__.pyi', 'path.pyi']\n",
      "../.venv/lib/python3.13/site-packages/jedi/third_party/typeshed/stdlib/2and3 ['_typeshed', 'ctypes', 'curses', 'ensurepip', 'lib2to3', 'logging', 'msilib', 'pydoc_data', 'pyexpat', 'sqlite3', 'wsgiref', 'xml'] ['__future__.pyi', '_bisect.pyi', '_codecs.pyi', '_csv.pyi', '_curses.pyi', '_dummy_threading.pyi', '_heapq.pyi', '_msi.pyi', '_random.pyi', '_warnings.pyi', '_weakref.pyi', '_weakrefset.pyi', 'aifc.pyi', 'antigravity.pyi', 'argparse.pyi', 'array.pyi', 'asynchat.pyi', 'asyncore.pyi', 'audioop.pyi', 'base64.pyi', 'bdb.pyi', 'binascii.pyi', 'binhex.pyi', 'bisect.pyi', 'bz2.pyi', 'cProfile.pyi', 'calendar.pyi', 'cgi.pyi', 'cgitb.pyi', 'chunk.pyi', 'cmath.pyi', 'cmd.pyi', 'code.pyi', 'codecs.pyi', 'codeop.pyi', 'colorsys.pyi', 'contextlib.pyi', 'copy.pyi', 'crypt.pyi', 'csv.pyi', 'datetime.pyi', 'decimal.pyi', 'difflib.pyi', 'dis.pyi', 'doctest.pyi', 'dummy_threading.pyi', 'errno.pyi', 'filecmp.pyi', 'fileinput.pyi', 'formatter.pyi', 'fractions.pyi', 'ftplib.pyi', 'genericpath.pyi', 'grp.pyi', 'hmac.pyi', 'imaplib.pyi', 'imghdr.pyi', 'keyword.pyi', 'linecache.pyi', 'locale.pyi', 'macpath.pyi', 'mailbox.pyi', 'mailcap.pyi', 'marshal.pyi', 'math.pyi', 'mimetypes.pyi', 'mmap.pyi', 'modulefinder.pyi', 'msvcrt.pyi', 'netrc.pyi', 'nis.pyi', 'numbers.pyi', 'opcode.pyi', 'operator.pyi', 'optparse.pyi', 'parser.pyi', 'pdb.pyi', 'pickle.pyi', 'pickletools.pyi', 'pkgutil.pyi', 'plistlib.pyi', 'poplib.pyi', 'pprint.pyi', 'profile.pyi', 'pstats.pyi', 'pty.pyi', 'pwd.pyi', 'py_compile.pyi', 'pyclbr.pyi', 'pydoc.pyi', 'quopri.pyi', 'readline.pyi', 'rlcompleter.pyi', 'sched.pyi', 'select.pyi', 'shutil.pyi', 'site.pyi', 'smtpd.pyi', 'sndhdr.pyi', 'socket.pyi', 'sre_compile.pyi', 'ssl.pyi', 'stringprep.pyi', 'struct.pyi', 'sunau.pyi', 'symtable.pyi', 'sysconfig.pyi', 'syslog.pyi', 'tabnanny.pyi', 'tarfile.pyi', 'telnetlib.pyi', 'termios.pyi', 'this.pyi', 'threading.pyi', 'time.pyi', 'timeit.pyi', 'token.pyi', 'trace.pyi', 'traceback.pyi', 'tty.pyi', 'turtle.pyi', 'unicodedata.pyi', 'uu.pyi', 'uuid.pyi', 'warnings.pyi', 'wave.pyi', 'weakref.pyi', 'webbrowser.pyi', 'winsound.pyi', 'xdrlib.pyi', 'zipfile.pyi', 'zipimport.pyi', 'zlib.pyi']\n",
      "../.venv/lib/python3.13/site-packages/jedi/third_party/typeshed/stdlib/2and3/_typeshed [] ['__init__.pyi', 'wsgi.pyi', 'xml.pyi']\n",
      "../.venv/lib/python3.13/site-packages/jedi/third_party/typeshed/stdlib/2and3/ctypes [] ['__init__.pyi', 'util.pyi', 'wintypes.pyi']\n",
      "../.venv/lib/python3.13/site-packages/jedi/third_party/typeshed/stdlib/2and3/curses [] ['__init__.pyi', 'ascii.pyi', 'panel.pyi', 'textpad.pyi']\n",
      "../.venv/lib/python3.13/site-packages/jedi/third_party/typeshed/stdlib/2and3/ensurepip [] ['__init__.pyi']\n",
      "../.venv/lib/python3.13/site-packages/jedi/third_party/typeshed/stdlib/2and3/lib2to3 ['pgen2'] ['__init__.pyi', 'pygram.pyi', 'pytree.pyi']\n",
      "../.venv/lib/python3.13/site-packages/jedi/third_party/typeshed/stdlib/2and3/lib2to3/pgen2 [] ['__init__.pyi', 'driver.pyi', 'grammar.pyi', 'literals.pyi', 'parse.pyi', 'pgen.pyi', 'token.pyi', 'tokenize.pyi']\n",
      "../.venv/lib/python3.13/site-packages/jedi/third_party/typeshed/stdlib/2and3/logging [] ['__init__.pyi', 'config.pyi', 'handlers.pyi']\n",
      "../.venv/lib/python3.13/site-packages/jedi/third_party/typeshed/stdlib/2and3/msilib [] ['__init__.pyi', 'schema.pyi', 'sequence.pyi', 'text.pyi']\n",
      "../.venv/lib/python3.13/site-packages/jedi/third_party/typeshed/stdlib/2and3/pydoc_data [] ['__init__.pyi', 'topics.pyi']\n",
      "../.venv/lib/python3.13/site-packages/jedi/third_party/typeshed/stdlib/2and3/pyexpat [] ['__init__.pyi', 'errors.pyi', 'model.pyi']\n",
      "../.venv/lib/python3.13/site-packages/jedi/third_party/typeshed/stdlib/2and3/sqlite3 [] ['__init__.pyi', 'dbapi2.pyi']\n",
      "../.venv/lib/python3.13/site-packages/jedi/third_party/typeshed/stdlib/2and3/wsgiref [] ['__init__.pyi', 'handlers.pyi', 'headers.pyi', 'simple_server.pyi', 'types.pyi', 'util.pyi', 'validate.pyi']\n",
      "../.venv/lib/python3.13/site-packages/jedi/third_party/typeshed/stdlib/2and3/xml ['dom', 'etree', 'parsers', 'sax'] ['__init__.pyi']\n",
      "../.venv/lib/python3.13/site-packages/jedi/third_party/typeshed/stdlib/2and3/xml/dom [] ['NodeFilter.pyi', '__init__.pyi', 'domreg.pyi', 'expatbuilder.pyi', 'minicompat.pyi', 'minidom.pyi', 'pulldom.pyi', 'xmlbuilder.pyi']\n",
      "../.venv/lib/python3.13/site-packages/jedi/third_party/typeshed/stdlib/2and3/xml/etree [] ['ElementInclude.pyi', 'ElementPath.pyi', 'ElementTree.pyi', '__init__.pyi', 'cElementTree.pyi']\n",
      "../.venv/lib/python3.13/site-packages/jedi/third_party/typeshed/stdlib/2and3/xml/parsers ['expat'] ['__init__.pyi']\n",
      "../.venv/lib/python3.13/site-packages/jedi/third_party/typeshed/stdlib/2and3/xml/parsers/expat [] ['__init__.pyi', 'errors.pyi', 'model.pyi']\n",
      "../.venv/lib/python3.13/site-packages/jedi/third_party/typeshed/stdlib/2and3/xml/sax [] ['__init__.pyi', 'handler.pyi', 'saxutils.pyi', 'xmlreader.pyi']\n",
      "../.venv/lib/python3.13/site-packages/jedi/third_party/typeshed/stdlib/3 ['asyncio', 'collections', 'concurrent', 'dbm', 'distutils', 'email', 'encodings', 'html', 'http', 'importlib', 'json', 'multiprocessing', 'os', 'tkinter', 'unittest', 'urllib', 'venv', 'xmlrpc'] ['_ast.pyi', '_bootlocale.pyi', '_compat_pickle.pyi', '_compression.pyi', '_decimal.pyi', '_dummy_thread.pyi', '_imp.pyi', '_importlib_modulespec.pyi', '_json.pyi', '_markupbase.pyi', '_operator.pyi', '_osx_support.pyi', '_posixsubprocess.pyi', '_pydecimal.pyi', '_sitebuiltins.pyi', '_stat.pyi', '_thread.pyi', '_threading_local.pyi', '_tkinter.pyi', '_tracemalloc.pyi', '_winapi.pyi', 'abc.pyi', 'ast.pyi', 'atexit.pyi', 'builtins.pyi', 'compileall.pyi', 'configparser.pyi', 'copyreg.pyi', 'enum.pyi', 'faulthandler.pyi', 'fcntl.pyi', 'fnmatch.pyi', 'functools.pyi', 'gc.pyi', 'getopt.pyi', 'getpass.pyi', 'gettext.pyi', 'glob.pyi', 'gzip.pyi', 'hashlib.pyi', 'heapq.pyi', 'imp.pyi', 'inspect.pyi', 'io.pyi', 'ipaddress.pyi', 'itertools.pyi', 'lzma.pyi', 'macurl2path.pyi', 'nntplib.pyi', 'ntpath.pyi', 'nturl2path.pyi', 'pathlib.pyi', 'pipes.pyi', 'platform.pyi', 'posix.pyi', 'posixpath.pyi', 'queue.pyi', 'random.pyi', 're.pyi', 'reprlib.pyi', 'resource.pyi', 'runpy.pyi', 'secrets.pyi', 'selectors.pyi', 'shelve.pyi', 'shlex.pyi', 'signal.pyi', 'smtplib.pyi', 'socketserver.pyi', 'spwd.pyi', 'sre_constants.pyi', 'sre_parse.pyi', 'stat.pyi', 'statistics.pyi', 'string.pyi', 'subprocess.pyi', 'symbol.pyi', 'sys.pyi', 'tempfile.pyi', 'textwrap.pyi', 'tokenize.pyi', 'tracemalloc.pyi', 'types.pyi', 'typing.pyi', 'winreg.pyi', 'xxlimited.pyi', 'zipapp.pyi']\n",
      "../.venv/lib/python3.13/site-packages/jedi/third_party/typeshed/stdlib/3/asyncio [] ['__init__.pyi', 'base_events.pyi', 'base_futures.pyi', 'base_subprocess.pyi', 'base_tasks.pyi', 'compat.pyi', 'constants.pyi', 'coroutines.pyi', 'events.pyi', 'exceptions.pyi', 'format_helpers.pyi', 'futures.pyi', 'locks.pyi', 'log.pyi', 'proactor_events.pyi', 'protocols.pyi', 'queues.pyi', 'runners.pyi', 'selector_events.pyi', 'sslproto.pyi', 'staggered.pyi', 'streams.pyi', 'subprocess.pyi', 'tasks.pyi', 'threads.pyi', 'transports.pyi', 'trsock.pyi', 'unix_events.pyi', 'windows_events.pyi', 'windows_utils.pyi']\n",
      "../.venv/lib/python3.13/site-packages/jedi/third_party/typeshed/stdlib/3/collections [] ['__init__.pyi', 'abc.pyi']\n",
      "../.venv/lib/python3.13/site-packages/jedi/third_party/typeshed/stdlib/3/concurrent ['futures'] ['__init__.pyi']\n",
      "../.venv/lib/python3.13/site-packages/jedi/third_party/typeshed/stdlib/3/concurrent/futures [] ['__init__.pyi', '_base.pyi', 'process.pyi', 'thread.pyi']\n",
      "../.venv/lib/python3.13/site-packages/jedi/third_party/typeshed/stdlib/3/dbm [] ['__init__.pyi', 'dumb.pyi', 'gnu.pyi', 'ndbm.pyi']\n",
      "../.venv/lib/python3.13/site-packages/jedi/third_party/typeshed/stdlib/3/distutils ['command'] ['__init__.pyi', 'archive_util.pyi', 'bcppcompiler.pyi', 'ccompiler.pyi', 'cmd.pyi', 'config.pyi', 'core.pyi', 'cygwinccompiler.pyi', 'debug.pyi', 'dep_util.pyi', 'dir_util.pyi', 'dist.pyi', 'errors.pyi', 'extension.pyi', 'fancy_getopt.pyi', 'file_util.pyi', 'filelist.pyi', 'log.pyi', 'msvccompiler.pyi', 'spawn.pyi', 'sysconfig.pyi', 'text_file.pyi', 'unixccompiler.pyi', 'util.pyi', 'version.pyi']\n",
      "../.venv/lib/python3.13/site-packages/jedi/third_party/typeshed/stdlib/3/distutils/command [] ['__init__.pyi', 'bdist.pyi', 'bdist_dumb.pyi', 'bdist_msi.pyi', 'bdist_packager.pyi', 'bdist_rpm.pyi', 'bdist_wininst.pyi', 'build.pyi', 'build_clib.pyi', 'build_ext.pyi', 'build_py.pyi', 'build_scripts.pyi', 'check.pyi', 'clean.pyi', 'config.pyi', 'install.pyi', 'install_data.pyi', 'install_egg_info.pyi', 'install_headers.pyi', 'install_lib.pyi', 'install_scripts.pyi', 'register.pyi', 'sdist.pyi', 'upload.pyi']\n",
      "../.venv/lib/python3.13/site-packages/jedi/third_party/typeshed/stdlib/3/email ['mime'] ['__init__.pyi', 'charset.pyi', 'contentmanager.pyi', 'encoders.pyi', 'errors.pyi', 'feedparser.pyi', 'generator.pyi', 'header.pyi', 'headerregistry.pyi', 'iterators.pyi', 'message.pyi', 'parser.pyi', 'policy.pyi', 'utils.pyi']\n",
      "../.venv/lib/python3.13/site-packages/jedi/third_party/typeshed/stdlib/3/email/mime [] ['__init__.pyi', 'application.pyi', 'audio.pyi', 'base.pyi', 'image.pyi', 'message.pyi', 'multipart.pyi', 'nonmultipart.pyi', 'text.pyi']\n",
      "../.venv/lib/python3.13/site-packages/jedi/third_party/typeshed/stdlib/3/encodings [] ['__init__.pyi', 'utf_8.pyi']\n",
      "../.venv/lib/python3.13/site-packages/jedi/third_party/typeshed/stdlib/3/html [] ['__init__.pyi', 'entities.pyi', 'parser.pyi']\n",
      "../.venv/lib/python3.13/site-packages/jedi/third_party/typeshed/stdlib/3/http [] ['__init__.pyi', 'client.pyi', 'cookiejar.pyi', 'cookies.pyi', 'server.pyi']\n",
      "../.venv/lib/python3.13/site-packages/jedi/third_party/typeshed/stdlib/3/importlib [] ['__init__.pyi', 'abc.pyi', 'machinery.pyi', 'metadata.pyi', 'resources.pyi', 'util.pyi']\n",
      "../.venv/lib/python3.13/site-packages/jedi/third_party/typeshed/stdlib/3/json [] ['__init__.pyi', 'decoder.pyi', 'encoder.pyi', 'tool.pyi']\n",
      "../.venv/lib/python3.13/site-packages/jedi/third_party/typeshed/stdlib/3/multiprocessing ['dummy'] ['__init__.pyi', 'connection.pyi', 'context.pyi', 'managers.pyi', 'pool.pyi', 'process.pyi', 'queues.pyi', 'shared_memory.pyi', 'sharedctypes.pyi', 'spawn.pyi', 'synchronize.pyi']\n",
      "../.venv/lib/python3.13/site-packages/jedi/third_party/typeshed/stdlib/3/multiprocessing/dummy [] ['__init__.pyi', 'connection.pyi']\n",
      "../.venv/lib/python3.13/site-packages/jedi/third_party/typeshed/stdlib/3/os [] ['__init__.pyi', 'path.pyi']\n",
      "../.venv/lib/python3.13/site-packages/jedi/third_party/typeshed/stdlib/3/tkinter [] ['__init__.pyi', 'commondialog.pyi', 'constants.pyi', 'dialog.pyi', 'filedialog.pyi', 'font.pyi', 'messagebox.pyi', 'ttk.pyi']\n",
      "../.venv/lib/python3.13/site-packages/jedi/third_party/typeshed/stdlib/3/unittest [] ['__init__.pyi', 'async_case.pyi', 'case.pyi', 'loader.pyi', 'main.pyi', 'mock.pyi', 'result.pyi', 'runner.pyi', 'signals.pyi', 'suite.pyi', 'util.pyi']\n",
      "../.venv/lib/python3.13/site-packages/jedi/third_party/typeshed/stdlib/3/urllib [] ['__init__.pyi', 'error.pyi', 'parse.pyi', 'request.pyi', 'response.pyi', 'robotparser.pyi']\n",
      "../.venv/lib/python3.13/site-packages/jedi/third_party/typeshed/stdlib/3/venv [] ['__init__.pyi']\n",
      "../.venv/lib/python3.13/site-packages/jedi/third_party/typeshed/stdlib/3/xmlrpc [] ['__init__.pyi', 'client.pyi', 'server.pyi']\n",
      "../.venv/lib/python3.13/site-packages/jedi/third_party/typeshed/stdlib/3.7 [] ['_py_abc.pyi', 'contextvars.pyi', 'dataclasses.pyi']\n",
      "../.venv/lib/python3.13/site-packages/jedi/third_party/typeshed/stdlib/3.9 ['zoneinfo'] ['graphlib.pyi']\n",
      "../.venv/lib/python3.13/site-packages/jedi/third_party/typeshed/stdlib/3.9/zoneinfo [] ['__init__.pyi']\n",
      "../.venv/lib/python3.13/site-packages/jedi/third_party/typeshed/third_party ['2', '2and3', '3'] []\n",
      "../.venv/lib/python3.13/site-packages/jedi/third_party/typeshed/third_party/2 ['OpenSSL', 'concurrent', 'fb303', 'kazoo', 'routes', 'scribe', 'six', 'tornado'] ['enum.pyi', 'ipaddress.pyi', 'pathlib2.pyi', 'pymssql.pyi']\n",
      "../.venv/lib/python3.13/site-packages/jedi/third_party/typeshed/third_party/2/OpenSSL [] ['__init__.pyi', 'crypto.pyi']\n",
      "../.venv/lib/python3.13/site-packages/jedi/third_party/typeshed/third_party/2/concurrent ['futures'] ['__init__.pyi']\n",
      "../.venv/lib/python3.13/site-packages/jedi/third_party/typeshed/third_party/2/concurrent/futures [] ['__init__.pyi', '_base.pyi', 'process.pyi', 'thread.pyi']\n",
      "../.venv/lib/python3.13/site-packages/jedi/third_party/typeshed/third_party/2/fb303 [] ['FacebookService.pyi', '__init__.pyi']\n",
      "../.venv/lib/python3.13/site-packages/jedi/third_party/typeshed/third_party/2/kazoo ['recipe'] ['__init__.pyi', 'client.pyi', 'exceptions.pyi']\n",
      "../.venv/lib/python3.13/site-packages/jedi/third_party/typeshed/third_party/2/kazoo/recipe [] ['__init__.pyi', 'watchers.pyi']\n",
      "../.venv/lib/python3.13/site-packages/jedi/third_party/typeshed/third_party/2/routes [] ['__init__.pyi', 'mapper.pyi', 'util.pyi']\n",
      "../.venv/lib/python3.13/site-packages/jedi/third_party/typeshed/third_party/2/scribe [] ['__init__.pyi', 'scribe.pyi', 'ttypes.pyi']\n",
      "../.venv/lib/python3.13/site-packages/jedi/third_party/typeshed/third_party/2/six ['moves'] ['__init__.pyi']\n",
      "../.venv/lib/python3.13/site-packages/jedi/third_party/typeshed/third_party/2/six/moves ['urllib'] ['BaseHTTPServer.pyi', 'CGIHTTPServer.pyi', 'SimpleHTTPServer.pyi', '__init__.pyi', '_dummy_thread.pyi', '_thread.pyi', 'cPickle.pyi', 'collections_abc.pyi', 'configparser.pyi', 'email_mime_base.pyi', 'email_mime_multipart.pyi', 'email_mime_nonmultipart.pyi', 'email_mime_text.pyi', 'html_entities.pyi', 'html_parser.pyi', 'http_client.pyi', 'http_cookiejar.pyi', 'http_cookies.pyi', 'queue.pyi', 'reprlib.pyi', 'socketserver.pyi', 'urllib_error.pyi', 'urllib_parse.pyi', 'urllib_request.pyi', 'urllib_response.pyi', 'urllib_robotparser.pyi', 'xmlrpc_client.pyi']\n",
      "../.venv/lib/python3.13/site-packages/jedi/third_party/typeshed/third_party/2/six/moves/urllib [] ['__init__.pyi', 'error.pyi', 'parse.pyi', 'request.pyi', 'response.pyi', 'robotparser.pyi']\n",
      "../.venv/lib/python3.13/site-packages/jedi/third_party/typeshed/third_party/2/tornado [] ['__init__.pyi', 'concurrent.pyi', 'gen.pyi', 'httpclient.pyi', 'httpserver.pyi', 'httputil.pyi', 'ioloop.pyi', 'locks.pyi', 'netutil.pyi', 'process.pyi', 'tcpserver.pyi', 'testing.pyi', 'util.pyi', 'web.pyi']\n",
      "../.venv/lib/python3.13/site-packages/jedi/third_party/typeshed/third_party/2and3 ['atomicwrites', 'attr', 'backports', 'bleach', 'boto', 'cachetools', 'characteristic', 'chardet', 'click', 'cryptography', 'datetimerange', 'dateutil', 'deprecated', 'emoji', 'flask', 'geoip2', 'google', 'jinja2', 'markdown', 'markupsafe', 'maxminddb', 'nmap', 'paramiko', 'pyVmomi', 'pymysql', 'pynamodb', 'pytz', 'redis', 'requests', 'retry', 'simplejson', 'slugify', 'tzlocal', 'werkzeug', 'yaml'] ['backports_abc.pyi', 'certifi.pyi', 'croniter.pyi', 'dateparser.pyi', 'decorator.pyi', 'first.pyi', 'gflags.pyi', 'itsdangerous.pyi', 'mock.pyi', 'mypy_extensions.pyi', 'polib.pyi', 'pycurl.pyi', 'pyre_extensions.pyi', 'singledispatch.pyi', 'tabulate.pyi', 'termcolor.pyi', 'toml.pyi', 'typing_extensions.pyi', 'ujson.pyi']\n",
      "../.venv/lib/python3.13/site-packages/jedi/third_party/typeshed/third_party/2and3/atomicwrites [] ['__init__.pyi']\n",
      "../.venv/lib/python3.13/site-packages/jedi/third_party/typeshed/third_party/2and3/attr [] ['__init__.pyi', '_version_info.pyi', 'converters.pyi', 'exceptions.pyi', 'filters.pyi', 'validators.pyi']\n",
      "../.venv/lib/python3.13/site-packages/jedi/third_party/typeshed/third_party/2and3/backports [] ['__init__.pyi', 'ssl_match_hostname.pyi']\n",
      "../.venv/lib/python3.13/site-packages/jedi/third_party/typeshed/third_party/2and3/bleach [] ['__init__.pyi', 'callbacks.pyi', 'linkifier.pyi', 'sanitizer.pyi', 'utils.pyi']\n",
      "../.venv/lib/python3.13/site-packages/jedi/third_party/typeshed/third_party/2and3/boto ['ec2', 'elb', 'kms', 's3'] ['__init__.pyi', 'auth.pyi', 'auth_handler.pyi', 'compat.pyi', 'connection.pyi', 'exception.pyi', 'plugin.pyi', 'regioninfo.pyi', 'utils.pyi']\n",
      "../.venv/lib/python3.13/site-packages/jedi/third_party/typeshed/third_party/2and3/boto/ec2 [] ['__init__.pyi']\n",
      "../.venv/lib/python3.13/site-packages/jedi/third_party/typeshed/third_party/2and3/boto/elb [] ['__init__.pyi']\n",
      "../.venv/lib/python3.13/site-packages/jedi/third_party/typeshed/third_party/2and3/boto/kms [] ['__init__.pyi', 'exceptions.pyi', 'layer1.pyi']\n",
      "../.venv/lib/python3.13/site-packages/jedi/third_party/typeshed/third_party/2and3/boto/s3 [] ['__init__.pyi', 'acl.pyi', 'bucket.pyi', 'bucketlistresultset.pyi', 'bucketlogging.pyi', 'connection.pyi', 'cors.pyi', 'deletemarker.pyi', 'key.pyi', 'keyfile.pyi', 'lifecycle.pyi', 'multidelete.pyi', 'multipart.pyi', 'prefix.pyi', 'tagging.pyi', 'user.pyi', 'website.pyi']\n",
      "../.venv/lib/python3.13/site-packages/jedi/third_party/typeshed/third_party/2and3/cachetools [] ['__init__.pyi', 'abc.pyi', 'cache.pyi', 'decorators.pyi', 'func.pyi', 'lfu.pyi', 'lru.pyi', 'rr.pyi', 'ttl.pyi']\n",
      "../.venv/lib/python3.13/site-packages/jedi/third_party/typeshed/third_party/2and3/characteristic [] ['__init__.pyi']\n",
      "../.venv/lib/python3.13/site-packages/jedi/third_party/typeshed/third_party/2and3/chardet [] ['__init__.pyi', 'enums.pyi', 'langbulgarianmodel.pyi', 'langcyrillicmodel.pyi', 'langgreekmodel.pyi', 'langhebrewmodel.pyi', 'langhungarianmodel.pyi', 'langthaimodel.pyi', 'langturkishmodel.pyi', 'universaldetector.pyi', 'version.pyi']\n",
      "../.venv/lib/python3.13/site-packages/jedi/third_party/typeshed/third_party/2and3/click [] ['__init__.pyi', '_termui_impl.pyi', 'core.pyi', 'decorators.pyi', 'exceptions.pyi', 'formatting.pyi', 'globals.pyi', 'parser.pyi', 'termui.pyi', 'testing.pyi', 'types.pyi', 'utils.pyi']\n",
      "../.venv/lib/python3.13/site-packages/jedi/third_party/typeshed/third_party/2and3/cryptography ['hazmat', 'x509'] ['__init__.pyi', 'exceptions.pyi', 'fernet.pyi']\n",
      "../.venv/lib/python3.13/site-packages/jedi/third_party/typeshed/third_party/2and3/cryptography/hazmat ['backends', 'bindings', 'primitives'] ['__init__.pyi']\n",
      "../.venv/lib/python3.13/site-packages/jedi/third_party/typeshed/third_party/2and3/cryptography/hazmat/backends [] ['__init__.pyi', 'interfaces.pyi']\n",
      "../.venv/lib/python3.13/site-packages/jedi/third_party/typeshed/third_party/2and3/cryptography/hazmat/bindings ['openssl'] ['__init__.pyi']\n",
      "../.venv/lib/python3.13/site-packages/jedi/third_party/typeshed/third_party/2and3/cryptography/hazmat/bindings/openssl [] ['__init__.pyi', 'binding.pyi']\n",
      "../.venv/lib/python3.13/site-packages/jedi/third_party/typeshed/third_party/2and3/cryptography/hazmat/primitives ['asymmetric', 'ciphers', 'kdf', 'serialization', 'twofactor'] ['__init__.pyi', 'cmac.pyi', 'constant_time.pyi', 'hashes.pyi', 'hmac.pyi', 'keywrap.pyi', 'padding.pyi', 'poly1305.pyi']\n",
      "../.venv/lib/python3.13/site-packages/jedi/third_party/typeshed/third_party/2and3/cryptography/hazmat/primitives/asymmetric [] ['__init__.pyi', 'dh.pyi', 'dsa.pyi', 'ec.pyi', 'ed25519.pyi', 'ed448.pyi', 'padding.pyi', 'rsa.pyi', 'utils.pyi', 'x25519.pyi', 'x448.pyi']\n",
      "../.venv/lib/python3.13/site-packages/jedi/third_party/typeshed/third_party/2and3/cryptography/hazmat/primitives/ciphers [] ['__init__.pyi', 'aead.pyi', 'algorithms.pyi', 'modes.pyi']\n",
      "../.venv/lib/python3.13/site-packages/jedi/third_party/typeshed/third_party/2and3/cryptography/hazmat/primitives/kdf [] ['__init__.pyi', 'concatkdf.pyi', 'hkdf.pyi', 'kbkdf.pyi', 'pbkdf2.pyi', 'scrypt.pyi', 'x963kdf.pyi']\n",
      "../.venv/lib/python3.13/site-packages/jedi/third_party/typeshed/third_party/2and3/cryptography/hazmat/primitives/serialization [] ['__init__.pyi', 'pkcs12.pyi']\n",
      "../.venv/lib/python3.13/site-packages/jedi/third_party/typeshed/third_party/2and3/cryptography/hazmat/primitives/twofactor [] ['__init__.pyi', 'hotp.pyi', 'totp.pyi']\n",
      "../.venv/lib/python3.13/site-packages/jedi/third_party/typeshed/third_party/2and3/cryptography/x509 [] ['__init__.pyi', 'extensions.pyi', 'oid.pyi']\n",
      "../.venv/lib/python3.13/site-packages/jedi/third_party/typeshed/third_party/2and3/datetimerange [] ['__init__.pyi']\n",
      "../.venv/lib/python3.13/site-packages/jedi/third_party/typeshed/third_party/2and3/dateutil ['tz'] ['__init__.pyi', '_common.pyi', 'easter.pyi', 'parser.pyi', 'relativedelta.pyi', 'rrule.pyi', 'utils.pyi']\n",
      "../.venv/lib/python3.13/site-packages/jedi/third_party/typeshed/third_party/2and3/dateutil/tz [] ['__init__.pyi', '_common.pyi', 'tz.pyi']\n",
      "../.venv/lib/python3.13/site-packages/jedi/third_party/typeshed/third_party/2and3/deprecated [] ['__init__.pyi', 'classic.pyi', 'sphinx.pyi']\n",
      "../.venv/lib/python3.13/site-packages/jedi/third_party/typeshed/third_party/2and3/emoji [] ['__init__.pyi', 'core.pyi', 'unicode_codes.pyi']\n",
      "../.venv/lib/python3.13/site-packages/jedi/third_party/typeshed/third_party/2and3/flask ['json'] ['__init__.pyi', 'app.pyi', 'blueprints.pyi', 'cli.pyi', 'config.pyi', 'ctx.pyi', 'debughelpers.pyi', 'globals.pyi', 'helpers.pyi', 'logging.pyi', 'sessions.pyi', 'signals.pyi', 'templating.pyi', 'testing.pyi', 'views.pyi', 'wrappers.pyi']\n",
      "../.venv/lib/python3.13/site-packages/jedi/third_party/typeshed/third_party/2and3/flask/json [] ['__init__.pyi', 'tag.pyi']\n",
      "../.venv/lib/python3.13/site-packages/jedi/third_party/typeshed/third_party/2and3/geoip2 [] ['__init__.pyi', 'database.pyi', 'errors.pyi', 'mixins.pyi', 'models.pyi', 'records.pyi']\n",
      "../.venv/lib/python3.13/site-packages/jedi/third_party/typeshed/third_party/2and3/google ['protobuf'] ['__init__.pyi']\n",
      "../.venv/lib/python3.13/site-packages/jedi/third_party/typeshed/third_party/2and3/google/protobuf ['compiler', 'internal', 'util'] ['__init__.pyi', 'any_pb2.pyi', 'api_pb2.pyi', 'descriptor.pyi', 'descriptor_pb2.pyi', 'descriptor_pool.pyi', 'duration_pb2.pyi', 'empty_pb2.pyi', 'field_mask_pb2.pyi', 'json_format.pyi', 'message.pyi', 'message_factory.pyi', 'reflection.pyi', 'service.pyi', 'source_context_pb2.pyi', 'struct_pb2.pyi', 'symbol_database.pyi', 'timestamp_pb2.pyi', 'type_pb2.pyi', 'wrappers_pb2.pyi']\n",
      "../.venv/lib/python3.13/site-packages/jedi/third_party/typeshed/third_party/2and3/google/protobuf/compiler [] ['__init__.pyi', 'plugin_pb2.pyi']\n",
      "../.venv/lib/python3.13/site-packages/jedi/third_party/typeshed/third_party/2and3/google/protobuf/internal [] ['__init__.pyi', 'containers.pyi', 'decoder.pyi', 'encoder.pyi', 'enum_type_wrapper.pyi', 'extension_dict.pyi', 'message_listener.pyi', 'python_message.pyi', 'well_known_types.pyi', 'wire_format.pyi']\n",
      "../.venv/lib/python3.13/site-packages/jedi/third_party/typeshed/third_party/2and3/google/protobuf/util [] ['__init__.pyi']\n",
      "../.venv/lib/python3.13/site-packages/jedi/third_party/typeshed/third_party/2and3/jinja2 [] ['__init__.pyi', '_compat.pyi', '_stringdefs.pyi', 'bccache.pyi', 'compiler.pyi', 'constants.pyi', 'debug.pyi', 'defaults.pyi', 'environment.pyi', 'exceptions.pyi', 'ext.pyi', 'filters.pyi', 'lexer.pyi', 'loaders.pyi', 'meta.pyi', 'nodes.pyi', 'optimizer.pyi', 'parser.pyi', 'runtime.pyi', 'sandbox.pyi', 'tests.pyi', 'utils.pyi', 'visitor.pyi']\n",
      "../.venv/lib/python3.13/site-packages/jedi/third_party/typeshed/third_party/2and3/markdown ['extensions'] ['__init__.pyi', '__meta__.pyi', 'blockparser.pyi', 'blockprocessors.pyi', 'core.pyi', 'inlinepatterns.pyi', 'pep562.pyi', 'postprocessors.pyi', 'preprocessors.pyi', 'serializers.pyi', 'treeprocessors.pyi', 'util.pyi']\n",
      "../.venv/lib/python3.13/site-packages/jedi/third_party/typeshed/third_party/2and3/markdown/extensions [] ['__init__.pyi', 'abbr.pyi', 'admonition.pyi', 'attr_list.pyi', 'codehilite.pyi', 'def_list.pyi', 'extra.pyi', 'fenced_code.pyi', 'footnotes.pyi', 'legacy_attrs.pyi', 'legacy_em.pyi', 'md_in_html.pyi', 'meta.pyi', 'nl2br.pyi', 'sane_lists.pyi', 'smarty.pyi', 'tables.pyi', 'toc.pyi', 'wikilinks.pyi']\n",
      "../.venv/lib/python3.13/site-packages/jedi/third_party/typeshed/third_party/2and3/markupsafe [] ['__init__.pyi', '_compat.pyi', '_constants.pyi', '_native.pyi', '_speedups.pyi']\n",
      "../.venv/lib/python3.13/site-packages/jedi/third_party/typeshed/third_party/2and3/maxminddb [] ['__init__.pyi', 'compat.pyi', 'const.pyi', 'decoder.pyi', 'errors.pyi', 'extension.pyi', 'reader.pyi']\n",
      "../.venv/lib/python3.13/site-packages/jedi/third_party/typeshed/third_party/2and3/nmap [] ['__init__.pyi', 'nmap.pyi']\n",
      "../.venv/lib/python3.13/site-packages/jedi/third_party/typeshed/third_party/2and3/paramiko [] ['__init__.pyi', '_version.pyi', '_winapi.pyi', 'agent.pyi', 'auth_handler.pyi', 'ber.pyi', 'buffered_pipe.pyi', 'channel.pyi', 'client.pyi', 'common.pyi', 'compress.pyi', 'config.pyi', 'dsskey.pyi', 'ecdsakey.pyi', 'ed25519key.pyi', 'file.pyi', 'hostkeys.pyi', 'kex_curve25519.pyi', 'kex_ecdh_nist.pyi', 'kex_gex.pyi', 'kex_group1.pyi', 'kex_group14.pyi', 'kex_group16.pyi', 'kex_gss.pyi', 'message.pyi', 'packet.pyi', 'pipe.pyi', 'pkey.pyi', 'primes.pyi', 'proxy.pyi', 'py3compat.pyi', 'rsakey.pyi', 'server.pyi', 'sftp.pyi', 'sftp_attr.pyi', 'sftp_client.pyi', 'sftp_file.pyi', 'sftp_handle.pyi', 'sftp_server.pyi', 'sftp_si.pyi', 'ssh_exception.pyi', 'ssh_gss.pyi', 'transport.pyi', 'util.pyi', 'win_pageant.pyi']\n",
      "../.venv/lib/python3.13/site-packages/jedi/third_party/typeshed/third_party/2and3/pyVmomi ['vim', 'vmodl'] ['__init__.pyi']\n",
      "../.venv/lib/python3.13/site-packages/jedi/third_party/typeshed/third_party/2and3/pyVmomi/vim [] ['__init__.pyi', 'event.pyi', 'fault.pyi', 'option.pyi', 'view.pyi']\n",
      "../.venv/lib/python3.13/site-packages/jedi/third_party/typeshed/third_party/2and3/pyVmomi/vmodl [] ['__init__.pyi', 'fault.pyi', 'query.pyi']\n",
      "../.venv/lib/python3.13/site-packages/jedi/third_party/typeshed/third_party/2and3/pymysql ['constants'] ['__init__.pyi', 'charset.pyi', 'connections.pyi', 'converters.pyi', 'cursors.pyi', 'err.pyi', 'times.pyi', 'util.pyi']\n",
      "../.venv/lib/python3.13/site-packages/jedi/third_party/typeshed/third_party/2and3/pymysql/constants [] ['CLIENT.pyi', 'COMMAND.pyi', 'ER.pyi', 'FIELD_TYPE.pyi', 'FLAG.pyi', 'SERVER_STATUS.pyi', '__init__.pyi']\n",
      "../.venv/lib/python3.13/site-packages/jedi/third_party/typeshed/third_party/2and3/pynamodb ['connection'] ['__init__.pyi', 'attributes.pyi', 'constants.pyi', 'exceptions.pyi', 'indexes.pyi', 'models.pyi', 'settings.pyi', 'throttle.pyi', 'types.pyi']\n",
      "../.venv/lib/python3.13/site-packages/jedi/third_party/typeshed/third_party/2and3/pynamodb/connection [] ['__init__.pyi', 'base.pyi', 'table.pyi', 'util.pyi']\n",
      "../.venv/lib/python3.13/site-packages/jedi/third_party/typeshed/third_party/2and3/pytz [] ['__init__.pyi']\n",
      "../.venv/lib/python3.13/site-packages/jedi/third_party/typeshed/third_party/2and3/redis [] ['__init__.pyi', 'client.pyi', 'connection.pyi', 'exceptions.pyi', 'utils.pyi']\n",
      "../.venv/lib/python3.13/site-packages/jedi/third_party/typeshed/third_party/2and3/requests ['packages'] ['__init__.pyi', 'adapters.pyi', 'api.pyi', 'auth.pyi', 'compat.pyi', 'cookies.pyi', 'exceptions.pyi', 'hooks.pyi', 'models.pyi', 'sessions.pyi', 'status_codes.pyi', 'structures.pyi', 'utils.pyi']\n",
      "../.venv/lib/python3.13/site-packages/jedi/third_party/typeshed/third_party/2and3/requests/packages ['urllib3'] ['__init__.pyi']\n",
      "../.venv/lib/python3.13/site-packages/jedi/third_party/typeshed/third_party/2and3/requests/packages/urllib3 ['contrib', 'packages', 'util'] ['__init__.pyi', '_collections.pyi', 'connection.pyi', 'connectionpool.pyi', 'exceptions.pyi', 'fields.pyi', 'filepost.pyi', 'poolmanager.pyi', 'request.pyi', 'response.pyi']\n",
      "../.venv/lib/python3.13/site-packages/jedi/third_party/typeshed/third_party/2and3/requests/packages/urllib3/contrib [] ['__init__.pyi']\n",
      "../.venv/lib/python3.13/site-packages/jedi/third_party/typeshed/third_party/2and3/requests/packages/urllib3/packages ['ssl_match_hostname'] ['__init__.pyi']\n",
      "../.venv/lib/python3.13/site-packages/jedi/third_party/typeshed/third_party/2and3/requests/packages/urllib3/packages/ssl_match_hostname [] ['__init__.pyi', '_implementation.pyi']\n",
      "../.venv/lib/python3.13/site-packages/jedi/third_party/typeshed/third_party/2and3/requests/packages/urllib3/util [] ['__init__.pyi', 'connection.pyi', 'request.pyi', 'response.pyi', 'retry.pyi', 'ssl_.pyi', 'timeout.pyi', 'url.pyi']\n",
      "../.venv/lib/python3.13/site-packages/jedi/third_party/typeshed/third_party/2and3/retry [] ['__init__.pyi', 'api.pyi']\n",
      "../.venv/lib/python3.13/site-packages/jedi/third_party/typeshed/third_party/2and3/simplejson [] ['__init__.pyi', 'decoder.pyi', 'encoder.pyi', 'scanner.pyi']\n",
      "../.venv/lib/python3.13/site-packages/jedi/third_party/typeshed/third_party/2and3/slugify [] ['__init__.pyi', 'slugify.pyi', 'special.pyi']\n",
      "../.venv/lib/python3.13/site-packages/jedi/third_party/typeshed/third_party/2and3/tzlocal [] ['__init__.pyi']\n",
      "../.venv/lib/python3.13/site-packages/jedi/third_party/typeshed/third_party/2and3/werkzeug ['contrib', 'debug', 'middleware'] ['__init__.pyi', '_compat.pyi', '_internal.pyi', '_reloader.pyi', 'datastructures.pyi', 'exceptions.pyi', 'filesystem.pyi', 'formparser.pyi', 'http.pyi', 'local.pyi', 'posixemulation.pyi', 'routing.pyi', 'script.pyi', 'security.pyi', 'serving.pyi', 'test.pyi', 'testapp.pyi', 'urls.pyi', 'useragents.pyi', 'utils.pyi', 'wrappers.pyi', 'wsgi.pyi']\n",
      "../.venv/lib/python3.13/site-packages/jedi/third_party/typeshed/third_party/2and3/werkzeug/contrib [] ['__init__.pyi', 'atom.pyi', 'cache.pyi', 'fixers.pyi', 'iterio.pyi', 'jsrouting.pyi', 'limiter.pyi', 'lint.pyi', 'profiler.pyi', 'securecookie.pyi', 'sessions.pyi', 'testtools.pyi', 'wrappers.pyi']\n",
      "../.venv/lib/python3.13/site-packages/jedi/third_party/typeshed/third_party/2and3/werkzeug/debug [] ['__init__.pyi', 'console.pyi', 'repr.pyi', 'tbtools.pyi']\n",
      "../.venv/lib/python3.13/site-packages/jedi/third_party/typeshed/third_party/2and3/werkzeug/middleware [] ['__init__.pyi', 'dispatcher.pyi', 'http_proxy.pyi', 'lint.pyi', 'profiler.pyi', 'proxy_fix.pyi', 'shared_data.pyi']\n",
      "../.venv/lib/python3.13/site-packages/jedi/third_party/typeshed/third_party/2and3/yaml [] ['__init__.pyi', 'composer.pyi', 'constructor.pyi', 'cyaml.pyi', 'dumper.pyi', 'emitter.pyi', 'error.pyi', 'events.pyi', 'loader.pyi', 'nodes.pyi', 'parser.pyi', 'reader.pyi', 'representer.pyi', 'resolver.pyi', 'scanner.pyi', 'serializer.pyi', 'tokens.pyi']\n",
      "../.venv/lib/python3.13/site-packages/jedi/third_party/typeshed/third_party/3 ['aiofiles', 'docutils', 'filelock', 'freezegun', 'jwt', 'pkg_resources', 'pyrfc3339', 'six', 'typed_ast', 'waitress'] ['contextvars.pyi', 'dataclasses.pyi', 'frozendict.pyi', 'orjson.pyi']\n",
      "../.venv/lib/python3.13/site-packages/jedi/third_party/typeshed/third_party/3/aiofiles ['threadpool'] ['__init__.pyi', 'base.pyi', 'os.pyi']\n",
      "../.venv/lib/python3.13/site-packages/jedi/third_party/typeshed/third_party/3/aiofiles/threadpool [] ['__init__.pyi', 'binary.pyi', 'text.pyi']\n",
      "../.venv/lib/python3.13/site-packages/jedi/third_party/typeshed/third_party/3/docutils ['parsers'] ['__init__.pyi', 'examples.pyi', 'nodes.pyi']\n",
      "../.venv/lib/python3.13/site-packages/jedi/third_party/typeshed/third_party/3/docutils/parsers ['rst'] ['__init__.pyi']\n",
      "../.venv/lib/python3.13/site-packages/jedi/third_party/typeshed/third_party/3/docutils/parsers/rst [] ['__init__.pyi', 'nodes.pyi', 'roles.pyi', 'states.pyi']\n",
      "../.venv/lib/python3.13/site-packages/jedi/third_party/typeshed/third_party/3/filelock [] ['__init__.pyi']\n",
      "../.venv/lib/python3.13/site-packages/jedi/third_party/typeshed/third_party/3/freezegun [] ['__init__.pyi', 'api.pyi']\n",
      "../.venv/lib/python3.13/site-packages/jedi/third_party/typeshed/third_party/3/jwt ['contrib'] ['__init__.pyi', 'algorithms.pyi']\n",
      "../.venv/lib/python3.13/site-packages/jedi/third_party/typeshed/third_party/3/jwt/contrib ['algorithms'] ['__init__.pyi']\n",
      "../.venv/lib/python3.13/site-packages/jedi/third_party/typeshed/third_party/3/jwt/contrib/algorithms [] ['__init__.pyi', 'py_ecdsa.pyi', 'pycrypto.pyi']\n",
      "../.venv/lib/python3.13/site-packages/jedi/third_party/typeshed/third_party/3/pkg_resources [] ['__init__.pyi', 'py31compat.pyi']\n",
      "../.venv/lib/python3.13/site-packages/jedi/third_party/typeshed/third_party/3/pyrfc3339 [] ['__init__.pyi', 'generator.pyi', 'parser.pyi', 'utils.pyi']\n",
      "../.venv/lib/python3.13/site-packages/jedi/third_party/typeshed/third_party/3/six ['moves'] ['__init__.pyi']\n",
      "../.venv/lib/python3.13/site-packages/jedi/third_party/typeshed/third_party/3/six/moves ['urllib'] ['BaseHTTPServer.pyi', 'CGIHTTPServer.pyi', 'SimpleHTTPServer.pyi', '__init__.pyi', '_dummy_thread.pyi', '_thread.pyi', 'builtins.pyi', 'cPickle.pyi', 'collections_abc.pyi', 'configparser.pyi', 'email_mime_base.pyi', 'email_mime_multipart.pyi', 'email_mime_nonmultipart.pyi', 'email_mime_text.pyi', 'html_entities.pyi', 'html_parser.pyi', 'http_client.pyi', 'http_cookiejar.pyi', 'http_cookies.pyi', 'queue.pyi', 'reprlib.pyi', 'socketserver.pyi', 'tkinter.pyi', 'tkinter_commondialog.pyi', 'tkinter_constants.pyi', 'tkinter_dialog.pyi', 'tkinter_filedialog.pyi', 'tkinter_tkfiledialog.pyi', 'tkinter_ttk.pyi', 'urllib_error.pyi', 'urllib_parse.pyi', 'urllib_request.pyi', 'urllib_response.pyi', 'urllib_robotparser.pyi']\n",
      "../.venv/lib/python3.13/site-packages/jedi/third_party/typeshed/third_party/3/six/moves/urllib [] ['__init__.pyi', 'error.pyi', 'parse.pyi', 'request.pyi', 'response.pyi', 'robotparser.pyi']\n",
      "../.venv/lib/python3.13/site-packages/jedi/third_party/typeshed/third_party/3/typed_ast [] ['__init__.pyi', 'ast27.pyi', 'ast3.pyi', 'conversions.pyi']\n",
      "../.venv/lib/python3.13/site-packages/jedi/third_party/typeshed/third_party/3/waitress [] ['__init__.pyi', 'adjustments.pyi', 'buffers.pyi', 'channel.pyi', 'compat.pyi', 'parser.pyi', 'proxy_headers.pyi', 'receiver.pyi', 'rfc7230.pyi', 'runner.pyi', 'server.pyi', 'task.pyi', 'trigger.pyi', 'utilities.pyi', 'wasyncore.pyi']\n",
      "../.venv/lib/python3.13/site-packages/jedi/__pycache__ [] ['__init__.cpython-313.pyc', '__main__.cpython-313.pyc', '_compatibility.cpython-313.pyc', 'cache.cpython-313.pyc', 'common.cpython-313.pyc', 'debug.cpython-313.pyc', 'file_io.cpython-313.pyc', 'parser_utils.cpython-313.pyc', 'settings.cpython-313.pyc', 'utils.cpython-313.pyc']\n",
      "../.venv/lib/python3.13/site-packages/jedi-0.19.2.dist-info [] ['AUTHORS.txt', 'LICENSE.txt', 'METADATA', 'WHEEL', 'top_level.txt', 'INSTALLER', 'RECORD']\n",
      "../.venv/lib/python3.13/site-packages/ipython_pygments_lexers-1.1.1.dist-info [] ['entry_points.txt', 'LICENSE', 'WHEEL', 'METADATA', 'INSTALLER', 'RECORD']\n",
      "../.venv/lib/python3.13/site-packages/jupyter_client ['asynchronous', 'blocking', 'ioloop', 'provisioning', 'ssh', '__pycache__'] ['__init__.py', '_version.py', 'adapter.py', 'channels.py', 'channelsabc.py', 'client.py', 'clientabc.py', 'connect.py', 'consoleapp.py', 'jsonutil.py', 'kernelapp.py', 'kernelspec.py', 'kernelspecapp.py', 'launcher.py', 'localinterfaces.py', 'manager.py', 'managerabc.py', 'multikernelmanager.py', 'py.typed', 'restarter.py', 'runapp.py', 'session.py', 'threaded.py', 'utils.py', 'win_interrupt.py']\n",
      "../.venv/lib/python3.13/site-packages/jupyter_client/asynchronous ['__pycache__'] ['__init__.py', 'client.py']\n",
      "../.venv/lib/python3.13/site-packages/jupyter_client/asynchronous/__pycache__ [] ['__init__.cpython-313.pyc', 'client.cpython-313.pyc']\n",
      "../.venv/lib/python3.13/site-packages/jupyter_client/blocking ['__pycache__'] ['__init__.py', 'client.py']\n",
      "../.venv/lib/python3.13/site-packages/jupyter_client/blocking/__pycache__ [] ['__init__.cpython-313.pyc', 'client.cpython-313.pyc']\n",
      "../.venv/lib/python3.13/site-packages/jupyter_client/ioloop ['__pycache__'] ['__init__.py', 'manager.py', 'restarter.py']\n",
      "../.venv/lib/python3.13/site-packages/jupyter_client/ioloop/__pycache__ [] ['__init__.cpython-313.pyc', 'manager.cpython-313.pyc', 'restarter.cpython-313.pyc']\n",
      "../.venv/lib/python3.13/site-packages/jupyter_client/provisioning ['__pycache__'] ['__init__.py', 'factory.py', 'local_provisioner.py', 'provisioner_base.py']\n",
      "../.venv/lib/python3.13/site-packages/jupyter_client/provisioning/__pycache__ [] ['__init__.cpython-313.pyc', 'factory.cpython-313.pyc', 'local_provisioner.cpython-313.pyc', 'provisioner_base.cpython-313.pyc']\n",
      "../.venv/lib/python3.13/site-packages/jupyter_client/ssh ['__pycache__'] ['__init__.py', 'forward.py', 'tunnel.py']\n",
      "../.venv/lib/python3.13/site-packages/jupyter_client/ssh/__pycache__ [] ['__init__.cpython-313.pyc', 'forward.cpython-313.pyc', 'tunnel.cpython-313.pyc']\n",
      "../.venv/lib/python3.13/site-packages/jupyter_client/__pycache__ [] ['__init__.cpython-313.pyc', '_version.cpython-313.pyc', 'adapter.cpython-313.pyc', 'channels.cpython-313.pyc', 'channelsabc.cpython-313.pyc', 'client.cpython-313.pyc', 'clientabc.cpython-313.pyc', 'connect.cpython-313.pyc', 'consoleapp.cpython-313.pyc', 'jsonutil.cpython-313.pyc', 'kernelapp.cpython-313.pyc', 'kernelspec.cpython-313.pyc', 'kernelspecapp.cpython-313.pyc', 'launcher.cpython-313.pyc', 'localinterfaces.cpython-313.pyc', 'manager.cpython-313.pyc', 'managerabc.cpython-313.pyc', 'multikernelmanager.cpython-313.pyc', 'restarter.cpython-313.pyc', 'runapp.cpython-313.pyc', 'session.cpython-313.pyc', 'threaded.cpython-313.pyc', 'utils.cpython-313.pyc', 'win_interrupt.cpython-313.pyc']\n",
      "../.venv/lib/python3.13/site-packages/jupyter_client-8.6.3.dist-info ['licenses'] ['METADATA', 'WHEEL', 'entry_points.txt', 'INSTALLER', 'RECORD']\n",
      "../.venv/lib/python3.13/site-packages/jupyter_client-8.6.3.dist-info/licenses [] ['LICENSE']\n",
      "../.venv/lib/python3.13/site-packages/IPython ['core', 'extensions', 'external', 'lib', 'sphinxext', 'terminal', 'testing', 'utils', '__pycache__'] ['__init__.py', '__main__.py', 'display.py', 'paths.py', 'py.typed']\n",
      "../.venv/lib/python3.13/site-packages/IPython/core ['magics', 'profile', '__pycache__'] ['__init__.py', 'alias.py', 'application.py', 'async_helpers.py', 'autocall.py', 'builtin_trap.py', 'compilerop.py', 'completer.py', 'completerlib.py', 'crashhandler.py', 'debugger.py', 'debugger_backport.py', 'display.py', 'display_functions.py', 'display_trap.py', 'displayhook.py', 'displaypub.py', 'doctb.py', 'error.py', 'events.py', 'extensions.py', 'formatters.py', 'getipython.py', 'guarded_eval.py', 'history.py', 'historyapp.py', 'hooks.py', 'inputtransformer2.py', 'interactiveshell.py', 'latex_symbols.py', 'logger.py', 'macro.py', 'magic.py', 'magic_arguments.py', 'oinspect.py', 'page.py', 'payload.py', 'payloadpage.py', 'prefilter.py', 'profileapp.py', 'profiledir.py', 'pylabtools.py', 'release.py', 'shellapp.py', 'splitinput.py', 'tbtools.py', 'tips.py', 'ultratb.py', 'usage.py']\n",
      "../.venv/lib/python3.13/site-packages/IPython/core/magics ['__pycache__'] ['__init__.py', 'ast_mod.py', 'auto.py', 'basic.py', 'code.py', 'config.py', 'display.py', 'execution.py', 'extension.py', 'history.py', 'logging.py', 'namespace.py', 'osm.py', 'packaging.py', 'pylab.py', 'script.py']\n",
      "../.venv/lib/python3.13/site-packages/IPython/core/magics/__pycache__ [] ['__init__.cpython-313.pyc', 'ast_mod.cpython-313.pyc', 'auto.cpython-313.pyc', 'basic.cpython-313.pyc', 'code.cpython-313.pyc', 'config.cpython-313.pyc', 'display.cpython-313.pyc', 'execution.cpython-313.pyc', 'extension.cpython-313.pyc', 'history.cpython-313.pyc', 'logging.cpython-313.pyc', 'namespace.cpython-313.pyc', 'osm.cpython-313.pyc', 'packaging.cpython-313.pyc', 'pylab.cpython-313.pyc', 'script.cpython-313.pyc']\n",
      "../.venv/lib/python3.13/site-packages/IPython/core/profile [] ['README_STARTUP']\n",
      "../.venv/lib/python3.13/site-packages/IPython/core/__pycache__ [] ['__init__.cpython-313.pyc', 'alias.cpython-313.pyc', 'application.cpython-313.pyc', 'async_helpers.cpython-313.pyc', 'autocall.cpython-313.pyc', 'builtin_trap.cpython-313.pyc', 'compilerop.cpython-313.pyc', 'completer.cpython-313.pyc', 'completerlib.cpython-313.pyc', 'crashhandler.cpython-313.pyc', 'debugger.cpython-313.pyc', 'debugger_backport.cpython-313.pyc', 'display.cpython-313.pyc', 'display_functions.cpython-313.pyc', 'display_trap.cpython-313.pyc', 'displayhook.cpython-313.pyc', 'displaypub.cpython-313.pyc', 'doctb.cpython-313.pyc', 'error.cpython-313.pyc', 'events.cpython-313.pyc', 'extensions.cpython-313.pyc', 'formatters.cpython-313.pyc', 'getipython.cpython-313.pyc', 'guarded_eval.cpython-313.pyc', 'history.cpython-313.pyc', 'historyapp.cpython-313.pyc', 'hooks.cpython-313.pyc', 'inputtransformer2.cpython-313.pyc', 'interactiveshell.cpython-313.pyc', 'latex_symbols.cpython-313.pyc', 'logger.cpython-313.pyc', 'macro.cpython-313.pyc', 'magic.cpython-313.pyc', 'magic_arguments.cpython-313.pyc', 'oinspect.cpython-313.pyc', 'page.cpython-313.pyc', 'payload.cpython-313.pyc', 'payloadpage.cpython-313.pyc', 'prefilter.cpython-313.pyc', 'profileapp.cpython-313.pyc', 'profiledir.cpython-313.pyc', 'pylabtools.cpython-313.pyc', 'release.cpython-313.pyc', 'shellapp.cpython-313.pyc', 'splitinput.cpython-313.pyc', 'tbtools.cpython-313.pyc', 'tips.cpython-313.pyc', 'ultratb.cpython-313.pyc', 'usage.cpython-313.pyc']\n",
      "../.venv/lib/python3.13/site-packages/IPython/extensions ['deduperreload', '__pycache__'] ['__init__.py', 'autoreload.py', 'storemagic.py']\n",
      "../.venv/lib/python3.13/site-packages/IPython/extensions/deduperreload ['__pycache__'] ['__init__.py', 'deduperreload.py', 'deduperreload_patching.py']\n",
      "../.venv/lib/python3.13/site-packages/IPython/extensions/deduperreload/__pycache__ [] ['__init__.cpython-313.pyc', 'deduperreload.cpython-313.pyc', 'deduperreload_patching.cpython-313.pyc']\n",
      "../.venv/lib/python3.13/site-packages/IPython/extensions/__pycache__ [] ['__init__.cpython-313.pyc', 'autoreload.cpython-313.pyc', 'storemagic.cpython-313.pyc']\n",
      "../.venv/lib/python3.13/site-packages/IPython/external ['__pycache__'] ['__init__.py', 'pickleshare.py', 'qt_for_kernel.py', 'qt_loaders.py']\n",
      "../.venv/lib/python3.13/site-packages/IPython/external/__pycache__ [] ['__init__.cpython-313.pyc', 'pickleshare.cpython-313.pyc', 'qt_for_kernel.cpython-313.pyc', 'qt_loaders.cpython-313.pyc']\n",
      "../.venv/lib/python3.13/site-packages/IPython/lib ['__pycache__'] ['__init__.py', 'backgroundjobs.py', 'clipboard.py', 'deepreload.py', 'demo.py', 'display.py', 'editorhooks.py', 'guisupport.py', 'latextools.py', 'lexers.py', 'pretty.py']\n",
      "../.venv/lib/python3.13/site-packages/IPython/lib/__pycache__ [] ['__init__.cpython-313.pyc', 'backgroundjobs.cpython-313.pyc', 'clipboard.cpython-313.pyc', 'deepreload.cpython-313.pyc', 'demo.cpython-313.pyc', 'display.cpython-313.pyc', 'editorhooks.cpython-313.pyc', 'guisupport.cpython-313.pyc', 'latextools.cpython-313.pyc', 'lexers.cpython-313.pyc', 'pretty.cpython-313.pyc']\n",
      "../.venv/lib/python3.13/site-packages/IPython/sphinxext ['__pycache__'] ['__init__.py', 'custom_doctests.py', 'ipython_console_highlighting.py', 'ipython_directive.py']\n",
      "../.venv/lib/python3.13/site-packages/IPython/sphinxext/__pycache__ [] ['__init__.cpython-313.pyc', 'custom_doctests.cpython-313.pyc', 'ipython_console_highlighting.cpython-313.pyc', 'ipython_directive.cpython-313.pyc']\n",
      "../.venv/lib/python3.13/site-packages/IPython/terminal ['pt_inputhooks', 'shortcuts', '__pycache__'] ['__init__.py', 'debugger.py', 'embed.py', 'interactiveshell.py', 'ipapp.py', 'magics.py', 'prompts.py', 'ptutils.py']\n",
      "../.venv/lib/python3.13/site-packages/IPython/terminal/pt_inputhooks ['__pycache__'] ['__init__.py', 'asyncio.py', 'glut.py', 'gtk.py', 'gtk3.py', 'gtk4.py', 'osx.py', 'pyglet.py', 'qt.py', 'tk.py', 'wx.py']\n",
      "../.venv/lib/python3.13/site-packages/IPython/terminal/pt_inputhooks/__pycache__ [] ['__init__.cpython-313.pyc', 'asyncio.cpython-313.pyc', 'glut.cpython-313.pyc', 'gtk.cpython-313.pyc', 'gtk3.cpython-313.pyc', 'gtk4.cpython-313.pyc', 'osx.cpython-313.pyc', 'pyglet.cpython-313.pyc', 'qt.cpython-313.pyc', 'tk.cpython-313.pyc', 'wx.cpython-313.pyc']\n",
      "../.venv/lib/python3.13/site-packages/IPython/terminal/shortcuts ['__pycache__'] ['__init__.py', 'auto_match.py', 'auto_suggest.py', 'filters.py']\n",
      "../.venv/lib/python3.13/site-packages/IPython/terminal/shortcuts/__pycache__ [] ['__init__.cpython-313.pyc', 'auto_match.cpython-313.pyc', 'auto_suggest.cpython-313.pyc', 'filters.cpython-313.pyc']\n",
      "../.venv/lib/python3.13/site-packages/IPython/terminal/__pycache__ [] ['__init__.cpython-313.pyc', 'debugger.cpython-313.pyc', 'embed.cpython-313.pyc', 'interactiveshell.cpython-313.pyc', 'ipapp.cpython-313.pyc', 'magics.cpython-313.pyc', 'prompts.cpython-313.pyc', 'ptutils.cpython-313.pyc']\n",
      "../.venv/lib/python3.13/site-packages/IPython/testing ['plugin', '__pycache__'] ['__init__.py', 'decorators.py', 'globalipapp.py', 'ipunittest.py', 'skipdoctest.py', 'tools.py']\n",
      "../.venv/lib/python3.13/site-packages/IPython/testing/plugin ['__pycache__'] ['__init__.py', 'dtexample.py', 'ipdoctest.py', 'pytest_ipdoctest.py', 'setup.py', 'simple.py', 'simplevars.py', 'test_combo.txt', 'test_example.txt', 'test_exampleip.txt', 'test_ipdoctest.py', 'test_refs.py']\n",
      "../.venv/lib/python3.13/site-packages/IPython/testing/plugin/__pycache__ [] ['__init__.cpython-313.pyc', 'dtexample.cpython-313.pyc', 'ipdoctest.cpython-313.pyc', 'pytest_ipdoctest.cpython-313.pyc', 'setup.cpython-313.pyc', 'simple.cpython-313.pyc', 'simplevars.cpython-313.pyc', 'test_ipdoctest.cpython-313.pyc', 'test_refs.cpython-313.pyc']\n",
      "../.venv/lib/python3.13/site-packages/IPython/testing/__pycache__ [] ['__init__.cpython-313.pyc', 'decorators.cpython-313.pyc', 'globalipapp.cpython-313.pyc', 'ipunittest.cpython-313.pyc', 'skipdoctest.cpython-313.pyc', 'tools.cpython-313.pyc']\n",
      "../.venv/lib/python3.13/site-packages/IPython/utils ['__pycache__'] ['PyColorize.py', '__init__.py', '_process_cli.py', '_process_common.py', '_process_emscripten.py', '_process_posix.py', '_process_win32.py', '_process_win32_controller.py', '_sysinfo.py', 'capture.py', 'coloransi.py', 'contexts.py', 'data.py', 'decorators.py', 'dir2.py', 'docs.py', 'encoding.py', 'eventful.py', 'frame.py', 'generics.py', 'importstring.py', 'io.py', 'ipstruct.py', 'jsonutil.py', 'log.py', 'module_paths.py', 'openpy.py', 'path.py', 'process.py', 'py3compat.py', 'sentinel.py', 'strdispatch.py', 'sysinfo.py', 'syspathcontext.py', 'tempdir.py', 'terminal.py', 'text.py', 'timing.py', 'tokenutil.py', 'wildcard.py']\n",
      "../.venv/lib/python3.13/site-packages/IPython/utils/__pycache__ [] ['PyColorize.cpython-313.pyc', '__init__.cpython-313.pyc', '_process_cli.cpython-313.pyc', '_process_common.cpython-313.pyc', '_process_emscripten.cpython-313.pyc', '_process_posix.cpython-313.pyc', '_process_win32.cpython-313.pyc', '_process_win32_controller.cpython-313.pyc', '_sysinfo.cpython-313.pyc', 'capture.cpython-313.pyc', 'coloransi.cpython-313.pyc', 'contexts.cpython-313.pyc', 'data.cpython-313.pyc', 'decorators.cpython-313.pyc', 'dir2.cpython-313.pyc', 'docs.cpython-313.pyc', 'encoding.cpython-313.pyc', 'eventful.cpython-313.pyc', 'frame.cpython-313.pyc', 'generics.cpython-313.pyc', 'importstring.cpython-313.pyc', 'io.cpython-313.pyc', 'ipstruct.cpython-313.pyc', 'jsonutil.cpython-313.pyc', 'log.cpython-313.pyc', 'module_paths.cpython-313.pyc', 'openpy.cpython-313.pyc', 'path.cpython-313.pyc', 'process.cpython-313.pyc', 'py3compat.cpython-313.pyc', 'sentinel.cpython-313.pyc', 'strdispatch.cpython-313.pyc', 'sysinfo.cpython-313.pyc', 'syspathcontext.cpython-313.pyc', 'tempdir.cpython-313.pyc', 'terminal.cpython-313.pyc', 'text.cpython-313.pyc', 'timing.cpython-313.pyc', 'tokenutil.cpython-313.pyc', 'wildcard.cpython-313.pyc']\n",
      "../.venv/lib/python3.13/site-packages/IPython/__pycache__ [] ['__init__.cpython-313.pyc', '__main__.cpython-313.pyc', 'display.cpython-313.pyc', 'paths.cpython-313.pyc']\n",
      "../.venv/lib/python3.13/site-packages/ipython-9.4.0.dist-info ['licenses'] ['METADATA', 'WHEEL', 'entry_points.txt', 'top_level.txt', 'INSTALLER', 'RECORD']\n",
      "../.venv/lib/python3.13/site-packages/ipython-9.4.0.dist-info/licenses [] ['COPYING.rst', 'LICENSE']\n",
      "../.venv/lib/python3.13/site-packages/ipykernel ['comm', 'gui', 'inprocess', 'pylab', 'resources', '__pycache__'] ['__init__.py', '__main__.py', '_eventloop_macos.py', '_version.py', 'compiler.py', 'connect.py', 'control.py', 'datapub.py', 'debugger.py', 'displayhook.py', 'embed.py', 'eventloops.py', 'heartbeat.py', 'iostream.py', 'ipkernel.py', 'jsonutil.py', 'kernelapp.py', 'kernelbase.py', 'kernelspec.py', 'log.py', 'parentpoller.py', 'pickleutil.py', 'py.typed', 'serialize.py', 'trio_runner.py', 'zmqshell.py']\n",
      "../.venv/lib/python3.13/site-packages/ipykernel/comm ['__pycache__'] ['__init__.py', 'comm.py', 'manager.py']\n",
      "../.venv/lib/python3.13/site-packages/ipykernel/comm/__pycache__ [] ['__init__.cpython-313.pyc', 'comm.cpython-313.pyc', 'manager.cpython-313.pyc']\n",
      "../.venv/lib/python3.13/site-packages/ipykernel/gui ['__pycache__'] ['__init__.py', 'gtk3embed.py', 'gtkembed.py']\n",
      "../.venv/lib/python3.13/site-packages/ipykernel/gui/__pycache__ [] ['__init__.cpython-313.pyc', 'gtk3embed.cpython-313.pyc', 'gtkembed.cpython-313.pyc']\n",
      "../.venv/lib/python3.13/site-packages/ipykernel/inprocess ['__pycache__'] ['__init__.py', 'blocking.py', 'channels.py', 'client.py', 'constants.py', 'ipkernel.py', 'manager.py', 'socket.py']\n",
      "../.venv/lib/python3.13/site-packages/ipykernel/inprocess/__pycache__ [] ['__init__.cpython-313.pyc', 'blocking.cpython-313.pyc', 'channels.cpython-313.pyc', 'client.cpython-313.pyc', 'constants.cpython-313.pyc', 'ipkernel.cpython-313.pyc', 'manager.cpython-313.pyc', 'socket.cpython-313.pyc']\n",
      "../.venv/lib/python3.13/site-packages/ipykernel/pylab ['__pycache__'] ['__init__.py', 'backend_inline.py', 'config.py']\n",
      "../.venv/lib/python3.13/site-packages/ipykernel/pylab/__pycache__ [] ['__init__.cpython-313.pyc', 'backend_inline.cpython-313.pyc', 'config.cpython-313.pyc']\n",
      "../.venv/lib/python3.13/site-packages/ipykernel/resources [] ['logo-32x32.png', 'logo-64x64.png', 'logo-svg.svg']\n",
      "../.venv/lib/python3.13/site-packages/ipykernel/__pycache__ [] ['__init__.cpython-313.pyc', '__main__.cpython-313.pyc', '_eventloop_macos.cpython-313.pyc', '_version.cpython-313.pyc', 'compiler.cpython-313.pyc', 'connect.cpython-313.pyc', 'control.cpython-313.pyc', 'datapub.cpython-313.pyc', 'debugger.cpython-313.pyc', 'displayhook.cpython-313.pyc', 'embed.cpython-313.pyc', 'eventloops.cpython-313.pyc', 'heartbeat.cpython-313.pyc', 'iostream.cpython-313.pyc', 'ipkernel.cpython-313.pyc', 'jsonutil.cpython-313.pyc', 'kernelapp.cpython-313.pyc', 'kernelbase.cpython-313.pyc', 'kernelspec.cpython-313.pyc', 'log.cpython-313.pyc', 'parentpoller.cpython-313.pyc', 'pickleutil.cpython-313.pyc', 'serialize.cpython-313.pyc', 'trio_runner.cpython-313.pyc', 'zmqshell.cpython-313.pyc']\n",
      "../.venv/lib/python3.13/site-packages/ipykernel-6.30.0.dist-info ['licenses'] ['METADATA', 'WHEEL', 'INSTALLER', 'REQUESTED', 'RECORD']\n",
      "../.venv/lib/python3.13/site-packages/ipykernel-6.30.0.dist-info/licenses [] ['LICENSE']\n",
      "../.venv/bin [] ['python', 'python3', 'python3.13', 'pip', 'pip3', 'pip3.13', 'Activate.ps1', 'activate', 'activate.fish', 'activate.csh', 'pygmentize', 'debugpy', 'debugpy-adapter', 'jupyter', 'jupyter-migrate', 'jupyter-troubleshoot', 'jupyter-kernel', 'jupyter-kernelspec', 'jupyter-run', 'ipython', 'ipython3']\n",
      "../.venv/share ['man', 'jupyter'] []\n",
      "../.venv/share/man ['man1'] []\n",
      "../.venv/share/man/man1 [] ['ipython.1']\n",
      "../.venv/share/jupyter ['kernels'] []\n",
      "../.venv/share/jupyter/kernels ['python3'] []\n",
      "../.venv/share/jupyter/kernels/python3 [] ['kernel.json', 'logo-32x32.png', 'logo-64x64.png', 'logo-svg.svg']\n",
      "../builtin-functions [] ['builtin_funcs.ipynb']\n",
      "../stl-modules ['csv', 'file-io'] ['collections.ipynb', 'datetime.ipynb', 'random.ipynb', 'string.ipynb', 'typehinted.ipynb', 'log.txt', 'os.ipynb']\n",
      "../stl-modules/csv [] ['employee_birthday.csv', 'explore_csv.ipynb']\n",
      "../stl-modules/file-io [] ['sample.txt', 'file_io.ipynb']\n"
     ]
    }
   ],
   "source": [
    "# Walk through directory tree recursively\n",
    "for root, dirs, files in os.walk(\"../\"):\n",
    "    print(root, dirs, files)"
   ]
  },
  {
   "cell_type": "code",
   "execution_count": 25,
   "id": "8e8614b1",
   "metadata": {},
   "outputs": [
    {
     "name": "stdout",
     "output_type": "stream",
     "text": [
      "../ ['.git', '.venv', 'builtin-functions', 'stl-modules'] ['LICENSE', 'README.md']\n",
      "../.git\n",
      "../.venv\n",
      "../builtin-functions [] ['builtin_funcs.ipynb']\n",
      "../stl-modules ['csv', 'file-io'] ['collections.ipynb', 'datetime.ipynb', 'random.ipynb', 'string.ipynb', 'typehinted.ipynb', 'log.txt', 'os.ipynb']\n",
      "../stl-modules/csv [] ['employee_birthday.csv', 'explore_csv.ipynb']\n",
      "../stl-modules/file-io [] ['sample.txt', 'file_io.ipynb']\n"
     ]
    }
   ],
   "source": [
    "for root, dirs, files in os.walk(\"../\"):\n",
    "    if os.path.basename(root).startswith(\".\"):\n",
    "        print(root)\n",
    "        dirs[:] = []  # stop walking into it\n",
    "        continue\n",
    "    print(root, dirs, files)\n"
   ]
  },
  {
   "cell_type": "code",
   "execution_count": 26,
   "id": "549cffc1",
   "metadata": {},
   "outputs": [
    {
     "data": {
      "text/plain": [
       "881"
      ]
     },
     "execution_count": 26,
     "metadata": {},
     "output_type": "execute_result"
    }
   ],
   "source": [
    "# Get size of the current file\n",
    "os.path.getsize(\"os.ipynb\")"
   ]
  },
  {
   "cell_type": "code",
   "execution_count": 32,
   "id": "66902166",
   "metadata": {},
   "outputs": [
    {
     "data": {
      "text/plain": [
       "'/home/ani/dev/projects/python-built-ins-experiments/stl-modules/os.ipynb'"
      ]
     },
     "execution_count": 32,
     "metadata": {},
     "output_type": "execute_result"
    }
   ],
   "source": [
    "# Get the exact absolute path of the current file\n",
    "os.path.abspath(\"os.ipynb\")"
   ]
  },
  {
   "cell_type": "code",
   "execution_count": null,
   "id": "562cd349",
   "metadata": {},
   "outputs": [
    {
     "data": {
      "text/plain": [
       "'/home/ani'"
      ]
     },
     "execution_count": 42,
     "metadata": {},
     "output_type": "execute_result"
    }
   ],
   "source": [
    "# Get the current user of OS\n",
    "os.path.expanduser(\"~\")"
   ]
  },
  {
   "cell_type": "code",
   "execution_count": 58,
   "id": "7753b13d",
   "metadata": {},
   "outputs": [
    {
     "data": {
      "text/plain": [
       "'home/user/docs'"
      ]
     },
     "execution_count": 58,
     "metadata": {},
     "output_type": "execute_result"
    }
   ],
   "source": [
    "# Use join words to create a path (/\\ Depends on actual Operating System)\n",
    "os.path.join(\"home\", \"user\", \"docs\")"
   ]
  },
  {
   "cell_type": "code",
   "execution_count": 61,
   "id": "4b876f6d",
   "metadata": {},
   "outputs": [
    {
     "name": "stdout",
     "output_type": "stream",
     "text": [
      "/home/ani/dev/projects/python-built-ins-experiments/stl-modules\n"
     ]
    },
    {
     "data": {
      "text/plain": [
       "True"
      ]
     },
     "execution_count": 61,
     "metadata": {},
     "output_type": "execute_result"
    }
   ],
   "source": [
    "# Absolute path of current folder?\n",
    "print(os.path.abspath(\".\"))\n",
    "os.path.abspath(\".\") == os.getcwd()"
   ]
  },
  {
   "cell_type": "code",
   "execution_count": 54,
   "id": "0d65bf4d",
   "metadata": {},
   "outputs": [
    {
     "name": "stdout",
     "output_type": "stream",
     "text": [
      "/home/ani/dev/projects/python-built-ins-experiments/stl-modules/collections.ipynb\n",
      "/home/ani/dev/projects/python-built-ins-experiments/stl-modules/datetime.ipynb\n",
      "/home/ani/dev/projects/python-built-ins-experiments/stl-modules/random.ipynb\n",
      "/home/ani/dev/projects/python-built-ins-experiments/stl-modules/string.ipynb\n",
      "/home/ani/dev/projects/python-built-ins-experiments/stl-modules/typehinted.ipynb\n",
      "/home/ani/dev/projects/python-built-ins-experiments/stl-modules/log.txt\n",
      "/home/ani/dev/projects/python-built-ins-experiments/stl-modules/csv\n",
      "/home/ani/dev/projects/python-built-ins-experiments/stl-modules/file-io\n",
      "/home/ani/dev/projects/python-built-ins-experiments/stl-modules/os.ipynb\n"
     ]
    }
   ],
   "source": [
    "# Print the absolute path of every item in the current folder\n",
    "for name in os.listdir(\".\"):\n",
    "    fullpath = os.path.abspath(os.path.join(\".\", name))\n",
    "    print(fullpath)"
   ]
  },
  {
   "cell_type": "code",
   "execution_count": 66,
   "id": "89787be5",
   "metadata": {},
   "outputs": [
    {
     "name": "stdout",
     "output_type": "stream",
     "text": [
      "../.git\n",
      ".git : A dot dir\n",
      "../LICENSE\n",
      "../README.md\n",
      "../.venv\n",
      ".venv : A dot dir\n",
      "../builtin-functions\n",
      "../stl-modules\n"
     ]
    }
   ],
   "source": [
    "# Print all the dot files and folders in the parent directory\n",
    "for name in os.listdir(\"../\"):\n",
    "    fullpath = os.path.join(\"../\", name)\n",
    "    print(fullpath)\n",
    "    if name.startswith(\".\"):\n",
    "        if os.path.isfile(fullpath):\n",
    "            print(name, \": A dot file\")\n",
    "        elif os.path.isdir(fullpath):\n",
    "            print(name, \": A dot dir\")\n",
    "        "
   ]
  },
  {
   "cell_type": "code",
   "execution_count": 63,
   "id": "484fe1a0",
   "metadata": {},
   "outputs": [
    {
     "data": {
      "text/plain": [
       "'/home/ani/dev/projects/python-built-ins-experiments/stl-modules'"
      ]
     },
     "execution_count": 63,
     "metadata": {},
     "output_type": "execute_result"
    }
   ],
   "source": [
    "os.getcwd()"
   ]
  },
  {
   "cell_type": "code",
   "execution_count": 64,
   "id": "847cd636",
   "metadata": {},
   "outputs": [
    {
     "data": {
      "text/plain": [
       "'../.git'"
      ]
     },
     "execution_count": 64,
     "metadata": {},
     "output_type": "execute_result"
    }
   ],
   "source": [
    "os.path.join(\"../\", \".git\")"
   ]
  },
  {
   "cell_type": "code",
   "execution_count": 70,
   "id": "a8a86ffd",
   "metadata": {},
   "outputs": [
    {
     "data": {
      "text/plain": [
       "'dev/projects/python-built-ins-experiments/stl-modules'"
      ]
     },
     "execution_count": 70,
     "metadata": {},
     "output_type": "execute_result"
    }
   ],
   "source": [
    "os.path.relpath(os.getcwd(), \"../../../../\")"
   ]
  },
  {
   "cell_type": "code",
   "execution_count": null,
   "id": "e5c8357b",
   "metadata": {},
   "outputs": [
    {
     "data": {
      "text/plain": [
       "'/home/ani/dev/projects/python-built-ins-experiments'"
      ]
     },
     "execution_count": 71,
     "metadata": {},
     "output_type": "execute_result"
    }
   ],
   "source": [
    "# Absolute path of parent folder\n",
    "os.path.abspath(\"../\")"
   ]
  },
  {
   "cell_type": "code",
   "execution_count": 72,
   "id": "3b00dda5",
   "metadata": {},
   "outputs": [
    {
     "data": {
      "text/plain": [
       "'/home/ani/dev/projects/python-built-ins-experiments/stl-modules'"
      ]
     },
     "execution_count": 72,
     "metadata": {},
     "output_type": "execute_result"
    }
   ],
   "source": [
    "os.getcwd()"
   ]
  },
  {
   "cell_type": "code",
   "execution_count": 77,
   "id": "e0cddcb8",
   "metadata": {},
   "outputs": [
    {
     "name": "stdout",
     "output_type": "stream",
     "text": [
      "/home/ani/dev/projects/python-built-ins-experiments/stl-modules/collections.ipynb\n",
      "/home/ani/dev/projects/python-built-ins-experiments/stl-modules/datetime.ipynb\n",
      "/home/ani/dev/projects/python-built-ins-experiments/stl-modules/random.ipynb\n",
      "/home/ani/dev/projects/python-built-ins-experiments/stl-modules/string.ipynb\n",
      "/home/ani/dev/projects/python-built-ins-experiments/stl-modules/typehinted.ipynb\n",
      "/home/ani/dev/projects/python-built-ins-experiments/stl-modules/log.txt\n",
      "/home/ani/dev/projects/python-built-ins-experiments/stl-modules/csv\n",
      "/home/ani/dev/projects/python-built-ins-experiments/stl-modules/file-io\n",
      "/home/ani/dev/projects/python-built-ins-experiments/stl-modules/os.ipynb\n"
     ]
    }
   ],
   "source": [
    "# Print absolute path of every item in current working directory\n",
    "cwd = os.getcwd()\n",
    "for name in os.listdir(cwd):\n",
    "    print(os.path.join(cwd, name))"
   ]
  },
  {
   "cell_type": "code",
   "execution_count": 76,
   "id": "d03d97b0",
   "metadata": {},
   "outputs": [
    {
     "data": {
      "text/plain": [
       "'./os.ipynb'"
      ]
     },
     "execution_count": 76,
     "metadata": {},
     "output_type": "execute_result"
    }
   ],
   "source": [
    "os.path.join(\".\", \"os.ipynb\")"
   ]
  },
  {
   "cell_type": "code",
   "execution_count": 78,
   "id": "e62b528b",
   "metadata": {},
   "outputs": [
    {
     "data": {
      "text/plain": [
       "True"
      ]
     },
     "execution_count": 78,
     "metadata": {},
     "output_type": "execute_result"
    }
   ],
   "source": [
    "s = \"something.txt\"\n",
    "s.endswith(\".txt\")"
   ]
  },
  {
   "cell_type": "code",
   "execution_count": null,
   "id": "527d380c",
   "metadata": {},
   "outputs": [],
   "source": [
    "# Write a script that replaces spaces in filenames with with underscore\n",
    "\n",
    "# filenames are strings\n",
    "# use s.replace(\" \", \"_\")\n",
    "# files end with extensions\n",
    "# use os.rename(old filename, new filename)\n",
    "\n"
   ]
  }
 ],
 "metadata": {
  "kernelspec": {
   "display_name": ".venv",
   "language": "python",
   "name": "python3"
  },
  "language_info": {
   "codemirror_mode": {
    "name": "ipython",
    "version": 3
   },
   "file_extension": ".py",
   "mimetype": "text/x-python",
   "name": "python",
   "nbconvert_exporter": "python",
   "pygments_lexer": "ipython3",
   "version": "3.13.7"
  }
 },
 "nbformat": 4,
 "nbformat_minor": 5
}
